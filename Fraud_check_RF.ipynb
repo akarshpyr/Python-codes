{
  "nbformat": 4,
  "nbformat_minor": 0,
  "metadata": {
    "colab": {
      "name": "Fraud_check_cart.ipynb",
      "provenance": [],
      "include_colab_link": true
    },
    "kernelspec": {
      "name": "python3",
      "display_name": "Python 3"
    },
    "language_info": {
      "name": "python"
    }
  },
  "cells": [
    {
      "cell_type": "markdown",
      "metadata": {
        "id": "view-in-github",
        "colab_type": "text"
      },
      "source": [
        "<a href=\"https://colab.research.google.com/github/akarshpyr/Python-codes/blob/main/Fraud_check_RF.ipynb\" target=\"_parent\"><img src=\"https://colab.research.google.com/assets/colab-badge.svg\" alt=\"Open In Colab\"/></a>"
      ]
    },
    {
      "cell_type": "code",
      "execution_count": 1,
      "metadata": {
        "id": "8nl9w6RmKsxR"
      },
      "outputs": [],
      "source": [
        "import pandas as pd\n",
        "import numpy as np\n",
        "import seaborn as sns\n",
        "from sklearn.model_selection import train_test_split"
      ]
    },
    {
      "cell_type": "code",
      "source": [
        "data = pd.read_csv('/content/Fraud_check.csv')"
      ],
      "metadata": {
        "id": "rD-bhXEeK6v4"
      },
      "execution_count": 2,
      "outputs": []
    },
    {
      "cell_type": "code",
      "source": [
        "data"
      ],
      "metadata": {
        "colab": {
          "base_uri": "https://localhost:8080/",
          "height": 423
        },
        "id": "WYbQTzVnLCvo",
        "outputId": "81f32ee4-f3d2-4749-8c3b-e788fdc1ecd5"
      },
      "execution_count": 3,
      "outputs": [
        {
          "output_type": "execute_result",
          "data": {
            "text/plain": [
              "    Undergrad Marital.Status  Taxable.Income  City.Population  \\\n",
              "0          NO         Single           68833            50047   \n",
              "1         YES       Divorced           33700           134075   \n",
              "2          NO        Married           36925           160205   \n",
              "3         YES         Single           50190           193264   \n",
              "4          NO        Married           81002            27533   \n",
              "..        ...            ...             ...              ...   \n",
              "595       YES       Divorced           76340            39492   \n",
              "596       YES       Divorced           69967            55369   \n",
              "597        NO       Divorced           47334           154058   \n",
              "598       YES        Married           98592           180083   \n",
              "599        NO       Divorced           96519           158137   \n",
              "\n",
              "     Work.Experience Urban  \n",
              "0                 10   YES  \n",
              "1                 18   YES  \n",
              "2                 30   YES  \n",
              "3                 15   YES  \n",
              "4                 28    NO  \n",
              "..               ...   ...  \n",
              "595                7   YES  \n",
              "596                2   YES  \n",
              "597                0   YES  \n",
              "598               17    NO  \n",
              "599               16    NO  \n",
              "\n",
              "[600 rows x 6 columns]"
            ],
            "text/html": [
              "\n",
              "  <div id=\"df-51a50af0-be95-48dc-9d94-1d0163d88456\">\n",
              "    <div class=\"colab-df-container\">\n",
              "      <div>\n",
              "<style scoped>\n",
              "    .dataframe tbody tr th:only-of-type {\n",
              "        vertical-align: middle;\n",
              "    }\n",
              "\n",
              "    .dataframe tbody tr th {\n",
              "        vertical-align: top;\n",
              "    }\n",
              "\n",
              "    .dataframe thead th {\n",
              "        text-align: right;\n",
              "    }\n",
              "</style>\n",
              "<table border=\"1\" class=\"dataframe\">\n",
              "  <thead>\n",
              "    <tr style=\"text-align: right;\">\n",
              "      <th></th>\n",
              "      <th>Undergrad</th>\n",
              "      <th>Marital.Status</th>\n",
              "      <th>Taxable.Income</th>\n",
              "      <th>City.Population</th>\n",
              "      <th>Work.Experience</th>\n",
              "      <th>Urban</th>\n",
              "    </tr>\n",
              "  </thead>\n",
              "  <tbody>\n",
              "    <tr>\n",
              "      <th>0</th>\n",
              "      <td>NO</td>\n",
              "      <td>Single</td>\n",
              "      <td>68833</td>\n",
              "      <td>50047</td>\n",
              "      <td>10</td>\n",
              "      <td>YES</td>\n",
              "    </tr>\n",
              "    <tr>\n",
              "      <th>1</th>\n",
              "      <td>YES</td>\n",
              "      <td>Divorced</td>\n",
              "      <td>33700</td>\n",
              "      <td>134075</td>\n",
              "      <td>18</td>\n",
              "      <td>YES</td>\n",
              "    </tr>\n",
              "    <tr>\n",
              "      <th>2</th>\n",
              "      <td>NO</td>\n",
              "      <td>Married</td>\n",
              "      <td>36925</td>\n",
              "      <td>160205</td>\n",
              "      <td>30</td>\n",
              "      <td>YES</td>\n",
              "    </tr>\n",
              "    <tr>\n",
              "      <th>3</th>\n",
              "      <td>YES</td>\n",
              "      <td>Single</td>\n",
              "      <td>50190</td>\n",
              "      <td>193264</td>\n",
              "      <td>15</td>\n",
              "      <td>YES</td>\n",
              "    </tr>\n",
              "    <tr>\n",
              "      <th>4</th>\n",
              "      <td>NO</td>\n",
              "      <td>Married</td>\n",
              "      <td>81002</td>\n",
              "      <td>27533</td>\n",
              "      <td>28</td>\n",
              "      <td>NO</td>\n",
              "    </tr>\n",
              "    <tr>\n",
              "      <th>...</th>\n",
              "      <td>...</td>\n",
              "      <td>...</td>\n",
              "      <td>...</td>\n",
              "      <td>...</td>\n",
              "      <td>...</td>\n",
              "      <td>...</td>\n",
              "    </tr>\n",
              "    <tr>\n",
              "      <th>595</th>\n",
              "      <td>YES</td>\n",
              "      <td>Divorced</td>\n",
              "      <td>76340</td>\n",
              "      <td>39492</td>\n",
              "      <td>7</td>\n",
              "      <td>YES</td>\n",
              "    </tr>\n",
              "    <tr>\n",
              "      <th>596</th>\n",
              "      <td>YES</td>\n",
              "      <td>Divorced</td>\n",
              "      <td>69967</td>\n",
              "      <td>55369</td>\n",
              "      <td>2</td>\n",
              "      <td>YES</td>\n",
              "    </tr>\n",
              "    <tr>\n",
              "      <th>597</th>\n",
              "      <td>NO</td>\n",
              "      <td>Divorced</td>\n",
              "      <td>47334</td>\n",
              "      <td>154058</td>\n",
              "      <td>0</td>\n",
              "      <td>YES</td>\n",
              "    </tr>\n",
              "    <tr>\n",
              "      <th>598</th>\n",
              "      <td>YES</td>\n",
              "      <td>Married</td>\n",
              "      <td>98592</td>\n",
              "      <td>180083</td>\n",
              "      <td>17</td>\n",
              "      <td>NO</td>\n",
              "    </tr>\n",
              "    <tr>\n",
              "      <th>599</th>\n",
              "      <td>NO</td>\n",
              "      <td>Divorced</td>\n",
              "      <td>96519</td>\n",
              "      <td>158137</td>\n",
              "      <td>16</td>\n",
              "      <td>NO</td>\n",
              "    </tr>\n",
              "  </tbody>\n",
              "</table>\n",
              "<p>600 rows × 6 columns</p>\n",
              "</div>\n",
              "      <button class=\"colab-df-convert\" onclick=\"convertToInteractive('df-51a50af0-be95-48dc-9d94-1d0163d88456')\"\n",
              "              title=\"Convert this dataframe to an interactive table.\"\n",
              "              style=\"display:none;\">\n",
              "        \n",
              "  <svg xmlns=\"http://www.w3.org/2000/svg\" height=\"24px\"viewBox=\"0 0 24 24\"\n",
              "       width=\"24px\">\n",
              "    <path d=\"M0 0h24v24H0V0z\" fill=\"none\"/>\n",
              "    <path d=\"M18.56 5.44l.94 2.06.94-2.06 2.06-.94-2.06-.94-.94-2.06-.94 2.06-2.06.94zm-11 1L8.5 8.5l.94-2.06 2.06-.94-2.06-.94L8.5 2.5l-.94 2.06-2.06.94zm10 10l.94 2.06.94-2.06 2.06-.94-2.06-.94-.94-2.06-.94 2.06-2.06.94z\"/><path d=\"M17.41 7.96l-1.37-1.37c-.4-.4-.92-.59-1.43-.59-.52 0-1.04.2-1.43.59L10.3 9.45l-7.72 7.72c-.78.78-.78 2.05 0 2.83L4 21.41c.39.39.9.59 1.41.59.51 0 1.02-.2 1.41-.59l7.78-7.78 2.81-2.81c.8-.78.8-2.07 0-2.86zM5.41 20L4 18.59l7.72-7.72 1.47 1.35L5.41 20z\"/>\n",
              "  </svg>\n",
              "      </button>\n",
              "      \n",
              "  <style>\n",
              "    .colab-df-container {\n",
              "      display:flex;\n",
              "      flex-wrap:wrap;\n",
              "      gap: 12px;\n",
              "    }\n",
              "\n",
              "    .colab-df-convert {\n",
              "      background-color: #E8F0FE;\n",
              "      border: none;\n",
              "      border-radius: 50%;\n",
              "      cursor: pointer;\n",
              "      display: none;\n",
              "      fill: #1967D2;\n",
              "      height: 32px;\n",
              "      padding: 0 0 0 0;\n",
              "      width: 32px;\n",
              "    }\n",
              "\n",
              "    .colab-df-convert:hover {\n",
              "      background-color: #E2EBFA;\n",
              "      box-shadow: 0px 1px 2px rgba(60, 64, 67, 0.3), 0px 1px 3px 1px rgba(60, 64, 67, 0.15);\n",
              "      fill: #174EA6;\n",
              "    }\n",
              "\n",
              "    [theme=dark] .colab-df-convert {\n",
              "      background-color: #3B4455;\n",
              "      fill: #D2E3FC;\n",
              "    }\n",
              "\n",
              "    [theme=dark] .colab-df-convert:hover {\n",
              "      background-color: #434B5C;\n",
              "      box-shadow: 0px 1px 3px 1px rgba(0, 0, 0, 0.15);\n",
              "      filter: drop-shadow(0px 1px 2px rgba(0, 0, 0, 0.3));\n",
              "      fill: #FFFFFF;\n",
              "    }\n",
              "  </style>\n",
              "\n",
              "      <script>\n",
              "        const buttonEl =\n",
              "          document.querySelector('#df-51a50af0-be95-48dc-9d94-1d0163d88456 button.colab-df-convert');\n",
              "        buttonEl.style.display =\n",
              "          google.colab.kernel.accessAllowed ? 'block' : 'none';\n",
              "\n",
              "        async function convertToInteractive(key) {\n",
              "          const element = document.querySelector('#df-51a50af0-be95-48dc-9d94-1d0163d88456');\n",
              "          const dataTable =\n",
              "            await google.colab.kernel.invokeFunction('convertToInteractive',\n",
              "                                                     [key], {});\n",
              "          if (!dataTable) return;\n",
              "\n",
              "          const docLinkHtml = 'Like what you see? Visit the ' +\n",
              "            '<a target=\"_blank\" href=https://colab.research.google.com/notebooks/data_table.ipynb>data table notebook</a>'\n",
              "            + ' to learn more about interactive tables.';\n",
              "          element.innerHTML = '';\n",
              "          dataTable['output_type'] = 'display_data';\n",
              "          await google.colab.output.renderOutput(dataTable, element);\n",
              "          const docLink = document.createElement('div');\n",
              "          docLink.innerHTML = docLinkHtml;\n",
              "          element.appendChild(docLink);\n",
              "        }\n",
              "      </script>\n",
              "    </div>\n",
              "  </div>\n",
              "  "
            ]
          },
          "metadata": {},
          "execution_count": 3
        }
      ]
    },
    {
      "cell_type": "code",
      "source": [
        "data = pd.get_dummies(data=data, columns=['Undergrad','Urban'], drop_first=True)"
      ],
      "metadata": {
        "id": "G-BP1aj8LDkM"
      },
      "execution_count": 4,
      "outputs": []
    },
    {
      "cell_type": "code",
      "source": [
        "data = pd.get_dummies(data=data, columns=['Marital.Status'])"
      ],
      "metadata": {
        "id": "0g717V7cLWkR"
      },
      "execution_count": 5,
      "outputs": []
    },
    {
      "cell_type": "code",
      "source": [
        "data['Tax_inc'] = pd.cut(data['Taxable.Income'], bins=(10000,30000,99620),labels=('risky','Good'))"
      ],
      "metadata": {
        "id": "BuauHR-zLuNw"
      },
      "execution_count": 6,
      "outputs": []
    },
    {
      "cell_type": "code",
      "source": [
        "data"
      ],
      "metadata": {
        "colab": {
          "base_uri": "https://localhost:8080/",
          "height": 487
        },
        "id": "9Ny1n4RtMmYt",
        "outputId": "712a9721-fdc5-4701-9460-d40e0bac4b16"
      },
      "execution_count": 7,
      "outputs": [
        {
          "output_type": "execute_result",
          "data": {
            "text/plain": [
              "     Taxable.Income  City.Population  Work.Experience  Undergrad_YES  \\\n",
              "0             68833            50047               10              0   \n",
              "1             33700           134075               18              1   \n",
              "2             36925           160205               30              0   \n",
              "3             50190           193264               15              1   \n",
              "4             81002            27533               28              0   \n",
              "..              ...              ...              ...            ...   \n",
              "595           76340            39492                7              1   \n",
              "596           69967            55369                2              1   \n",
              "597           47334           154058                0              0   \n",
              "598           98592           180083               17              1   \n",
              "599           96519           158137               16              0   \n",
              "\n",
              "     Urban_YES  Marital.Status_Divorced  Marital.Status_Married  \\\n",
              "0            1                        0                       0   \n",
              "1            1                        1                       0   \n",
              "2            1                        0                       1   \n",
              "3            1                        0                       0   \n",
              "4            0                        0                       1   \n",
              "..         ...                      ...                     ...   \n",
              "595          1                        1                       0   \n",
              "596          1                        1                       0   \n",
              "597          1                        1                       0   \n",
              "598          0                        0                       1   \n",
              "599          0                        1                       0   \n",
              "\n",
              "     Marital.Status_Single Tax_inc  \n",
              "0                        1    Good  \n",
              "1                        0    Good  \n",
              "2                        0    Good  \n",
              "3                        1    Good  \n",
              "4                        0    Good  \n",
              "..                     ...     ...  \n",
              "595                      0    Good  \n",
              "596                      0    Good  \n",
              "597                      0    Good  \n",
              "598                      0    Good  \n",
              "599                      0    Good  \n",
              "\n",
              "[600 rows x 9 columns]"
            ],
            "text/html": [
              "\n",
              "  <div id=\"df-3d97cdd6-8945-441f-8929-745d29eaa079\">\n",
              "    <div class=\"colab-df-container\">\n",
              "      <div>\n",
              "<style scoped>\n",
              "    .dataframe tbody tr th:only-of-type {\n",
              "        vertical-align: middle;\n",
              "    }\n",
              "\n",
              "    .dataframe tbody tr th {\n",
              "        vertical-align: top;\n",
              "    }\n",
              "\n",
              "    .dataframe thead th {\n",
              "        text-align: right;\n",
              "    }\n",
              "</style>\n",
              "<table border=\"1\" class=\"dataframe\">\n",
              "  <thead>\n",
              "    <tr style=\"text-align: right;\">\n",
              "      <th></th>\n",
              "      <th>Taxable.Income</th>\n",
              "      <th>City.Population</th>\n",
              "      <th>Work.Experience</th>\n",
              "      <th>Undergrad_YES</th>\n",
              "      <th>Urban_YES</th>\n",
              "      <th>Marital.Status_Divorced</th>\n",
              "      <th>Marital.Status_Married</th>\n",
              "      <th>Marital.Status_Single</th>\n",
              "      <th>Tax_inc</th>\n",
              "    </tr>\n",
              "  </thead>\n",
              "  <tbody>\n",
              "    <tr>\n",
              "      <th>0</th>\n",
              "      <td>68833</td>\n",
              "      <td>50047</td>\n",
              "      <td>10</td>\n",
              "      <td>0</td>\n",
              "      <td>1</td>\n",
              "      <td>0</td>\n",
              "      <td>0</td>\n",
              "      <td>1</td>\n",
              "      <td>Good</td>\n",
              "    </tr>\n",
              "    <tr>\n",
              "      <th>1</th>\n",
              "      <td>33700</td>\n",
              "      <td>134075</td>\n",
              "      <td>18</td>\n",
              "      <td>1</td>\n",
              "      <td>1</td>\n",
              "      <td>1</td>\n",
              "      <td>0</td>\n",
              "      <td>0</td>\n",
              "      <td>Good</td>\n",
              "    </tr>\n",
              "    <tr>\n",
              "      <th>2</th>\n",
              "      <td>36925</td>\n",
              "      <td>160205</td>\n",
              "      <td>30</td>\n",
              "      <td>0</td>\n",
              "      <td>1</td>\n",
              "      <td>0</td>\n",
              "      <td>1</td>\n",
              "      <td>0</td>\n",
              "      <td>Good</td>\n",
              "    </tr>\n",
              "    <tr>\n",
              "      <th>3</th>\n",
              "      <td>50190</td>\n",
              "      <td>193264</td>\n",
              "      <td>15</td>\n",
              "      <td>1</td>\n",
              "      <td>1</td>\n",
              "      <td>0</td>\n",
              "      <td>0</td>\n",
              "      <td>1</td>\n",
              "      <td>Good</td>\n",
              "    </tr>\n",
              "    <tr>\n",
              "      <th>4</th>\n",
              "      <td>81002</td>\n",
              "      <td>27533</td>\n",
              "      <td>28</td>\n",
              "      <td>0</td>\n",
              "      <td>0</td>\n",
              "      <td>0</td>\n",
              "      <td>1</td>\n",
              "      <td>0</td>\n",
              "      <td>Good</td>\n",
              "    </tr>\n",
              "    <tr>\n",
              "      <th>...</th>\n",
              "      <td>...</td>\n",
              "      <td>...</td>\n",
              "      <td>...</td>\n",
              "      <td>...</td>\n",
              "      <td>...</td>\n",
              "      <td>...</td>\n",
              "      <td>...</td>\n",
              "      <td>...</td>\n",
              "      <td>...</td>\n",
              "    </tr>\n",
              "    <tr>\n",
              "      <th>595</th>\n",
              "      <td>76340</td>\n",
              "      <td>39492</td>\n",
              "      <td>7</td>\n",
              "      <td>1</td>\n",
              "      <td>1</td>\n",
              "      <td>1</td>\n",
              "      <td>0</td>\n",
              "      <td>0</td>\n",
              "      <td>Good</td>\n",
              "    </tr>\n",
              "    <tr>\n",
              "      <th>596</th>\n",
              "      <td>69967</td>\n",
              "      <td>55369</td>\n",
              "      <td>2</td>\n",
              "      <td>1</td>\n",
              "      <td>1</td>\n",
              "      <td>1</td>\n",
              "      <td>0</td>\n",
              "      <td>0</td>\n",
              "      <td>Good</td>\n",
              "    </tr>\n",
              "    <tr>\n",
              "      <th>597</th>\n",
              "      <td>47334</td>\n",
              "      <td>154058</td>\n",
              "      <td>0</td>\n",
              "      <td>0</td>\n",
              "      <td>1</td>\n",
              "      <td>1</td>\n",
              "      <td>0</td>\n",
              "      <td>0</td>\n",
              "      <td>Good</td>\n",
              "    </tr>\n",
              "    <tr>\n",
              "      <th>598</th>\n",
              "      <td>98592</td>\n",
              "      <td>180083</td>\n",
              "      <td>17</td>\n",
              "      <td>1</td>\n",
              "      <td>0</td>\n",
              "      <td>0</td>\n",
              "      <td>1</td>\n",
              "      <td>0</td>\n",
              "      <td>Good</td>\n",
              "    </tr>\n",
              "    <tr>\n",
              "      <th>599</th>\n",
              "      <td>96519</td>\n",
              "      <td>158137</td>\n",
              "      <td>16</td>\n",
              "      <td>0</td>\n",
              "      <td>0</td>\n",
              "      <td>1</td>\n",
              "      <td>0</td>\n",
              "      <td>0</td>\n",
              "      <td>Good</td>\n",
              "    </tr>\n",
              "  </tbody>\n",
              "</table>\n",
              "<p>600 rows × 9 columns</p>\n",
              "</div>\n",
              "      <button class=\"colab-df-convert\" onclick=\"convertToInteractive('df-3d97cdd6-8945-441f-8929-745d29eaa079')\"\n",
              "              title=\"Convert this dataframe to an interactive table.\"\n",
              "              style=\"display:none;\">\n",
              "        \n",
              "  <svg xmlns=\"http://www.w3.org/2000/svg\" height=\"24px\"viewBox=\"0 0 24 24\"\n",
              "       width=\"24px\">\n",
              "    <path d=\"M0 0h24v24H0V0z\" fill=\"none\"/>\n",
              "    <path d=\"M18.56 5.44l.94 2.06.94-2.06 2.06-.94-2.06-.94-.94-2.06-.94 2.06-2.06.94zm-11 1L8.5 8.5l.94-2.06 2.06-.94-2.06-.94L8.5 2.5l-.94 2.06-2.06.94zm10 10l.94 2.06.94-2.06 2.06-.94-2.06-.94-.94-2.06-.94 2.06-2.06.94z\"/><path d=\"M17.41 7.96l-1.37-1.37c-.4-.4-.92-.59-1.43-.59-.52 0-1.04.2-1.43.59L10.3 9.45l-7.72 7.72c-.78.78-.78 2.05 0 2.83L4 21.41c.39.39.9.59 1.41.59.51 0 1.02-.2 1.41-.59l7.78-7.78 2.81-2.81c.8-.78.8-2.07 0-2.86zM5.41 20L4 18.59l7.72-7.72 1.47 1.35L5.41 20z\"/>\n",
              "  </svg>\n",
              "      </button>\n",
              "      \n",
              "  <style>\n",
              "    .colab-df-container {\n",
              "      display:flex;\n",
              "      flex-wrap:wrap;\n",
              "      gap: 12px;\n",
              "    }\n",
              "\n",
              "    .colab-df-convert {\n",
              "      background-color: #E8F0FE;\n",
              "      border: none;\n",
              "      border-radius: 50%;\n",
              "      cursor: pointer;\n",
              "      display: none;\n",
              "      fill: #1967D2;\n",
              "      height: 32px;\n",
              "      padding: 0 0 0 0;\n",
              "      width: 32px;\n",
              "    }\n",
              "\n",
              "    .colab-df-convert:hover {\n",
              "      background-color: #E2EBFA;\n",
              "      box-shadow: 0px 1px 2px rgba(60, 64, 67, 0.3), 0px 1px 3px 1px rgba(60, 64, 67, 0.15);\n",
              "      fill: #174EA6;\n",
              "    }\n",
              "\n",
              "    [theme=dark] .colab-df-convert {\n",
              "      background-color: #3B4455;\n",
              "      fill: #D2E3FC;\n",
              "    }\n",
              "\n",
              "    [theme=dark] .colab-df-convert:hover {\n",
              "      background-color: #434B5C;\n",
              "      box-shadow: 0px 1px 3px 1px rgba(0, 0, 0, 0.15);\n",
              "      filter: drop-shadow(0px 1px 2px rgba(0, 0, 0, 0.3));\n",
              "      fill: #FFFFFF;\n",
              "    }\n",
              "  </style>\n",
              "\n",
              "      <script>\n",
              "        const buttonEl =\n",
              "          document.querySelector('#df-3d97cdd6-8945-441f-8929-745d29eaa079 button.colab-df-convert');\n",
              "        buttonEl.style.display =\n",
              "          google.colab.kernel.accessAllowed ? 'block' : 'none';\n",
              "\n",
              "        async function convertToInteractive(key) {\n",
              "          const element = document.querySelector('#df-3d97cdd6-8945-441f-8929-745d29eaa079');\n",
              "          const dataTable =\n",
              "            await google.colab.kernel.invokeFunction('convertToInteractive',\n",
              "                                                     [key], {});\n",
              "          if (!dataTable) return;\n",
              "\n",
              "          const docLinkHtml = 'Like what you see? Visit the ' +\n",
              "            '<a target=\"_blank\" href=https://colab.research.google.com/notebooks/data_table.ipynb>data table notebook</a>'\n",
              "            + ' to learn more about interactive tables.';\n",
              "          element.innerHTML = '';\n",
              "          dataTable['output_type'] = 'display_data';\n",
              "          await google.colab.output.renderOutput(dataTable, element);\n",
              "          const docLink = document.createElement('div');\n",
              "          docLink.innerHTML = docLinkHtml;\n",
              "          element.appendChild(docLink);\n",
              "        }\n",
              "      </script>\n",
              "    </div>\n",
              "  </div>\n",
              "  "
            ]
          },
          "metadata": {},
          "execution_count": 7
        }
      ]
    },
    {
      "cell_type": "code",
      "source": [
        "data = pd.get_dummies(data, columns=['Tax_inc'], drop_first=True)"
      ],
      "metadata": {
        "id": "NmvLhJWHMnN_"
      },
      "execution_count": 8,
      "outputs": []
    },
    {
      "cell_type": "code",
      "source": [
        "data"
      ],
      "metadata": {
        "colab": {
          "base_uri": "https://localhost:8080/",
          "height": 487
        },
        "id": "gkdtwe8ENKl3",
        "outputId": "00a4de17-c42b-40c1-a0ae-93a565d659b8"
      },
      "execution_count": 9,
      "outputs": [
        {
          "output_type": "execute_result",
          "data": {
            "text/plain": [
              "     Taxable.Income  City.Population  Work.Experience  Undergrad_YES  \\\n",
              "0             68833            50047               10              0   \n",
              "1             33700           134075               18              1   \n",
              "2             36925           160205               30              0   \n",
              "3             50190           193264               15              1   \n",
              "4             81002            27533               28              0   \n",
              "..              ...              ...              ...            ...   \n",
              "595           76340            39492                7              1   \n",
              "596           69967            55369                2              1   \n",
              "597           47334           154058                0              0   \n",
              "598           98592           180083               17              1   \n",
              "599           96519           158137               16              0   \n",
              "\n",
              "     Urban_YES  Marital.Status_Divorced  Marital.Status_Married  \\\n",
              "0            1                        0                       0   \n",
              "1            1                        1                       0   \n",
              "2            1                        0                       1   \n",
              "3            1                        0                       0   \n",
              "4            0                        0                       1   \n",
              "..         ...                      ...                     ...   \n",
              "595          1                        1                       0   \n",
              "596          1                        1                       0   \n",
              "597          1                        1                       0   \n",
              "598          0                        0                       1   \n",
              "599          0                        1                       0   \n",
              "\n",
              "     Marital.Status_Single  Tax_inc_Good  \n",
              "0                        1             1  \n",
              "1                        0             1  \n",
              "2                        0             1  \n",
              "3                        1             1  \n",
              "4                        0             1  \n",
              "..                     ...           ...  \n",
              "595                      0             1  \n",
              "596                      0             1  \n",
              "597                      0             1  \n",
              "598                      0             1  \n",
              "599                      0             1  \n",
              "\n",
              "[600 rows x 9 columns]"
            ],
            "text/html": [
              "\n",
              "  <div id=\"df-e45563fa-3bb9-46f7-a2de-e61420abcb10\">\n",
              "    <div class=\"colab-df-container\">\n",
              "      <div>\n",
              "<style scoped>\n",
              "    .dataframe tbody tr th:only-of-type {\n",
              "        vertical-align: middle;\n",
              "    }\n",
              "\n",
              "    .dataframe tbody tr th {\n",
              "        vertical-align: top;\n",
              "    }\n",
              "\n",
              "    .dataframe thead th {\n",
              "        text-align: right;\n",
              "    }\n",
              "</style>\n",
              "<table border=\"1\" class=\"dataframe\">\n",
              "  <thead>\n",
              "    <tr style=\"text-align: right;\">\n",
              "      <th></th>\n",
              "      <th>Taxable.Income</th>\n",
              "      <th>City.Population</th>\n",
              "      <th>Work.Experience</th>\n",
              "      <th>Undergrad_YES</th>\n",
              "      <th>Urban_YES</th>\n",
              "      <th>Marital.Status_Divorced</th>\n",
              "      <th>Marital.Status_Married</th>\n",
              "      <th>Marital.Status_Single</th>\n",
              "      <th>Tax_inc_Good</th>\n",
              "    </tr>\n",
              "  </thead>\n",
              "  <tbody>\n",
              "    <tr>\n",
              "      <th>0</th>\n",
              "      <td>68833</td>\n",
              "      <td>50047</td>\n",
              "      <td>10</td>\n",
              "      <td>0</td>\n",
              "      <td>1</td>\n",
              "      <td>0</td>\n",
              "      <td>0</td>\n",
              "      <td>1</td>\n",
              "      <td>1</td>\n",
              "    </tr>\n",
              "    <tr>\n",
              "      <th>1</th>\n",
              "      <td>33700</td>\n",
              "      <td>134075</td>\n",
              "      <td>18</td>\n",
              "      <td>1</td>\n",
              "      <td>1</td>\n",
              "      <td>1</td>\n",
              "      <td>0</td>\n",
              "      <td>0</td>\n",
              "      <td>1</td>\n",
              "    </tr>\n",
              "    <tr>\n",
              "      <th>2</th>\n",
              "      <td>36925</td>\n",
              "      <td>160205</td>\n",
              "      <td>30</td>\n",
              "      <td>0</td>\n",
              "      <td>1</td>\n",
              "      <td>0</td>\n",
              "      <td>1</td>\n",
              "      <td>0</td>\n",
              "      <td>1</td>\n",
              "    </tr>\n",
              "    <tr>\n",
              "      <th>3</th>\n",
              "      <td>50190</td>\n",
              "      <td>193264</td>\n",
              "      <td>15</td>\n",
              "      <td>1</td>\n",
              "      <td>1</td>\n",
              "      <td>0</td>\n",
              "      <td>0</td>\n",
              "      <td>1</td>\n",
              "      <td>1</td>\n",
              "    </tr>\n",
              "    <tr>\n",
              "      <th>4</th>\n",
              "      <td>81002</td>\n",
              "      <td>27533</td>\n",
              "      <td>28</td>\n",
              "      <td>0</td>\n",
              "      <td>0</td>\n",
              "      <td>0</td>\n",
              "      <td>1</td>\n",
              "      <td>0</td>\n",
              "      <td>1</td>\n",
              "    </tr>\n",
              "    <tr>\n",
              "      <th>...</th>\n",
              "      <td>...</td>\n",
              "      <td>...</td>\n",
              "      <td>...</td>\n",
              "      <td>...</td>\n",
              "      <td>...</td>\n",
              "      <td>...</td>\n",
              "      <td>...</td>\n",
              "      <td>...</td>\n",
              "      <td>...</td>\n",
              "    </tr>\n",
              "    <tr>\n",
              "      <th>595</th>\n",
              "      <td>76340</td>\n",
              "      <td>39492</td>\n",
              "      <td>7</td>\n",
              "      <td>1</td>\n",
              "      <td>1</td>\n",
              "      <td>1</td>\n",
              "      <td>0</td>\n",
              "      <td>0</td>\n",
              "      <td>1</td>\n",
              "    </tr>\n",
              "    <tr>\n",
              "      <th>596</th>\n",
              "      <td>69967</td>\n",
              "      <td>55369</td>\n",
              "      <td>2</td>\n",
              "      <td>1</td>\n",
              "      <td>1</td>\n",
              "      <td>1</td>\n",
              "      <td>0</td>\n",
              "      <td>0</td>\n",
              "      <td>1</td>\n",
              "    </tr>\n",
              "    <tr>\n",
              "      <th>597</th>\n",
              "      <td>47334</td>\n",
              "      <td>154058</td>\n",
              "      <td>0</td>\n",
              "      <td>0</td>\n",
              "      <td>1</td>\n",
              "      <td>1</td>\n",
              "      <td>0</td>\n",
              "      <td>0</td>\n",
              "      <td>1</td>\n",
              "    </tr>\n",
              "    <tr>\n",
              "      <th>598</th>\n",
              "      <td>98592</td>\n",
              "      <td>180083</td>\n",
              "      <td>17</td>\n",
              "      <td>1</td>\n",
              "      <td>0</td>\n",
              "      <td>0</td>\n",
              "      <td>1</td>\n",
              "      <td>0</td>\n",
              "      <td>1</td>\n",
              "    </tr>\n",
              "    <tr>\n",
              "      <th>599</th>\n",
              "      <td>96519</td>\n",
              "      <td>158137</td>\n",
              "      <td>16</td>\n",
              "      <td>0</td>\n",
              "      <td>0</td>\n",
              "      <td>1</td>\n",
              "      <td>0</td>\n",
              "      <td>0</td>\n",
              "      <td>1</td>\n",
              "    </tr>\n",
              "  </tbody>\n",
              "</table>\n",
              "<p>600 rows × 9 columns</p>\n",
              "</div>\n",
              "      <button class=\"colab-df-convert\" onclick=\"convertToInteractive('df-e45563fa-3bb9-46f7-a2de-e61420abcb10')\"\n",
              "              title=\"Convert this dataframe to an interactive table.\"\n",
              "              style=\"display:none;\">\n",
              "        \n",
              "  <svg xmlns=\"http://www.w3.org/2000/svg\" height=\"24px\"viewBox=\"0 0 24 24\"\n",
              "       width=\"24px\">\n",
              "    <path d=\"M0 0h24v24H0V0z\" fill=\"none\"/>\n",
              "    <path d=\"M18.56 5.44l.94 2.06.94-2.06 2.06-.94-2.06-.94-.94-2.06-.94 2.06-2.06.94zm-11 1L8.5 8.5l.94-2.06 2.06-.94-2.06-.94L8.5 2.5l-.94 2.06-2.06.94zm10 10l.94 2.06.94-2.06 2.06-.94-2.06-.94-.94-2.06-.94 2.06-2.06.94z\"/><path d=\"M17.41 7.96l-1.37-1.37c-.4-.4-.92-.59-1.43-.59-.52 0-1.04.2-1.43.59L10.3 9.45l-7.72 7.72c-.78.78-.78 2.05 0 2.83L4 21.41c.39.39.9.59 1.41.59.51 0 1.02-.2 1.41-.59l7.78-7.78 2.81-2.81c.8-.78.8-2.07 0-2.86zM5.41 20L4 18.59l7.72-7.72 1.47 1.35L5.41 20z\"/>\n",
              "  </svg>\n",
              "      </button>\n",
              "      \n",
              "  <style>\n",
              "    .colab-df-container {\n",
              "      display:flex;\n",
              "      flex-wrap:wrap;\n",
              "      gap: 12px;\n",
              "    }\n",
              "\n",
              "    .colab-df-convert {\n",
              "      background-color: #E8F0FE;\n",
              "      border: none;\n",
              "      border-radius: 50%;\n",
              "      cursor: pointer;\n",
              "      display: none;\n",
              "      fill: #1967D2;\n",
              "      height: 32px;\n",
              "      padding: 0 0 0 0;\n",
              "      width: 32px;\n",
              "    }\n",
              "\n",
              "    .colab-df-convert:hover {\n",
              "      background-color: #E2EBFA;\n",
              "      box-shadow: 0px 1px 2px rgba(60, 64, 67, 0.3), 0px 1px 3px 1px rgba(60, 64, 67, 0.15);\n",
              "      fill: #174EA6;\n",
              "    }\n",
              "\n",
              "    [theme=dark] .colab-df-convert {\n",
              "      background-color: #3B4455;\n",
              "      fill: #D2E3FC;\n",
              "    }\n",
              "\n",
              "    [theme=dark] .colab-df-convert:hover {\n",
              "      background-color: #434B5C;\n",
              "      box-shadow: 0px 1px 3px 1px rgba(0, 0, 0, 0.15);\n",
              "      filter: drop-shadow(0px 1px 2px rgba(0, 0, 0, 0.3));\n",
              "      fill: #FFFFFF;\n",
              "    }\n",
              "  </style>\n",
              "\n",
              "      <script>\n",
              "        const buttonEl =\n",
              "          document.querySelector('#df-e45563fa-3bb9-46f7-a2de-e61420abcb10 button.colab-df-convert');\n",
              "        buttonEl.style.display =\n",
              "          google.colab.kernel.accessAllowed ? 'block' : 'none';\n",
              "\n",
              "        async function convertToInteractive(key) {\n",
              "          const element = document.querySelector('#df-e45563fa-3bb9-46f7-a2de-e61420abcb10');\n",
              "          const dataTable =\n",
              "            await google.colab.kernel.invokeFunction('convertToInteractive',\n",
              "                                                     [key], {});\n",
              "          if (!dataTable) return;\n",
              "\n",
              "          const docLinkHtml = 'Like what you see? Visit the ' +\n",
              "            '<a target=\"_blank\" href=https://colab.research.google.com/notebooks/data_table.ipynb>data table notebook</a>'\n",
              "            + ' to learn more about interactive tables.';\n",
              "          element.innerHTML = '';\n",
              "          dataTable['output_type'] = 'display_data';\n",
              "          await google.colab.output.renderOutput(dataTable, element);\n",
              "          const docLink = document.createElement('div');\n",
              "          docLink.innerHTML = docLinkHtml;\n",
              "          element.appendChild(docLink);\n",
              "        }\n",
              "      </script>\n",
              "    </div>\n",
              "  </div>\n",
              "  "
            ]
          },
          "metadata": {},
          "execution_count": 9
        }
      ]
    },
    {
      "cell_type": "code",
      "source": [
        "x = data.iloc[:,1:8]\n",
        "y = data.iloc[:,8]"
      ],
      "metadata": {
        "id": "l5N41WF_NLYQ"
      },
      "execution_count": 10,
      "outputs": []
    },
    {
      "cell_type": "code",
      "source": [
        "x_train,x_test,y_train,y_test = train_test_split(x,y,test_size=.3,random_state=6)"
      ],
      "metadata": {
        "id": "FOmeLgLnPOVB"
      },
      "execution_count": 11,
      "outputs": []
    },
    {
      "cell_type": "code",
      "source": [
        "from sklearn.ensemble import RandomForestClassifier as RF"
      ],
      "metadata": {
        "id": "lk0lJ8npPdy1"
      },
      "execution_count": 13,
      "outputs": []
    },
    {
      "cell_type": "code",
      "source": [
        "model = RF(n_estimators=12,criterion='entropy',oob_score=True)\n",
        "model.fit(x_train,y_train)\n",
        "y_pred = model.predict(x_test)"
      ],
      "metadata": {
        "id": "4ERgy8kXPmR6",
        "colab": {
          "base_uri": "https://localhost:8080/"
        },
        "outputId": "5027186b-16c6-4b2b-98b3-179b2b18a0aa"
      },
      "execution_count": 17,
      "outputs": [
        {
          "output_type": "stream",
          "name": "stderr",
          "text": [
            "/usr/local/lib/python3.7/dist-packages/sklearn/ensemble/_forest.py:564: UserWarning: Some inputs do not have OOB scores. This probably means too few trees were used to compute any reliable OOB estimates.\n",
            "  UserWarning,\n"
          ]
        }
      ]
    },
    {
      "cell_type": "code",
      "source": [
        "y_pred"
      ],
      "metadata": {
        "colab": {
          "base_uri": "https://localhost:8080/"
        },
        "id": "EjaSlYPlZmbj",
        "outputId": "20481ca8-31d0-4015-fe81-734c3c1e58c1"
      },
      "execution_count": 18,
      "outputs": [
        {
          "output_type": "execute_result",
          "data": {
            "text/plain": [
              "array([1, 1, 1, 1, 1, 1, 1, 1, 1, 1, 1, 1, 1, 1, 1, 1, 1, 1, 1, 1, 1, 1,\n",
              "       1, 1, 1, 1, 1, 0, 0, 1, 1, 1, 1, 1, 1, 1, 1, 1, 1, 1, 1, 1, 1, 1,\n",
              "       1, 1, 1, 1, 1, 1, 1, 1, 1, 1, 1, 1, 1, 1, 1, 1, 1, 1, 1, 1, 1, 1,\n",
              "       0, 1, 1, 0, 1, 1, 1, 1, 1, 1, 1, 1, 1, 1, 1, 1, 1, 1, 1, 1, 1, 1,\n",
              "       1, 1, 1, 1, 1, 1, 1, 1, 1, 1, 1, 1, 1, 1, 1, 0, 0, 1, 1, 1, 0, 0,\n",
              "       0, 1, 1, 0, 1, 1, 1, 1, 1, 1, 1, 0, 1, 1, 1, 1, 1, 0, 1, 1, 1, 1,\n",
              "       1, 1, 1, 1, 1, 1, 1, 1, 1, 1, 1, 1, 1, 1, 1, 1, 1, 1, 1, 1, 1, 0,\n",
              "       1, 1, 1, 1, 1, 1, 1, 1, 0, 1, 1, 1, 1, 1, 1, 0, 1, 1, 1, 1, 1, 1,\n",
              "       1, 1, 1, 1], dtype=uint8)"
            ]
          },
          "metadata": {},
          "execution_count": 18
        }
      ]
    },
    {
      "cell_type": "code",
      "source": [
        "model.oob_score_\n"
      ],
      "metadata": {
        "id": "7kl6R9jSbEfF",
        "colab": {
          "base_uri": "https://localhost:8080/"
        },
        "outputId": "fd44ab10-aca1-4e88-8e22-f75a045bfe2c"
      },
      "execution_count": 19,
      "outputs": [
        {
          "output_type": "execute_result",
          "data": {
            "text/plain": [
              "0.7142857142857143"
            ]
          },
          "metadata": {},
          "execution_count": 19
        }
      ]
    },
    {
      "cell_type": "code",
      "source": [
        "import matplotlib.pyplot as plt\n",
        "from sklearn.tree import plot_tree\n"
      ],
      "metadata": {
        "id": "PlBwRMG7NB-o"
      },
      "execution_count": 23,
      "outputs": []
    },
    {
      "cell_type": "code",
      "source": [
        "fn = ['City.Population',\t'Work.Experience',\t'Undergrad_YES',\t'Urban_YES',\t'Marital.Status_Divorced',\t'Marital.Status_Married',\t'Marital.Status_Single',\t]\n",
        "cn = ['0','1']\n",
        "fig,axes = plt.subplots(nrows=1,ncols=1,figsize=(5,5),dpi=300)\n",
        "plot_tree(model.estimators_[6],feature_names=fn,class_names=cn,filled=True)"
      ],
      "metadata": {
        "colab": {
          "base_uri": "https://localhost:8080/",
          "height": 1000
        },
        "id": "x_BaX31iaQMS",
        "outputId": "eab148ba-892e-4a3d-a231-f358e34482d9"
      },
      "execution_count": 25,
      "outputs": [
        {
          "output_type": "execute_result",
          "data": {
            "text/plain": [
              "[Text(0.48223684210526313, 0.9666666666666667, 'Urban_YES <= 0.5\\nentropy = 0.656\\nsamples = 275\\nvalue = [71, 349]\\nclass = 1'),\n",
              " Text(0.2618421052631579, 0.9, 'Work.Experience <= 17.5\\nentropy = 0.67\\nsamples = 135\\nvalue = [36, 169]\\nclass = 1'),\n",
              " Text(0.18421052631578946, 0.8333333333333334, 'Work.Experience <= 2.5\\nentropy = 0.808\\nsamples = 80\\nvalue = [30, 91]\\nclass = 1'),\n",
              " Text(0.1736842105263158, 0.7666666666666667, 'entropy = 0.0\\nsamples = 13\\nvalue = [0, 19]\\nclass = 1'),\n",
              " Text(0.19473684210526315, 0.7666666666666667, 'City.Population <= 184979.5\\nentropy = 0.874\\nsamples = 67\\nvalue = [30, 72]\\nclass = 1'),\n",
              " Text(0.18421052631578946, 0.7, 'Marital.Status_Single <= 0.5\\nentropy = 0.896\\nsamples = 64\\nvalue = [30, 66]\\nclass = 1'),\n",
              " Text(0.11578947368421053, 0.6333333333333333, 'Marital.Status_Divorced <= 0.5\\nentropy = 0.94\\nsamples = 30\\nvalue = [15, 27]\\nclass = 1'),\n",
              " Text(0.04736842105263158, 0.5666666666666667, 'City.Population <= 100545.5\\nentropy = 0.998\\nsamples = 13\\nvalue = [9, 10]\\nclass = 1'),\n",
              " Text(0.021052631578947368, 0.5, 'Undergrad_YES <= 0.5\\nentropy = 0.722\\nsamples = 3\\nvalue = [4, 1]\\nclass = 0'),\n",
              " Text(0.010526315789473684, 0.43333333333333335, 'entropy = 0.0\\nsamples = 1\\nvalue = [0, 1]\\nclass = 1'),\n",
              " Text(0.031578947368421054, 0.43333333333333335, 'entropy = 0.0\\nsamples = 2\\nvalue = [4, 0]\\nclass = 0'),\n",
              " Text(0.07368421052631578, 0.5, 'Undergrad_YES <= 0.5\\nentropy = 0.94\\nsamples = 10\\nvalue = [5, 9]\\nclass = 1'),\n",
              " Text(0.05263157894736842, 0.43333333333333335, 'City.Population <= 172851.5\\nentropy = 0.811\\nsamples = 3\\nvalue = [1, 3]\\nclass = 1'),\n",
              " Text(0.042105263157894736, 0.36666666666666664, 'entropy = 0.0\\nsamples = 2\\nvalue = [0, 3]\\nclass = 1'),\n",
              " Text(0.06315789473684211, 0.36666666666666664, 'entropy = 0.0\\nsamples = 1\\nvalue = [1, 0]\\nclass = 0'),\n",
              " Text(0.09473684210526316, 0.43333333333333335, 'Work.Experience <= 10.5\\nentropy = 0.971\\nsamples = 7\\nvalue = [4, 6]\\nclass = 1'),\n",
              " Text(0.08421052631578947, 0.36666666666666664, 'Work.Experience <= 9.0\\nentropy = 0.918\\nsamples = 4\\nvalue = [4, 2]\\nclass = 0'),\n",
              " Text(0.07368421052631578, 0.3, 'City.Population <= 139204.0\\nentropy = 0.918\\nsamples = 3\\nvalue = [1, 2]\\nclass = 1'),\n",
              " Text(0.06315789473684211, 0.23333333333333334, 'entropy = 0.0\\nsamples = 1\\nvalue = [0, 1]\\nclass = 1'),\n",
              " Text(0.08421052631578947, 0.23333333333333334, 'Work.Experience <= 7.5\\nentropy = 1.0\\nsamples = 2\\nvalue = [1, 1]\\nclass = 0'),\n",
              " Text(0.07368421052631578, 0.16666666666666666, 'entropy = 0.0\\nsamples = 1\\nvalue = [1, 0]\\nclass = 0'),\n",
              " Text(0.09473684210526316, 0.16666666666666666, 'entropy = 0.0\\nsamples = 1\\nvalue = [0, 1]\\nclass = 1'),\n",
              " Text(0.09473684210526316, 0.3, 'entropy = 0.0\\nsamples = 1\\nvalue = [3, 0]\\nclass = 0'),\n",
              " Text(0.10526315789473684, 0.36666666666666664, 'entropy = 0.0\\nsamples = 3\\nvalue = [0, 4]\\nclass = 1'),\n",
              " Text(0.18421052631578946, 0.5666666666666667, 'Undergrad_YES <= 0.5\\nentropy = 0.828\\nsamples = 17\\nvalue = [6, 17]\\nclass = 1'),\n",
              " Text(0.15789473684210525, 0.5, 'Work.Experience <= 16.5\\nentropy = 0.837\\nsamples = 11\\nvalue = [4, 11]\\nclass = 1'),\n",
              " Text(0.1368421052631579, 0.43333333333333335, 'City.Population <= 82976.5\\nentropy = 0.65\\nsamples = 9\\nvalue = [2, 10]\\nclass = 1'),\n",
              " Text(0.12631578947368421, 0.36666666666666664, 'City.Population <= 75192.5\\nentropy = 0.918\\nsamples = 2\\nvalue = [2, 1]\\nclass = 0'),\n",
              " Text(0.11578947368421053, 0.3, 'entropy = 0.0\\nsamples = 1\\nvalue = [0, 1]\\nclass = 1'),\n",
              " Text(0.1368421052631579, 0.3, 'entropy = 0.0\\nsamples = 1\\nvalue = [2, 0]\\nclass = 0'),\n",
              " Text(0.14736842105263157, 0.36666666666666664, 'entropy = 0.0\\nsamples = 7\\nvalue = [0, 9]\\nclass = 1'),\n",
              " Text(0.17894736842105263, 0.43333333333333335, 'City.Population <= 165823.0\\nentropy = 0.918\\nsamples = 2\\nvalue = [2, 1]\\nclass = 0'),\n",
              " Text(0.16842105263157894, 0.36666666666666664, 'entropy = 0.0\\nsamples = 1\\nvalue = [2, 0]\\nclass = 0'),\n",
              " Text(0.18947368421052632, 0.36666666666666664, 'entropy = 0.0\\nsamples = 1\\nvalue = [0, 1]\\nclass = 1'),\n",
              " Text(0.21052631578947367, 0.5, 'City.Population <= 54112.5\\nentropy = 0.811\\nsamples = 6\\nvalue = [2, 6]\\nclass = 1'),\n",
              " Text(0.2, 0.43333333333333335, 'entropy = 0.0\\nsamples = 1\\nvalue = [2, 0]\\nclass = 0'),\n",
              " Text(0.22105263157894736, 0.43333333333333335, 'entropy = 0.0\\nsamples = 5\\nvalue = [0, 6]\\nclass = 1'),\n",
              " Text(0.25263157894736843, 0.6333333333333333, 'City.Population <= 63521.0\\nentropy = 0.852\\nsamples = 34\\nvalue = [15, 39]\\nclass = 1'),\n",
              " Text(0.24210526315789474, 0.5666666666666667, 'entropy = 0.0\\nsamples = 8\\nvalue = [0, 13]\\nclass = 1'),\n",
              " Text(0.2631578947368421, 0.5666666666666667, 'Work.Experience <= 16.5\\nentropy = 0.947\\nsamples = 26\\nvalue = [15, 26]\\nclass = 1'),\n",
              " Text(0.25263157894736843, 0.5, 'City.Population <= 183520.0\\nentropy = 0.878\\nsamples = 25\\nvalue = [11, 26]\\nclass = 1'),\n",
              " Text(0.24210526315789474, 0.43333333333333335, 'City.Population <= 72720.5\\nentropy = 0.787\\nsamples = 24\\nvalue = [8, 26]\\nclass = 1'),\n",
              " Text(0.23157894736842105, 0.36666666666666664, 'entropy = 0.0\\nsamples = 1\\nvalue = [0, 3]\\nclass = 1'),\n",
              " Text(0.25263157894736843, 0.36666666666666664, 'Work.Experience <= 6.5\\nentropy = 0.824\\nsamples = 23\\nvalue = [8, 23]\\nclass = 1'),\n",
              " Text(0.2026315789473684, 0.3, 'Work.Experience <= 4.0\\nentropy = 1.0\\nsamples = 7\\nvalue = [5, 5]\\nclass = 0'),\n",
              " Text(0.1763157894736842, 0.23333333333333334, 'City.Population <= 138953.0\\nentropy = 0.918\\nsamples = 2\\nvalue = [1, 2]\\nclass = 1'),\n",
              " Text(0.16578947368421051, 0.16666666666666666, 'entropy = 0.0\\nsamples = 1\\nvalue = [0, 2]\\nclass = 1'),\n",
              " Text(0.1868421052631579, 0.16666666666666666, 'entropy = 0.0\\nsamples = 1\\nvalue = [1, 0]\\nclass = 0'),\n",
              " Text(0.22894736842105262, 0.23333333333333334, 'Work.Experience <= 5.5\\nentropy = 0.985\\nsamples = 5\\nvalue = [4, 3]\\nclass = 0'),\n",
              " Text(0.20789473684210527, 0.16666666666666666, 'Undergrad_YES <= 0.5\\nentropy = 1.0\\nsamples = 3\\nvalue = [2, 2]\\nclass = 0'),\n",
              " Text(0.19736842105263158, 0.1, 'City.Population <= 129270.5\\nentropy = 0.918\\nsamples = 2\\nvalue = [2, 1]\\nclass = 0'),\n",
              " Text(0.1868421052631579, 0.03333333333333333, 'entropy = 0.0\\nsamples = 1\\nvalue = [0, 1]\\nclass = 1'),\n",
              " Text(0.20789473684210527, 0.03333333333333333, 'entropy = 0.0\\nsamples = 1\\nvalue = [2, 0]\\nclass = 0'),\n",
              " Text(0.21842105263157896, 0.1, 'entropy = 0.0\\nsamples = 1\\nvalue = [0, 1]\\nclass = 1'),\n",
              " Text(0.25, 0.16666666666666666, 'City.Population <= 108267.5\\nentropy = 0.918\\nsamples = 2\\nvalue = [2, 1]\\nclass = 0'),\n",
              " Text(0.2394736842105263, 0.1, 'entropy = 0.0\\nsamples = 1\\nvalue = [0, 1]\\nclass = 1'),\n",
              " Text(0.26052631578947366, 0.1, 'entropy = 0.0\\nsamples = 1\\nvalue = [2, 0]\\nclass = 0'),\n",
              " Text(0.3026315789473684, 0.3, 'Undergrad_YES <= 0.5\\nentropy = 0.592\\nsamples = 16\\nvalue = [3, 18]\\nclass = 1'),\n",
              " Text(0.28157894736842104, 0.23333333333333334, 'City.Population <= 97193.5\\nentropy = 0.722\\nsamples = 7\\nvalue = [2, 8]\\nclass = 1'),\n",
              " Text(0.2710526315789474, 0.16666666666666666, 'entropy = 0.0\\nsamples = 2\\nvalue = [2, 0]\\nclass = 0'),\n",
              " Text(0.29210526315789476, 0.16666666666666666, 'entropy = 0.0\\nsamples = 5\\nvalue = [0, 8]\\nclass = 1'),\n",
              " Text(0.3236842105263158, 0.23333333333333334, 'Work.Experience <= 14.5\\nentropy = 0.439\\nsamples = 9\\nvalue = [1, 10]\\nclass = 1'),\n",
              " Text(0.3131578947368421, 0.16666666666666666, 'entropy = 0.0\\nsamples = 6\\nvalue = [0, 8]\\nclass = 1'),\n",
              " Text(0.33421052631578946, 0.16666666666666666, 'Work.Experience <= 15.5\\nentropy = 0.918\\nsamples = 3\\nvalue = [1, 2]\\nclass = 1'),\n",
              " Text(0.3236842105263158, 0.1, 'City.Population <= 138154.0\\nentropy = 1.0\\nsamples = 2\\nvalue = [1, 1]\\nclass = 0'),\n",
              " Text(0.3131578947368421, 0.03333333333333333, 'entropy = 0.0\\nsamples = 1\\nvalue = [0, 1]\\nclass = 1'),\n",
              " Text(0.33421052631578946, 0.03333333333333333, 'entropy = 0.0\\nsamples = 1\\nvalue = [1, 0]\\nclass = 0'),\n",
              " Text(0.3447368421052632, 0.1, 'entropy = 0.0\\nsamples = 1\\nvalue = [0, 1]\\nclass = 1'),\n",
              " Text(0.2631578947368421, 0.43333333333333335, 'entropy = 0.0\\nsamples = 1\\nvalue = [3, 0]\\nclass = 0'),\n",
              " Text(0.2736842105263158, 0.5, 'entropy = 0.0\\nsamples = 1\\nvalue = [4, 0]\\nclass = 0'),\n",
              " Text(0.20526315789473684, 0.7, 'entropy = 0.0\\nsamples = 3\\nvalue = [0, 6]\\nclass = 1'),\n",
              " Text(0.3394736842105263, 0.8333333333333334, 'Marital.Status_Single <= 0.5\\nentropy = 0.371\\nsamples = 55\\nvalue = [6, 78]\\nclass = 1'),\n",
              " Text(0.3105263157894737, 0.7666666666666667, 'Marital.Status_Divorced <= 0.5\\nentropy = 0.4\\nsamples = 41\\nvalue = [5, 58]\\nclass = 1'),\n",
              " Text(0.3, 0.7, 'entropy = 0.0\\nsamples = 17\\nvalue = [0, 28]\\nclass = 1'),\n",
              " Text(0.32105263157894737, 0.7, 'Work.Experience <= 21.5\\nentropy = 0.592\\nsamples = 24\\nvalue = [5, 30]\\nclass = 1'),\n",
              " Text(0.29473684210526313, 0.6333333333333333, 'City.Population <= 61510.0\\nentropy = 0.881\\nsamples = 7\\nvalue = [3, 7]\\nclass = 1'),\n",
              " Text(0.28421052631578947, 0.5666666666666667, 'entropy = 0.0\\nsamples = 1\\nvalue = [2, 0]\\nclass = 0'),\n",
              " Text(0.30526315789473685, 0.5666666666666667, 'Undergrad_YES <= 0.5\\nentropy = 0.544\\nsamples = 6\\nvalue = [1, 7]\\nclass = 1'),\n",
              " Text(0.29473684210526313, 0.5, 'City.Population <= 118348.5\\nentropy = 0.811\\nsamples = 4\\nvalue = [1, 3]\\nclass = 1'),\n",
              " Text(0.28421052631578947, 0.43333333333333335, 'entropy = 0.0\\nsamples = 1\\nvalue = [1, 0]\\nclass = 0'),\n",
              " Text(0.30526315789473685, 0.43333333333333335, 'entropy = 0.0\\nsamples = 3\\nvalue = [0, 3]\\nclass = 1'),\n",
              " Text(0.3157894736842105, 0.5, 'entropy = 0.0\\nsamples = 2\\nvalue = [0, 4]\\nclass = 1'),\n",
              " Text(0.3473684210526316, 0.6333333333333333, 'City.Population <= 106248.0\\nentropy = 0.402\\nsamples = 17\\nvalue = [2, 23]\\nclass = 1'),\n",
              " Text(0.3368421052631579, 0.5666666666666667, 'entropy = 0.0\\nsamples = 8\\nvalue = [0, 13]\\nclass = 1'),\n",
              " Text(0.35789473684210527, 0.5666666666666667, 'Work.Experience <= 23.5\\nentropy = 0.65\\nsamples = 9\\nvalue = [2, 10]\\nclass = 1'),\n",
              " Text(0.3368421052631579, 0.5, 'Work.Experience <= 22.5\\nentropy = 1.0\\nsamples = 2\\nvalue = [1, 1]\\nclass = 0'),\n",
              " Text(0.3263157894736842, 0.43333333333333335, 'entropy = 0.0\\nsamples = 1\\nvalue = [0, 1]\\nclass = 1'),\n",
              " Text(0.3473684210526316, 0.43333333333333335, 'entropy = 0.0\\nsamples = 1\\nvalue = [1, 0]\\nclass = 0'),\n",
              " Text(0.37894736842105264, 0.5, 'Undergrad_YES <= 0.5\\nentropy = 0.469\\nsamples = 7\\nvalue = [1, 9]\\nclass = 1'),\n",
              " Text(0.3684210526315789, 0.43333333333333335, 'City.Population <= 153947.5\\nentropy = 0.918\\nsamples = 3\\nvalue = [1, 2]\\nclass = 1'),\n",
              " Text(0.35789473684210527, 0.36666666666666664, 'entropy = 0.0\\nsamples = 1\\nvalue = [0, 1]\\nclass = 1'),\n",
              " Text(0.37894736842105264, 0.36666666666666664, 'Work.Experience <= 28.0\\nentropy = 1.0\\nsamples = 2\\nvalue = [1, 1]\\nclass = 0'),\n",
              " Text(0.3684210526315789, 0.3, 'entropy = 0.0\\nsamples = 1\\nvalue = [0, 1]\\nclass = 1'),\n",
              " Text(0.3894736842105263, 0.3, 'entropy = 0.0\\nsamples = 1\\nvalue = [1, 0]\\nclass = 0'),\n",
              " Text(0.3894736842105263, 0.43333333333333335, 'entropy = 0.0\\nsamples = 4\\nvalue = [0, 7]\\nclass = 1'),\n",
              " Text(0.3684210526315789, 0.7666666666666667, 'Work.Experience <= 27.5\\nentropy = 0.276\\nsamples = 14\\nvalue = [1, 20]\\nclass = 1'),\n",
              " Text(0.35789473684210527, 0.7, 'entropy = 0.0\\nsamples = 12\\nvalue = [0, 19]\\nclass = 1'),\n",
              " Text(0.37894736842105264, 0.7, 'Work.Experience <= 28.5\\nentropy = 1.0\\nsamples = 2\\nvalue = [1, 1]\\nclass = 0'),\n",
              " Text(0.3684210526315789, 0.6333333333333333, 'entropy = 0.0\\nsamples = 1\\nvalue = [1, 0]\\nclass = 0'),\n",
              " Text(0.3894736842105263, 0.6333333333333333, 'entropy = 0.0\\nsamples = 1\\nvalue = [0, 1]\\nclass = 1'),\n",
              " Text(0.7026315789473684, 0.9, 'Work.Experience <= 13.5\\nentropy = 0.641\\nsamples = 140\\nvalue = [35, 180]\\nclass = 1'),\n",
              " Text(0.5447368421052632, 0.8333333333333334, 'Work.Experience <= 8.5\\nentropy = 0.494\\nsamples = 73\\nvalue = [12, 99]\\nclass = 1'),\n",
              " Text(0.5, 0.7666666666666667, 'Marital.Status_Divorced <= 0.5\\nentropy = 0.619\\nsamples = 46\\nvalue = [10, 55]\\nclass = 1'),\n",
              " Text(0.47368421052631576, 0.7, 'Marital.Status_Single <= 0.5\\nentropy = 0.702\\nsamples = 31\\nvalue = [8, 34]\\nclass = 1'),\n",
              " Text(0.45263157894736844, 0.6333333333333333, 'Undergrad_YES <= 0.5\\nentropy = 0.65\\nsamples = 14\\nvalue = [3, 15]\\nclass = 1'),\n",
              " Text(0.4421052631578947, 0.5666666666666667, 'Work.Experience <= 3.5\\nentropy = 0.918\\nsamples = 8\\nvalue = [3, 6]\\nclass = 1'),\n",
              " Text(0.43157894736842106, 0.5, 'Work.Experience <= 1.0\\nentropy = 0.971\\nsamples = 4\\nvalue = [3, 2]\\nclass = 0'),\n",
              " Text(0.4105263157894737, 0.43333333333333335, 'City.Population <= 86983.0\\nentropy = 0.918\\nsamples = 2\\nvalue = [2, 1]\\nclass = 0'),\n",
              " Text(0.4, 0.36666666666666664, 'entropy = 0.0\\nsamples = 1\\nvalue = [2, 0]\\nclass = 0'),\n",
              " Text(0.42105263157894735, 0.36666666666666664, 'entropy = 0.0\\nsamples = 1\\nvalue = [0, 1]\\nclass = 1'),\n",
              " Text(0.45263157894736844, 0.43333333333333335, 'City.Population <= 66115.0\\nentropy = 1.0\\nsamples = 2\\nvalue = [1, 1]\\nclass = 0'),\n",
              " Text(0.4421052631578947, 0.36666666666666664, 'entropy = 0.0\\nsamples = 1\\nvalue = [1, 0]\\nclass = 0'),\n",
              " Text(0.4631578947368421, 0.36666666666666664, 'entropy = 0.0\\nsamples = 1\\nvalue = [0, 1]\\nclass = 1'),\n",
              " Text(0.45263157894736844, 0.5, 'entropy = 0.0\\nsamples = 4\\nvalue = [0, 4]\\nclass = 1'),\n",
              " Text(0.4631578947368421, 0.5666666666666667, 'entropy = 0.0\\nsamples = 6\\nvalue = [0, 9]\\nclass = 1'),\n",
              " Text(0.49473684210526314, 0.6333333333333333, 'Work.Experience <= 5.5\\nentropy = 0.738\\nsamples = 17\\nvalue = [5, 19]\\nclass = 1'),\n",
              " Text(0.4842105263157895, 0.5666666666666667, 'entropy = 0.0\\nsamples = 9\\nvalue = [0, 13]\\nclass = 1'),\n",
              " Text(0.5052631578947369, 0.5666666666666667, 'Work.Experience <= 6.5\\nentropy = 0.994\\nsamples = 8\\nvalue = [5, 6]\\nclass = 1'),\n",
              " Text(0.49473684210526314, 0.5, 'entropy = 0.0\\nsamples = 1\\nvalue = [3, 0]\\nclass = 0'),\n",
              " Text(0.5157894736842106, 0.5, 'City.Population <= 103263.0\\nentropy = 0.811\\nsamples = 7\\nvalue = [2, 6]\\nclass = 1'),\n",
              " Text(0.5052631578947369, 0.43333333333333335, 'entropy = 0.0\\nsamples = 3\\nvalue = [0, 3]\\nclass = 1'),\n",
              " Text(0.5263157894736842, 0.43333333333333335, 'Work.Experience <= 7.5\\nentropy = 0.971\\nsamples = 4\\nvalue = [2, 3]\\nclass = 1'),\n",
              " Text(0.5157894736842106, 0.36666666666666664, 'entropy = 0.0\\nsamples = 3\\nvalue = [0, 3]\\nclass = 1'),\n",
              " Text(0.5368421052631579, 0.36666666666666664, 'entropy = 0.0\\nsamples = 1\\nvalue = [2, 0]\\nclass = 0'),\n",
              " Text(0.5263157894736842, 0.7, 'City.Population <= 34783.0\\nentropy = 0.426\\nsamples = 15\\nvalue = [2, 21]\\nclass = 1'),\n",
              " Text(0.5157894736842106, 0.6333333333333333, 'entropy = 0.0\\nsamples = 1\\nvalue = [1, 0]\\nclass = 0'),\n",
              " Text(0.5368421052631579, 0.6333333333333333, 'Undergrad_YES <= 0.5\\nentropy = 0.267\\nsamples = 14\\nvalue = [1, 21]\\nclass = 1'),\n",
              " Text(0.5263157894736842, 0.5666666666666667, 'entropy = 0.0\\nsamples = 8\\nvalue = [0, 14]\\nclass = 1'),\n",
              " Text(0.5473684210526316, 0.5666666666666667, 'City.Population <= 175252.0\\nentropy = 0.544\\nsamples = 6\\nvalue = [1, 7]\\nclass = 1'),\n",
              " Text(0.5368421052631579, 0.5, 'entropy = 0.0\\nsamples = 5\\nvalue = [0, 7]\\nclass = 1'),\n",
              " Text(0.5578947368421052, 0.5, 'entropy = 0.0\\nsamples = 1\\nvalue = [1, 0]\\nclass = 0'),\n",
              " Text(0.5894736842105263, 0.7666666666666667, 'Marital.Status_Divorced <= 0.5\\nentropy = 0.258\\nsamples = 27\\nvalue = [2, 44]\\nclass = 1'),\n",
              " Text(0.5789473684210527, 0.7, 'entropy = 0.0\\nsamples = 17\\nvalue = [0, 24]\\nclass = 1'),\n",
              " Text(0.6, 0.7, 'Work.Experience <= 11.0\\nentropy = 0.439\\nsamples = 10\\nvalue = [2, 20]\\nclass = 1'),\n",
              " Text(0.5894736842105263, 0.6333333333333333, 'entropy = 0.0\\nsamples = 5\\nvalue = [0, 10]\\nclass = 1'),\n",
              " Text(0.6105263157894737, 0.6333333333333333, 'Undergrad_YES <= 0.5\\nentropy = 0.65\\nsamples = 5\\nvalue = [2, 10]\\nclass = 1'),\n",
              " Text(0.5894736842105263, 0.5666666666666667, 'Work.Experience <= 12.5\\nentropy = 0.544\\nsamples = 3\\nvalue = [1, 7]\\nclass = 1'),\n",
              " Text(0.5789473684210527, 0.5, 'entropy = 0.0\\nsamples = 1\\nvalue = [0, 2]\\nclass = 1'),\n",
              " Text(0.6, 0.5, 'City.Population <= 121829.5\\nentropy = 0.65\\nsamples = 2\\nvalue = [1, 5]\\nclass = 1'),\n",
              " Text(0.5894736842105263, 0.43333333333333335, 'entropy = 0.0\\nsamples = 1\\nvalue = [1, 0]\\nclass = 0'),\n",
              " Text(0.6105263157894737, 0.43333333333333335, 'entropy = 0.0\\nsamples = 1\\nvalue = [0, 5]\\nclass = 1'),\n",
              " Text(0.631578947368421, 0.5666666666666667, 'Work.Experience <= 12.5\\nentropy = 0.811\\nsamples = 2\\nvalue = [1, 3]\\nclass = 1'),\n",
              " Text(0.6210526315789474, 0.5, 'entropy = 0.0\\nsamples = 1\\nvalue = [1, 0]\\nclass = 0'),\n",
              " Text(0.6421052631578947, 0.5, 'entropy = 0.0\\nsamples = 1\\nvalue = [0, 3]\\nclass = 1'),\n",
              " Text(0.8605263157894737, 0.8333333333333334, 'Marital.Status_Divorced <= 0.5\\nentropy = 0.762\\nsamples = 67\\nvalue = [23, 81]\\nclass = 1'),\n",
              " Text(0.7684210526315789, 0.7666666666666667, 'Marital.Status_Single <= 0.5\\nentropy = 0.767\\nsamples = 48\\nvalue = [17, 59]\\nclass = 1'),\n",
              " Text(0.7, 0.7, 'City.Population <= 37259.0\\nentropy = 0.834\\nsamples = 19\\nvalue = [9, 25]\\nclass = 1'),\n",
              " Text(0.6894736842105263, 0.6333333333333333, 'entropy = 0.0\\nsamples = 1\\nvalue = [1, 0]\\nclass = 0'),\n",
              " Text(0.7105263157894737, 0.6333333333333333, 'Work.Experience <= 28.5\\nentropy = 0.799\\nsamples = 18\\nvalue = [8, 25]\\nclass = 1'),\n",
              " Text(0.7, 0.5666666666666667, 'Undergrad_YES <= 0.5\\nentropy = 0.837\\nsamples = 15\\nvalue = [8, 22]\\nclass = 1'),\n",
              " Text(0.6631578947368421, 0.5, 'Work.Experience <= 26.0\\nentropy = 0.874\\nsamples = 8\\nvalue = [5, 12]\\nclass = 1'),\n",
              " Text(0.6526315789473685, 0.43333333333333335, 'City.Population <= 54268.0\\nentropy = 0.722\\nsamples = 7\\nvalue = [3, 12]\\nclass = 1'),\n",
              " Text(0.631578947368421, 0.36666666666666664, 'Work.Experience <= 21.0\\nentropy = 0.918\\nsamples = 2\\nvalue = [2, 1]\\nclass = 0'),\n",
              " Text(0.6210526315789474, 0.3, 'entropy = 0.0\\nsamples = 1\\nvalue = [0, 1]\\nclass = 1'),\n",
              " Text(0.6421052631578947, 0.3, 'entropy = 0.0\\nsamples = 1\\nvalue = [2, 0]\\nclass = 0'),\n",
              " Text(0.6736842105263158, 0.36666666666666664, 'Work.Experience <= 18.5\\nentropy = 0.414\\nsamples = 5\\nvalue = [1, 11]\\nclass = 1'),\n",
              " Text(0.6631578947368421, 0.3, 'City.Population <= 83394.0\\nentropy = 1.0\\nsamples = 2\\nvalue = [1, 1]\\nclass = 0'),\n",
              " Text(0.6526315789473685, 0.23333333333333334, 'entropy = 0.0\\nsamples = 1\\nvalue = [1, 0]\\nclass = 0'),\n",
              " Text(0.6736842105263158, 0.23333333333333334, 'entropy = 0.0\\nsamples = 1\\nvalue = [0, 1]\\nclass = 1'),\n",
              " Text(0.6842105263157895, 0.3, 'entropy = 0.0\\nsamples = 3\\nvalue = [0, 10]\\nclass = 1'),\n",
              " Text(0.6736842105263158, 0.43333333333333335, 'entropy = 0.0\\nsamples = 1\\nvalue = [2, 0]\\nclass = 0'),\n",
              " Text(0.7368421052631579, 0.5, 'Work.Experience <= 23.5\\nentropy = 0.779\\nsamples = 7\\nvalue = [3, 10]\\nclass = 1'),\n",
              " Text(0.7263157894736842, 0.43333333333333335, 'Work.Experience <= 20.5\\nentropy = 0.65\\nsamples = 6\\nvalue = [2, 10]\\nclass = 1'),\n",
              " Text(0.7157894736842105, 0.36666666666666664, 'Work.Experience <= 17.0\\nentropy = 1.0\\nsamples = 2\\nvalue = [2, 2]\\nclass = 0'),\n",
              " Text(0.7052631578947368, 0.3, 'entropy = 0.0\\nsamples = 1\\nvalue = [0, 2]\\nclass = 1'),\n",
              " Text(0.7263157894736842, 0.3, 'entropy = 0.0\\nsamples = 1\\nvalue = [2, 0]\\nclass = 0'),\n",
              " Text(0.7368421052631579, 0.36666666666666664, 'entropy = 0.0\\nsamples = 4\\nvalue = [0, 8]\\nclass = 1'),\n",
              " Text(0.7473684210526316, 0.43333333333333335, 'entropy = 0.0\\nsamples = 1\\nvalue = [1, 0]\\nclass = 0'),\n",
              " Text(0.7210526315789474, 0.5666666666666667, 'entropy = 0.0\\nsamples = 3\\nvalue = [0, 3]\\nclass = 1'),\n",
              " Text(0.8368421052631579, 0.7, 'City.Population <= 112744.5\\nentropy = 0.702\\nsamples = 29\\nvalue = [8, 34]\\nclass = 1'),\n",
              " Text(0.8263157894736842, 0.6333333333333333, 'Work.Experience <= 21.5\\nentropy = 0.946\\nsamples = 17\\nvalue = [8, 14]\\nclass = 1'),\n",
              " Text(0.8, 0.5666666666666667, 'Work.Experience <= 17.5\\nentropy = 0.996\\nsamples = 10\\nvalue = [7, 6]\\nclass = 0'),\n",
              " Text(0.7789473684210526, 0.5, 'Work.Experience <= 16.5\\nentropy = 0.863\\nsamples = 5\\nvalue = [2, 5]\\nclass = 1'),\n",
              " Text(0.7684210526315789, 0.43333333333333335, 'Undergrad_YES <= 0.5\\nentropy = 0.918\\nsamples = 4\\nvalue = [2, 4]\\nclass = 1'),\n",
              " Text(0.7578947368421053, 0.36666666666666664, 'entropy = 0.0\\nsamples = 1\\nvalue = [0, 2]\\nclass = 1'),\n",
              " Text(0.7789473684210526, 0.36666666666666664, 'City.Population <= 71096.0\\nentropy = 1.0\\nsamples = 3\\nvalue = [2, 2]\\nclass = 0'),\n",
              " Text(0.7684210526315789, 0.3, 'entropy = 0.0\\nsamples = 1\\nvalue = [0, 1]\\nclass = 1'),\n",
              " Text(0.7894736842105263, 0.3, 'City.Population <= 97537.5\\nentropy = 0.918\\nsamples = 2\\nvalue = [2, 1]\\nclass = 0'),\n",
              " Text(0.7789473684210526, 0.23333333333333334, 'entropy = 0.0\\nsamples = 1\\nvalue = [2, 0]\\nclass = 0'),\n",
              " Text(0.8, 0.23333333333333334, 'entropy = 0.0\\nsamples = 1\\nvalue = [0, 1]\\nclass = 1'),\n",
              " Text(0.7894736842105263, 0.43333333333333335, 'entropy = 0.0\\nsamples = 1\\nvalue = [0, 1]\\nclass = 1'),\n",
              " Text(0.8210526315789474, 0.5, 'Undergrad_YES <= 0.5\\nentropy = 0.65\\nsamples = 5\\nvalue = [5, 1]\\nclass = 0'),\n",
              " Text(0.8105263157894737, 0.43333333333333335, 'entropy = 0.0\\nsamples = 1\\nvalue = [1, 0]\\nclass = 0'),\n",
              " Text(0.8315789473684211, 0.43333333333333335, 'Work.Experience <= 18.5\\nentropy = 0.722\\nsamples = 4\\nvalue = [4, 1]\\nclass = 0'),\n",
              " Text(0.8210526315789474, 0.36666666666666664, 'City.Population <= 64750.0\\nentropy = 0.811\\nsamples = 3\\nvalue = [3, 1]\\nclass = 0'),\n",
              " Text(0.8105263157894737, 0.3, 'entropy = 0.0\\nsamples = 1\\nvalue = [2, 0]\\nclass = 0'),\n",
              " Text(0.8315789473684211, 0.3, 'City.Population <= 104507.5\\nentropy = 1.0\\nsamples = 2\\nvalue = [1, 1]\\nclass = 0'),\n",
              " Text(0.8210526315789474, 0.23333333333333334, 'entropy = 0.0\\nsamples = 1\\nvalue = [0, 1]\\nclass = 1'),\n",
              " Text(0.8421052631578947, 0.23333333333333334, 'entropy = 0.0\\nsamples = 1\\nvalue = [1, 0]\\nclass = 0'),\n",
              " Text(0.8421052631578947, 0.36666666666666664, 'entropy = 0.0\\nsamples = 1\\nvalue = [1, 0]\\nclass = 0'),\n",
              " Text(0.8526315789473684, 0.5666666666666667, 'Work.Experience <= 28.5\\nentropy = 0.503\\nsamples = 7\\nvalue = [1, 8]\\nclass = 1'),\n",
              " Text(0.8421052631578947, 0.5, 'entropy = 0.0\\nsamples = 5\\nvalue = [0, 7]\\nclass = 1'),\n",
              " Text(0.8631578947368421, 0.5, 'City.Population <= 61021.5\\nentropy = 1.0\\nsamples = 2\\nvalue = [1, 1]\\nclass = 0'),\n",
              " Text(0.8526315789473684, 0.43333333333333335, 'entropy = 0.0\\nsamples = 1\\nvalue = [0, 1]\\nclass = 1'),\n",
              " Text(0.8736842105263158, 0.43333333333333335, 'entropy = 0.0\\nsamples = 1\\nvalue = [1, 0]\\nclass = 0'),\n",
              " Text(0.8473684210526315, 0.6333333333333333, 'entropy = 0.0\\nsamples = 12\\nvalue = [0, 20]\\nclass = 1'),\n",
              " Text(0.9526315789473684, 0.7666666666666667, 'Work.Experience <= 29.5\\nentropy = 0.75\\nsamples = 19\\nvalue = [6, 22]\\nclass = 1'),\n",
              " Text(0.9263157894736842, 0.7, 'Undergrad_YES <= 0.5\\nentropy = 0.559\\nsamples = 16\\nvalue = [3, 20]\\nclass = 1'),\n",
              " Text(0.9052631578947369, 0.6333333333333333, 'City.Population <= 59551.5\\nentropy = 0.353\\nsamples = 10\\nvalue = [1, 14]\\nclass = 1'),\n",
              " Text(0.8947368421052632, 0.5666666666666667, 'Work.Experience <= 20.0\\nentropy = 1.0\\nsamples = 2\\nvalue = [1, 1]\\nclass = 0'),\n",
              " Text(0.8842105263157894, 0.5, 'entropy = 0.0\\nsamples = 1\\nvalue = [1, 0]\\nclass = 0'),\n",
              " Text(0.9052631578947369, 0.5, 'entropy = 0.0\\nsamples = 1\\nvalue = [0, 1]\\nclass = 1'),\n",
              " Text(0.9157894736842105, 0.5666666666666667, 'entropy = 0.0\\nsamples = 8\\nvalue = [0, 13]\\nclass = 1'),\n",
              " Text(0.9473684210526315, 0.6333333333333333, 'Work.Experience <= 16.0\\nentropy = 0.811\\nsamples = 6\\nvalue = [2, 6]\\nclass = 1'),\n",
              " Text(0.9368421052631579, 0.5666666666666667, 'entropy = 0.0\\nsamples = 1\\nvalue = [2, 0]\\nclass = 0'),\n",
              " Text(0.9578947368421052, 0.5666666666666667, 'entropy = 0.0\\nsamples = 5\\nvalue = [0, 6]\\nclass = 1'),\n",
              " Text(0.9789473684210527, 0.7, 'City.Population <= 59728.5\\nentropy = 0.971\\nsamples = 3\\nvalue = [3, 2]\\nclass = 0'),\n",
              " Text(0.968421052631579, 0.6333333333333333, 'entropy = 0.0\\nsamples = 1\\nvalue = [0, 2]\\nclass = 1'),\n",
              " Text(0.9894736842105263, 0.6333333333333333, 'entropy = 0.0\\nsamples = 2\\nvalue = [3, 0]\\nclass = 0')]"
            ]
          },
          "metadata": {},
          "execution_count": 25
        },
        {
          "output_type": "display_data",
          "data": {
            "text/plain": [
              "<Figure size 1500x1500 with 1 Axes>"
            ],
            "image/png": "[encoded data removed]"
          },
          "metadata": {
            "needs_background": "light"
          }
        }
      ]
    },
    {
      "cell_type": "code",
      "source": [
        "from sklearn.metrics import accuracy_score"
      ],
      "metadata": {
        "id": "KjS3xErhP8JJ"
      },
      "execution_count": 26,
      "outputs": []
    },
    {
      "cell_type": "code",
      "source": [
        "accu = accuracy_score(y_test,y_pred)"
      ],
      "metadata": {
        "id": "RO1KvbO0QDRq"
      },
      "execution_count": 27,
      "outputs": []
    },
    {
      "cell_type": "code",
      "source": [
        "accu"
      ],
      "metadata": {
        "colab": {
          "base_uri": "https://localhost:8080/"
        },
        "id": "0Mk03s6NQHAL",
        "outputId": "1a4b2e1e-f766-477f-b8c8-ab22b88aa9d5"
      },
      "execution_count": 28,
      "outputs": [
        {
          "output_type": "execute_result",
          "data": {
            "text/plain": [
              "0.6833333333333333"
            ]
          },
          "metadata": {},
          "execution_count": 28
        }
      ]
    },
    {
      "cell_type": "code",
      "source": [
        "from sklearn.model_selection import cross_val_score"
      ],
      "metadata": {
        "id": "hzzScmWhQuD3"
      },
      "execution_count": 29,
      "outputs": []
    },
    {
      "cell_type": "code",
      "source": [
        "cv1 = cross_val_score(model,x_train,y_train,cv=6)"
      ],
      "metadata": {
        "id": "GuJxi0T4W2an",
        "colab": {
          "base_uri": "https://localhost:8080/"
        },
        "outputId": "bdcdd816-3f12-4c59-f400-e0443a48ba7c"
      },
      "execution_count": 30,
      "outputs": [
        {
          "output_type": "stream",
          "name": "stderr",
          "text": [
            "/usr/local/lib/python3.7/dist-packages/sklearn/ensemble/_forest.py:564: UserWarning: Some inputs do not have OOB scores. This probably means too few trees were used to compute any reliable OOB estimates.\n",
            "  UserWarning,\n",
            "/usr/local/lib/python3.7/dist-packages/sklearn/ensemble/_forest.py:564: UserWarning: Some inputs do not have OOB scores. This probably means too few trees were used to compute any reliable OOB estimates.\n",
            "  UserWarning,\n",
            "/usr/local/lib/python3.7/dist-packages/sklearn/ensemble/_forest.py:564: UserWarning: Some inputs do not have OOB scores. This probably means too few trees were used to compute any reliable OOB estimates.\n",
            "  UserWarning,\n",
            "/usr/local/lib/python3.7/dist-packages/sklearn/ensemble/_forest.py:564: UserWarning: Some inputs do not have OOB scores. This probably means too few trees were used to compute any reliable OOB estimates.\n",
            "  UserWarning,\n",
            "/usr/local/lib/python3.7/dist-packages/sklearn/ensemble/_forest.py:564: UserWarning: Some inputs do not have OOB scores. This probably means too few trees were used to compute any reliable OOB estimates.\n",
            "  UserWarning,\n"
          ]
        }
      ]
    },
    {
      "cell_type": "code",
      "source": [
        "cv1"
      ],
      "metadata": {
        "colab": {
          "base_uri": "https://localhost:8080/"
        },
        "id": "57qHeahvYEnM",
        "outputId": "3055744a-ff68-41ba-a2e4-9a84e14894c9"
      },
      "execution_count": 31,
      "outputs": [
        {
          "output_type": "execute_result",
          "data": {
            "text/plain": [
              "array([0.78571429, 0.78571429, 0.72857143, 0.78571429, 0.78571429,\n",
              "       0.8       ])"
            ]
          },
          "metadata": {},
          "execution_count": 31
        }
      ]
    },
    {
      "cell_type": "code",
      "source": [
        "mean = cv1.mean()*100"
      ],
      "metadata": {
        "id": "Y6meh_ySYHpD"
      },
      "execution_count": 32,
      "outputs": []
    },
    {
      "cell_type": "code",
      "source": [
        "mean"
      ],
      "metadata": {
        "colab": {
          "base_uri": "https://localhost:8080/"
        },
        "id": "dEcIU65FNmqn",
        "outputId": "2dcb0abe-5994-436c-c192-c1aad488715f"
      },
      "execution_count": 35,
      "outputs": [
        {
          "output_type": "execute_result",
          "data": {
            "text/plain": [
              "77.85714285714285"
            ]
          },
          "metadata": {},
          "execution_count": 35
        }
      ]
    },
    {
      "cell_type": "code",
      "source": [
        "cv = cross_val_score(model,x_train,y_train,cv=8)"
      ],
      "metadata": {
        "id": "lSiueQopYK-q",
        "colab": {
          "base_uri": "https://localhost:8080/"
        },
        "outputId": "65421f94-2895-44f9-c2b3-8393718213bf"
      },
      "execution_count": 33,
      "outputs": [
        {
          "output_type": "stream",
          "name": "stderr",
          "text": [
            "/usr/local/lib/python3.7/dist-packages/sklearn/ensemble/_forest.py:564: UserWarning: Some inputs do not have OOB scores. This probably means too few trees were used to compute any reliable OOB estimates.\n",
            "  UserWarning,\n",
            "/usr/local/lib/python3.7/dist-packages/sklearn/ensemble/_forest.py:564: UserWarning: Some inputs do not have OOB scores. This probably means too few trees were used to compute any reliable OOB estimates.\n",
            "  UserWarning,\n",
            "/usr/local/lib/python3.7/dist-packages/sklearn/ensemble/_forest.py:564: UserWarning: Some inputs do not have OOB scores. This probably means too few trees were used to compute any reliable OOB estimates.\n",
            "  UserWarning,\n",
            "/usr/local/lib/python3.7/dist-packages/sklearn/ensemble/_forest.py:564: UserWarning: Some inputs do not have OOB scores. This probably means too few trees were used to compute any reliable OOB estimates.\n",
            "  UserWarning,\n",
            "/usr/local/lib/python3.7/dist-packages/sklearn/ensemble/_forest.py:564: UserWarning: Some inputs do not have OOB scores. This probably means too few trees were used to compute any reliable OOB estimates.\n",
            "  UserWarning,\n",
            "/usr/local/lib/python3.7/dist-packages/sklearn/ensemble/_forest.py:564: UserWarning: Some inputs do not have OOB scores. This probably means too few trees were used to compute any reliable OOB estimates.\n",
            "  UserWarning,\n"
          ]
        }
      ]
    },
    {
      "cell_type": "code",
      "source": [
        "cv.mean()"
      ],
      "metadata": {
        "colab": {
          "base_uri": "https://localhost:8080/"
        },
        "id": "2-PZp9tUYN3R",
        "outputId": "2d775067-e151-4371-ca71-6de82ca385c8"
      },
      "execution_count": 34,
      "outputs": [
        {
          "output_type": "execute_result",
          "data": {
            "text/plain": [
              "0.7571661828737299"
            ]
          },
          "metadata": {},
          "execution_count": 34
        }
      ]
    },
    {
      "cell_type": "code",
      "source": [
        "print(f'The cross validation score for 6folds is {mean}')"
      ],
      "metadata": {
        "colab": {
          "base_uri": "https://localhost:8080/"
        },
        "id": "2ooMmZgmYO34",
        "outputId": "f9abb880-77a2-4aec-e483-52579a9d38b7"
      },
      "execution_count": 36,
      "outputs": [
        {
          "output_type": "stream",
          "name": "stdout",
          "text": [
            "The cross validation score for 6folds is 77.85714285714285\n"
          ]
        }
      ]
    },
    {
      "cell_type": "code",
      "source": [
        "from sklearn.metrics import confusion_matrix, classification_report"
      ],
      "metadata": {
        "id": "dG5dNAc3Yd1p"
      },
      "execution_count": 37,
      "outputs": []
    },
    {
      "cell_type": "code",
      "source": [
        "from sklearn.metrics._plot.confusion_matrix import plot_confusion_matrix"
      ],
      "metadata": {
        "id": "f0he53wXY-tm"
      },
      "execution_count": 38,
      "outputs": []
    },
    {
      "cell_type": "code",
      "source": [
        "cm = confusion_matrix(y_test,y_pred)"
      ],
      "metadata": {
        "id": "64tz-hFDZJwE"
      },
      "execution_count": 39,
      "outputs": []
    },
    {
      "cell_type": "code",
      "source": [
        "cm"
      ],
      "metadata": {
        "colab": {
          "base_uri": "https://localhost:8080/"
        },
        "id": "cTz9nBF3ZPC0",
        "outputId": "b44d27b7-7131-4838-d74a-8af7f2c403e3"
      },
      "execution_count": 40,
      "outputs": [
        {
          "output_type": "execute_result",
          "data": {
            "text/plain": [
              "array([[  3,  45],\n",
              "       [ 12, 120]])"
            ]
          },
          "metadata": {},
          "execution_count": 40
        }
      ]
    },
    {
      "cell_type": "code",
      "source": [
        "y_prob = model.predict_proba(x_test)[:,1]"
      ],
      "metadata": {
        "id": "e7pX03OzoNxu"
      },
      "execution_count": 41,
      "outputs": []
    },
    {
      "cell_type": "code",
      "source": [
        "y_prob"
      ],
      "metadata": {
        "colab": {
          "base_uri": "https://localhost:8080/"
        },
        "id": "ZEypOzdhoib1",
        "outputId": "8d02f4aa-992c-4941-fe9f-b79ab14f598f"
      },
      "execution_count": 42,
      "outputs": [
        {
          "output_type": "execute_result",
          "data": {
            "text/plain": [
              "array([0.83333333, 0.58333333, 0.58333333, 0.66666667, 0.83333333,\n",
              "       1.        , 0.91666667, 0.75      , 0.66666667, 0.66666667,\n",
              "       0.58333333, 0.83333333, 0.83333333, 0.91666667, 0.91666667,\n",
              "       0.83333333, 0.91666667, 0.91666667, 0.66666667, 0.83333333,\n",
              "       1.        , 0.75      , 0.66666667, 0.91666667, 1.        ,\n",
              "       0.83333333, 1.        , 0.16666667, 0.41666667, 0.75      ,\n",
              "       1.        , 1.        , 1.        , 1.        , 1.        ,\n",
              "       0.75      , 1.        , 0.75      , 0.91666667, 1.        ,\n",
              "       0.75      , 1.        , 1.        , 1.        , 0.83333333,\n",
              "       0.75      , 0.75      , 0.66666667, 0.91666667, 0.91666667,\n",
              "       1.        , 0.91666667, 0.75      , 1.        , 0.91666667,\n",
              "       0.75      , 0.91666667, 0.91666667, 0.83333333, 0.75      ,\n",
              "       0.91666667, 0.58333333, 0.83333333, 0.66666667, 0.58333333,\n",
              "       0.83333333, 0.5       , 0.66666667, 1.        , 0.33333333,\n",
              "       0.75      , 0.91666667, 0.66666667, 0.83333333, 0.83333333,\n",
              "       0.91666667, 0.66666667, 1.        , 1.        , 1.        ,\n",
              "       1.        , 0.66666667, 0.66666667, 0.58333333, 0.75      ,\n",
              "       1.        , 0.66666667, 0.66666667, 0.58333333, 0.75      ,\n",
              "       0.75      , 0.75      , 0.66666667, 1.        , 1.        ,\n",
              "       0.91666667, 1.        , 1.        , 0.91666667, 0.75      ,\n",
              "       0.66666667, 1.        , 1.        , 0.5       , 0.41666667,\n",
              "       0.83333333, 0.91666667, 0.66666667, 0.5       , 0.41666667,\n",
              "       0.33333333, 0.66666667, 0.58333333, 0.41666667, 0.75      ,\n",
              "       1.        , 0.75      , 0.91666667, 0.83333333, 1.        ,\n",
              "       0.58333333, 0.33333333, 0.91666667, 0.91666667, 0.91666667,\n",
              "       1.        , 0.75      , 0.5       , 0.91666667, 0.66666667,\n",
              "       0.58333333, 0.83333333, 0.91666667, 0.83333333, 0.58333333,\n",
              "       0.66666667, 1.        , 0.83333333, 0.75      , 1.        ,\n",
              "       0.83333333, 1.        , 0.91666667, 1.        , 0.83333333,\n",
              "       1.        , 1.        , 0.91666667, 1.        , 0.75      ,\n",
              "       0.91666667, 0.83333333, 0.66666667, 0.25      , 0.83333333,\n",
              "       0.75      , 0.91666667, 1.        , 0.91666667, 1.        ,\n",
              "       1.        , 0.66666667, 0.08333333, 1.        , 0.66666667,\n",
              "       1.        , 0.66666667, 1.        , 0.83333333, 0.41666667,\n",
              "       1.        , 0.58333333, 1.        , 0.83333333, 1.        ,\n",
              "       0.91666667, 0.58333333, 0.83333333, 1.        , 1.        ])"
            ]
          },
          "metadata": {},
          "execution_count": 42
        }
      ]
    },
    {
      "cell_type": "code",
      "source": [
        "from sklearn.metrics import roc_curve, roc_auc_score"
      ],
      "metadata": {
        "id": "nfIPAw5IZPr1"
      },
      "execution_count": 43,
      "outputs": []
    },
    {
      "cell_type": "code",
      "source": [
        "fpr,tpr,thresholds = roc_curve(y_test,y_prob)"
      ],
      "metadata": {
        "id": "weDC9Fg8bd_v"
      },
      "execution_count": 44,
      "outputs": []
    },
    {
      "cell_type": "code",
      "source": [
        "fpr,tpr,thresholds"
      ],
      "metadata": {
        "colab": {
          "base_uri": "https://localhost:8080/"
        },
        "id": "uYWatlv4qvNu",
        "outputId": "b85dfba5-7e11-4c19-edd2-ee020187796a"
      },
      "execution_count": 45,
      "outputs": [
        {
          "output_type": "execute_result",
          "data": {
            "text/plain": [
              "(array([0.        , 0.29166667, 0.54166667, 0.6875    , 0.79166667,\n",
              "        0.875     , 0.9375    , 0.95833333, 0.97916667, 1.        ,\n",
              "        1.        ]),\n",
              " array([0.        , 0.26515152, 0.40909091, 0.54545455, 0.68181818,\n",
              "        0.83333333, 0.90909091, 0.93181818, 0.96212121, 0.97727273,\n",
              "        1.        ]),\n",
              " array([2.        , 1.        , 0.91666667, 0.83333333, 0.75      ,\n",
              "        0.66666667, 0.58333333, 0.5       , 0.41666667, 0.33333333,\n",
              "        0.08333333]))"
            ]
          },
          "metadata": {},
          "execution_count": 45
        }
      ]
    },
    {
      "cell_type": "code",
      "source": [
        "df = auc = roc_auc_score(y_test,y_pred)"
      ],
      "metadata": {
        "id": "TmXWDwkKodTF"
      },
      "execution_count": 46,
      "outputs": []
    },
    {
      "cell_type": "code",
      "source": [
        "auc"
      ],
      "metadata": {
        "colab": {
          "base_uri": "https://localhost:8080/"
        },
        "id": "kA7kF-Dbpt7I",
        "outputId": "4c497cc7-54f6-426d-a6f8-ec9b8d51e78f"
      },
      "execution_count": 47,
      "outputs": [
        {
          "output_type": "execute_result",
          "data": {
            "text/plain": [
              "0.4857954545454546"
            ]
          },
          "metadata": {},
          "execution_count": 47
        }
      ]
    },
    {
      "cell_type": "code",
      "source": [
        "plt.plot(fpr,tpr,color='red')\n",
        "plt.plot([0,1],[0,1],'k--')"
      ],
      "metadata": {
        "colab": {
          "base_uri": "https://localhost:8080/",
          "height": 283
        },
        "id": "ue14hGg6pQOI",
        "outputId": "8904ef77-1140-449c-9c11-915b7e35e9a3"
      },
      "execution_count": 48,
      "outputs": [
        {
          "output_type": "execute_result",
          "data": {
            "text/plain": [
              "[<matplotlib.lines.Line2D at 0x7f63f48952d0>]"
            ]
          },
          "metadata": {},
          "execution_count": 48
        },
        {
          "output_type": "display_data",
          "data": {
            "text/plain": [
              "<Figure size 432x288 with 1 Axes>"
            ],
            "image/png": "[encoded data removed]"
          },
          "metadata": {
            "needs_background": "light"
          }
        }
      ]
    },
    {
      "cell_type": "code",
      "source": [
        "from sklearn.preprocessing import normalize"
      ],
      "metadata": {
        "id": "WhecfYPhpmWE"
      },
      "execution_count": 49,
      "outputs": []
    },
    {
      "cell_type": "code",
      "source": [
        "def norm_func(i):\n",
        "    x = (i-i.min())/(i.max()-i.min())\n",
        "    return (x)"
      ],
      "metadata": {
        "id": "3dCy7GSxrPX_"
      },
      "execution_count": 54,
      "outputs": []
    },
    {
      "cell_type": "code",
      "source": [
        "df_norm = norm_func(data.iloc[:,1:])\n",
        "df_norm.tail(10)"
      ],
      "metadata": {
        "colab": {
          "base_uri": "https://localhost:8080/",
          "height": 427
        },
        "id": "aU4bkWQBrhvS",
        "outputId": "e6ca530d-9d48-4efd-cf5a-5e4de0934301"
      },
      "execution_count": 55,
      "outputs": [
        {
          "output_type": "execute_result",
          "data": {
            "text/plain": [
              "     City.Population  Work.Experience  Undergrad_YES  Urban_YES  \\\n",
              "590         0.341473         0.466667            0.0        1.0   \n",
              "591         0.615406         0.600000            1.0        1.0   \n",
              "592         0.283703         0.533333            1.0        0.0   \n",
              "593         0.610256         0.333333            0.0        1.0   \n",
              "594         0.412341         0.300000            0.0        1.0   \n",
              "595         0.078811         0.233333            1.0        1.0   \n",
              "596         0.170058         0.066667            1.0        1.0   \n",
              "597         0.737240         0.000000            0.0        1.0   \n",
              "598         0.886810         0.566667            1.0        0.0   \n",
              "599         0.760683         0.533333            0.0        0.0   \n",
              "\n",
              "     Marital.Status_Divorced  Marital.Status_Married  Marital.Status_Single  \\\n",
              "590                      0.0                     1.0                    0.0   \n",
              "591                      0.0                     0.0                    1.0   \n",
              "592                      0.0                     0.0                    1.0   \n",
              "593                      1.0                     0.0                    0.0   \n",
              "594                      0.0                     1.0                    0.0   \n",
              "595                      1.0                     0.0                    0.0   \n",
              "596                      1.0                     0.0                    0.0   \n",
              "597                      1.0                     0.0                    0.0   \n",
              "598                      0.0                     1.0                    0.0   \n",
              "599                      1.0                     0.0                    0.0   \n",
              "\n",
              "     Tax_inc_Good  \n",
              "590           1.0  \n",
              "591           0.0  \n",
              "592           1.0  \n",
              "593           1.0  \n",
              "594           1.0  \n",
              "595           1.0  \n",
              "596           1.0  \n",
              "597           1.0  \n",
              "598           1.0  \n",
              "599           1.0  "
            ],
            "text/html": [
              "\n",
              "  <div id=\"df-094bdd18-3487-4e7f-a476-41248f0c6f8b\">\n",
              "    <div class=\"colab-df-container\">\n",
              "      <div>\n",
              "<style scoped>\n",
              "    .dataframe tbody tr th:only-of-type {\n",
              "        vertical-align: middle;\n",
              "    }\n",
              "\n",
              "    .dataframe tbody tr th {\n",
              "        vertical-align: top;\n",
              "    }\n",
              "\n",
              "    .dataframe thead th {\n",
              "        text-align: right;\n",
              "    }\n",
              "</style>\n",
              "<table border=\"1\" class=\"dataframe\">\n",
              "  <thead>\n",
              "    <tr style=\"text-align: right;\">\n",
              "      <th></th>\n",
              "      <th>City.Population</th>\n",
              "      <th>Work.Experience</th>\n",
              "      <th>Undergrad_YES</th>\n",
              "      <th>Urban_YES</th>\n",
              "      <th>Marital.Status_Divorced</th>\n",
              "      <th>Marital.Status_Married</th>\n",
              "      <th>Marital.Status_Single</th>\n",
              "      <th>Tax_inc_Good</th>\n",
              "    </tr>\n",
              "  </thead>\n",
              "  <tbody>\n",
              "    <tr>\n",
              "      <th>590</th>\n",
              "      <td>0.341473</td>\n",
              "      <td>0.466667</td>\n",
              "      <td>0.0</td>\n",
              "      <td>1.0</td>\n",
              "      <td>0.0</td>\n",
              "      <td>1.0</td>\n",
              "      <td>0.0</td>\n",
              "      <td>1.0</td>\n",
              "    </tr>\n",
              "    <tr>\n",
              "      <th>591</th>\n",
              "      <td>0.615406</td>\n",
              "      <td>0.600000</td>\n",
              "      <td>1.0</td>\n",
              "      <td>1.0</td>\n",
              "      <td>0.0</td>\n",
              "      <td>0.0</td>\n",
              "      <td>1.0</td>\n",
              "      <td>0.0</td>\n",
              "    </tr>\n",
              "    <tr>\n",
              "      <th>592</th>\n",
              "      <td>0.283703</td>\n",
              "      <td>0.533333</td>\n",
              "      <td>1.0</td>\n",
              "      <td>0.0</td>\n",
              "      <td>0.0</td>\n",
              "      <td>0.0</td>\n",
              "      <td>1.0</td>\n",
              "      <td>1.0</td>\n",
              "    </tr>\n",
              "    <tr>\n",
              "      <th>593</th>\n",
              "      <td>0.610256</td>\n",
              "      <td>0.333333</td>\n",
              "      <td>0.0</td>\n",
              "      <td>1.0</td>\n",
              "      <td>1.0</td>\n",
              "      <td>0.0</td>\n",
              "      <td>0.0</td>\n",
              "      <td>1.0</td>\n",
              "    </tr>\n",
              "    <tr>\n",
              "      <th>594</th>\n",
              "      <td>0.412341</td>\n",
              "      <td>0.300000</td>\n",
              "      <td>0.0</td>\n",
              "      <td>1.0</td>\n",
              "      <td>0.0</td>\n",
              "      <td>1.0</td>\n",
              "      <td>0.0</td>\n",
              "      <td>1.0</td>\n",
              "    </tr>\n",
              "    <tr>\n",
              "      <th>595</th>\n",
              "      <td>0.078811</td>\n",
              "      <td>0.233333</td>\n",
              "      <td>1.0</td>\n",
              "      <td>1.0</td>\n",
              "      <td>1.0</td>\n",
              "      <td>0.0</td>\n",
              "      <td>0.0</td>\n",
              "      <td>1.0</td>\n",
              "    </tr>\n",
              "    <tr>\n",
              "      <th>596</th>\n",
              "      <td>0.170058</td>\n",
              "      <td>0.066667</td>\n",
              "      <td>1.0</td>\n",
              "      <td>1.0</td>\n",
              "      <td>1.0</td>\n",
              "      <td>0.0</td>\n",
              "      <td>0.0</td>\n",
              "      <td>1.0</td>\n",
              "    </tr>\n",
              "    <tr>\n",
              "      <th>597</th>\n",
              "      <td>0.737240</td>\n",
              "      <td>0.000000</td>\n",
              "      <td>0.0</td>\n",
              "      <td>1.0</td>\n",
              "      <td>1.0</td>\n",
              "      <td>0.0</td>\n",
              "      <td>0.0</td>\n",
              "      <td>1.0</td>\n",
              "    </tr>\n",
              "    <tr>\n",
              "      <th>598</th>\n",
              "      <td>0.886810</td>\n",
              "      <td>0.566667</td>\n",
              "      <td>1.0</td>\n",
              "      <td>0.0</td>\n",
              "      <td>0.0</td>\n",
              "      <td>1.0</td>\n",
              "      <td>0.0</td>\n",
              "      <td>1.0</td>\n",
              "    </tr>\n",
              "    <tr>\n",
              "      <th>599</th>\n",
              "      <td>0.760683</td>\n",
              "      <td>0.533333</td>\n",
              "      <td>0.0</td>\n",
              "      <td>0.0</td>\n",
              "      <td>1.0</td>\n",
              "      <td>0.0</td>\n",
              "      <td>0.0</td>\n",
              "      <td>1.0</td>\n",
              "    </tr>\n",
              "  </tbody>\n",
              "</table>\n",
              "</div>\n",
              "      <button class=\"colab-df-convert\" onclick=\"convertToInteractive('df-094bdd18-3487-4e7f-a476-41248f0c6f8b')\"\n",
              "              title=\"Convert this dataframe to an interactive table.\"\n",
              "              style=\"display:none;\">\n",
              "        \n",
              "  <svg xmlns=\"http://www.w3.org/2000/svg\" height=\"24px\"viewBox=\"0 0 24 24\"\n",
              "       width=\"24px\">\n",
              "    <path d=\"M0 0h24v24H0V0z\" fill=\"none\"/>\n",
              "    <path d=\"M18.56 5.44l.94 2.06.94-2.06 2.06-.94-2.06-.94-.94-2.06-.94 2.06-2.06.94zm-11 1L8.5 8.5l.94-2.06 2.06-.94-2.06-.94L8.5 2.5l-.94 2.06-2.06.94zm10 10l.94 2.06.94-2.06 2.06-.94-2.06-.94-.94-2.06-.94 2.06-2.06.94z\"/><path d=\"M17.41 7.96l-1.37-1.37c-.4-.4-.92-.59-1.43-.59-.52 0-1.04.2-1.43.59L10.3 9.45l-7.72 7.72c-.78.78-.78 2.05 0 2.83L4 21.41c.39.39.9.59 1.41.59.51 0 1.02-.2 1.41-.59l7.78-7.78 2.81-2.81c.8-.78.8-2.07 0-2.86zM5.41 20L4 18.59l7.72-7.72 1.47 1.35L5.41 20z\"/>\n",
              "  </svg>\n",
              "      </button>\n",
              "      \n",
              "  <style>\n",
              "    .colab-df-container {\n",
              "      display:flex;\n",
              "      flex-wrap:wrap;\n",
              "      gap: 12px;\n",
              "    }\n",
              "\n",
              "    .colab-df-convert {\n",
              "      background-color: #E8F0FE;\n",
              "      border: none;\n",
              "      border-radius: 50%;\n",
              "      cursor: pointer;\n",
              "      display: none;\n",
              "      fill: #1967D2;\n",
              "      height: 32px;\n",
              "      padding: 0 0 0 0;\n",
              "      width: 32px;\n",
              "    }\n",
              "\n",
              "    .colab-df-convert:hover {\n",
              "      background-color: #E2EBFA;\n",
              "      box-shadow: 0px 1px 2px rgba(60, 64, 67, 0.3), 0px 1px 3px 1px rgba(60, 64, 67, 0.15);\n",
              "      fill: #174EA6;\n",
              "    }\n",
              "\n",
              "    [theme=dark] .colab-df-convert {\n",
              "      background-color: #3B4455;\n",
              "      fill: #D2E3FC;\n",
              "    }\n",
              "\n",
              "    [theme=dark] .colab-df-convert:hover {\n",
              "      background-color: #434B5C;\n",
              "      box-shadow: 0px 1px 3px 1px rgba(0, 0, 0, 0.15);\n",
              "      filter: drop-shadow(0px 1px 2px rgba(0, 0, 0, 0.3));\n",
              "      fill: #FFFFFF;\n",
              "    }\n",
              "  </style>\n",
              "\n",
              "      <script>\n",
              "        const buttonEl =\n",
              "          document.querySelector('#df-094bdd18-3487-4e7f-a476-41248f0c6f8b button.colab-df-convert');\n",
              "        buttonEl.style.display =\n",
              "          google.colab.kernel.accessAllowed ? 'block' : 'none';\n",
              "\n",
              "        async function convertToInteractive(key) {\n",
              "          const element = document.querySelector('#df-094bdd18-3487-4e7f-a476-41248f0c6f8b');\n",
              "          const dataTable =\n",
              "            await google.colab.kernel.invokeFunction('convertToInteractive',\n",
              "                                                     [key], {});\n",
              "          if (!dataTable) return;\n",
              "\n",
              "          const docLinkHtml = 'Like what you see? Visit the ' +\n",
              "            '<a target=\"_blank\" href=https://colab.research.google.com/notebooks/data_table.ipynb>data table notebook</a>'\n",
              "            + ' to learn more about interactive tables.';\n",
              "          element.innerHTML = '';\n",
              "          dataTable['output_type'] = 'display_data';\n",
              "          await google.colab.output.renderOutput(dataTable, element);\n",
              "          const docLink = document.createElement('div');\n",
              "          docLink.innerHTML = docLinkHtml;\n",
              "          element.appendChild(docLink);\n",
              "        }\n",
              "      </script>\n",
              "    </div>\n",
              "  </div>\n",
              "  "
            ]
          },
          "metadata": {},
          "execution_count": 55
        }
      ]
    },
    {
      "cell_type": "code",
      "source": [
        "x1 = data.iloc[:,1:8]\n",
        "y1 = data.iloc[:,8]"
      ],
      "metadata": {
        "id": "SJEtbFkarlRE"
      },
      "execution_count": 56,
      "outputs": []
    },
    {
      "cell_type": "code",
      "source": [
        "x1_train,x1_test,y1_train,y1_test = train_test_split(x1,y1,test_size=.3,random_state=6)"
      ],
      "metadata": {
        "id": "3DKKjyaerxhA"
      },
      "execution_count": 57,
      "outputs": []
    },
    {
      "cell_type": "code",
      "source": [
        "mod = RF(n_estimators=12,criterion='entropy',oob_score=True)"
      ],
      "metadata": {
        "id": "_2FNM_-dr5WC"
      },
      "execution_count": 58,
      "outputs": []
    },
    {
      "cell_type": "code",
      "source": [
        "mod.fit(x1_train,y1_train)"
      ],
      "metadata": {
        "colab": {
          "base_uri": "https://localhost:8080/"
        },
        "id": "WPfAIKlJsC6Y",
        "outputId": "54d5ce30-e40b-45a5-9b3c-1909f826f3d8"
      },
      "execution_count": 59,
      "outputs": [
        {
          "output_type": "stream",
          "name": "stderr",
          "text": [
            "/usr/local/lib/python3.7/dist-packages/sklearn/ensemble/_forest.py:564: UserWarning: Some inputs do not have OOB scores. This probably means too few trees were used to compute any reliable OOB estimates.\n",
            "  UserWarning,\n"
          ]
        },
        {
          "output_type": "execute_result",
          "data": {
            "text/plain": [
              "RandomForestClassifier(criterion='entropy', n_estimators=12, oob_score=True)"
            ]
          },
          "metadata": {},
          "execution_count": 59
        }
      ]
    },
    {
      "cell_type": "code",
      "source": [
        "y1_pred = mod.predict(x1_test)"
      ],
      "metadata": {
        "id": "l8RkyRT2sIxy"
      },
      "execution_count": 60,
      "outputs": []
    },
    {
      "cell_type": "code",
      "source": [
        "np.mean(y1_test==y1_pred)"
      ],
      "metadata": {
        "colab": {
          "base_uri": "https://localhost:8080/"
        },
        "id": "3QE9IXqPsPDP",
        "outputId": "938bf1cf-2c5c-4559-ab39-119b8ab0e842"
      },
      "execution_count": 61,
      "outputs": [
        {
          "output_type": "execute_result",
          "data": {
            "text/plain": [
              "0.6722222222222223"
            ]
          },
          "metadata": {},
          "execution_count": 61
        }
      ]
    },
    {
      "cell_type": "code",
      "source": [
        "y1_prob = mod.predict_proba(x1_test)[:,1]"
      ],
      "metadata": {
        "id": "f3RJ4x1OsZ5v"
      },
      "execution_count": 62,
      "outputs": []
    },
    {
      "cell_type": "code",
      "source": [
        "fpr,tpr,thresholds = roc_curve(y1_test,y1_prob)\n",
        "plt.plot(fpr,tpr,color='red')\n",
        "plt.plot([0,1],[0,1],'k--')\n"
      ],
      "metadata": {
        "colab": {
          "base_uri": "https://localhost:8080/",
          "height": 283
        },
        "id": "yL71ddWlsTjS",
        "outputId": "6d1e060c-0531-461d-f126-023312c6acd3"
      },
      "execution_count": 63,
      "outputs": [
        {
          "output_type": "execute_result",
          "data": {
            "text/plain": [
              "[<matplotlib.lines.Line2D at 0x7f63f0f45dd0>]"
            ]
          },
          "metadata": {},
          "execution_count": 63
        },
        {
          "output_type": "display_data",
          "data": {
            "text/plain": [
              "<Figure size 432x288 with 1 Axes>"
            ],
            "image/png": "[encoded data removed]"
          },
          "metadata": {
            "needs_background": "light"
          }
        }
      ]
    },
    {
      "cell_type": "code",
      "source": [
        "auc = roc_auc_score(y1_test,y1_pred)"
      ],
      "metadata": {
        "id": "lvt6AfLEstWf"
      },
      "execution_count": 64,
      "outputs": []
    },
    {
      "cell_type": "code",
      "source": [
        "auc"
      ],
      "metadata": {
        "colab": {
          "base_uri": "https://localhost:8080/"
        },
        "id": "zU8XT2vts0IP",
        "outputId": "5be9eaf1-1af8-43ae-cc68-78d78d4e62ea"
      },
      "execution_count": 65,
      "outputs": [
        {
          "output_type": "execute_result",
          "data": {
            "text/plain": [
              "0.47159090909090906"
            ]
          },
          "metadata": {},
          "execution_count": 65
        }
      ]
    },
    {
      "cell_type": "code",
      "source": [
        ""
      ],
      "metadata": {
        "id": "RgdhwAEAs04g"
      },
      "execution_count": null,
      "outputs": []
    }
  ]
}