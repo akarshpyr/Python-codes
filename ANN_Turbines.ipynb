{
  "nbformat": 4,
  "nbformat_minor": 0,
  "metadata": {
    "colab": {
      "name": "Untitled55.ipynb",
      "provenance": [],
      "collapsed_sections": [],
      "authorship_tag": "ABX9TyOkhCRbi53uo7wx3B7U1MnL",
      "include_colab_link": true
    },
    "kernelspec": {
      "name": "python3",
      "display_name": "Python 3"
    },
    "language_info": {
      "name": "python"
    }
  },
  "cells": [
    {
      "cell_type": "markdown",
      "metadata": {
        "id": "view-in-github",
        "colab_type": "text"
      },
      "source": [
        "<a href=\"https://colab.research.google.com/github/akarshpyr/Python-codes/blob/main/ANN_Turbines.ipynb\" target=\"_parent\"><img src=\"https://colab.research.google.com/assets/colab-badge.svg\" alt=\"Open In Colab\"/></a>"
      ]
    },
    {
      "cell_type": "code",
      "execution_count": 2,
      "metadata": {
        "id": "k7CUCtLloHBc"
      },
      "outputs": [],
      "source": [
        "import pandas as pd\n",
        "import numpy as np\n",
        "import seaborn as sns\n",
        "import matplotlib.pyplot as plt\n"
      ]
    },
    {
      "cell_type": "code",
      "source": [
        "df = pd.read_csv('/content/gas_turbines (1).csv')"
      ],
      "metadata": {
        "id": "-GEpXtU36bF9"
      },
      "execution_count": 3,
      "outputs": []
    },
    {
      "cell_type": "code",
      "source": [
        "df"
      ],
      "metadata": {
        "colab": {
          "base_uri": "https://localhost:8080/",
          "height": 423
        },
        "id": "biW3tHIx6qfH",
        "outputId": "59f6ba94-6aa4-425b-f589-c5ac7262ec72"
      },
      "execution_count": 4,
      "outputs": [
        {
          "output_type": "execute_result",
          "data": {
            "text/plain": [
              "           AT      AP      AH    AFDP    GTEP     TIT     TAT     TEY     CDP  \\\n",
              "0      6.8594  1007.9  96.799  3.5000  19.663  1059.2  550.00  114.70  10.605   \n",
              "1      6.7850  1008.4  97.118  3.4998  19.728  1059.3  550.00  114.72  10.598   \n",
              "2      6.8977  1008.8  95.939  3.4824  19.779  1059.4  549.87  114.71  10.601   \n",
              "3      7.0569  1009.2  95.249  3.4805  19.792  1059.6  549.99  114.72  10.606   \n",
              "4      7.3978  1009.7  95.150  3.4976  19.765  1059.7  549.98  114.72  10.612   \n",
              "...       ...     ...     ...     ...     ...     ...     ...     ...     ...   \n",
              "15034  9.0301  1005.6  98.460  3.5421  19.164  1049.7  546.21  111.61  10.400   \n",
              "15035  7.8879  1005.9  99.093  3.5059  19.414  1046.3  543.22  111.78  10.433   \n",
              "15036  7.2647  1006.3  99.496  3.4770  19.530  1037.7  537.32  110.19  10.483   \n",
              "15037  7.0060  1006.8  99.008  3.4486  19.377  1043.2  541.24  110.74  10.533   \n",
              "15038  6.9279  1007.2  97.533  3.4275  19.306  1049.9  545.85  111.58  10.583   \n",
              "\n",
              "           CO     NOX  \n",
              "0      3.1547  82.722  \n",
              "1      3.2363  82.776  \n",
              "2      3.2012  82.468  \n",
              "3      3.1923  82.670  \n",
              "4      3.2484  82.311  \n",
              "...       ...     ...  \n",
              "15034  4.5186  79.559  \n",
              "15035  4.8470  79.917  \n",
              "15036  7.9632  90.912  \n",
              "15037  6.2494  93.227  \n",
              "15038  4.9816  92.498  \n",
              "\n",
              "[15039 rows x 11 columns]"
            ],
            "text/html": [
              "\n",
              "  <div id=\"df-ebc2a9b3-ad5c-433f-b122-64d529760fae\">\n",
              "    <div class=\"colab-df-container\">\n",
              "      <div>\n",
              "<style scoped>\n",
              "    .dataframe tbody tr th:only-of-type {\n",
              "        vertical-align: middle;\n",
              "    }\n",
              "\n",
              "    .dataframe tbody tr th {\n",
              "        vertical-align: top;\n",
              "    }\n",
              "\n",
              "    .dataframe thead th {\n",
              "        text-align: right;\n",
              "    }\n",
              "</style>\n",
              "<table border=\"1\" class=\"dataframe\">\n",
              "  <thead>\n",
              "    <tr style=\"text-align: right;\">\n",
              "      <th></th>\n",
              "      <th>AT</th>\n",
              "      <th>AP</th>\n",
              "      <th>AH</th>\n",
              "      <th>AFDP</th>\n",
              "      <th>GTEP</th>\n",
              "      <th>TIT</th>\n",
              "      <th>TAT</th>\n",
              "      <th>TEY</th>\n",
              "      <th>CDP</th>\n",
              "      <th>CO</th>\n",
              "      <th>NOX</th>\n",
              "    </tr>\n",
              "  </thead>\n",
              "  <tbody>\n",
              "    <tr>\n",
              "      <th>0</th>\n",
              "      <td>6.8594</td>\n",
              "      <td>1007.9</td>\n",
              "      <td>96.799</td>\n",
              "      <td>3.5000</td>\n",
              "      <td>19.663</td>\n",
              "      <td>1059.2</td>\n",
              "      <td>550.00</td>\n",
              "      <td>114.70</td>\n",
              "      <td>10.605</td>\n",
              "      <td>3.1547</td>\n",
              "      <td>82.722</td>\n",
              "    </tr>\n",
              "    <tr>\n",
              "      <th>1</th>\n",
              "      <td>6.7850</td>\n",
              "      <td>1008.4</td>\n",
              "      <td>97.118</td>\n",
              "      <td>3.4998</td>\n",
              "      <td>19.728</td>\n",
              "      <td>1059.3</td>\n",
              "      <td>550.00</td>\n",
              "      <td>114.72</td>\n",
              "      <td>10.598</td>\n",
              "      <td>3.2363</td>\n",
              "      <td>82.776</td>\n",
              "    </tr>\n",
              "    <tr>\n",
              "      <th>2</th>\n",
              "      <td>6.8977</td>\n",
              "      <td>1008.8</td>\n",
              "      <td>95.939</td>\n",
              "      <td>3.4824</td>\n",
              "      <td>19.779</td>\n",
              "      <td>1059.4</td>\n",
              "      <td>549.87</td>\n",
              "      <td>114.71</td>\n",
              "      <td>10.601</td>\n",
              "      <td>3.2012</td>\n",
              "      <td>82.468</td>\n",
              "    </tr>\n",
              "    <tr>\n",
              "      <th>3</th>\n",
              "      <td>7.0569</td>\n",
              "      <td>1009.2</td>\n",
              "      <td>95.249</td>\n",
              "      <td>3.4805</td>\n",
              "      <td>19.792</td>\n",
              "      <td>1059.6</td>\n",
              "      <td>549.99</td>\n",
              "      <td>114.72</td>\n",
              "      <td>10.606</td>\n",
              "      <td>3.1923</td>\n",
              "      <td>82.670</td>\n",
              "    </tr>\n",
              "    <tr>\n",
              "      <th>4</th>\n",
              "      <td>7.3978</td>\n",
              "      <td>1009.7</td>\n",
              "      <td>95.150</td>\n",
              "      <td>3.4976</td>\n",
              "      <td>19.765</td>\n",
              "      <td>1059.7</td>\n",
              "      <td>549.98</td>\n",
              "      <td>114.72</td>\n",
              "      <td>10.612</td>\n",
              "      <td>3.2484</td>\n",
              "      <td>82.311</td>\n",
              "    </tr>\n",
              "    <tr>\n",
              "      <th>...</th>\n",
              "      <td>...</td>\n",
              "      <td>...</td>\n",
              "      <td>...</td>\n",
              "      <td>...</td>\n",
              "      <td>...</td>\n",
              "      <td>...</td>\n",
              "      <td>...</td>\n",
              "      <td>...</td>\n",
              "      <td>...</td>\n",
              "      <td>...</td>\n",
              "      <td>...</td>\n",
              "    </tr>\n",
              "    <tr>\n",
              "      <th>15034</th>\n",
              "      <td>9.0301</td>\n",
              "      <td>1005.6</td>\n",
              "      <td>98.460</td>\n",
              "      <td>3.5421</td>\n",
              "      <td>19.164</td>\n",
              "      <td>1049.7</td>\n",
              "      <td>546.21</td>\n",
              "      <td>111.61</td>\n",
              "      <td>10.400</td>\n",
              "      <td>4.5186</td>\n",
              "      <td>79.559</td>\n",
              "    </tr>\n",
              "    <tr>\n",
              "      <th>15035</th>\n",
              "      <td>7.8879</td>\n",
              "      <td>1005.9</td>\n",
              "      <td>99.093</td>\n",
              "      <td>3.5059</td>\n",
              "      <td>19.414</td>\n",
              "      <td>1046.3</td>\n",
              "      <td>543.22</td>\n",
              "      <td>111.78</td>\n",
              "      <td>10.433</td>\n",
              "      <td>4.8470</td>\n",
              "      <td>79.917</td>\n",
              "    </tr>\n",
              "    <tr>\n",
              "      <th>15036</th>\n",
              "      <td>7.2647</td>\n",
              "      <td>1006.3</td>\n",
              "      <td>99.496</td>\n",
              "      <td>3.4770</td>\n",
              "      <td>19.530</td>\n",
              "      <td>1037.7</td>\n",
              "      <td>537.32</td>\n",
              "      <td>110.19</td>\n",
              "      <td>10.483</td>\n",
              "      <td>7.9632</td>\n",
              "      <td>90.912</td>\n",
              "    </tr>\n",
              "    <tr>\n",
              "      <th>15037</th>\n",
              "      <td>7.0060</td>\n",
              "      <td>1006.8</td>\n",
              "      <td>99.008</td>\n",
              "      <td>3.4486</td>\n",
              "      <td>19.377</td>\n",
              "      <td>1043.2</td>\n",
              "      <td>541.24</td>\n",
              "      <td>110.74</td>\n",
              "      <td>10.533</td>\n",
              "      <td>6.2494</td>\n",
              "      <td>93.227</td>\n",
              "    </tr>\n",
              "    <tr>\n",
              "      <th>15038</th>\n",
              "      <td>6.9279</td>\n",
              "      <td>1007.2</td>\n",
              "      <td>97.533</td>\n",
              "      <td>3.4275</td>\n",
              "      <td>19.306</td>\n",
              "      <td>1049.9</td>\n",
              "      <td>545.85</td>\n",
              "      <td>111.58</td>\n",
              "      <td>10.583</td>\n",
              "      <td>4.9816</td>\n",
              "      <td>92.498</td>\n",
              "    </tr>\n",
              "  </tbody>\n",
              "</table>\n",
              "<p>15039 rows × 11 columns</p>\n",
              "</div>\n",
              "      <button class=\"colab-df-convert\" onclick=\"convertToInteractive('df-ebc2a9b3-ad5c-433f-b122-64d529760fae')\"\n",
              "              title=\"Convert this dataframe to an interactive table.\"\n",
              "              style=\"display:none;\">\n",
              "        \n",
              "  <svg xmlns=\"http://www.w3.org/2000/svg\" height=\"24px\"viewBox=\"0 0 24 24\"\n",
              "       width=\"24px\">\n",
              "    <path d=\"M0 0h24v24H0V0z\" fill=\"none\"/>\n",
              "    <path d=\"M18.56 5.44l.94 2.06.94-2.06 2.06-.94-2.06-.94-.94-2.06-.94 2.06-2.06.94zm-11 1L8.5 8.5l.94-2.06 2.06-.94-2.06-.94L8.5 2.5l-.94 2.06-2.06.94zm10 10l.94 2.06.94-2.06 2.06-.94-2.06-.94-.94-2.06-.94 2.06-2.06.94z\"/><path d=\"M17.41 7.96l-1.37-1.37c-.4-.4-.92-.59-1.43-.59-.52 0-1.04.2-1.43.59L10.3 9.45l-7.72 7.72c-.78.78-.78 2.05 0 2.83L4 21.41c.39.39.9.59 1.41.59.51 0 1.02-.2 1.41-.59l7.78-7.78 2.81-2.81c.8-.78.8-2.07 0-2.86zM5.41 20L4 18.59l7.72-7.72 1.47 1.35L5.41 20z\"/>\n",
              "  </svg>\n",
              "      </button>\n",
              "      \n",
              "  <style>\n",
              "    .colab-df-container {\n",
              "      display:flex;\n",
              "      flex-wrap:wrap;\n",
              "      gap: 12px;\n",
              "    }\n",
              "\n",
              "    .colab-df-convert {\n",
              "      background-color: #E8F0FE;\n",
              "      border: none;\n",
              "      border-radius: 50%;\n",
              "      cursor: pointer;\n",
              "      display: none;\n",
              "      fill: #1967D2;\n",
              "      height: 32px;\n",
              "      padding: 0 0 0 0;\n",
              "      width: 32px;\n",
              "    }\n",
              "\n",
              "    .colab-df-convert:hover {\n",
              "      background-color: #E2EBFA;\n",
              "      box-shadow: 0px 1px 2px rgba(60, 64, 67, 0.3), 0px 1px 3px 1px rgba(60, 64, 67, 0.15);\n",
              "      fill: #174EA6;\n",
              "    }\n",
              "\n",
              "    [theme=dark] .colab-df-convert {\n",
              "      background-color: #3B4455;\n",
              "      fill: #D2E3FC;\n",
              "    }\n",
              "\n",
              "    [theme=dark] .colab-df-convert:hover {\n",
              "      background-color: #434B5C;\n",
              "      box-shadow: 0px 1px 3px 1px rgba(0, 0, 0, 0.15);\n",
              "      filter: drop-shadow(0px 1px 2px rgba(0, 0, 0, 0.3));\n",
              "      fill: #FFFFFF;\n",
              "    }\n",
              "  </style>\n",
              "\n",
              "      <script>\n",
              "        const buttonEl =\n",
              "          document.querySelector('#df-ebc2a9b3-ad5c-433f-b122-64d529760fae button.colab-df-convert');\n",
              "        buttonEl.style.display =\n",
              "          google.colab.kernel.accessAllowed ? 'block' : 'none';\n",
              "\n",
              "        async function convertToInteractive(key) {\n",
              "          const element = document.querySelector('#df-ebc2a9b3-ad5c-433f-b122-64d529760fae');\n",
              "          const dataTable =\n",
              "            await google.colab.kernel.invokeFunction('convertToInteractive',\n",
              "                                                     [key], {});\n",
              "          if (!dataTable) return;\n",
              "\n",
              "          const docLinkHtml = 'Like what you see? Visit the ' +\n",
              "            '<a target=\"_blank\" href=https://colab.research.google.com/notebooks/data_table.ipynb>data table notebook</a>'\n",
              "            + ' to learn more about interactive tables.';\n",
              "          element.innerHTML = '';\n",
              "          dataTable['output_type'] = 'display_data';\n",
              "          await google.colab.output.renderOutput(dataTable, element);\n",
              "          const docLink = document.createElement('div');\n",
              "          docLink.innerHTML = docLinkHtml;\n",
              "          element.appendChild(docLink);\n",
              "        }\n",
              "      </script>\n",
              "    </div>\n",
              "  </div>\n",
              "  "
            ]
          },
          "metadata": {},
          "execution_count": 4
        }
      ]
    },
    {
      "cell_type": "code",
      "source": [
        "df.info()"
      ],
      "metadata": {
        "colab": {
          "base_uri": "https://localhost:8080/"
        },
        "id": "NqCTnxd66rIH",
        "outputId": "7f11b647-64b3-42ec-f2fb-2e52008b859a"
      },
      "execution_count": 5,
      "outputs": [
        {
          "output_type": "stream",
          "name": "stdout",
          "text": [
            "<class 'pandas.core.frame.DataFrame'>\n",
            "RangeIndex: 15039 entries, 0 to 15038\n",
            "Data columns (total 11 columns):\n",
            " #   Column  Non-Null Count  Dtype  \n",
            "---  ------  --------------  -----  \n",
            " 0   AT      15039 non-null  float64\n",
            " 1   AP      15039 non-null  float64\n",
            " 2   AH      15039 non-null  float64\n",
            " 3   AFDP    15039 non-null  float64\n",
            " 4   GTEP    15039 non-null  float64\n",
            " 5   TIT     15039 non-null  float64\n",
            " 6   TAT     15039 non-null  float64\n",
            " 7   TEY     15039 non-null  float64\n",
            " 8   CDP     15039 non-null  float64\n",
            " 9   CO      15039 non-null  float64\n",
            " 10  NOX     15039 non-null  float64\n",
            "dtypes: float64(11)\n",
            "memory usage: 1.3 MB\n"
          ]
        }
      ]
    },
    {
      "cell_type": "code",
      "source": [
        "df.dtypes"
      ],
      "metadata": {
        "colab": {
          "base_uri": "https://localhost:8080/"
        },
        "id": "HgfYKqaV9XE7",
        "outputId": "f15150e2-f505-4edd-c3ff-77767f43f00b"
      },
      "execution_count": 6,
      "outputs": [
        {
          "output_type": "execute_result",
          "data": {
            "text/plain": [
              "AT      float64\n",
              "AP      float64\n",
              "AH      float64\n",
              "AFDP    float64\n",
              "GTEP    float64\n",
              "TIT     float64\n",
              "TAT     float64\n",
              "TEY     float64\n",
              "CDP     float64\n",
              "CO      float64\n",
              "NOX     float64\n",
              "dtype: object"
            ]
          },
          "metadata": {},
          "execution_count": 6
        }
      ]
    },
    {
      "cell_type": "code",
      "source": [
        "df['TEY'].value_counts()"
      ],
      "metadata": {
        "colab": {
          "base_uri": "https://localhost:8080/"
        },
        "id": "43WjXIKN9alS",
        "outputId": "7c4f07a9-de47-4cac-8d6b-c53d9e3a8f60"
      },
      "execution_count": 7,
      "outputs": [
        {
          "output_type": "execute_result",
          "data": {
            "text/plain": [
              "133.74    150\n",
              "133.78    148\n",
              "133.67    143\n",
              "133.76    142\n",
              "133.79    127\n",
              "         ... \n",
              "126.30      1\n",
              "130.81      1\n",
              "144.89      1\n",
              "121.46      1\n",
              "115.52      1\n",
              "Name: TEY, Length: 4207, dtype: int64"
            ]
          },
          "metadata": {},
          "execution_count": 7
        }
      ]
    },
    {
      "cell_type": "code",
      "source": [
        "df.corr()"
      ],
      "metadata": {
        "colab": {
          "base_uri": "https://localhost:8080/",
          "height": 394
        },
        "id": "9DNIB8_R9sot",
        "outputId": "9bf74d43-23be-460f-b032-b2f6e8702af5"
      },
      "execution_count": 8,
      "outputs": [
        {
          "output_type": "execute_result",
          "data": {
            "text/plain": [
              "            AT        AP        AH      AFDP      GTEP       TIT       TAT  \\\n",
              "AT    1.000000 -0.412953 -0.549432 -0.099333 -0.049103  0.093067  0.338569   \n",
              "AP   -0.412953  1.000000  0.042573  0.040318  0.078575  0.029650 -0.223479   \n",
              "AH   -0.549432  0.042573  1.000000 -0.119249 -0.202784 -0.247781  0.010859   \n",
              "AFDP -0.099333  0.040318 -0.119249  1.000000  0.744251  0.627254 -0.571541   \n",
              "GTEP -0.049103  0.078575 -0.202784  0.744251  1.000000  0.874526 -0.756884   \n",
              "TIT   0.093067  0.029650 -0.247781  0.627254  0.874526  1.000000 -0.357320   \n",
              "TAT   0.338569 -0.223479  0.010859 -0.571541 -0.756884 -0.357320  1.000000   \n",
              "TEY  -0.207495  0.146939 -0.110272  0.717995  0.977042  0.891587 -0.720356   \n",
              "CDP  -0.100705  0.131198 -0.182010  0.727152  0.993784  0.887238 -0.744740   \n",
              "CO   -0.088588  0.041614  0.165505 -0.334207 -0.508259 -0.688272  0.063404   \n",
              "NOX  -0.600006  0.256744  0.143061 -0.037299 -0.208496 -0.231636  0.009888   \n",
              "\n",
              "           TEY       CDP        CO       NOX  \n",
              "AT   -0.207495 -0.100705 -0.088588 -0.600006  \n",
              "AP    0.146939  0.131198  0.041614  0.256744  \n",
              "AH   -0.110272 -0.182010  0.165505  0.143061  \n",
              "AFDP  0.717995  0.727152 -0.334207 -0.037299  \n",
              "GTEP  0.977042  0.993784 -0.508259 -0.208496  \n",
              "TIT   0.891587  0.887238 -0.688272 -0.231636  \n",
              "TAT  -0.720356 -0.744740  0.063404  0.009888  \n",
              "TEY   1.000000  0.988473 -0.541751 -0.102631  \n",
              "CDP   0.988473  1.000000 -0.520783 -0.169103  \n",
              "CO   -0.541751 -0.520783  1.000000  0.316743  \n",
              "NOX  -0.102631 -0.169103  0.316743  1.000000  "
            ],
            "text/html": [
              "\n",
              "  <div id=\"df-9e46ce43-fe17-4d1f-84a7-9e35618989ab\">\n",
              "    <div class=\"colab-df-container\">\n",
              "      <div>\n",
              "<style scoped>\n",
              "    .dataframe tbody tr th:only-of-type {\n",
              "        vertical-align: middle;\n",
              "    }\n",
              "\n",
              "    .dataframe tbody tr th {\n",
              "        vertical-align: top;\n",
              "    }\n",
              "\n",
              "    .dataframe thead th {\n",
              "        text-align: right;\n",
              "    }\n",
              "</style>\n",
              "<table border=\"1\" class=\"dataframe\">\n",
              "  <thead>\n",
              "    <tr style=\"text-align: right;\">\n",
              "      <th></th>\n",
              "      <th>AT</th>\n",
              "      <th>AP</th>\n",
              "      <th>AH</th>\n",
              "      <th>AFDP</th>\n",
              "      <th>GTEP</th>\n",
              "      <th>TIT</th>\n",
              "      <th>TAT</th>\n",
              "      <th>TEY</th>\n",
              "      <th>CDP</th>\n",
              "      <th>CO</th>\n",
              "      <th>NOX</th>\n",
              "    </tr>\n",
              "  </thead>\n",
              "  <tbody>\n",
              "    <tr>\n",
              "      <th>AT</th>\n",
              "      <td>1.000000</td>\n",
              "      <td>-0.412953</td>\n",
              "      <td>-0.549432</td>\n",
              "      <td>-0.099333</td>\n",
              "      <td>-0.049103</td>\n",
              "      <td>0.093067</td>\n",
              "      <td>0.338569</td>\n",
              "      <td>-0.207495</td>\n",
              "      <td>-0.100705</td>\n",
              "      <td>-0.088588</td>\n",
              "      <td>-0.600006</td>\n",
              "    </tr>\n",
              "    <tr>\n",
              "      <th>AP</th>\n",
              "      <td>-0.412953</td>\n",
              "      <td>1.000000</td>\n",
              "      <td>0.042573</td>\n",
              "      <td>0.040318</td>\n",
              "      <td>0.078575</td>\n",
              "      <td>0.029650</td>\n",
              "      <td>-0.223479</td>\n",
              "      <td>0.146939</td>\n",
              "      <td>0.131198</td>\n",
              "      <td>0.041614</td>\n",
              "      <td>0.256744</td>\n",
              "    </tr>\n",
              "    <tr>\n",
              "      <th>AH</th>\n",
              "      <td>-0.549432</td>\n",
              "      <td>0.042573</td>\n",
              "      <td>1.000000</td>\n",
              "      <td>-0.119249</td>\n",
              "      <td>-0.202784</td>\n",
              "      <td>-0.247781</td>\n",
              "      <td>0.010859</td>\n",
              "      <td>-0.110272</td>\n",
              "      <td>-0.182010</td>\n",
              "      <td>0.165505</td>\n",
              "      <td>0.143061</td>\n",
              "    </tr>\n",
              "    <tr>\n",
              "      <th>AFDP</th>\n",
              "      <td>-0.099333</td>\n",
              "      <td>0.040318</td>\n",
              "      <td>-0.119249</td>\n",
              "      <td>1.000000</td>\n",
              "      <td>0.744251</td>\n",
              "      <td>0.627254</td>\n",
              "      <td>-0.571541</td>\n",
              "      <td>0.717995</td>\n",
              "      <td>0.727152</td>\n",
              "      <td>-0.334207</td>\n",
              "      <td>-0.037299</td>\n",
              "    </tr>\n",
              "    <tr>\n",
              "      <th>GTEP</th>\n",
              "      <td>-0.049103</td>\n",
              "      <td>0.078575</td>\n",
              "      <td>-0.202784</td>\n",
              "      <td>0.744251</td>\n",
              "      <td>1.000000</td>\n",
              "      <td>0.874526</td>\n",
              "      <td>-0.756884</td>\n",
              "      <td>0.977042</td>\n",
              "      <td>0.993784</td>\n",
              "      <td>-0.508259</td>\n",
              "      <td>-0.208496</td>\n",
              "    </tr>\n",
              "    <tr>\n",
              "      <th>TIT</th>\n",
              "      <td>0.093067</td>\n",
              "      <td>0.029650</td>\n",
              "      <td>-0.247781</td>\n",
              "      <td>0.627254</td>\n",
              "      <td>0.874526</td>\n",
              "      <td>1.000000</td>\n",
              "      <td>-0.357320</td>\n",
              "      <td>0.891587</td>\n",
              "      <td>0.887238</td>\n",
              "      <td>-0.688272</td>\n",
              "      <td>-0.231636</td>\n",
              "    </tr>\n",
              "    <tr>\n",
              "      <th>TAT</th>\n",
              "      <td>0.338569</td>\n",
              "      <td>-0.223479</td>\n",
              "      <td>0.010859</td>\n",
              "      <td>-0.571541</td>\n",
              "      <td>-0.756884</td>\n",
              "      <td>-0.357320</td>\n",
              "      <td>1.000000</td>\n",
              "      <td>-0.720356</td>\n",
              "      <td>-0.744740</td>\n",
              "      <td>0.063404</td>\n",
              "      <td>0.009888</td>\n",
              "    </tr>\n",
              "    <tr>\n",
              "      <th>TEY</th>\n",
              "      <td>-0.207495</td>\n",
              "      <td>0.146939</td>\n",
              "      <td>-0.110272</td>\n",
              "      <td>0.717995</td>\n",
              "      <td>0.977042</td>\n",
              "      <td>0.891587</td>\n",
              "      <td>-0.720356</td>\n",
              "      <td>1.000000</td>\n",
              "      <td>0.988473</td>\n",
              "      <td>-0.541751</td>\n",
              "      <td>-0.102631</td>\n",
              "    </tr>\n",
              "    <tr>\n",
              "      <th>CDP</th>\n",
              "      <td>-0.100705</td>\n",
              "      <td>0.131198</td>\n",
              "      <td>-0.182010</td>\n",
              "      <td>0.727152</td>\n",
              "      <td>0.993784</td>\n",
              "      <td>0.887238</td>\n",
              "      <td>-0.744740</td>\n",
              "      <td>0.988473</td>\n",
              "      <td>1.000000</td>\n",
              "      <td>-0.520783</td>\n",
              "      <td>-0.169103</td>\n",
              "    </tr>\n",
              "    <tr>\n",
              "      <th>CO</th>\n",
              "      <td>-0.088588</td>\n",
              "      <td>0.041614</td>\n",
              "      <td>0.165505</td>\n",
              "      <td>-0.334207</td>\n",
              "      <td>-0.508259</td>\n",
              "      <td>-0.688272</td>\n",
              "      <td>0.063404</td>\n",
              "      <td>-0.541751</td>\n",
              "      <td>-0.520783</td>\n",
              "      <td>1.000000</td>\n",
              "      <td>0.316743</td>\n",
              "    </tr>\n",
              "    <tr>\n",
              "      <th>NOX</th>\n",
              "      <td>-0.600006</td>\n",
              "      <td>0.256744</td>\n",
              "      <td>0.143061</td>\n",
              "      <td>-0.037299</td>\n",
              "      <td>-0.208496</td>\n",
              "      <td>-0.231636</td>\n",
              "      <td>0.009888</td>\n",
              "      <td>-0.102631</td>\n",
              "      <td>-0.169103</td>\n",
              "      <td>0.316743</td>\n",
              "      <td>1.000000</td>\n",
              "    </tr>\n",
              "  </tbody>\n",
              "</table>\n",
              "</div>\n",
              "      <button class=\"colab-df-convert\" onclick=\"convertToInteractive('df-9e46ce43-fe17-4d1f-84a7-9e35618989ab')\"\n",
              "              title=\"Convert this dataframe to an interactive table.\"\n",
              "              style=\"display:none;\">\n",
              "        \n",
              "  <svg xmlns=\"http://www.w3.org/2000/svg\" height=\"24px\"viewBox=\"0 0 24 24\"\n",
              "       width=\"24px\">\n",
              "    <path d=\"M0 0h24v24H0V0z\" fill=\"none\"/>\n",
              "    <path d=\"M18.56 5.44l.94 2.06.94-2.06 2.06-.94-2.06-.94-.94-2.06-.94 2.06-2.06.94zm-11 1L8.5 8.5l.94-2.06 2.06-.94-2.06-.94L8.5 2.5l-.94 2.06-2.06.94zm10 10l.94 2.06.94-2.06 2.06-.94-2.06-.94-.94-2.06-.94 2.06-2.06.94z\"/><path d=\"M17.41 7.96l-1.37-1.37c-.4-.4-.92-.59-1.43-.59-.52 0-1.04.2-1.43.59L10.3 9.45l-7.72 7.72c-.78.78-.78 2.05 0 2.83L4 21.41c.39.39.9.59 1.41.59.51 0 1.02-.2 1.41-.59l7.78-7.78 2.81-2.81c.8-.78.8-2.07 0-2.86zM5.41 20L4 18.59l7.72-7.72 1.47 1.35L5.41 20z\"/>\n",
              "  </svg>\n",
              "      </button>\n",
              "      \n",
              "  <style>\n",
              "    .colab-df-container {\n",
              "      display:flex;\n",
              "      flex-wrap:wrap;\n",
              "      gap: 12px;\n",
              "    }\n",
              "\n",
              "    .colab-df-convert {\n",
              "      background-color: #E8F0FE;\n",
              "      border: none;\n",
              "      border-radius: 50%;\n",
              "      cursor: pointer;\n",
              "      display: none;\n",
              "      fill: #1967D2;\n",
              "      height: 32px;\n",
              "      padding: 0 0 0 0;\n",
              "      width: 32px;\n",
              "    }\n",
              "\n",
              "    .colab-df-convert:hover {\n",
              "      background-color: #E2EBFA;\n",
              "      box-shadow: 0px 1px 2px rgba(60, 64, 67, 0.3), 0px 1px 3px 1px rgba(60, 64, 67, 0.15);\n",
              "      fill: #174EA6;\n",
              "    }\n",
              "\n",
              "    [theme=dark] .colab-df-convert {\n",
              "      background-color: #3B4455;\n",
              "      fill: #D2E3FC;\n",
              "    }\n",
              "\n",
              "    [theme=dark] .colab-df-convert:hover {\n",
              "      background-color: #434B5C;\n",
              "      box-shadow: 0px 1px 3px 1px rgba(0, 0, 0, 0.15);\n",
              "      filter: drop-shadow(0px 1px 2px rgba(0, 0, 0, 0.3));\n",
              "      fill: #FFFFFF;\n",
              "    }\n",
              "  </style>\n",
              "\n",
              "      <script>\n",
              "        const buttonEl =\n",
              "          document.querySelector('#df-9e46ce43-fe17-4d1f-84a7-9e35618989ab button.colab-df-convert');\n",
              "        buttonEl.style.display =\n",
              "          google.colab.kernel.accessAllowed ? 'block' : 'none';\n",
              "\n",
              "        async function convertToInteractive(key) {\n",
              "          const element = document.querySelector('#df-9e46ce43-fe17-4d1f-84a7-9e35618989ab');\n",
              "          const dataTable =\n",
              "            await google.colab.kernel.invokeFunction('convertToInteractive',\n",
              "                                                     [key], {});\n",
              "          if (!dataTable) return;\n",
              "\n",
              "          const docLinkHtml = 'Like what you see? Visit the ' +\n",
              "            '<a target=\"_blank\" href=https://colab.research.google.com/notebooks/data_table.ipynb>data table notebook</a>'\n",
              "            + ' to learn more about interactive tables.';\n",
              "          element.innerHTML = '';\n",
              "          dataTable['output_type'] = 'display_data';\n",
              "          await google.colab.output.renderOutput(dataTable, element);\n",
              "          const docLink = document.createElement('div');\n",
              "          docLink.innerHTML = docLinkHtml;\n",
              "          element.appendChild(docLink);\n",
              "        }\n",
              "      </script>\n",
              "    </div>\n",
              "  </div>\n",
              "  "
            ]
          },
          "metadata": {},
          "execution_count": 8
        }
      ]
    },
    {
      "cell_type": "code",
      "source": [
        "plt.scatter(x='GTEP',y='TEY', data=df)"
      ],
      "metadata": {
        "colab": {
          "base_uri": "https://localhost:8080/",
          "height": 283
        },
        "id": "kk4w6Ddi-NOD",
        "outputId": "4428b455-53d8-4e77-9ad6-92a7abe8c745"
      },
      "execution_count": 9,
      "outputs": [
        {
          "output_type": "execute_result",
          "data": {
            "text/plain": [
              "<matplotlib.collections.PathCollection at 0x7f92b70ea550>"
            ]
          },
          "metadata": {},
          "execution_count": 9
        },
        {
          "output_type": "display_data",
          "data": {
            "text/plain": [
              "<Figure size 432x288 with 1 Axes>"
            ],
            "image/png": "[encoded data removed]"
          },
          "metadata": {
            "needs_background": "light"
          }
        }
      ]
    },
    {
      "cell_type": "code",
      "source": [
        "plt.scatter(x='AFDP',y='TEY', data=df)"
      ],
      "metadata": {
        "colab": {
          "base_uri": "https://localhost:8080/",
          "height": 283
        },
        "id": "OGTTuqcv-qz2",
        "outputId": "2c59f62f-9cd7-41d9-edc9-452a87e2f316"
      },
      "execution_count": 10,
      "outputs": [
        {
          "output_type": "execute_result",
          "data": {
            "text/plain": [
              "<matplotlib.collections.PathCollection at 0x7f92a89358d0>"
            ]
          },
          "metadata": {},
          "execution_count": 10
        },
        {
          "output_type": "display_data",
          "data": {
            "text/plain": [
              "<Figure size 432x288 with 1 Axes>"
            ],
            "image/png": "[encoded data removed]"
          },
          "metadata": {
            "needs_background": "light"
          }
        }
      ]
    },
    {
      "cell_type": "code",
      "source": [
        "plt.scatter(x='TAT',y='TEY', data=df)"
      ],
      "metadata": {
        "colab": {
          "base_uri": "https://localhost:8080/",
          "height": 283
        },
        "id": "ZpAmhnWl-wcV",
        "outputId": "d721c532-2a7a-40d4-c926-8a25a76d889f"
      },
      "execution_count": 11,
      "outputs": [
        {
          "output_type": "execute_result",
          "data": {
            "text/plain": [
              "<matplotlib.collections.PathCollection at 0x7f92a844e450>"
            ]
          },
          "metadata": {},
          "execution_count": 11
        },
        {
          "output_type": "display_data",
          "data": {
            "text/plain": [
              "<Figure size 432x288 with 1 Axes>"
            ],
            "image/png": "[encoded data removed]"
          },
          "metadata": {
            "needs_background": "light"
          }
        }
      ]
    },
    {
      "cell_type": "code",
      "source": [
        "plt.scatter(x='AFDP',y='TIT', data=df)"
      ],
      "metadata": {
        "colab": {
          "base_uri": "https://localhost:8080/",
          "height": 283
        },
        "id": "5QUxOZq3_u6y",
        "outputId": "9b85e7d3-d340-437d-982d-f32bc7d90a40"
      },
      "execution_count": 12,
      "outputs": [
        {
          "output_type": "execute_result",
          "data": {
            "text/plain": [
              "<matplotlib.collections.PathCollection at 0x7f92a83e3210>"
            ]
          },
          "metadata": {},
          "execution_count": 12
        },
        {
          "output_type": "display_data",
          "data": {
            "text/plain": [
              "<Figure size 432x288 with 1 Axes>"
            ],
            "image/png": "[encoded data removed]"
          },
          "metadata": {
            "needs_background": "light"
          }
        }
      ]
    },
    {
      "cell_type": "code",
      "source": [
        "sns.barplot(data=df)"
      ],
      "metadata": {
        "colab": {
          "base_uri": "https://localhost:8080/",
          "height": 283
        },
        "id": "gJ1lwbfF-3Ku",
        "outputId": "c5d53d00-75d6-4f47-8a3f-664aafad5d38"
      },
      "execution_count": 13,
      "outputs": [
        {
          "output_type": "execute_result",
          "data": {
            "text/plain": [
              "<matplotlib.axes._subplots.AxesSubplot at 0x7f92a83afc50>"
            ]
          },
          "metadata": {},
          "execution_count": 13
        },
        {
          "output_type": "display_data",
          "data": {
            "text/plain": [
              "<Figure size 432x288 with 1 Axes>"
            ],
            "image/png": "[encoded data removed]"
          },
          "metadata": {
            "needs_background": "light"
          }
        }
      ]
    },
    {
      "cell_type": "code",
      "source": [
        "sns.distplot(df['TEY'])"
      ],
      "metadata": {
        "colab": {
          "base_uri": "https://localhost:8080/",
          "height": 354
        },
        "id": "T2PeRwu8_FpD",
        "outputId": "9640de40-766b-4ba1-e7e4-5e85cf529163"
      },
      "execution_count": 14,
      "outputs": [
        {
          "output_type": "stream",
          "name": "stderr",
          "text": [
            "/usr/local/lib/python3.7/dist-packages/seaborn/distributions.py:2619: FutureWarning: `distplot` is a deprecated function and will be removed in a future version. Please adapt your code to use either `displot` (a figure-level function with similar flexibility) or `histplot` (an axes-level function for histograms).\n",
            "  warnings.warn(msg, FutureWarning)\n"
          ]
        },
        {
          "output_type": "execute_result",
          "data": {
            "text/plain": [
              "<matplotlib.axes._subplots.AxesSubplot at 0x7f92a823edd0>"
            ]
          },
          "metadata": {},
          "execution_count": 14
        },
        {
          "output_type": "display_data",
          "data": {
            "text/plain": [
              "<Figure size 432x288 with 1 Axes>"
            ],
            "image/png": "[encoded data removed]"
          },
          "metadata": {
            "needs_background": "light"
          }
        }
      ]
    },
    {
      "cell_type": "code",
      "source": [
        "x = df.drop('TEY',axis=1)\n",
        "y = df['TEY']"
      ],
      "metadata": {
        "id": "RsIQxUM2AMpf"
      },
      "execution_count": 15,
      "outputs": []
    },
    {
      "cell_type": "code",
      "source": [
        "x"
      ],
      "metadata": {
        "colab": {
          "base_uri": "https://localhost:8080/",
          "height": 423
        },
        "id": "xAQ5KYHkAyhf",
        "outputId": "e8362272-b41e-4272-cae8-d65d4e0e0c84"
      },
      "execution_count": 16,
      "outputs": [
        {
          "output_type": "execute_result",
          "data": {
            "text/plain": [
              "           AT      AP      AH    AFDP    GTEP     TIT     TAT     CDP      CO  \\\n",
              "0      6.8594  1007.9  96.799  3.5000  19.663  1059.2  550.00  10.605  3.1547   \n",
              "1      6.7850  1008.4  97.118  3.4998  19.728  1059.3  550.00  10.598  3.2363   \n",
              "2      6.8977  1008.8  95.939  3.4824  19.779  1059.4  549.87  10.601  3.2012   \n",
              "3      7.0569  1009.2  95.249  3.4805  19.792  1059.6  549.99  10.606  3.1923   \n",
              "4      7.3978  1009.7  95.150  3.4976  19.765  1059.7  549.98  10.612  3.2484   \n",
              "...       ...     ...     ...     ...     ...     ...     ...     ...     ...   \n",
              "15034  9.0301  1005.6  98.460  3.5421  19.164  1049.7  546.21  10.400  4.5186   \n",
              "15035  7.8879  1005.9  99.093  3.5059  19.414  1046.3  543.22  10.433  4.8470   \n",
              "15036  7.2647  1006.3  99.496  3.4770  19.530  1037.7  537.32  10.483  7.9632   \n",
              "15037  7.0060  1006.8  99.008  3.4486  19.377  1043.2  541.24  10.533  6.2494   \n",
              "15038  6.9279  1007.2  97.533  3.4275  19.306  1049.9  545.85  10.583  4.9816   \n",
              "\n",
              "          NOX  \n",
              "0      82.722  \n",
              "1      82.776  \n",
              "2      82.468  \n",
              "3      82.670  \n",
              "4      82.311  \n",
              "...       ...  \n",
              "15034  79.559  \n",
              "15035  79.917  \n",
              "15036  90.912  \n",
              "15037  93.227  \n",
              "15038  92.498  \n",
              "\n",
              "[15039 rows x 10 columns]"
            ],
            "text/html": [
              "\n",
              "  <div id=\"df-3ee83101-741d-4a21-b82d-d284d8062d0b\">\n",
              "    <div class=\"colab-df-container\">\n",
              "      <div>\n",
              "<style scoped>\n",
              "    .dataframe tbody tr th:only-of-type {\n",
              "        vertical-align: middle;\n",
              "    }\n",
              "\n",
              "    .dataframe tbody tr th {\n",
              "        vertical-align: top;\n",
              "    }\n",
              "\n",
              "    .dataframe thead th {\n",
              "        text-align: right;\n",
              "    }\n",
              "</style>\n",
              "<table border=\"1\" class=\"dataframe\">\n",
              "  <thead>\n",
              "    <tr style=\"text-align: right;\">\n",
              "      <th></th>\n",
              "      <th>AT</th>\n",
              "      <th>AP</th>\n",
              "      <th>AH</th>\n",
              "      <th>AFDP</th>\n",
              "      <th>GTEP</th>\n",
              "      <th>TIT</th>\n",
              "      <th>TAT</th>\n",
              "      <th>CDP</th>\n",
              "      <th>CO</th>\n",
              "      <th>NOX</th>\n",
              "    </tr>\n",
              "  </thead>\n",
              "  <tbody>\n",
              "    <tr>\n",
              "      <th>0</th>\n",
              "      <td>6.8594</td>\n",
              "      <td>1007.9</td>\n",
              "      <td>96.799</td>\n",
              "      <td>3.5000</td>\n",
              "      <td>19.663</td>\n",
              "      <td>1059.2</td>\n",
              "      <td>550.00</td>\n",
              "      <td>10.605</td>\n",
              "      <td>3.1547</td>\n",
              "      <td>82.722</td>\n",
              "    </tr>\n",
              "    <tr>\n",
              "      <th>1</th>\n",
              "      <td>6.7850</td>\n",
              "      <td>1008.4</td>\n",
              "      <td>97.118</td>\n",
              "      <td>3.4998</td>\n",
              "      <td>19.728</td>\n",
              "      <td>1059.3</td>\n",
              "      <td>550.00</td>\n",
              "      <td>10.598</td>\n",
              "      <td>3.2363</td>\n",
              "      <td>82.776</td>\n",
              "    </tr>\n",
              "    <tr>\n",
              "      <th>2</th>\n",
              "      <td>6.8977</td>\n",
              "      <td>1008.8</td>\n",
              "      <td>95.939</td>\n",
              "      <td>3.4824</td>\n",
              "      <td>19.779</td>\n",
              "      <td>1059.4</td>\n",
              "      <td>549.87</td>\n",
              "      <td>10.601</td>\n",
              "      <td>3.2012</td>\n",
              "      <td>82.468</td>\n",
              "    </tr>\n",
              "    <tr>\n",
              "      <th>3</th>\n",
              "      <td>7.0569</td>\n",
              "      <td>1009.2</td>\n",
              "      <td>95.249</td>\n",
              "      <td>3.4805</td>\n",
              "      <td>19.792</td>\n",
              "      <td>1059.6</td>\n",
              "      <td>549.99</td>\n",
              "      <td>10.606</td>\n",
              "      <td>3.1923</td>\n",
              "      <td>82.670</td>\n",
              "    </tr>\n",
              "    <tr>\n",
              "      <th>4</th>\n",
              "      <td>7.3978</td>\n",
              "      <td>1009.7</td>\n",
              "      <td>95.150</td>\n",
              "      <td>3.4976</td>\n",
              "      <td>19.765</td>\n",
              "      <td>1059.7</td>\n",
              "      <td>549.98</td>\n",
              "      <td>10.612</td>\n",
              "      <td>3.2484</td>\n",
              "      <td>82.311</td>\n",
              "    </tr>\n",
              "    <tr>\n",
              "      <th>...</th>\n",
              "      <td>...</td>\n",
              "      <td>...</td>\n",
              "      <td>...</td>\n",
              "      <td>...</td>\n",
              "      <td>...</td>\n",
              "      <td>...</td>\n",
              "      <td>...</td>\n",
              "      <td>...</td>\n",
              "      <td>...</td>\n",
              "      <td>...</td>\n",
              "    </tr>\n",
              "    <tr>\n",
              "      <th>15034</th>\n",
              "      <td>9.0301</td>\n",
              "      <td>1005.6</td>\n",
              "      <td>98.460</td>\n",
              "      <td>3.5421</td>\n",
              "      <td>19.164</td>\n",
              "      <td>1049.7</td>\n",
              "      <td>546.21</td>\n",
              "      <td>10.400</td>\n",
              "      <td>4.5186</td>\n",
              "      <td>79.559</td>\n",
              "    </tr>\n",
              "    <tr>\n",
              "      <th>15035</th>\n",
              "      <td>7.8879</td>\n",
              "      <td>1005.9</td>\n",
              "      <td>99.093</td>\n",
              "      <td>3.5059</td>\n",
              "      <td>19.414</td>\n",
              "      <td>1046.3</td>\n",
              "      <td>543.22</td>\n",
              "      <td>10.433</td>\n",
              "      <td>4.8470</td>\n",
              "      <td>79.917</td>\n",
              "    </tr>\n",
              "    <tr>\n",
              "      <th>15036</th>\n",
              "      <td>7.2647</td>\n",
              "      <td>1006.3</td>\n",
              "      <td>99.496</td>\n",
              "      <td>3.4770</td>\n",
              "      <td>19.530</td>\n",
              "      <td>1037.7</td>\n",
              "      <td>537.32</td>\n",
              "      <td>10.483</td>\n",
              "      <td>7.9632</td>\n",
              "      <td>90.912</td>\n",
              "    </tr>\n",
              "    <tr>\n",
              "      <th>15037</th>\n",
              "      <td>7.0060</td>\n",
              "      <td>1006.8</td>\n",
              "      <td>99.008</td>\n",
              "      <td>3.4486</td>\n",
              "      <td>19.377</td>\n",
              "      <td>1043.2</td>\n",
              "      <td>541.24</td>\n",
              "      <td>10.533</td>\n",
              "      <td>6.2494</td>\n",
              "      <td>93.227</td>\n",
              "    </tr>\n",
              "    <tr>\n",
              "      <th>15038</th>\n",
              "      <td>6.9279</td>\n",
              "      <td>1007.2</td>\n",
              "      <td>97.533</td>\n",
              "      <td>3.4275</td>\n",
              "      <td>19.306</td>\n",
              "      <td>1049.9</td>\n",
              "      <td>545.85</td>\n",
              "      <td>10.583</td>\n",
              "      <td>4.9816</td>\n",
              "      <td>92.498</td>\n",
              "    </tr>\n",
              "  </tbody>\n",
              "</table>\n",
              "<p>15039 rows × 10 columns</p>\n",
              "</div>\n",
              "      <button class=\"colab-df-convert\" onclick=\"convertToInteractive('df-3ee83101-741d-4a21-b82d-d284d8062d0b')\"\n",
              "              title=\"Convert this dataframe to an interactive table.\"\n",
              "              style=\"display:none;\">\n",
              "        \n",
              "  <svg xmlns=\"http://www.w3.org/2000/svg\" height=\"24px\"viewBox=\"0 0 24 24\"\n",
              "       width=\"24px\">\n",
              "    <path d=\"M0 0h24v24H0V0z\" fill=\"none\"/>\n",
              "    <path d=\"M18.56 5.44l.94 2.06.94-2.06 2.06-.94-2.06-.94-.94-2.06-.94 2.06-2.06.94zm-11 1L8.5 8.5l.94-2.06 2.06-.94-2.06-.94L8.5 2.5l-.94 2.06-2.06.94zm10 10l.94 2.06.94-2.06 2.06-.94-2.06-.94-.94-2.06-.94 2.06-2.06.94z\"/><path d=\"M17.41 7.96l-1.37-1.37c-.4-.4-.92-.59-1.43-.59-.52 0-1.04.2-1.43.59L10.3 9.45l-7.72 7.72c-.78.78-.78 2.05 0 2.83L4 21.41c.39.39.9.59 1.41.59.51 0 1.02-.2 1.41-.59l7.78-7.78 2.81-2.81c.8-.78.8-2.07 0-2.86zM5.41 20L4 18.59l7.72-7.72 1.47 1.35L5.41 20z\"/>\n",
              "  </svg>\n",
              "      </button>\n",
              "      \n",
              "  <style>\n",
              "    .colab-df-container {\n",
              "      display:flex;\n",
              "      flex-wrap:wrap;\n",
              "      gap: 12px;\n",
              "    }\n",
              "\n",
              "    .colab-df-convert {\n",
              "      background-color: #E8F0FE;\n",
              "      border: none;\n",
              "      border-radius: 50%;\n",
              "      cursor: pointer;\n",
              "      display: none;\n",
              "      fill: #1967D2;\n",
              "      height: 32px;\n",
              "      padding: 0 0 0 0;\n",
              "      width: 32px;\n",
              "    }\n",
              "\n",
              "    .colab-df-convert:hover {\n",
              "      background-color: #E2EBFA;\n",
              "      box-shadow: 0px 1px 2px rgba(60, 64, 67, 0.3), 0px 1px 3px 1px rgba(60, 64, 67, 0.15);\n",
              "      fill: #174EA6;\n",
              "    }\n",
              "\n",
              "    [theme=dark] .colab-df-convert {\n",
              "      background-color: #3B4455;\n",
              "      fill: #D2E3FC;\n",
              "    }\n",
              "\n",
              "    [theme=dark] .colab-df-convert:hover {\n",
              "      background-color: #434B5C;\n",
              "      box-shadow: 0px 1px 3px 1px rgba(0, 0, 0, 0.15);\n",
              "      filter: drop-shadow(0px 1px 2px rgba(0, 0, 0, 0.3));\n",
              "      fill: #FFFFFF;\n",
              "    }\n",
              "  </style>\n",
              "\n",
              "      <script>\n",
              "        const buttonEl =\n",
              "          document.querySelector('#df-3ee83101-741d-4a21-b82d-d284d8062d0b button.colab-df-convert');\n",
              "        buttonEl.style.display =\n",
              "          google.colab.kernel.accessAllowed ? 'block' : 'none';\n",
              "\n",
              "        async function convertToInteractive(key) {\n",
              "          const element = document.querySelector('#df-3ee83101-741d-4a21-b82d-d284d8062d0b');\n",
              "          const dataTable =\n",
              "            await google.colab.kernel.invokeFunction('convertToInteractive',\n",
              "                                                     [key], {});\n",
              "          if (!dataTable) return;\n",
              "\n",
              "          const docLinkHtml = 'Like what you see? Visit the ' +\n",
              "            '<a target=\"_blank\" href=https://colab.research.google.com/notebooks/data_table.ipynb>data table notebook</a>'\n",
              "            + ' to learn more about interactive tables.';\n",
              "          element.innerHTML = '';\n",
              "          dataTable['output_type'] = 'display_data';\n",
              "          await google.colab.output.renderOutput(dataTable, element);\n",
              "          const docLink = document.createElement('div');\n",
              "          docLink.innerHTML = docLinkHtml;\n",
              "          element.appendChild(docLink);\n",
              "        }\n",
              "      </script>\n",
              "    </div>\n",
              "  </div>\n",
              "  "
            ]
          },
          "metadata": {},
          "execution_count": 16
        }
      ]
    },
    {
      "cell_type": "code",
      "source": [
        "from sklearn.model_selection import train_test_split"
      ],
      "metadata": {
        "id": "6yZMRi1yAzJ6"
      },
      "execution_count": 17,
      "outputs": []
    },
    {
      "cell_type": "code",
      "source": [
        "x_train,x_test,y_train,y_test = train_test_split(x,y,test_size=0.3,random_state=3)"
      ],
      "metadata": {
        "id": "4-NG05B3A48e"
      },
      "execution_count": 18,
      "outputs": []
    },
    {
      "cell_type": "code",
      "source": [
        "n_features = x.shape[1]"
      ],
      "metadata": {
        "id": "QYURcZllBNXf"
      },
      "execution_count": 19,
      "outputs": []
    },
    {
      "cell_type": "code",
      "source": [
        "n_features"
      ],
      "metadata": {
        "colab": {
          "base_uri": "https://localhost:8080/"
        },
        "id": "8psBiWc2BWX9",
        "outputId": "d39f60c4-dbe2-4d0f-81d1-835399bc251d"
      },
      "execution_count": 20,
      "outputs": [
        {
          "output_type": "execute_result",
          "data": {
            "text/plain": [
              "10"
            ]
          },
          "metadata": {},
          "execution_count": 20
        }
      ]
    },
    {
      "cell_type": "code",
      "source": [
        "import tensorflow\n",
        "from tensorflow.keras import Sequential\n",
        "from tensorflow.keras.layers import Dense\n",
        "from tensorflow.keras.optimizers import RMSprop"
      ],
      "metadata": {
        "id": "XQOOsmUEBYtL"
      },
      "execution_count": 21,
      "outputs": []
    },
    {
      "cell_type": "code",
      "source": [
        "import keras"
      ],
      "metadata": {
        "id": "Idsb6SOcRbku"
      },
      "execution_count": 22,
      "outputs": []
    },
    {
      "cell_type": "code",
      "source": [
        "from keras.wrappers.scikit_learn import KerasRegressor"
      ],
      "metadata": {
        "id": "Ky5Gbu2dRC8t"
      },
      "execution_count": 23,
      "outputs": []
    },
    {
      "cell_type": "code",
      "source": [
        "from tensorflow import keras"
      ],
      "metadata": {
        "id": "URPMSnZtB2w-"
      },
      "execution_count": 24,
      "outputs": []
    },
    {
      "cell_type": "code",
      "source": [
        "import tensorflow as tf"
      ],
      "metadata": {
        "id": "FZMYQ-FlB8xr"
      },
      "execution_count": 25,
      "outputs": []
    },
    {
      "cell_type": "code",
      "source": [
        "optimizer = RMSprop(0.03)\n",
        "model = Sequential([Dense(50,input_dim=n_features,activation='relu'),Dense(40,activation='relu')])\n",
        "model.compile(optimizer=optimizer,loss='mean_squared_error',metrics=['accuracy'])\n",
        "seed = 40\n",
        "model.fit(x_train,y_train,epochs=100,batch_size=30,verbose=1)\n"
      ],
      "metadata": {
        "colab": {
          "base_uri": "https://localhost:8080/"
        },
        "id": "PCCMdamqB_Oc",
        "outputId": "3955c38a-bc80-40f1-c806-135926a23962"
      },
      "execution_count": 26,
      "outputs": [
        {
          "output_type": "stream",
          "name": "stdout",
          "text": [
            "Epoch 1/100\n",
            "351/351 [==============================] - 1s 2ms/step - loss: 7348.5557 - accuracy: 0.0000e+00\n",
            "Epoch 2/100\n",
            "351/351 [==============================] - 1s 2ms/step - loss: 6687.7134 - accuracy: 0.0000e+00\n",
            "Epoch 3/100\n",
            "351/351 [==============================] - 1s 2ms/step - loss: 6667.4028 - accuracy: 0.0000e+00\n",
            "Epoch 4/100\n",
            "351/351 [==============================] - 1s 2ms/step - loss: 6649.4194 - accuracy: 0.0000e+00\n",
            "Epoch 5/100\n",
            "351/351 [==============================] - 1s 2ms/step - loss: 6643.3433 - accuracy: 0.0000e+00\n",
            "Epoch 6/100\n",
            "351/351 [==============================] - 1s 2ms/step - loss: 6634.9150 - accuracy: 0.0000e+00\n",
            "Epoch 7/100\n",
            "351/351 [==============================] - 1s 2ms/step - loss: 6628.9023 - accuracy: 0.0000e+00\n",
            "Epoch 8/100\n",
            "351/351 [==============================] - 1s 2ms/step - loss: 6624.4751 - accuracy: 0.0000e+00\n",
            "Epoch 9/100\n",
            "351/351 [==============================] - 1s 2ms/step - loss: 6622.8823 - accuracy: 0.0000e+00\n",
            "Epoch 10/100\n",
            "351/351 [==============================] - 1s 2ms/step - loss: 6614.7773 - accuracy: 0.0000e+00\n",
            "Epoch 11/100\n",
            "351/351 [==============================] - 1s 2ms/step - loss: 6615.2061 - accuracy: 0.0000e+00\n",
            "Epoch 12/100\n",
            "351/351 [==============================] - 1s 2ms/step - loss: 6611.0586 - accuracy: 0.0000e+00\n",
            "Epoch 13/100\n",
            "351/351 [==============================] - 1s 3ms/step - loss: 6608.9521 - accuracy: 0.0000e+00\n",
            "Epoch 14/100\n",
            "351/351 [==============================] - 1s 3ms/step - loss: 6609.7349 - accuracy: 0.0000e+00\n",
            "Epoch 15/100\n",
            "351/351 [==============================] - 1s 4ms/step - loss: 6604.9570 - accuracy: 0.0000e+00\n",
            "Epoch 16/100\n",
            "351/351 [==============================] - 1s 3ms/step - loss: 6605.0083 - accuracy: 0.0000e+00\n",
            "Epoch 17/100\n",
            "351/351 [==============================] - 1s 4ms/step - loss: 6602.8872 - accuracy: 0.0000e+00\n",
            "Epoch 18/100\n",
            "351/351 [==============================] - 1s 4ms/step - loss: 6599.6162 - accuracy: 0.0000e+00\n",
            "Epoch 19/100\n",
            "351/351 [==============================] - 1s 3ms/step - loss: 6599.4277 - accuracy: 0.0000e+00\n",
            "Epoch 20/100\n",
            "351/351 [==============================] - 1s 2ms/step - loss: 6597.0181 - accuracy: 0.0000e+00\n",
            "Epoch 21/100\n",
            "351/351 [==============================] - 1s 2ms/step - loss: 6597.6299 - accuracy: 0.0000e+00\n",
            "Epoch 22/100\n",
            "351/351 [==============================] - 1s 2ms/step - loss: 6593.5952 - accuracy: 0.0000e+00\n",
            "Epoch 23/100\n",
            "351/351 [==============================] - 1s 2ms/step - loss: 6591.2983 - accuracy: 0.0000e+00\n",
            "Epoch 24/100\n",
            "351/351 [==============================] - 1s 2ms/step - loss: 6590.7310 - accuracy: 0.0000e+00\n",
            "Epoch 25/100\n",
            "351/351 [==============================] - 1s 2ms/step - loss: 6590.5073 - accuracy: 0.0000e+00\n",
            "Epoch 26/100\n",
            "351/351 [==============================] - 1s 2ms/step - loss: 6588.6846 - accuracy: 0.0000e+00\n",
            "Epoch 27/100\n",
            "351/351 [==============================] - 1s 2ms/step - loss: 6585.7466 - accuracy: 0.0000e+00\n",
            "Epoch 28/100\n",
            "351/351 [==============================] - 1s 2ms/step - loss: 6586.7632 - accuracy: 0.0000e+00\n",
            "Epoch 29/100\n",
            "351/351 [==============================] - 1s 2ms/step - loss: 6584.6938 - accuracy: 0.0000e+00\n",
            "Epoch 30/100\n",
            "351/351 [==============================] - 1s 2ms/step - loss: 6582.1782 - accuracy: 0.0000e+00\n",
            "Epoch 31/100\n",
            "351/351 [==============================] - 1s 2ms/step - loss: 6582.6597 - accuracy: 0.0000e+00\n",
            "Epoch 32/100\n",
            "351/351 [==============================] - 1s 2ms/step - loss: 6581.3721 - accuracy: 0.0000e+00\n",
            "Epoch 33/100\n",
            "351/351 [==============================] - 1s 2ms/step - loss: 6579.2905 - accuracy: 0.0000e+00\n",
            "Epoch 34/100\n",
            "351/351 [==============================] - 1s 2ms/step - loss: 6578.2686 - accuracy: 0.0000e+00\n",
            "Epoch 35/100\n",
            "351/351 [==============================] - 1s 2ms/step - loss: 6578.0273 - accuracy: 0.0000e+00\n",
            "Epoch 36/100\n",
            "351/351 [==============================] - 1s 1ms/step - loss: 6576.4849 - accuracy: 0.0000e+00\n",
            "Epoch 37/100\n",
            "351/351 [==============================] - 1s 2ms/step - loss: 6574.5410 - accuracy: 0.0000e+00\n",
            "Epoch 38/100\n",
            "351/351 [==============================] - 1s 2ms/step - loss: 6572.9062 - accuracy: 0.0000e+00\n",
            "Epoch 39/100\n",
            "351/351 [==============================] - 1s 2ms/step - loss: 6571.4868 - accuracy: 0.0000e+00\n",
            "Epoch 40/100\n",
            "351/351 [==============================] - 1s 2ms/step - loss: 6570.6182 - accuracy: 0.0000e+00\n",
            "Epoch 41/100\n",
            "351/351 [==============================] - 1s 2ms/step - loss: 6570.5708 - accuracy: 0.0000e+00\n",
            "Epoch 42/100\n",
            "351/351 [==============================] - 1s 2ms/step - loss: 6568.0215 - accuracy: 0.0000e+00\n",
            "Epoch 43/100\n",
            "351/351 [==============================] - 1s 2ms/step - loss: 6567.2036 - accuracy: 0.0000e+00\n",
            "Epoch 44/100\n",
            "351/351 [==============================] - 1s 2ms/step - loss: 6564.5195 - accuracy: 0.0000e+00\n",
            "Epoch 45/100\n",
            "351/351 [==============================] - 1s 2ms/step - loss: 6563.8271 - accuracy: 0.0000e+00\n",
            "Epoch 46/100\n",
            "351/351 [==============================] - 1s 2ms/step - loss: 6562.5815 - accuracy: 0.0000e+00\n",
            "Epoch 47/100\n",
            "351/351 [==============================] - 1s 2ms/step - loss: 6561.2280 - accuracy: 0.0000e+00\n",
            "Epoch 48/100\n",
            "351/351 [==============================] - 1s 2ms/step - loss: 6561.2852 - accuracy: 0.0000e+00\n",
            "Epoch 49/100\n",
            "351/351 [==============================] - 1s 2ms/step - loss: 6558.4780 - accuracy: 0.0000e+00\n",
            "Epoch 50/100\n",
            "351/351 [==============================] - 1s 2ms/step - loss: 6557.1470 - accuracy: 0.0000e+00\n",
            "Epoch 51/100\n",
            "351/351 [==============================] - 1s 2ms/step - loss: 6556.8638 - accuracy: 0.0000e+00\n",
            "Epoch 52/100\n",
            "351/351 [==============================] - 1s 2ms/step - loss: 6554.3945 - accuracy: 0.0000e+00\n",
            "Epoch 53/100\n",
            "351/351 [==============================] - 1s 1ms/step - loss: 6553.7402 - accuracy: 0.0000e+00\n",
            "Epoch 54/100\n",
            "351/351 [==============================] - 1s 2ms/step - loss: 6552.9478 - accuracy: 0.0000e+00\n",
            "Epoch 55/100\n",
            "351/351 [==============================] - 1s 1ms/step - loss: 6551.8809 - accuracy: 0.0000e+00\n",
            "Epoch 56/100\n",
            "351/351 [==============================] - 1s 2ms/step - loss: 6549.4634 - accuracy: 0.0000e+00\n",
            "Epoch 57/100\n",
            "351/351 [==============================] - 1s 2ms/step - loss: 6549.2217 - accuracy: 0.0000e+00\n",
            "Epoch 58/100\n",
            "351/351 [==============================] - 1s 2ms/step - loss: 6547.9897 - accuracy: 0.0000e+00\n",
            "Epoch 59/100\n",
            "351/351 [==============================] - 1s 1ms/step - loss: 6545.7061 - accuracy: 0.0000e+00\n",
            "Epoch 60/100\n",
            "351/351 [==============================] - 1s 2ms/step - loss: 6544.4346 - accuracy: 0.0000e+00\n",
            "Epoch 61/100\n",
            "351/351 [==============================] - 1s 2ms/step - loss: 6543.2461 - accuracy: 0.0000e+00\n",
            "Epoch 62/100\n",
            "351/351 [==============================] - 1s 2ms/step - loss: 6541.9170 - accuracy: 0.0000e+00\n",
            "Epoch 63/100\n",
            "351/351 [==============================] - 1s 2ms/step - loss: 6540.6958 - accuracy: 0.0000e+00\n",
            "Epoch 64/100\n",
            "351/351 [==============================] - 1s 1ms/step - loss: 6539.3726 - accuracy: 0.0000e+00\n",
            "Epoch 65/100\n",
            "351/351 [==============================] - 1s 2ms/step - loss: 6537.8770 - accuracy: 0.0000e+00\n",
            "Epoch 66/100\n",
            "351/351 [==============================] - 1s 2ms/step - loss: 6536.9956 - accuracy: 0.0000e+00\n",
            "Epoch 67/100\n",
            "351/351 [==============================] - 1s 2ms/step - loss: 6535.3755 - accuracy: 0.0000e+00\n",
            "Epoch 68/100\n",
            "351/351 [==============================] - 1s 2ms/step - loss: 6533.8970 - accuracy: 0.0000e+00\n",
            "Epoch 69/100\n",
            "351/351 [==============================] - 1s 2ms/step - loss: 6532.4409 - accuracy: 0.0000e+00\n",
            "Epoch 70/100\n",
            "351/351 [==============================] - 1s 2ms/step - loss: 6530.6646 - accuracy: 0.0000e+00\n",
            "Epoch 71/100\n",
            "351/351 [==============================] - 1s 2ms/step - loss: 6529.2349 - accuracy: 0.0000e+00\n",
            "Epoch 72/100\n",
            "351/351 [==============================] - 1s 3ms/step - loss: 6528.6021 - accuracy: 0.0000e+00\n",
            "Epoch 73/100\n",
            "351/351 [==============================] - 2s 4ms/step - loss: 6527.2681 - accuracy: 0.0000e+00\n",
            "Epoch 74/100\n",
            "351/351 [==============================] - 2s 5ms/step - loss: 6525.6968 - accuracy: 0.0000e+00\n",
            "Epoch 75/100\n",
            "351/351 [==============================] - 2s 5ms/step - loss: 6523.3711 - accuracy: 0.0000e+00\n",
            "Epoch 76/100\n",
            "351/351 [==============================] - 2s 6ms/step - loss: 6522.9355 - accuracy: 0.0000e+00\n",
            "Epoch 77/100\n",
            "351/351 [==============================] - 1s 2ms/step - loss: 6521.5366 - accuracy: 0.0000e+00\n",
            "Epoch 78/100\n",
            "351/351 [==============================] - 1s 3ms/step - loss: 6519.8799 - accuracy: 0.0000e+00\n",
            "Epoch 79/100\n",
            "351/351 [==============================] - 1s 2ms/step - loss: 6518.7417 - accuracy: 0.0000e+00\n",
            "Epoch 80/100\n",
            "351/351 [==============================] - 1s 3ms/step - loss: 6516.3643 - accuracy: 0.0000e+00\n",
            "Epoch 81/100\n",
            "351/351 [==============================] - 1s 3ms/step - loss: 6515.7397 - accuracy: 0.0000e+00\n",
            "Epoch 82/100\n",
            "351/351 [==============================] - 1s 2ms/step - loss: 6514.5347 - accuracy: 0.0000e+00\n",
            "Epoch 83/100\n",
            "351/351 [==============================] - 1s 2ms/step - loss: 6513.4507 - accuracy: 0.0000e+00\n",
            "Epoch 84/100\n",
            "351/351 [==============================] - 1s 2ms/step - loss: 6510.9849 - accuracy: 0.0000e+00\n",
            "Epoch 85/100\n",
            "351/351 [==============================] - 1s 3ms/step - loss: 6508.6313 - accuracy: 0.0000e+00\n",
            "Epoch 86/100\n",
            "351/351 [==============================] - 1s 2ms/step - loss: 6508.3027 - accuracy: 0.0000e+00\n",
            "Epoch 87/100\n",
            "351/351 [==============================] - 1s 2ms/step - loss: 6507.1104 - accuracy: 0.0000e+00\n",
            "Epoch 88/100\n",
            "351/351 [==============================] - 1s 2ms/step - loss: 6505.6094 - accuracy: 0.0000e+00\n",
            "Epoch 89/100\n",
            "351/351 [==============================] - 1s 2ms/step - loss: 6503.9604 - accuracy: 0.0000e+00\n",
            "Epoch 90/100\n",
            "351/351 [==============================] - 1s 2ms/step - loss: 6502.5312 - accuracy: 0.0000e+00\n",
            "Epoch 91/100\n",
            "351/351 [==============================] - 1s 3ms/step - loss: 6501.2466 - accuracy: 0.0000e+00\n",
            "Epoch 92/100\n",
            "351/351 [==============================] - 1s 2ms/step - loss: 6499.4028 - accuracy: 0.0000e+00\n",
            "Epoch 93/100\n",
            "351/351 [==============================] - 1s 3ms/step - loss: 6497.4932 - accuracy: 0.0000e+00\n",
            "Epoch 94/100\n",
            "351/351 [==============================] - 1s 3ms/step - loss: 6495.8496 - accuracy: 0.0000e+00\n",
            "Epoch 95/100\n",
            "351/351 [==============================] - 1s 3ms/step - loss: 6495.5591 - accuracy: 0.0000e+00\n",
            "Epoch 96/100\n",
            "351/351 [==============================] - 1s 3ms/step - loss: 6493.3530 - accuracy: 0.0000e+00\n",
            "Epoch 97/100\n",
            "351/351 [==============================] - 1s 2ms/step - loss: 6491.7642 - accuracy: 0.0000e+00\n",
            "Epoch 98/100\n",
            "351/351 [==============================] - 1s 2ms/step - loss: 6490.1772 - accuracy: 0.0000e+00\n",
            "Epoch 99/100\n",
            "351/351 [==============================] - 1s 2ms/step - loss: 6488.7144 - accuracy: 0.0000e+00\n",
            "Epoch 100/100\n",
            "351/351 [==============================] - 1s 2ms/step - loss: 6486.9565 - accuracy: 0.0000e+00\n"
          ]
        },
        {
          "output_type": "execute_result",
          "data": {
            "text/plain": [
              "<keras.callbacks.History at 0x7f9241c170d0>"
            ]
          },
          "metadata": {},
          "execution_count": 26
        }
      ]
    },
    {
      "cell_type": "markdown",
      "source": [
        "Feature selection and Hyperparameter tuning"
      ],
      "metadata": {
        "id": "E4FurpgTGK3M"
      }
    },
    {
      "cell_type": "code",
      "source": [
        "from numpy import set_printoptions"
      ],
      "metadata": {
        "id": "rI_h3lWwA101"
      },
      "execution_count": 1,
      "outputs": []
    },
    {
      "cell_type": "code",
      "source": [
        "from sklearn.feature_selection import SelectKBest"
      ],
      "metadata": {
        "id": "ihm3-cM8Bf0Q"
      },
      "execution_count": 28,
      "outputs": []
    },
    {
      "cell_type": "code",
      "source": [
        "from sklearn.feature_selection import mutual_info_regression\n"
      ],
      "metadata": {
        "id": "529s-Mo_Cp-N"
      },
      "execution_count": 30,
      "outputs": []
    },
    {
      "cell_type": "code",
      "source": [
        "test = SelectKBest(score_func=mutual_info_regression, k='all')\n",
        "fit = test.fit(x,y)"
      ],
      "metadata": {
        "id": "CpXh4TUQB6_7"
      },
      "execution_count": 31,
      "outputs": []
    },
    {
      "cell_type": "code",
      "source": [
        "scores = fit.scores_\n",
        "features = fit.transform(x)"
      ],
      "metadata": {
        "id": "aJXQHDUNCwuL"
      },
      "execution_count": 32,
      "outputs": []
    },
    {
      "cell_type": "code",
      "source": [
        "score_df = pd.DataFrame(list(zip(scores,x.columns)),columns=['Score','feature'])"
      ],
      "metadata": {
        "id": "23HLbhU-DF6S"
      },
      "execution_count": 33,
      "outputs": []
    },
    {
      "cell_type": "code",
      "source": [
        "score_df.sort_values(by='Score',ascending=False,inplace=True)\n",
        "score_df"
      ],
      "metadata": {
        "colab": {
          "base_uri": "https://localhost:8080/",
          "height": 363
        },
        "id": "dSL31TXlDg5l",
        "outputId": "03bfc67e-bc98-470a-f761-c3f149172b5b"
      },
      "execution_count": 35,
      "outputs": [
        {
          "output_type": "execute_result",
          "data": {
            "text/plain": [
              "      Score feature\n",
              "7  1.712381     CDP\n",
              "4  1.600503    GTEP\n",
              "5  1.325799     TIT\n",
              "6  0.894436     TAT\n",
              "3  0.660825    AFDP\n",
              "8  0.512638      CO\n",
              "0  0.412383      AT\n",
              "9  0.300610     NOX\n",
              "1  0.136908      AP\n",
              "2  0.097490      AH"
            ],
            "text/html": [
              "\n",
              "  <div id=\"df-1b0f803e-5a0d-4bc4-92da-bedcd25e1f44\">\n",
              "    <div class=\"colab-df-container\">\n",
              "      <div>\n",
              "<style scoped>\n",
              "    .dataframe tbody tr th:only-of-type {\n",
              "        vertical-align: middle;\n",
              "    }\n",
              "\n",
              "    .dataframe tbody tr th {\n",
              "        vertical-align: top;\n",
              "    }\n",
              "\n",
              "    .dataframe thead th {\n",
              "        text-align: right;\n",
              "    }\n",
              "</style>\n",
              "<table border=\"1\" class=\"dataframe\">\n",
              "  <thead>\n",
              "    <tr style=\"text-align: right;\">\n",
              "      <th></th>\n",
              "      <th>Score</th>\n",
              "      <th>feature</th>\n",
              "    </tr>\n",
              "  </thead>\n",
              "  <tbody>\n",
              "    <tr>\n",
              "      <th>7</th>\n",
              "      <td>1.712381</td>\n",
              "      <td>CDP</td>\n",
              "    </tr>\n",
              "    <tr>\n",
              "      <th>4</th>\n",
              "      <td>1.600503</td>\n",
              "      <td>GTEP</td>\n",
              "    </tr>\n",
              "    <tr>\n",
              "      <th>5</th>\n",
              "      <td>1.325799</td>\n",
              "      <td>TIT</td>\n",
              "    </tr>\n",
              "    <tr>\n",
              "      <th>6</th>\n",
              "      <td>0.894436</td>\n",
              "      <td>TAT</td>\n",
              "    </tr>\n",
              "    <tr>\n",
              "      <th>3</th>\n",
              "      <td>0.660825</td>\n",
              "      <td>AFDP</td>\n",
              "    </tr>\n",
              "    <tr>\n",
              "      <th>8</th>\n",
              "      <td>0.512638</td>\n",
              "      <td>CO</td>\n",
              "    </tr>\n",
              "    <tr>\n",
              "      <th>0</th>\n",
              "      <td>0.412383</td>\n",
              "      <td>AT</td>\n",
              "    </tr>\n",
              "    <tr>\n",
              "      <th>9</th>\n",
              "      <td>0.300610</td>\n",
              "      <td>NOX</td>\n",
              "    </tr>\n",
              "    <tr>\n",
              "      <th>1</th>\n",
              "      <td>0.136908</td>\n",
              "      <td>AP</td>\n",
              "    </tr>\n",
              "    <tr>\n",
              "      <th>2</th>\n",
              "      <td>0.097490</td>\n",
              "      <td>AH</td>\n",
              "    </tr>\n",
              "  </tbody>\n",
              "</table>\n",
              "</div>\n",
              "      <button class=\"colab-df-convert\" onclick=\"convertToInteractive('df-1b0f803e-5a0d-4bc4-92da-bedcd25e1f44')\"\n",
              "              title=\"Convert this dataframe to an interactive table.\"\n",
              "              style=\"display:none;\">\n",
              "        \n",
              "  <svg xmlns=\"http://www.w3.org/2000/svg\" height=\"24px\"viewBox=\"0 0 24 24\"\n",
              "       width=\"24px\">\n",
              "    <path d=\"M0 0h24v24H0V0z\" fill=\"none\"/>\n",
              "    <path d=\"M18.56 5.44l.94 2.06.94-2.06 2.06-.94-2.06-.94-.94-2.06-.94 2.06-2.06.94zm-11 1L8.5 8.5l.94-2.06 2.06-.94-2.06-.94L8.5 2.5l-.94 2.06-2.06.94zm10 10l.94 2.06.94-2.06 2.06-.94-2.06-.94-.94-2.06-.94 2.06-2.06.94z\"/><path d=\"M17.41 7.96l-1.37-1.37c-.4-.4-.92-.59-1.43-.59-.52 0-1.04.2-1.43.59L10.3 9.45l-7.72 7.72c-.78.78-.78 2.05 0 2.83L4 21.41c.39.39.9.59 1.41.59.51 0 1.02-.2 1.41-.59l7.78-7.78 2.81-2.81c.8-.78.8-2.07 0-2.86zM5.41 20L4 18.59l7.72-7.72 1.47 1.35L5.41 20z\"/>\n",
              "  </svg>\n",
              "      </button>\n",
              "      \n",
              "  <style>\n",
              "    .colab-df-container {\n",
              "      display:flex;\n",
              "      flex-wrap:wrap;\n",
              "      gap: 12px;\n",
              "    }\n",
              "\n",
              "    .colab-df-convert {\n",
              "      background-color: #E8F0FE;\n",
              "      border: none;\n",
              "      border-radius: 50%;\n",
              "      cursor: pointer;\n",
              "      display: none;\n",
              "      fill: #1967D2;\n",
              "      height: 32px;\n",
              "      padding: 0 0 0 0;\n",
              "      width: 32px;\n",
              "    }\n",
              "\n",
              "    .colab-df-convert:hover {\n",
              "      background-color: #E2EBFA;\n",
              "      box-shadow: 0px 1px 2px rgba(60, 64, 67, 0.3), 0px 1px 3px 1px rgba(60, 64, 67, 0.15);\n",
              "      fill: #174EA6;\n",
              "    }\n",
              "\n",
              "    [theme=dark] .colab-df-convert {\n",
              "      background-color: #3B4455;\n",
              "      fill: #D2E3FC;\n",
              "    }\n",
              "\n",
              "    [theme=dark] .colab-df-convert:hover {\n",
              "      background-color: #434B5C;\n",
              "      box-shadow: 0px 1px 3px 1px rgba(0, 0, 0, 0.15);\n",
              "      filter: drop-shadow(0px 1px 2px rgba(0, 0, 0, 0.3));\n",
              "      fill: #FFFFFF;\n",
              "    }\n",
              "  </style>\n",
              "\n",
              "      <script>\n",
              "        const buttonEl =\n",
              "          document.querySelector('#df-1b0f803e-5a0d-4bc4-92da-bedcd25e1f44 button.colab-df-convert');\n",
              "        buttonEl.style.display =\n",
              "          google.colab.kernel.accessAllowed ? 'block' : 'none';\n",
              "\n",
              "        async function convertToInteractive(key) {\n",
              "          const element = document.querySelector('#df-1b0f803e-5a0d-4bc4-92da-bedcd25e1f44');\n",
              "          const dataTable =\n",
              "            await google.colab.kernel.invokeFunction('convertToInteractive',\n",
              "                                                     [key], {});\n",
              "          if (!dataTable) return;\n",
              "\n",
              "          const docLinkHtml = 'Like what you see? Visit the ' +\n",
              "            '<a target=\"_blank\" href=https://colab.research.google.com/notebooks/data_table.ipynb>data table notebook</a>'\n",
              "            + ' to learn more about interactive tables.';\n",
              "          element.innerHTML = '';\n",
              "          dataTable['output_type'] = 'display_data';\n",
              "          await google.colab.output.renderOutput(dataTable, element);\n",
              "          const docLink = document.createElement('div');\n",
              "          docLink.innerHTML = docLinkHtml;\n",
              "          element.appendChild(docLink);\n",
              "        }\n",
              "      </script>\n",
              "    </div>\n",
              "  </div>\n",
              "  "
            ]
          },
          "metadata": {},
          "execution_count": 35
        }
      ]
    },
    {
      "cell_type": "code",
      "source": [
        "import seaborn as sns"
      ],
      "metadata": {
        "id": "WxVzg_4DEVUe"
      },
      "execution_count": 36,
      "outputs": []
    },
    {
      "cell_type": "code",
      "source": [
        "import matplotlib.pyplot as plt\n"
      ],
      "metadata": {
        "id": "XIsg2zr5FD6e"
      },
      "execution_count": 37,
      "outputs": []
    },
    {
      "cell_type": "code",
      "source": [
        "plt.figure(figsize=(16,10))\n",
        "sns.barplot(x='feature',y='Score',data=score_df,order=score_df.sort_values('Score').feature)\n",
        "plt.xlabel('Features')\n",
        "plt.ylabel('Scores')\n",
        "plt.show()\n"
      ],
      "metadata": {
        "colab": {
          "base_uri": "https://localhost:8080/",
          "height": 606
        },
        "id": "KTTwWa4CEZDN",
        "outputId": "c4897302-d515-432c-ba32-cbaf27322395"
      },
      "execution_count": 38,
      "outputs": [
        {
          "output_type": "display_data",
          "data": {
            "text/plain": [
              "<Figure size 1152x720 with 1 Axes>"
            ],
            "image/png": "[encoded data removed]"
          },
          "metadata": {
            "needs_background": "light"
          }
        }
      ]
    },
    {
      "cell_type": "code",
      "source": [
        "model_data = df[['CDP', 'GTEP','TIT', 'TAT', 'AFDP', 'CO', 'AT',\"TEY\"]]\n",
        "model_data.head()"
      ],
      "metadata": {
        "colab": {
          "base_uri": "https://localhost:8080/",
          "height": 206
        },
        "id": "jG9KldPJFom7",
        "outputId": "4808e511-efb2-40c0-83de-656e046a872a"
      },
      "execution_count": 39,
      "outputs": [
        {
          "output_type": "execute_result",
          "data": {
            "text/plain": [
              "      CDP    GTEP     TIT     TAT    AFDP      CO      AT     TEY\n",
              "0  10.605  19.663  1059.2  550.00  3.5000  3.1547  6.8594  114.70\n",
              "1  10.598  19.728  1059.3  550.00  3.4998  3.2363  6.7850  114.72\n",
              "2  10.601  19.779  1059.4  549.87  3.4824  3.2012  6.8977  114.71\n",
              "3  10.606  19.792  1059.6  549.99  3.4805  3.1923  7.0569  114.72\n",
              "4  10.612  19.765  1059.7  549.98  3.4976  3.2484  7.3978  114.72"
            ],
            "text/html": [
              "\n",
              "  <div id=\"df-f79ff8f5-17e5-4817-9f1b-a1d4212787ce\">\n",
              "    <div class=\"colab-df-container\">\n",
              "      <div>\n",
              "<style scoped>\n",
              "    .dataframe tbody tr th:only-of-type {\n",
              "        vertical-align: middle;\n",
              "    }\n",
              "\n",
              "    .dataframe tbody tr th {\n",
              "        vertical-align: top;\n",
              "    }\n",
              "\n",
              "    .dataframe thead th {\n",
              "        text-align: right;\n",
              "    }\n",
              "</style>\n",
              "<table border=\"1\" class=\"dataframe\">\n",
              "  <thead>\n",
              "    <tr style=\"text-align: right;\">\n",
              "      <th></th>\n",
              "      <th>CDP</th>\n",
              "      <th>GTEP</th>\n",
              "      <th>TIT</th>\n",
              "      <th>TAT</th>\n",
              "      <th>AFDP</th>\n",
              "      <th>CO</th>\n",
              "      <th>AT</th>\n",
              "      <th>TEY</th>\n",
              "    </tr>\n",
              "  </thead>\n",
              "  <tbody>\n",
              "    <tr>\n",
              "      <th>0</th>\n",
              "      <td>10.605</td>\n",
              "      <td>19.663</td>\n",
              "      <td>1059.2</td>\n",
              "      <td>550.00</td>\n",
              "      <td>3.5000</td>\n",
              "      <td>3.1547</td>\n",
              "      <td>6.8594</td>\n",
              "      <td>114.70</td>\n",
              "    </tr>\n",
              "    <tr>\n",
              "      <th>1</th>\n",
              "      <td>10.598</td>\n",
              "      <td>19.728</td>\n",
              "      <td>1059.3</td>\n",
              "      <td>550.00</td>\n",
              "      <td>3.4998</td>\n",
              "      <td>3.2363</td>\n",
              "      <td>6.7850</td>\n",
              "      <td>114.72</td>\n",
              "    </tr>\n",
              "    <tr>\n",
              "      <th>2</th>\n",
              "      <td>10.601</td>\n",
              "      <td>19.779</td>\n",
              "      <td>1059.4</td>\n",
              "      <td>549.87</td>\n",
              "      <td>3.4824</td>\n",
              "      <td>3.2012</td>\n",
              "      <td>6.8977</td>\n",
              "      <td>114.71</td>\n",
              "    </tr>\n",
              "    <tr>\n",
              "      <th>3</th>\n",
              "      <td>10.606</td>\n",
              "      <td>19.792</td>\n",
              "      <td>1059.6</td>\n",
              "      <td>549.99</td>\n",
              "      <td>3.4805</td>\n",
              "      <td>3.1923</td>\n",
              "      <td>7.0569</td>\n",
              "      <td>114.72</td>\n",
              "    </tr>\n",
              "    <tr>\n",
              "      <th>4</th>\n",
              "      <td>10.612</td>\n",
              "      <td>19.765</td>\n",
              "      <td>1059.7</td>\n",
              "      <td>549.98</td>\n",
              "      <td>3.4976</td>\n",
              "      <td>3.2484</td>\n",
              "      <td>7.3978</td>\n",
              "      <td>114.72</td>\n",
              "    </tr>\n",
              "  </tbody>\n",
              "</table>\n",
              "</div>\n",
              "      <button class=\"colab-df-convert\" onclick=\"convertToInteractive('df-f79ff8f5-17e5-4817-9f1b-a1d4212787ce')\"\n",
              "              title=\"Convert this dataframe to an interactive table.\"\n",
              "              style=\"display:none;\">\n",
              "        \n",
              "  <svg xmlns=\"http://www.w3.org/2000/svg\" height=\"24px\"viewBox=\"0 0 24 24\"\n",
              "       width=\"24px\">\n",
              "    <path d=\"M0 0h24v24H0V0z\" fill=\"none\"/>\n",
              "    <path d=\"M18.56 5.44l.94 2.06.94-2.06 2.06-.94-2.06-.94-.94-2.06-.94 2.06-2.06.94zm-11 1L8.5 8.5l.94-2.06 2.06-.94-2.06-.94L8.5 2.5l-.94 2.06-2.06.94zm10 10l.94 2.06.94-2.06 2.06-.94-2.06-.94-.94-2.06-.94 2.06-2.06.94z\"/><path d=\"M17.41 7.96l-1.37-1.37c-.4-.4-.92-.59-1.43-.59-.52 0-1.04.2-1.43.59L10.3 9.45l-7.72 7.72c-.78.78-.78 2.05 0 2.83L4 21.41c.39.39.9.59 1.41.59.51 0 1.02-.2 1.41-.59l7.78-7.78 2.81-2.81c.8-.78.8-2.07 0-2.86zM5.41 20L4 18.59l7.72-7.72 1.47 1.35L5.41 20z\"/>\n",
              "  </svg>\n",
              "      </button>\n",
              "      \n",
              "  <style>\n",
              "    .colab-df-container {\n",
              "      display:flex;\n",
              "      flex-wrap:wrap;\n",
              "      gap: 12px;\n",
              "    }\n",
              "\n",
              "    .colab-df-convert {\n",
              "      background-color: #E8F0FE;\n",
              "      border: none;\n",
              "      border-radius: 50%;\n",
              "      cursor: pointer;\n",
              "      display: none;\n",
              "      fill: #1967D2;\n",
              "      height: 32px;\n",
              "      padding: 0 0 0 0;\n",
              "      width: 32px;\n",
              "    }\n",
              "\n",
              "    .colab-df-convert:hover {\n",
              "      background-color: #E2EBFA;\n",
              "      box-shadow: 0px 1px 2px rgba(60, 64, 67, 0.3), 0px 1px 3px 1px rgba(60, 64, 67, 0.15);\n",
              "      fill: #174EA6;\n",
              "    }\n",
              "\n",
              "    [theme=dark] .colab-df-convert {\n",
              "      background-color: #3B4455;\n",
              "      fill: #D2E3FC;\n",
              "    }\n",
              "\n",
              "    [theme=dark] .colab-df-convert:hover {\n",
              "      background-color: #434B5C;\n",
              "      box-shadow: 0px 1px 3px 1px rgba(0, 0, 0, 0.15);\n",
              "      filter: drop-shadow(0px 1px 2px rgba(0, 0, 0, 0.3));\n",
              "      fill: #FFFFFF;\n",
              "    }\n",
              "  </style>\n",
              "\n",
              "      <script>\n",
              "        const buttonEl =\n",
              "          document.querySelector('#df-f79ff8f5-17e5-4817-9f1b-a1d4212787ce button.colab-df-convert');\n",
              "        buttonEl.style.display =\n",
              "          google.colab.kernel.accessAllowed ? 'block' : 'none';\n",
              "\n",
              "        async function convertToInteractive(key) {\n",
              "          const element = document.querySelector('#df-f79ff8f5-17e5-4817-9f1b-a1d4212787ce');\n",
              "          const dataTable =\n",
              "            await google.colab.kernel.invokeFunction('convertToInteractive',\n",
              "                                                     [key], {});\n",
              "          if (!dataTable) return;\n",
              "\n",
              "          const docLinkHtml = 'Like what you see? Visit the ' +\n",
              "            '<a target=\"_blank\" href=https://colab.research.google.com/notebooks/data_table.ipynb>data table notebook</a>'\n",
              "            + ' to learn more about interactive tables.';\n",
              "          element.innerHTML = '';\n",
              "          dataTable['output_type'] = 'display_data';\n",
              "          await google.colab.output.renderOutput(dataTable, element);\n",
              "          const docLink = document.createElement('div');\n",
              "          docLink.innerHTML = docLinkHtml;\n",
              "          element.appendChild(docLink);\n",
              "        }\n",
              "      </script>\n",
              "    </div>\n",
              "  </div>\n",
              "  "
            ]
          },
          "metadata": {},
          "execution_count": 39
        }
      ]
    },
    {
      "cell_type": "code",
      "source": [
        "from sklearn.preprocessing import StandardScaler\n",
        " "
      ],
      "metadata": {
        "id": "uOH5vPs3GJ06"
      },
      "execution_count": 40,
      "outputs": []
    },
    {
      "cell_type": "code",
      "source": [
        "continuous_feature = [feature for feature in model_data.columns if model_data[feature].dtype!='O']\n",
        "print('Continuous feature count {}'.format(len(continuous_feature)))\n"
      ],
      "metadata": {
        "colab": {
          "base_uri": "https://localhost:8080/"
        },
        "id": "7jFbceRVGXkB",
        "outputId": "861c99db-36e8-46a3-ea25-7144bd670f29"
      },
      "execution_count": 41,
      "outputs": [
        {
          "output_type": "stream",
          "name": "stdout",
          "text": [
            "Continuous feature count 8\n"
          ]
        }
      ]
    },
    {
      "cell_type": "code",
      "source": [
        "df_std_scaled = model_data.copy()\n",
        "features = df_std_scaled[continuous_feature]\n",
        "scaler = StandardScaler()\n",
        "df_std_scaled[continuous_feature] = scaler.fit_transform(features.values)\n",
        "df_std_scaled.head()"
      ],
      "metadata": {
        "colab": {
          "base_uri": "https://localhost:8080/",
          "height": 206
        },
        "id": "ORuyuAcGIOWX",
        "outputId": "1e606121-2dbd-4c19-e3d3-e10123827994"
      },
      "execution_count": 42,
      "outputs": [
        {
          "output_type": "execute_result",
          "data": {
            "text/plain": [
              "        CDP      GTEP       TIT       TAT      AFDP        CO        AT  \\\n",
              "0 -1.357331 -1.379101 -1.488376  0.585240 -0.921232  0.532012 -1.439778   \n",
              "1 -1.363676 -1.363528 -1.482325  0.585240 -0.921495  0.568733 -1.449601   \n",
              "2 -1.360957 -1.351309 -1.476275  0.568715 -0.944385  0.552938 -1.434721   \n",
              "3 -1.356424 -1.348194 -1.464173  0.583969 -0.946884  0.548933 -1.413702   \n",
              "4 -1.350985 -1.354663 -1.458123  0.582698 -0.924389  0.574179 -1.368693   \n",
              "\n",
              "        TEY  \n",
              "0 -1.231172  \n",
              "1 -1.229909  \n",
              "2 -1.230541  \n",
              "3 -1.229909  \n",
              "4 -1.229909  "
            ],
            "text/html": [
              "\n",
              "  <div id=\"df-91e85130-816c-44b6-9558-5172998e927e\">\n",
              "    <div class=\"colab-df-container\">\n",
              "      <div>\n",
              "<style scoped>\n",
              "    .dataframe tbody tr th:only-of-type {\n",
              "        vertical-align: middle;\n",
              "    }\n",
              "\n",
              "    .dataframe tbody tr th {\n",
              "        vertical-align: top;\n",
              "    }\n",
              "\n",
              "    .dataframe thead th {\n",
              "        text-align: right;\n",
              "    }\n",
              "</style>\n",
              "<table border=\"1\" class=\"dataframe\">\n",
              "  <thead>\n",
              "    <tr style=\"text-align: right;\">\n",
              "      <th></th>\n",
              "      <th>CDP</th>\n",
              "      <th>GTEP</th>\n",
              "      <th>TIT</th>\n",
              "      <th>TAT</th>\n",
              "      <th>AFDP</th>\n",
              "      <th>CO</th>\n",
              "      <th>AT</th>\n",
              "      <th>TEY</th>\n",
              "    </tr>\n",
              "  </thead>\n",
              "  <tbody>\n",
              "    <tr>\n",
              "      <th>0</th>\n",
              "      <td>-1.357331</td>\n",
              "      <td>-1.379101</td>\n",
              "      <td>-1.488376</td>\n",
              "      <td>0.585240</td>\n",
              "      <td>-0.921232</td>\n",
              "      <td>0.532012</td>\n",
              "      <td>-1.439778</td>\n",
              "      <td>-1.231172</td>\n",
              "    </tr>\n",
              "    <tr>\n",
              "      <th>1</th>\n",
              "      <td>-1.363676</td>\n",
              "      <td>-1.363528</td>\n",
              "      <td>-1.482325</td>\n",
              "      <td>0.585240</td>\n",
              "      <td>-0.921495</td>\n",
              "      <td>0.568733</td>\n",
              "      <td>-1.449601</td>\n",
              "      <td>-1.229909</td>\n",
              "    </tr>\n",
              "    <tr>\n",
              "      <th>2</th>\n",
              "      <td>-1.360957</td>\n",
              "      <td>-1.351309</td>\n",
              "      <td>-1.476275</td>\n",
              "      <td>0.568715</td>\n",
              "      <td>-0.944385</td>\n",
              "      <td>0.552938</td>\n",
              "      <td>-1.434721</td>\n",
              "      <td>-1.230541</td>\n",
              "    </tr>\n",
              "    <tr>\n",
              "      <th>3</th>\n",
              "      <td>-1.356424</td>\n",
              "      <td>-1.348194</td>\n",
              "      <td>-1.464173</td>\n",
              "      <td>0.583969</td>\n",
              "      <td>-0.946884</td>\n",
              "      <td>0.548933</td>\n",
              "      <td>-1.413702</td>\n",
              "      <td>-1.229909</td>\n",
              "    </tr>\n",
              "    <tr>\n",
              "      <th>4</th>\n",
              "      <td>-1.350985</td>\n",
              "      <td>-1.354663</td>\n",
              "      <td>-1.458123</td>\n",
              "      <td>0.582698</td>\n",
              "      <td>-0.924389</td>\n",
              "      <td>0.574179</td>\n",
              "      <td>-1.368693</td>\n",
              "      <td>-1.229909</td>\n",
              "    </tr>\n",
              "  </tbody>\n",
              "</table>\n",
              "</div>\n",
              "      <button class=\"colab-df-convert\" onclick=\"convertToInteractive('df-91e85130-816c-44b6-9558-5172998e927e')\"\n",
              "              title=\"Convert this dataframe to an interactive table.\"\n",
              "              style=\"display:none;\">\n",
              "        \n",
              "  <svg xmlns=\"http://www.w3.org/2000/svg\" height=\"24px\"viewBox=\"0 0 24 24\"\n",
              "       width=\"24px\">\n",
              "    <path d=\"M0 0h24v24H0V0z\" fill=\"none\"/>\n",
              "    <path d=\"M18.56 5.44l.94 2.06.94-2.06 2.06-.94-2.06-.94-.94-2.06-.94 2.06-2.06.94zm-11 1L8.5 8.5l.94-2.06 2.06-.94-2.06-.94L8.5 2.5l-.94 2.06-2.06.94zm10 10l.94 2.06.94-2.06 2.06-.94-2.06-.94-.94-2.06-.94 2.06-2.06.94z\"/><path d=\"M17.41 7.96l-1.37-1.37c-.4-.4-.92-.59-1.43-.59-.52 0-1.04.2-1.43.59L10.3 9.45l-7.72 7.72c-.78.78-.78 2.05 0 2.83L4 21.41c.39.39.9.59 1.41.59.51 0 1.02-.2 1.41-.59l7.78-7.78 2.81-2.81c.8-.78.8-2.07 0-2.86zM5.41 20L4 18.59l7.72-7.72 1.47 1.35L5.41 20z\"/>\n",
              "  </svg>\n",
              "      </button>\n",
              "      \n",
              "  <style>\n",
              "    .colab-df-container {\n",
              "      display:flex;\n",
              "      flex-wrap:wrap;\n",
              "      gap: 12px;\n",
              "    }\n",
              "\n",
              "    .colab-df-convert {\n",
              "      background-color: #E8F0FE;\n",
              "      border: none;\n",
              "      border-radius: 50%;\n",
              "      cursor: pointer;\n",
              "      display: none;\n",
              "      fill: #1967D2;\n",
              "      height: 32px;\n",
              "      padding: 0 0 0 0;\n",
              "      width: 32px;\n",
              "    }\n",
              "\n",
              "    .colab-df-convert:hover {\n",
              "      background-color: #E2EBFA;\n",
              "      box-shadow: 0px 1px 2px rgba(60, 64, 67, 0.3), 0px 1px 3px 1px rgba(60, 64, 67, 0.15);\n",
              "      fill: #174EA6;\n",
              "    }\n",
              "\n",
              "    [theme=dark] .colab-df-convert {\n",
              "      background-color: #3B4455;\n",
              "      fill: #D2E3FC;\n",
              "    }\n",
              "\n",
              "    [theme=dark] .colab-df-convert:hover {\n",
              "      background-color: #434B5C;\n",
              "      box-shadow: 0px 1px 3px 1px rgba(0, 0, 0, 0.15);\n",
              "      filter: drop-shadow(0px 1px 2px rgba(0, 0, 0, 0.3));\n",
              "      fill: #FFFFFF;\n",
              "    }\n",
              "  </style>\n",
              "\n",
              "      <script>\n",
              "        const buttonEl =\n",
              "          document.querySelector('#df-91e85130-816c-44b6-9558-5172998e927e button.colab-df-convert');\n",
              "        buttonEl.style.display =\n",
              "          google.colab.kernel.accessAllowed ? 'block' : 'none';\n",
              "\n",
              "        async function convertToInteractive(key) {\n",
              "          const element = document.querySelector('#df-91e85130-816c-44b6-9558-5172998e927e');\n",
              "          const dataTable =\n",
              "            await google.colab.kernel.invokeFunction('convertToInteractive',\n",
              "                                                     [key], {});\n",
              "          if (!dataTable) return;\n",
              "\n",
              "          const docLinkHtml = 'Like what you see? Visit the ' +\n",
              "            '<a target=\"_blank\" href=https://colab.research.google.com/notebooks/data_table.ipynb>data table notebook</a>'\n",
              "            + ' to learn more about interactive tables.';\n",
              "          element.innerHTML = '';\n",
              "          dataTable['output_type'] = 'display_data';\n",
              "          await google.colab.output.renderOutput(dataTable, element);\n",
              "          const docLink = document.createElement('div');\n",
              "          docLink.innerHTML = docLinkHtml;\n",
              "          element.appendChild(docLink);\n",
              "        }\n",
              "      </script>\n",
              "    </div>\n",
              "  </div>\n",
              "  "
            ]
          },
          "metadata": {},
          "execution_count": 42
        }
      ]
    },
    {
      "cell_type": "code",
      "source": [
        "x = df_std_scaled.drop('TEY',axis=1)\n",
        "y = df_std_scaled['TEY']"
      ],
      "metadata": {
        "id": "2H0VylFFI_x8"
      },
      "execution_count": 43,
      "outputs": []
    },
    {
      "cell_type": "code",
      "source": [
        "x_train, x_test , y_train, y_test = train_test_split(x, y ,test_size=0.3,random_state = 30)"
      ],
      "metadata": {
        "id": "aKg8onRLJge_"
      },
      "execution_count": 44,
      "outputs": []
    },
    {
      "cell_type": "code",
      "source": [
        "from tensorflow.keras.optimizers import Adam"
      ],
      "metadata": {
        "id": "c_lhhf--QVkC"
      },
      "execution_count": 45,
      "outputs": []
    },
    {
      "cell_type": "code",
      "source": [
        "def create_model():\n",
        "    model1 = Sequential()\n",
        "    model1.add(Dense(32,input_dim=7,activation='relu'))\n",
        "    model1.add(Dense(64,activation='relu'))\n",
        "    model1.add(Dense(96,activation=\"relu\"))\n",
        "    model1.add(Dense(32,activation=\"relu\"))\n",
        "    model1.add(Dense(64,activation=\"relu\"))\n",
        "    model1.add(Dense(32,activation=\"relu\"))\n",
        "    model1.add(Dense(96,activation=\"relu\"))\n",
        "    model1.add(Dense(96,activation=\"relu\"))\n",
        "    model1.add(Dense(32,activation=\"relu\"))\n",
        "    model1.add(Dense(64,activation=\"relu\"))\n",
        "    model1.add(Dense(64,activation=\"relu\"))\n",
        "    model1.add(Dense(units=1,activation=\"linear\"))\n",
        "    \n",
        "    adam=Adam(learning_rate=0.001)\n",
        "    model1.compile(loss='mean_absolute_error',optimizer = adam,metrics=[\"mean_absolute_error\"])\n",
        "    return model1"
      ],
      "metadata": {
        "id": "J4B0wZnIvpWY"
      },
      "execution_count": 46,
      "outputs": []
    },
    {
      "cell_type": "code",
      "source": [
        "from sklearn.model_selection import GridSearchCV"
      ],
      "metadata": {
        "id": "Gr-ObLH_SKC8"
      },
      "execution_count": 47,
      "outputs": []
    },
    {
      "cell_type": "code",
      "source": [
        "from sklearn.model_selection import KFold"
      ],
      "metadata": {
        "id": "H8ATDlNPUjUt"
      },
      "execution_count": 48,
      "outputs": []
    },
    {
      "cell_type": "code",
      "source": [
        "model1 =KerasRegressor(build_fn=create_model,verbose=0)\n",
        "batch_size=[10,20,40,50]\n",
        "epochs=[10,50,60,62]\n",
        "param_grid=dict(batch_size=batch_size,epochs=epochs)\n",
        "grid = GridSearchCV(estimator=model1,param_grid=param_grid,cv=KFold(),verbose=10)\n"
      ],
      "metadata": {
        "colab": {
          "base_uri": "https://localhost:8080/"
        },
        "id": "o1Zp5XikG3t4",
        "outputId": "99b0f720-4ebb-4b10-876e-845498f4bbb8"
      },
      "execution_count": 52,
      "outputs": [
        {
          "output_type": "stream",
          "name": "stderr",
          "text": [
            "/usr/local/lib/python3.7/dist-packages/ipykernel_launcher.py:1: DeprecationWarning: KerasRegressor is deprecated, use Sci-Keras (https://github.com/adriangb/scikeras) instead. See https://www.adriangb.com/scikeras/stable/migration.html for help migrating.\n",
            "  \"\"\"Entry point for launching an IPython kernel.\n"
          ]
        }
      ]
    },
    {
      "cell_type": "code",
      "source": [
        "grid"
      ],
      "metadata": {
        "colab": {
          "base_uri": "https://localhost:8080/"
        },
        "id": "3Hs22bkpRxJT",
        "outputId": "3c0d3d52-c876-4ed5-bf25-5dc5404e3f8e"
      },
      "execution_count": 53,
      "outputs": [
        {
          "output_type": "execute_result",
          "data": {
            "text/plain": [
              "GridSearchCV(cv=KFold(n_splits=5, random_state=None, shuffle=False),\n",
              "             estimator=<keras.wrappers.scikit_learn.KerasRegressor object at 0x7f923ee25090>,\n",
              "             param_grid={'batch_size': [10, 20, 40, 50],\n",
              "                         'epochs': [10, 50, 60, 62]},\n",
              "             verbose=10)"
            ]
          },
          "metadata": {},
          "execution_count": 53
        }
      ]
    },
    {
      "cell_type": "code",
      "source": [
        "grid_res = grid.fit(x_test,y_test)"
      ],
      "metadata": {
        "colab": {
          "base_uri": "https://localhost:8080/"
        },
        "id": "mzvX-khDSk5L",
        "outputId": "890d05a7-52ce-4b38-b92d-c63078216bd4"
      },
      "execution_count": 54,
      "outputs": [
        {
          "output_type": "stream",
          "name": "stdout",
          "text": [
            "Fitting 5 folds for each of 16 candidates, totalling 80 fits\n",
            "[CV 1/5; 1/16] START batch_size=10, epochs=10...................................\n",
            "[CV 1/5; 1/16] END ...batch_size=10, epochs=10;, score=-0.042 total time=  12.3s\n",
            "[CV 2/5; 1/16] START batch_size=10, epochs=10...................................\n",
            "[CV 2/5; 1/16] END ...batch_size=10, epochs=10;, score=-0.048 total time=   9.4s\n",
            "[CV 3/5; 1/16] START batch_size=10, epochs=10...................................\n",
            "[CV 3/5; 1/16] END ...batch_size=10, epochs=10;, score=-0.045 total time=  11.4s\n",
            "[CV 4/5; 1/16] START batch_size=10, epochs=10...................................\n",
            "[CV 4/5; 1/16] END ...batch_size=10, epochs=10;, score=-0.079 total time=   9.4s\n",
            "[CV 5/5; 1/16] START batch_size=10, epochs=10...................................\n",
            "[CV 5/5; 1/16] END ...batch_size=10, epochs=10;, score=-0.054 total time=   9.9s\n",
            "[CV 1/5; 2/16] START batch_size=10, epochs=50...................................\n",
            "[CV 1/5; 2/16] END ...batch_size=10, epochs=50;, score=-0.032 total time=  46.1s\n",
            "[CV 2/5; 2/16] START batch_size=10, epochs=50...................................\n",
            "[CV 2/5; 2/16] END ...batch_size=10, epochs=50;, score=-0.042 total time= 1.4min\n",
            "[CV 3/5; 2/16] START batch_size=10, epochs=50...................................\n",
            "[CV 3/5; 2/16] END ...batch_size=10, epochs=50;, score=-0.034 total time= 1.4min\n",
            "[CV 4/5; 2/16] START batch_size=10, epochs=50...................................\n",
            "[CV 4/5; 2/16] END ...batch_size=10, epochs=50;, score=-0.034 total time=  43.6s\n",
            "[CV 5/5; 2/16] START batch_size=10, epochs=50...................................\n",
            "[CV 5/5; 2/16] END ...batch_size=10, epochs=50;, score=-0.032 total time=  42.8s\n",
            "[CV 1/5; 3/16] START batch_size=10, epochs=60...................................\n",
            "[CV 1/5; 3/16] END ...batch_size=10, epochs=60;, score=-0.033 total time= 1.4min\n",
            "[CV 2/5; 3/16] START batch_size=10, epochs=60...................................\n",
            "[CV 2/5; 3/16] END ...batch_size=10, epochs=60;, score=-0.038 total time= 1.4min\n",
            "[CV 3/5; 3/16] START batch_size=10, epochs=60...................................\n",
            "[CV 3/5; 3/16] END ...batch_size=10, epochs=60;, score=-0.030 total time=  51.3s\n",
            "[CV 4/5; 3/16] START batch_size=10, epochs=60...................................\n",
            "[CV 4/5; 3/16] END ...batch_size=10, epochs=60;, score=-0.029 total time=  51.4s\n",
            "[CV 5/5; 3/16] START batch_size=10, epochs=60...................................\n",
            "[CV 5/5; 3/16] END ...batch_size=10, epochs=60;, score=-0.034 total time=  52.9s\n",
            "[CV 1/5; 4/16] START batch_size=10, epochs=62...................................\n",
            "[CV 1/5; 4/16] END ...batch_size=10, epochs=62;, score=-0.036 total time= 1.4min\n",
            "[CV 2/5; 4/16] START batch_size=10, epochs=62...................................\n",
            "[CV 2/5; 4/16] END ...batch_size=10, epochs=62;, score=-0.028 total time= 1.4min\n",
            "[CV 3/5; 4/16] START batch_size=10, epochs=62...................................\n",
            "[CV 3/5; 4/16] END ...batch_size=10, epochs=62;, score=-0.030 total time=  51.7s\n",
            "[CV 4/5; 4/16] START batch_size=10, epochs=62...................................\n",
            "[CV 4/5; 4/16] END ...batch_size=10, epochs=62;, score=-0.028 total time=  52.2s\n",
            "[CV 5/5; 4/16] START batch_size=10, epochs=62...................................\n",
            "[CV 5/5; 4/16] END ...batch_size=10, epochs=62;, score=-0.033 total time= 1.4min\n",
            "[CV 1/5; 5/16] START batch_size=20, epochs=10...................................\n",
            "[CV 1/5; 5/16] END ...batch_size=20, epochs=10;, score=-0.037 total time=   5.7s\n",
            "[CV 2/5; 5/16] START batch_size=20, epochs=10...................................\n",
            "[CV 2/5; 5/16] END ...batch_size=20, epochs=10;, score=-0.041 total time=   6.8s\n",
            "[CV 3/5; 5/16] START batch_size=20, epochs=10...................................\n",
            "[CV 3/5; 5/16] END ...batch_size=20, epochs=10;, score=-0.040 total time=   7.0s\n",
            "[CV 4/5; 5/16] START batch_size=20, epochs=10...................................\n",
            "[CV 4/5; 5/16] END ...batch_size=20, epochs=10;, score=-0.047 total time=   5.4s\n",
            "[CV 5/5; 5/16] START batch_size=20, epochs=10...................................\n",
            "[CV 5/5; 5/16] END ...batch_size=20, epochs=10;, score=-0.037 total time=   6.3s\n",
            "[CV 1/5; 6/16] START batch_size=20, epochs=50...................................\n",
            "[CV 1/5; 6/16] END ...batch_size=20, epochs=50;, score=-0.027 total time=  23.5s\n",
            "[CV 2/5; 6/16] START batch_size=20, epochs=50...................................\n",
            "[CV 2/5; 6/16] END ...batch_size=20, epochs=50;, score=-0.038 total time=  23.3s\n",
            "[CV 3/5; 6/16] START batch_size=20, epochs=50...................................\n",
            "[CV 3/5; 6/16] END ...batch_size=20, epochs=50;, score=-0.031 total time=  22.9s\n",
            "[CV 4/5; 6/16] START batch_size=20, epochs=50...................................\n",
            "[CV 4/5; 6/16] END ...batch_size=20, epochs=50;, score=-0.050 total time=  22.6s\n",
            "[CV 5/5; 6/16] START batch_size=20, epochs=50...................................\n",
            "[CV 5/5; 6/16] END ...batch_size=20, epochs=50;, score=-0.033 total time=  42.1s\n",
            "[CV 1/5; 7/16] START batch_size=20, epochs=60...................................\n",
            "[CV 1/5; 7/16] END ...batch_size=20, epochs=60;, score=-0.045 total time=  28.9s\n",
            "[CV 2/5; 7/16] START batch_size=20, epochs=60...................................\n",
            "[CV 2/5; 7/16] END ...batch_size=20, epochs=60;, score=-0.035 total time=  42.1s\n",
            "[CV 3/5; 7/16] START batch_size=20, epochs=60...................................\n",
            "[CV 3/5; 7/16] END ...batch_size=20, epochs=60;, score=-0.032 total time=  42.4s\n",
            "[CV 4/5; 7/16] START batch_size=20, epochs=60...................................\n",
            "[CV 4/5; 7/16] END ...batch_size=20, epochs=60;, score=-0.028 total time=  42.2s\n",
            "[CV 5/5; 7/16] START batch_size=20, epochs=60...................................\n",
            "[CV 5/5; 7/16] END ...batch_size=20, epochs=60;, score=-0.039 total time=  27.8s\n",
            "[CV 1/5; 8/16] START batch_size=20, epochs=62...................................\n",
            "[CV 1/5; 8/16] END ...batch_size=20, epochs=62;, score=-0.031 total time=  28.6s\n",
            "[CV 2/5; 8/16] START batch_size=20, epochs=62...................................\n",
            "[CV 2/5; 8/16] END ...batch_size=20, epochs=62;, score=-0.029 total time=  28.3s\n",
            "[CV 3/5; 8/16] START batch_size=20, epochs=62...................................\n",
            "[CV 3/5; 8/16] END ...batch_size=20, epochs=62;, score=-0.030 total time=  42.2s\n",
            "[CV 4/5; 8/16] START batch_size=20, epochs=62...................................\n",
            "[CV 4/5; 8/16] END ...batch_size=20, epochs=62;, score=-0.054 total time=  28.5s\n",
            "[CV 5/5; 8/16] START batch_size=20, epochs=62...................................\n",
            "[CV 5/5; 8/16] END ...batch_size=20, epochs=62;, score=-0.031 total time=  29.6s\n",
            "[CV 1/5; 9/16] START batch_size=40, epochs=10...................................\n",
            "[CV 1/5; 9/16] END ...batch_size=40, epochs=10;, score=-0.036 total time=   3.8s\n",
            "[CV 2/5; 9/16] START batch_size=40, epochs=10...................................\n",
            "[CV 2/5; 9/16] END ...batch_size=40, epochs=10;, score=-0.041 total time=   6.9s\n",
            "[CV 3/5; 9/16] START batch_size=40, epochs=10...................................\n",
            "[CV 3/5; 9/16] END ...batch_size=40, epochs=10;, score=-0.030 total time=  13.3s\n",
            "[CV 4/5; 9/16] START batch_size=40, epochs=10...................................\n",
            "[CV 4/5; 9/16] END ...batch_size=40, epochs=10;, score=-0.034 total time=   3.9s\n",
            "[CV 5/5; 9/16] START batch_size=40, epochs=10...................................\n",
            "[CV 5/5; 9/16] END ...batch_size=40, epochs=10;, score=-0.040 total time=   3.8s\n",
            "[CV 1/5; 10/16] START batch_size=40, epochs=50..................................\n",
            "[CV 1/5; 10/16] END ..batch_size=40, epochs=50;, score=-0.032 total time=  14.5s\n",
            "[CV 2/5; 10/16] START batch_size=40, epochs=50..................................\n",
            "[CV 2/5; 10/16] END ..batch_size=40, epochs=50;, score=-0.032 total time=  13.2s\n",
            "[CV 3/5; 10/16] START batch_size=40, epochs=50..................................\n",
            "[CV 3/5; 10/16] END ..batch_size=40, epochs=50;, score=-0.031 total time=  22.1s\n",
            "[CV 4/5; 10/16] START batch_size=40, epochs=50..................................\n",
            "[CV 4/5; 10/16] END ..batch_size=40, epochs=50;, score=-0.039 total time=  13.8s\n",
            "[CV 5/5; 10/16] START batch_size=40, epochs=50..................................\n",
            "[CV 5/5; 10/16] END ..batch_size=40, epochs=50;, score=-0.031 total time=  15.4s\n",
            "[CV 1/5; 11/16] START batch_size=40, epochs=60..................................\n",
            "[CV 1/5; 11/16] END ..batch_size=40, epochs=60;, score=-0.031 total time=  21.6s\n",
            "[CV 2/5; 11/16] START batch_size=40, epochs=60..................................\n",
            "[CV 2/5; 11/16] END ..batch_size=40, epochs=60;, score=-0.039 total time=  21.6s\n",
            "[CV 3/5; 11/16] START batch_size=40, epochs=60..................................\n",
            "[CV 3/5; 11/16] END ..batch_size=40, epochs=60;, score=-0.035 total time=  15.1s\n",
            "[CV 4/5; 11/16] START batch_size=40, epochs=60..................................\n",
            "[CV 4/5; 11/16] END ..batch_size=40, epochs=60;, score=-0.033 total time=  16.4s\n",
            "[CV 5/5; 11/16] START batch_size=40, epochs=60..................................\n",
            "[CV 5/5; 11/16] END ..batch_size=40, epochs=60;, score=-0.030 total time=  15.1s\n",
            "[CV 1/5; 12/16] START batch_size=40, epochs=62..................................\n",
            "[CV 1/5; 12/16] END ..batch_size=40, epochs=62;, score=-0.029 total time=  22.1s\n",
            "[CV 2/5; 12/16] START batch_size=40, epochs=62..................................\n",
            "[CV 2/5; 12/16] END ..batch_size=40, epochs=62;, score=-0.039 total time=  16.1s\n",
            "[CV 3/5; 12/16] START batch_size=40, epochs=62..................................\n",
            "[CV 3/5; 12/16] END ..batch_size=40, epochs=62;, score=-0.032 total time=  21.6s\n",
            "[CV 4/5; 12/16] START batch_size=40, epochs=62..................................\n",
            "[CV 4/5; 12/16] END ..batch_size=40, epochs=62;, score=-0.038 total time=  21.7s\n",
            "[CV 5/5; 12/16] START batch_size=40, epochs=62..................................\n",
            "[CV 5/5; 12/16] END ..batch_size=40, epochs=62;, score=-0.030 total time=  21.8s\n",
            "[CV 1/5; 13/16] START batch_size=50, epochs=10..................................\n",
            "[CV 1/5; 13/16] END ..batch_size=50, epochs=10;, score=-0.042 total time=   4.2s\n",
            "[CV 2/5; 13/16] START batch_size=50, epochs=10..................................\n",
            "[CV 2/5; 13/16] END ..batch_size=50, epochs=10;, score=-0.034 total time=   3.2s\n",
            "[CV 3/5; 13/16] START batch_size=50, epochs=10..................................\n",
            "[CV 3/5; 13/16] END ..batch_size=50, epochs=10;, score=-0.041 total time=   3.5s\n",
            "[CV 4/5; 13/16] START batch_size=50, epochs=10..................................\n",
            "[CV 4/5; 13/16] END ..batch_size=50, epochs=10;, score=-0.042 total time=   3.7s\n",
            "[CV 5/5; 13/16] START batch_size=50, epochs=10..................................\n",
            "[CV 5/5; 13/16] END ..batch_size=50, epochs=10;, score=-0.037 total time=   3.3s\n",
            "[CV 1/5; 14/16] START batch_size=50, epochs=50..................................\n",
            "[CV 1/5; 14/16] END ..batch_size=50, epochs=50;, score=-0.035 total time=  21.7s\n",
            "[CV 2/5; 14/16] START batch_size=50, epochs=50..................................\n",
            "[CV 2/5; 14/16] END ..batch_size=50, epochs=50;, score=-0.029 total time=  11.4s\n",
            "[CV 3/5; 14/16] START batch_size=50, epochs=50..................................\n",
            "[CV 3/5; 14/16] END ..batch_size=50, epochs=50;, score=-0.029 total time=  11.4s\n",
            "[CV 4/5; 14/16] START batch_size=50, epochs=50..................................\n",
            "[CV 4/5; 14/16] END ..batch_size=50, epochs=50;, score=-0.048 total time=  11.4s\n",
            "[CV 5/5; 14/16] START batch_size=50, epochs=50..................................\n",
            "[CV 5/5; 14/16] END ..batch_size=50, epochs=50;, score=-0.028 total time=  11.4s\n",
            "[CV 1/5; 15/16] START batch_size=50, epochs=60..................................\n",
            "[CV 1/5; 15/16] END ..batch_size=50, epochs=60;, score=-0.031 total time=  22.1s\n",
            "[CV 2/5; 15/16] START batch_size=50, epochs=60..................................\n",
            "[CV 2/5; 15/16] END ..batch_size=50, epochs=60;, score=-0.034 total time=  21.6s\n",
            "[CV 3/5; 15/16] START batch_size=50, epochs=60..................................\n",
            "[CV 3/5; 15/16] END ..batch_size=50, epochs=60;, score=-0.029 total time=  14.3s\n",
            "[CV 4/5; 15/16] START batch_size=50, epochs=60..................................\n",
            "[CV 4/5; 15/16] END ..batch_size=50, epochs=60;, score=-0.027 total time=  21.6s\n",
            "[CV 5/5; 15/16] START batch_size=50, epochs=60..................................\n",
            "[CV 5/5; 15/16] END ..batch_size=50, epochs=60;, score=-0.034 total time=  21.6s\n",
            "[CV 1/5; 16/16] START batch_size=50, epochs=62..................................\n",
            "[CV 1/5; 16/16] END ..batch_size=50, epochs=62;, score=-0.038 total time=  21.6s\n",
            "[CV 2/5; 16/16] START batch_size=50, epochs=62..................................\n",
            "[CV 2/5; 16/16] END ..batch_size=50, epochs=62;, score=-0.027 total time=  13.6s\n",
            "[CV 3/5; 16/16] START batch_size=50, epochs=62..................................\n",
            "[CV 3/5; 16/16] END ..batch_size=50, epochs=62;, score=-0.031 total time=  13.3s\n",
            "[CV 4/5; 16/16] START batch_size=50, epochs=62..................................\n",
            "[CV 4/5; 16/16] END ..batch_size=50, epochs=62;, score=-0.037 total time=  22.1s\n",
            "[CV 5/5; 16/16] START batch_size=50, epochs=62..................................\n",
            "[CV 5/5; 16/16] END ..batch_size=50, epochs=62;, score=-0.040 total time=  13.6s\n"
          ]
        }
      ]
    },
    {
      "cell_type": "code",
      "source": [
        "print('Best {}, using {}'.format(grid_res.best_score_,grid_res.best_params_))\n",
        "means = grid_res.cv_results_[\"mean_test_score\"]\n",
        "stds = grid_res.cv_results_[\"std_test_score\"]\n",
        "params = grid_res.cv_results_[\"params\"]\n",
        "for mean,stdev,param in zip(means,stds,params):\n",
        "    print(\"{},{} with {}\".format(mean,stdev,param))"
      ],
      "metadata": {
        "colab": {
          "base_uri": "https://localhost:8080/"
        },
        "id": "eaoJZy8xSuNE",
        "outputId": "8d1eb63f-62b4-4919-bf47-187b3cd45fcd"
      },
      "execution_count": 55,
      "outputs": [
        {
          "output_type": "stream",
          "name": "stdout",
          "text": [
            "Best -0.031120721995830537, using {'batch_size': 10, 'epochs': 62}\n",
            "-0.053231029957532885,0.013233931369811993 with {'batch_size': 10, 'epochs': 10}\n",
            "-0.03454182520508766,0.0036525241747542934 with {'batch_size': 10, 'epochs': 50}\n",
            "-0.03289648406207561,0.0034282728689833783 with {'batch_size': 10, 'epochs': 60}\n",
            "-0.031120721995830537,0.0031512159426379765 with {'batch_size': 10, 'epochs': 62}\n",
            "-0.0403515599668026,0.003769951944591559 with {'batch_size': 20, 'epochs': 10}\n",
            "-0.03590657114982605,0.007990118686073352 with {'batch_size': 20, 'epochs': 50}\n",
            "-0.035795480385422705,0.00573284389121607 with {'batch_size': 20, 'epochs': 60}\n",
            "-0.03493390642106533,0.009411078584105182 with {'batch_size': 20, 'epochs': 62}\n",
            "-0.03613622300326824,0.004223134149524477 with {'batch_size': 40, 'epochs': 10}\n",
            "-0.0330263651907444,0.0030446269885552545 with {'batch_size': 40, 'epochs': 50}\n",
            "-0.03367622308433056,0.003136770283720985 with {'batch_size': 40, 'epochs': 60}\n",
            "-0.03349853567779064,0.0041510495904035745 with {'batch_size': 40, 'epochs': 62}\n",
            "-0.03909061476588249,0.003146947190845402 with {'batch_size': 50, 'epochs': 10}\n",
            "-0.03371453993022442,0.007401112707756511 with {'batch_size': 50, 'epochs': 50}\n",
            "-0.03131436593830585,0.0027868293347212024 with {'batch_size': 50, 'epochs': 60}\n",
            "-0.03443560339510441,0.004923031590665325 with {'batch_size': 50, 'epochs': 62}\n"
          ]
        }
      ]
    },
    {
      "cell_type": "code",
      "source": [
        "model_data"
      ],
      "metadata": {
        "colab": {
          "base_uri": "https://localhost:8080/",
          "height": 423
        },
        "id": "bgTByUdDHSz7",
        "outputId": "fe6d580e-14ac-4343-bf07-f56e8be8d785"
      },
      "execution_count": 114,
      "outputs": [
        {
          "output_type": "execute_result",
          "data": {
            "text/plain": [
              "          CDP    GTEP     TIT     TAT    AFDP      CO      AT     TEY\n",
              "0      10.605  19.663  1059.2  550.00  3.5000  3.1547  6.8594  114.70\n",
              "1      10.598  19.728  1059.3  550.00  3.4998  3.2363  6.7850  114.72\n",
              "2      10.601  19.779  1059.4  549.87  3.4824  3.2012  6.8977  114.71\n",
              "3      10.606  19.792  1059.6  549.99  3.4805  3.1923  7.0569  114.72\n",
              "4      10.612  19.765  1059.7  549.98  3.4976  3.2484  7.3978  114.72\n",
              "...       ...     ...     ...     ...     ...     ...     ...     ...\n",
              "15034  10.400  19.164  1049.7  546.21  3.5421  4.5186  9.0301  111.61\n",
              "15035  10.433  19.414  1046.3  543.22  3.5059  4.8470  7.8879  111.78\n",
              "15036  10.483  19.530  1037.7  537.32  3.4770  7.9632  7.2647  110.19\n",
              "15037  10.533  19.377  1043.2  541.24  3.4486  6.2494  7.0060  110.74\n",
              "15038  10.583  19.306  1049.9  545.85  3.4275  4.9816  6.9279  111.58\n",
              "\n",
              "[15039 rows x 8 columns]"
            ],
            "text/html": [
              "\n",
              "  <div id=\"df-41d57280-d911-49d9-8c9f-012ec9a2b82d\">\n",
              "    <div class=\"colab-df-container\">\n",
              "      <div>\n",
              "<style scoped>\n",
              "    .dataframe tbody tr th:only-of-type {\n",
              "        vertical-align: middle;\n",
              "    }\n",
              "\n",
              "    .dataframe tbody tr th {\n",
              "        vertical-align: top;\n",
              "    }\n",
              "\n",
              "    .dataframe thead th {\n",
              "        text-align: right;\n",
              "    }\n",
              "</style>\n",
              "<table border=\"1\" class=\"dataframe\">\n",
              "  <thead>\n",
              "    <tr style=\"text-align: right;\">\n",
              "      <th></th>\n",
              "      <th>CDP</th>\n",
              "      <th>GTEP</th>\n",
              "      <th>TIT</th>\n",
              "      <th>TAT</th>\n",
              "      <th>AFDP</th>\n",
              "      <th>CO</th>\n",
              "      <th>AT</th>\n",
              "      <th>TEY</th>\n",
              "    </tr>\n",
              "  </thead>\n",
              "  <tbody>\n",
              "    <tr>\n",
              "      <th>0</th>\n",
              "      <td>10.605</td>\n",
              "      <td>19.663</td>\n",
              "      <td>1059.2</td>\n",
              "      <td>550.00</td>\n",
              "      <td>3.5000</td>\n",
              "      <td>3.1547</td>\n",
              "      <td>6.8594</td>\n",
              "      <td>114.70</td>\n",
              "    </tr>\n",
              "    <tr>\n",
              "      <th>1</th>\n",
              "      <td>10.598</td>\n",
              "      <td>19.728</td>\n",
              "      <td>1059.3</td>\n",
              "      <td>550.00</td>\n",
              "      <td>3.4998</td>\n",
              "      <td>3.2363</td>\n",
              "      <td>6.7850</td>\n",
              "      <td>114.72</td>\n",
              "    </tr>\n",
              "    <tr>\n",
              "      <th>2</th>\n",
              "      <td>10.601</td>\n",
              "      <td>19.779</td>\n",
              "      <td>1059.4</td>\n",
              "      <td>549.87</td>\n",
              "      <td>3.4824</td>\n",
              "      <td>3.2012</td>\n",
              "      <td>6.8977</td>\n",
              "      <td>114.71</td>\n",
              "    </tr>\n",
              "    <tr>\n",
              "      <th>3</th>\n",
              "      <td>10.606</td>\n",
              "      <td>19.792</td>\n",
              "      <td>1059.6</td>\n",
              "      <td>549.99</td>\n",
              "      <td>3.4805</td>\n",
              "      <td>3.1923</td>\n",
              "      <td>7.0569</td>\n",
              "      <td>114.72</td>\n",
              "    </tr>\n",
              "    <tr>\n",
              "      <th>4</th>\n",
              "      <td>10.612</td>\n",
              "      <td>19.765</td>\n",
              "      <td>1059.7</td>\n",
              "      <td>549.98</td>\n",
              "      <td>3.4976</td>\n",
              "      <td>3.2484</td>\n",
              "      <td>7.3978</td>\n",
              "      <td>114.72</td>\n",
              "    </tr>\n",
              "    <tr>\n",
              "      <th>...</th>\n",
              "      <td>...</td>\n",
              "      <td>...</td>\n",
              "      <td>...</td>\n",
              "      <td>...</td>\n",
              "      <td>...</td>\n",
              "      <td>...</td>\n",
              "      <td>...</td>\n",
              "      <td>...</td>\n",
              "    </tr>\n",
              "    <tr>\n",
              "      <th>15034</th>\n",
              "      <td>10.400</td>\n",
              "      <td>19.164</td>\n",
              "      <td>1049.7</td>\n",
              "      <td>546.21</td>\n",
              "      <td>3.5421</td>\n",
              "      <td>4.5186</td>\n",
              "      <td>9.0301</td>\n",
              "      <td>111.61</td>\n",
              "    </tr>\n",
              "    <tr>\n",
              "      <th>15035</th>\n",
              "      <td>10.433</td>\n",
              "      <td>19.414</td>\n",
              "      <td>1046.3</td>\n",
              "      <td>543.22</td>\n",
              "      <td>3.5059</td>\n",
              "      <td>4.8470</td>\n",
              "      <td>7.8879</td>\n",
              "      <td>111.78</td>\n",
              "    </tr>\n",
              "    <tr>\n",
              "      <th>15036</th>\n",
              "      <td>10.483</td>\n",
              "      <td>19.530</td>\n",
              "      <td>1037.7</td>\n",
              "      <td>537.32</td>\n",
              "      <td>3.4770</td>\n",
              "      <td>7.9632</td>\n",
              "      <td>7.2647</td>\n",
              "      <td>110.19</td>\n",
              "    </tr>\n",
              "    <tr>\n",
              "      <th>15037</th>\n",
              "      <td>10.533</td>\n",
              "      <td>19.377</td>\n",
              "      <td>1043.2</td>\n",
              "      <td>541.24</td>\n",
              "      <td>3.4486</td>\n",
              "      <td>6.2494</td>\n",
              "      <td>7.0060</td>\n",
              "      <td>110.74</td>\n",
              "    </tr>\n",
              "    <tr>\n",
              "      <th>15038</th>\n",
              "      <td>10.583</td>\n",
              "      <td>19.306</td>\n",
              "      <td>1049.9</td>\n",
              "      <td>545.85</td>\n",
              "      <td>3.4275</td>\n",
              "      <td>4.9816</td>\n",
              "      <td>6.9279</td>\n",
              "      <td>111.58</td>\n",
              "    </tr>\n",
              "  </tbody>\n",
              "</table>\n",
              "<p>15039 rows × 8 columns</p>\n",
              "</div>\n",
              "      <button class=\"colab-df-convert\" onclick=\"convertToInteractive('df-41d57280-d911-49d9-8c9f-012ec9a2b82d')\"\n",
              "              title=\"Convert this dataframe to an interactive table.\"\n",
              "              style=\"display:none;\">\n",
              "        \n",
              "  <svg xmlns=\"http://www.w3.org/2000/svg\" height=\"24px\"viewBox=\"0 0 24 24\"\n",
              "       width=\"24px\">\n",
              "    <path d=\"M0 0h24v24H0V0z\" fill=\"none\"/>\n",
              "    <path d=\"M18.56 5.44l.94 2.06.94-2.06 2.06-.94-2.06-.94-.94-2.06-.94 2.06-2.06.94zm-11 1L8.5 8.5l.94-2.06 2.06-.94-2.06-.94L8.5 2.5l-.94 2.06-2.06.94zm10 10l.94 2.06.94-2.06 2.06-.94-2.06-.94-.94-2.06-.94 2.06-2.06.94z\"/><path d=\"M17.41 7.96l-1.37-1.37c-.4-.4-.92-.59-1.43-.59-.52 0-1.04.2-1.43.59L10.3 9.45l-7.72 7.72c-.78.78-.78 2.05 0 2.83L4 21.41c.39.39.9.59 1.41.59.51 0 1.02-.2 1.41-.59l7.78-7.78 2.81-2.81c.8-.78.8-2.07 0-2.86zM5.41 20L4 18.59l7.72-7.72 1.47 1.35L5.41 20z\"/>\n",
              "  </svg>\n",
              "      </button>\n",
              "      \n",
              "  <style>\n",
              "    .colab-df-container {\n",
              "      display:flex;\n",
              "      flex-wrap:wrap;\n",
              "      gap: 12px;\n",
              "    }\n",
              "\n",
              "    .colab-df-convert {\n",
              "      background-color: #E8F0FE;\n",
              "      border: none;\n",
              "      border-radius: 50%;\n",
              "      cursor: pointer;\n",
              "      display: none;\n",
              "      fill: #1967D2;\n",
              "      height: 32px;\n",
              "      padding: 0 0 0 0;\n",
              "      width: 32px;\n",
              "    }\n",
              "\n",
              "    .colab-df-convert:hover {\n",
              "      background-color: #E2EBFA;\n",
              "      box-shadow: 0px 1px 2px rgba(60, 64, 67, 0.3), 0px 1px 3px 1px rgba(60, 64, 67, 0.15);\n",
              "      fill: #174EA6;\n",
              "    }\n",
              "\n",
              "    [theme=dark] .colab-df-convert {\n",
              "      background-color: #3B4455;\n",
              "      fill: #D2E3FC;\n",
              "    }\n",
              "\n",
              "    [theme=dark] .colab-df-convert:hover {\n",
              "      background-color: #434B5C;\n",
              "      box-shadow: 0px 1px 3px 1px rgba(0, 0, 0, 0.15);\n",
              "      filter: drop-shadow(0px 1px 2px rgba(0, 0, 0, 0.3));\n",
              "      fill: #FFFFFF;\n",
              "    }\n",
              "  </style>\n",
              "\n",
              "      <script>\n",
              "        const buttonEl =\n",
              "          document.querySelector('#df-41d57280-d911-49d9-8c9f-012ec9a2b82d button.colab-df-convert');\n",
              "        buttonEl.style.display =\n",
              "          google.colab.kernel.accessAllowed ? 'block' : 'none';\n",
              "\n",
              "        async function convertToInteractive(key) {\n",
              "          const element = document.querySelector('#df-41d57280-d911-49d9-8c9f-012ec9a2b82d');\n",
              "          const dataTable =\n",
              "            await google.colab.kernel.invokeFunction('convertToInteractive',\n",
              "                                                     [key], {});\n",
              "          if (!dataTable) return;\n",
              "\n",
              "          const docLinkHtml = 'Like what you see? Visit the ' +\n",
              "            '<a target=\"_blank\" href=https://colab.research.google.com/notebooks/data_table.ipynb>data table notebook</a>'\n",
              "            + ' to learn more about interactive tables.';\n",
              "          element.innerHTML = '';\n",
              "          dataTable['output_type'] = 'display_data';\n",
              "          await google.colab.output.renderOutput(dataTable, element);\n",
              "          const docLink = document.createElement('div');\n",
              "          docLink.innerHTML = docLinkHtml;\n",
              "          element.appendChild(docLink);\n",
              "        }\n",
              "      </script>\n",
              "    </div>\n",
              "  </div>\n",
              "  "
            ]
          },
          "metadata": {},
          "execution_count": 114
        }
      ]
    },
    {
      "cell_type": "code",
      "source": [
        "x = model_data.drop('TEY', axis=1)\n",
        "y = model_data[[\"TEY\"]]\n",
        "\n",
        "x_train, x_test, y_train, y_test = train_test_split(x,y, test_size = 0.20, random_state=42)\n",
        "\n",
        "scaler_train = StandardScaler()\n",
        "scaler_test = StandardScaler()\n",
        "\n",
        "x_train_scaled = scaler_train.fit_transform(x_train) \n",
        "x_test_scaled  = scaler_test.fit_transform(x_test) \n",
        "\n",
        "print(x_train_scaled.shape)\n",
        "print(x_test_scaled.shape)\n",
        "print(y_train.shape)\n",
        "print(y_test.shape)"
      ],
      "metadata": {
        "colab": {
          "base_uri": "https://localhost:8080/"
        },
        "id": "IGXR2prYMQoq",
        "outputId": "95e5bb35-5760-4711-868c-08f4a76f8b57"
      },
      "execution_count": 115,
      "outputs": [
        {
          "output_type": "stream",
          "name": "stdout",
          "text": [
            "(12031, 7)\n",
            "(3008, 7)\n",
            "(12031, 1)\n",
            "(3008, 1)\n"
          ]
        }
      ]
    },
    {
      "cell_type": "markdown",
      "source": [
        "Building model using the best batch_size and epochs."
      ],
      "metadata": {
        "id": "S-rBhZHmQgqS"
      }
    },
    {
      "cell_type": "code",
      "source": [
        "model = Sequential()\n",
        "model.add( Dense( units = 50 , activation = 'relu' , kernel_initializer = 'normal', input_dim = 7)) # input layer\n",
        "model.add( Dense( units = 20 , activation = 'tanh' , kernel_initializer = 'normal' )) # hidden layer\n",
        "model.add( Dense( units = 1  , kernel_initializer = 'normal' )) # o/p layer\n",
        "\n",
        "model.compile(optimizer= \"adam\", loss=\"mse\", metrics= [\"mae\", \"mse\"])\n",
        "model.fit(x_train_scaled, y_train , batch_size=10, validation_split=0.3, epochs=62,  verbose=1)"
      ],
      "metadata": {
        "colab": {
          "base_uri": "https://localhost:8080/"
        },
        "id": "gJoiqsbzMZnZ",
        "outputId": "9aa5a1ac-9b30-4d54-f203-2e529e9ddaef"
      },
      "execution_count": 118,
      "outputs": [
        {
          "output_type": "stream",
          "name": "stdout",
          "text": [
            "Epoch 1/62\n",
            "843/843 [==============================] - 4s 4ms/step - loss: 15489.6123 - mae: 123.2923 - mse: 15489.6123 - val_loss: 13193.0508 - val_mae: 113.7765 - val_mse: 13193.0508\n",
            "Epoch 2/62\n",
            "843/843 [==============================] - 2s 3ms/step - loss: 11426.3750 - mae: 105.6088 - mse: 11426.3750 - val_loss: 9711.7373 - val_mae: 97.2819 - val_mse: 9711.7373\n",
            "Epoch 3/62\n",
            "843/843 [==============================] - 2s 2ms/step - loss: 8310.5791 - mae: 89.6715 - mse: 8310.5791 - val_loss: 6943.9736 - val_mae: 81.8291 - val_mse: 6943.9746\n",
            "Epoch 4/62\n",
            "843/843 [==============================] - 2s 3ms/step - loss: 5839.3682 - mae: 74.6297 - mse: 5839.3682 - val_loss: 4765.8774 - val_mae: 67.2154 - val_mse: 4765.8774\n",
            "Epoch 5/62\n",
            "843/843 [==============================] - 3s 4ms/step - loss: 3917.4487 - mae: 60.4164 - mse: 3917.4487 - val_loss: 3099.9932 - val_mae: 53.4043 - val_mse: 3099.9932\n",
            "Epoch 6/62\n",
            "843/843 [==============================] - 3s 3ms/step - loss: 2479.9714 - mae: 47.0263 - mse: 2479.9714 - val_loss: 1889.6721 - val_mae: 40.5179 - val_mse: 1889.6721\n",
            "Epoch 7/62\n",
            "843/843 [==============================] - 2s 3ms/step - loss: 1466.6943 - mae: 34.6915 - mse: 1466.6943 - val_loss: 1073.1957 - val_mae: 28.7696 - val_mse: 1073.1957\n",
            "Epoch 8/62\n",
            "843/843 [==============================] - 2s 2ms/step - loss: 816.9792 - mae: 24.2006 - mse: 816.9792 - val_loss: 586.6364 - val_mae: 20.4357 - val_mse: 586.6364\n",
            "Epoch 9/62\n",
            "843/843 [==============================] - 2s 3ms/step - loss: 459.0733 - mae: 17.9691 - mse: 459.0733 - val_loss: 348.9879 - val_mae: 15.6635 - val_mse: 348.9879\n",
            "Epoch 10/62\n",
            "843/843 [==============================] - 2s 3ms/step - loss: 304.6623 - mae: 14.1324 - mse: 304.6623 - val_loss: 265.8087 - val_mae: 12.6699 - val_mse: 265.8087\n",
            "Epoch 11/62\n",
            "843/843 [==============================] - 2s 3ms/step - loss: 259.6915 - mae: 11.9540 - mse: 259.6915 - val_loss: 249.4934 - val_mae: 11.2782 - val_mse: 249.4933\n",
            "Epoch 12/62\n",
            "843/843 [==============================] - 2s 2ms/step - loss: 252.3495 - mae: 11.2339 - mse: 252.3495 - val_loss: 247.9696 - val_mae: 11.0645 - val_mse: 247.9696\n",
            "Epoch 13/62\n",
            "843/843 [==============================] - 2s 2ms/step - loss: 161.8646 - mae: 7.7696 - mse: 161.8646 - val_loss: 70.8078 - val_mae: 4.3557 - val_mse: 70.8078\n",
            "Epoch 14/62\n",
            "843/843 [==============================] - 2s 2ms/step - loss: 46.8387 - mae: 3.4467 - mse: 46.8387 - val_loss: 25.4248 - val_mae: 2.4692 - val_mse: 25.4248\n",
            "Epoch 15/62\n",
            "843/843 [==============================] - 2s 3ms/step - loss: 17.2027 - mae: 2.0443 - mse: 17.2027 - val_loss: 9.5040 - val_mae: 1.5601 - val_mse: 9.5040\n",
            "Epoch 16/62\n",
            "843/843 [==============================] - 2s 3ms/step - loss: 6.6980 - mae: 1.3195 - mse: 6.6980 - val_loss: 3.9679 - val_mae: 1.0569 - val_mse: 3.9679\n",
            "Epoch 17/62\n",
            "843/843 [==============================] - 2s 3ms/step - loss: 2.9977 - mae: 0.9493 - mse: 2.9977 - val_loss: 2.1192 - val_mae: 0.8349 - val_mse: 2.1192\n",
            "Epoch 18/62\n",
            "843/843 [==============================] - 2s 3ms/step - loss: 1.6463 - mae: 0.7726 - mse: 1.6463 - val_loss: 1.1999 - val_mae: 0.6638 - val_mse: 1.1999\n",
            "Epoch 19/62\n",
            "843/843 [==============================] - 2s 2ms/step - loss: 1.1256 - mae: 0.6853 - mse: 1.1256 - val_loss: 0.8997 - val_mae: 0.6265 - val_mse: 0.8997\n",
            "Epoch 20/62\n",
            "843/843 [==============================] - 2s 3ms/step - loss: 0.8967 - mae: 0.6417 - mse: 0.8967 - val_loss: 0.7265 - val_mae: 0.5723 - val_mse: 0.7265\n",
            "Epoch 21/62\n",
            "843/843 [==============================] - 3s 4ms/step - loss: 0.7503 - mae: 0.6028 - mse: 0.7503 - val_loss: 0.6823 - val_mae: 0.5743 - val_mse: 0.6823\n",
            "Epoch 22/62\n",
            "843/843 [==============================] - 2s 3ms/step - loss: 0.6910 - mae: 0.5843 - mse: 0.6910 - val_loss: 0.7983 - val_mae: 0.6212 - val_mse: 0.7983\n",
            "Epoch 23/62\n",
            "843/843 [==============================] - 2s 3ms/step - loss: 0.6687 - mae: 0.5744 - mse: 0.6687 - val_loss: 0.6215 - val_mae: 0.5462 - val_mse: 0.6215\n",
            "Epoch 24/62\n",
            "843/843 [==============================] - 2s 2ms/step - loss: 0.6196 - mae: 0.5578 - mse: 0.6196 - val_loss: 0.6825 - val_mae: 0.5970 - val_mse: 0.6825\n",
            "Epoch 25/62\n",
            "843/843 [==============================] - 2s 2ms/step - loss: 0.5981 - mae: 0.5558 - mse: 0.5981 - val_loss: 0.5730 - val_mae: 0.5534 - val_mse: 0.5730\n",
            "Epoch 26/62\n",
            "843/843 [==============================] - 2s 3ms/step - loss: 0.5784 - mae: 0.5431 - mse: 0.5784 - val_loss: 0.7018 - val_mae: 0.5812 - val_mse: 0.7018\n",
            "Epoch 27/62\n",
            "843/843 [==============================] - 2s 2ms/step - loss: 0.5557 - mae: 0.5355 - mse: 0.5557 - val_loss: 0.4930 - val_mae: 0.4989 - val_mse: 0.4930\n",
            "Epoch 28/62\n",
            "843/843 [==============================] - 2s 2ms/step - loss: 0.5443 - mae: 0.5279 - mse: 0.5443 - val_loss: 0.4672 - val_mae: 0.4893 - val_mse: 0.4672\n",
            "Epoch 29/62\n",
            "843/843 [==============================] - 2s 2ms/step - loss: 0.5575 - mae: 0.5341 - mse: 0.5575 - val_loss: 0.5305 - val_mae: 0.5166 - val_mse: 0.5305\n",
            "Epoch 30/62\n",
            "843/843 [==============================] - 2s 3ms/step - loss: 0.5411 - mae: 0.5260 - mse: 0.5411 - val_loss: 0.4869 - val_mae: 0.5047 - val_mse: 0.4869\n",
            "Epoch 31/62\n",
            "843/843 [==============================] - 2s 2ms/step - loss: 0.5425 - mae: 0.5267 - mse: 0.5425 - val_loss: 0.4846 - val_mae: 0.5135 - val_mse: 0.4846\n",
            "Epoch 32/62\n",
            "843/843 [==============================] - 2s 2ms/step - loss: 0.5104 - mae: 0.5102 - mse: 0.5104 - val_loss: 0.6043 - val_mae: 0.5459 - val_mse: 0.6043\n",
            "Epoch 33/62\n",
            "843/843 [==============================] - 2s 3ms/step - loss: 0.5192 - mae: 0.5181 - mse: 0.5192 - val_loss: 0.5250 - val_mae: 0.5054 - val_mse: 0.5250\n",
            "Epoch 34/62\n",
            "843/843 [==============================] - 2s 2ms/step - loss: 0.5178 - mae: 0.5193 - mse: 0.5178 - val_loss: 0.4519 - val_mae: 0.4692 - val_mse: 0.4519\n",
            "Epoch 35/62\n",
            "843/843 [==============================] - 2s 3ms/step - loss: 0.5175 - mae: 0.5114 - mse: 0.5175 - val_loss: 0.4667 - val_mae: 0.4927 - val_mse: 0.4667\n",
            "Epoch 36/62\n",
            "843/843 [==============================] - 2s 2ms/step - loss: 0.5026 - mae: 0.5086 - mse: 0.5026 - val_loss: 0.4745 - val_mae: 0.5054 - val_mse: 0.4745\n",
            "Epoch 37/62\n",
            "843/843 [==============================] - 2s 3ms/step - loss: 0.5077 - mae: 0.5139 - mse: 0.5077 - val_loss: 0.6080 - val_mae: 0.5190 - val_mse: 0.6080\n",
            "Epoch 38/62\n",
            "843/843 [==============================] - 2s 3ms/step - loss: 0.5173 - mae: 0.5152 - mse: 0.5173 - val_loss: 0.4152 - val_mae: 0.4597 - val_mse: 0.4152\n",
            "Epoch 39/62\n",
            "843/843 [==============================] - 2s 3ms/step - loss: 0.4996 - mae: 0.5046 - mse: 0.4996 - val_loss: 0.4766 - val_mae: 0.5028 - val_mse: 0.4766\n",
            "Epoch 40/62\n",
            "843/843 [==============================] - 2s 3ms/step - loss: 0.5023 - mae: 0.5071 - mse: 0.5023 - val_loss: 0.4702 - val_mae: 0.4938 - val_mse: 0.4702\n",
            "Epoch 41/62\n",
            "843/843 [==============================] - 2s 3ms/step - loss: 0.5118 - mae: 0.5141 - mse: 0.5118 - val_loss: 0.4610 - val_mae: 0.4889 - val_mse: 0.4610\n",
            "Epoch 42/62\n",
            "843/843 [==============================] - 2s 2ms/step - loss: 0.4922 - mae: 0.5047 - mse: 0.4922 - val_loss: 0.4551 - val_mae: 0.4929 - val_mse: 0.4551\n",
            "Epoch 43/62\n",
            "843/843 [==============================] - 2s 3ms/step - loss: 0.4812 - mae: 0.4985 - mse: 0.4812 - val_loss: 0.4170 - val_mae: 0.4678 - val_mse: 0.4170\n",
            "Epoch 44/62\n",
            "843/843 [==============================] - 2s 3ms/step - loss: 0.5031 - mae: 0.5080 - mse: 0.5031 - val_loss: 0.4216 - val_mae: 0.4595 - val_mse: 0.4216\n",
            "Epoch 45/62\n",
            "843/843 [==============================] - 2s 3ms/step - loss: 0.4748 - mae: 0.4914 - mse: 0.4748 - val_loss: 0.4601 - val_mae: 0.4908 - val_mse: 0.4601\n",
            "Epoch 46/62\n",
            "843/843 [==============================] - 2s 3ms/step - loss: 0.5006 - mae: 0.5067 - mse: 0.5006 - val_loss: 0.6442 - val_mae: 0.6090 - val_mse: 0.6442\n",
            "Epoch 47/62\n",
            "843/843 [==============================] - 2s 2ms/step - loss: 0.4873 - mae: 0.4976 - mse: 0.4873 - val_loss: 0.4934 - val_mae: 0.5072 - val_mse: 0.4934\n",
            "Epoch 48/62\n",
            "843/843 [==============================] - 2s 2ms/step - loss: 0.4876 - mae: 0.4989 - mse: 0.4876 - val_loss: 0.4744 - val_mae: 0.5009 - val_mse: 0.4744\n",
            "Epoch 49/62\n",
            "843/843 [==============================] - 2s 3ms/step - loss: 0.4847 - mae: 0.4971 - mse: 0.4847 - val_loss: 0.4460 - val_mae: 0.4724 - val_mse: 0.4460\n",
            "Epoch 50/62\n",
            "843/843 [==============================] - 2s 3ms/step - loss: 0.4850 - mae: 0.4928 - mse: 0.4850 - val_loss: 0.5573 - val_mae: 0.5212 - val_mse: 0.5573\n",
            "Epoch 51/62\n",
            "843/843 [==============================] - 2s 2ms/step - loss: 0.4844 - mae: 0.4949 - mse: 0.4844 - val_loss: 0.4776 - val_mae: 0.5082 - val_mse: 0.4776\n",
            "Epoch 52/62\n",
            "843/843 [==============================] - 2s 3ms/step - loss: 0.4834 - mae: 0.4956 - mse: 0.4834 - val_loss: 0.5249 - val_mae: 0.5211 - val_mse: 0.5249\n",
            "Epoch 53/62\n",
            "843/843 [==============================] - 2s 2ms/step - loss: 0.4792 - mae: 0.4941 - mse: 0.4792 - val_loss: 0.4144 - val_mae: 0.4642 - val_mse: 0.4144\n",
            "Epoch 54/62\n",
            "843/843 [==============================] - 2s 2ms/step - loss: 0.4909 - mae: 0.4988 - mse: 0.4909 - val_loss: 0.4522 - val_mae: 0.4976 - val_mse: 0.4522\n",
            "Epoch 55/62\n",
            "843/843 [==============================] - 2s 3ms/step - loss: 0.4757 - mae: 0.4918 - mse: 0.4757 - val_loss: 0.3913 - val_mae: 0.4399 - val_mse: 0.3913\n",
            "Epoch 56/62\n",
            "843/843 [==============================] - 2s 2ms/step - loss: 0.4731 - mae: 0.4919 - mse: 0.4731 - val_loss: 0.4730 - val_mae: 0.4916 - val_mse: 0.4730\n",
            "Epoch 57/62\n",
            "843/843 [==============================] - 2s 3ms/step - loss: 0.4684 - mae: 0.4866 - mse: 0.4684 - val_loss: 0.4408 - val_mae: 0.4681 - val_mse: 0.4408\n",
            "Epoch 58/62\n",
            "843/843 [==============================] - 2s 3ms/step - loss: 0.4695 - mae: 0.4902 - mse: 0.4695 - val_loss: 0.4632 - val_mae: 0.4966 - val_mse: 0.4632\n",
            "Epoch 59/62\n",
            "843/843 [==============================] - 2s 3ms/step - loss: 0.4767 - mae: 0.4892 - mse: 0.4767 - val_loss: 0.4110 - val_mae: 0.4652 - val_mse: 0.4110\n",
            "Epoch 60/62\n",
            "843/843 [==============================] - 2s 3ms/step - loss: 0.4625 - mae: 0.4880 - mse: 0.4625 - val_loss: 0.5246 - val_mae: 0.5132 - val_mse: 0.5246\n",
            "Epoch 61/62\n",
            "843/843 [==============================] - 2s 3ms/step - loss: 0.4764 - mae: 0.4905 - mse: 0.4764 - val_loss: 0.4055 - val_mae: 0.4495 - val_mse: 0.4055\n",
            "Epoch 62/62\n",
            "843/843 [==============================] - 2s 2ms/step - loss: 0.4685 - mae: 0.4880 - mse: 0.4685 - val_loss: 0.4417 - val_mae: 0.4909 - val_mse: 0.4417\n"
          ]
        },
        {
          "output_type": "execute_result",
          "data": {
            "text/plain": [
              "<keras.callbacks.History at 0x7f922f6faed0>"
            ]
          },
          "metadata": {},
          "execution_count": 118
        }
      ]
    },
    {
      "cell_type": "code",
      "source": [
        "plt.figure(figsize=(16,9))\n",
        "plt.plot(model.history.history['mae'])\n",
        "plt.plot(model.history.history['mse'])\n",
        "plt.title(\"Model's Mean Absolute and Squared Errors\")\n",
        "plt.xlabel('Epoch')\n",
        "plt.ylabel('Error')\n",
        "plt.legend(['Mean Absulote Erroe', 'Mean Squared Error'],loc = 'upper left')\n",
        "plt.show()\n",
        "#summarize history for loss\n",
        "plt.figure(figsize=(16,9))\n",
        "plt.plot(model.history.history['loss'])\n",
        "plt.plot(model.history.history['val_loss'])\n",
        "plt.title('Model-loss')\n",
        "plt.xlabel('Epoch')\n",
        "plt.ylabel('Mean-Absolute-Error')\n",
        "plt.legend(['Training Error', 'Testing Error'],loc='upper left')\n",
        "plt.show()"
      ],
      "metadata": {
        "colab": {
          "base_uri": "https://localhost:8080/",
          "height": 1000
        },
        "id": "nwJsfv_BMlFl",
        "outputId": "bd18852f-058d-4729-8690-cb7529a5cae0"
      },
      "execution_count": 119,
      "outputs": [
        {
          "output_type": "display_data",
          "data": {
            "text/plain": [
              "<Figure size 1152x648 with 1 Axes>"
            ],
            "image/png": "[encoded data removed]"
          },
          "metadata": {
            "needs_background": "light"
          }
        },
        {
          "output_type": "display_data",
          "data": {
            "text/plain": [
              "<Figure size 1152x648 with 1 Axes>"
            ],
            "image/png": "[encoded data removed]"
          },
          "metadata": {
            "needs_background": "light"
          }
        }
      ]
    },
    {
      "cell_type": "code",
      "source": [
        "y_pred = model.predict(x_test_scaled)"
      ],
      "metadata": {
        "id": "FLdGlBtKQDaT"
      },
      "execution_count": 120,
      "outputs": []
    },
    {
      "cell_type": "code",
      "source": [
        "pred_df = pd.DataFrame(x_test)"
      ],
      "metadata": {
        "id": "VWXpZKMORQTk"
      },
      "execution_count": 121,
      "outputs": []
    },
    {
      "cell_type": "code",
      "source": [
        "pred_df['Actual'] = y_test"
      ],
      "metadata": {
        "id": "LbidEb-bRkoL"
      },
      "execution_count": 122,
      "outputs": []
    },
    {
      "cell_type": "code",
      "source": [
        "pred_df['Predicted'] = y_pred"
      ],
      "metadata": {
        "id": "CDz9F7hcRofW"
      },
      "execution_count": 123,
      "outputs": []
    },
    {
      "cell_type": "code",
      "source": [
        "pred_df"
      ],
      "metadata": {
        "colab": {
          "base_uri": "https://localhost:8080/",
          "height": 423
        },
        "id": "FpNo_-iTRs_H",
        "outputId": "412561b8-47d4-48d0-9c9c-0f571bfb5d51"
      },
      "execution_count": 124,
      "outputs": [
        {
          "output_type": "execute_result",
          "data": {
            "text/plain": [
              "          CDP    GTEP     TIT     TAT    AFDP       CO      AT  Actual  \\\n",
              "13312  12.219  25.762  1092.5  550.25  4.0023  1.26430  24.093  134.46   \n",
              "12627  10.791  20.085  1059.6  549.94  3.2106  2.69370  20.450  111.88   \n",
              "6393   12.126  25.221  1089.9  549.62  4.5325  1.96250  20.262  133.72   \n",
              "4990   12.218  25.965  1092.9  549.96  4.4266  1.57120  26.862  133.79   \n",
              "12462  10.466  19.688  1056.9  550.01  3.1241  2.29960  19.409  110.77   \n",
              "...       ...     ...     ...     ...     ...      ...     ...     ...   \n",
              "11478  11.083  21.936  1069.6  549.87  3.3145  1.42310  21.692  119.25   \n",
              "12302  12.205  25.864  1093.6  550.41  4.0224  0.78249  27.200  133.74   \n",
              "13093  13.081  29.741  1099.5  541.25  4.7190  1.64630  29.073  146.31   \n",
              "2699   13.311  30.052  1099.9  538.12  4.8017  0.84607  23.404  150.07   \n",
              "12506  10.717  19.808  1058.4  549.92  3.0775  5.75540  20.168  111.77   \n",
              "\n",
              "        Predicted  \n",
              "13312  134.950455  \n",
              "12627  112.623558  \n",
              "6393   134.653259  \n",
              "4990   134.444473  \n",
              "12462  111.364624  \n",
              "...           ...  \n",
              "11478  119.582573  \n",
              "12302  134.463501  \n",
              "13093  146.097290  \n",
              "2699   149.945374  \n",
              "12506  111.425636  \n",
              "\n",
              "[3008 rows x 9 columns]"
            ],
            "text/html": [
              "\n",
              "  <div id=\"df-c49a38bd-2b26-4ee3-a104-7d3aa13d2478\">\n",
              "    <div class=\"colab-df-container\">\n",
              "      <div>\n",
              "<style scoped>\n",
              "    .dataframe tbody tr th:only-of-type {\n",
              "        vertical-align: middle;\n",
              "    }\n",
              "\n",
              "    .dataframe tbody tr th {\n",
              "        vertical-align: top;\n",
              "    }\n",
              "\n",
              "    .dataframe thead th {\n",
              "        text-align: right;\n",
              "    }\n",
              "</style>\n",
              "<table border=\"1\" class=\"dataframe\">\n",
              "  <thead>\n",
              "    <tr style=\"text-align: right;\">\n",
              "      <th></th>\n",
              "      <th>CDP</th>\n",
              "      <th>GTEP</th>\n",
              "      <th>TIT</th>\n",
              "      <th>TAT</th>\n",
              "      <th>AFDP</th>\n",
              "      <th>CO</th>\n",
              "      <th>AT</th>\n",
              "      <th>Actual</th>\n",
              "      <th>Predicted</th>\n",
              "    </tr>\n",
              "  </thead>\n",
              "  <tbody>\n",
              "    <tr>\n",
              "      <th>13312</th>\n",
              "      <td>12.219</td>\n",
              "      <td>25.762</td>\n",
              "      <td>1092.5</td>\n",
              "      <td>550.25</td>\n",
              "      <td>4.0023</td>\n",
              "      <td>1.26430</td>\n",
              "      <td>24.093</td>\n",
              "      <td>134.46</td>\n",
              "      <td>134.950455</td>\n",
              "    </tr>\n",
              "    <tr>\n",
              "      <th>12627</th>\n",
              "      <td>10.791</td>\n",
              "      <td>20.085</td>\n",
              "      <td>1059.6</td>\n",
              "      <td>549.94</td>\n",
              "      <td>3.2106</td>\n",
              "      <td>2.69370</td>\n",
              "      <td>20.450</td>\n",
              "      <td>111.88</td>\n",
              "      <td>112.623558</td>\n",
              "    </tr>\n",
              "    <tr>\n",
              "      <th>6393</th>\n",
              "      <td>12.126</td>\n",
              "      <td>25.221</td>\n",
              "      <td>1089.9</td>\n",
              "      <td>549.62</td>\n",
              "      <td>4.5325</td>\n",
              "      <td>1.96250</td>\n",
              "      <td>20.262</td>\n",
              "      <td>133.72</td>\n",
              "      <td>134.653259</td>\n",
              "    </tr>\n",
              "    <tr>\n",
              "      <th>4990</th>\n",
              "      <td>12.218</td>\n",
              "      <td>25.965</td>\n",
              "      <td>1092.9</td>\n",
              "      <td>549.96</td>\n",
              "      <td>4.4266</td>\n",
              "      <td>1.57120</td>\n",
              "      <td>26.862</td>\n",
              "      <td>133.79</td>\n",
              "      <td>134.444473</td>\n",
              "    </tr>\n",
              "    <tr>\n",
              "      <th>12462</th>\n",
              "      <td>10.466</td>\n",
              "      <td>19.688</td>\n",
              "      <td>1056.9</td>\n",
              "      <td>550.01</td>\n",
              "      <td>3.1241</td>\n",
              "      <td>2.29960</td>\n",
              "      <td>19.409</td>\n",
              "      <td>110.77</td>\n",
              "      <td>111.364624</td>\n",
              "    </tr>\n",
              "    <tr>\n",
              "      <th>...</th>\n",
              "      <td>...</td>\n",
              "      <td>...</td>\n",
              "      <td>...</td>\n",
              "      <td>...</td>\n",
              "      <td>...</td>\n",
              "      <td>...</td>\n",
              "      <td>...</td>\n",
              "      <td>...</td>\n",
              "      <td>...</td>\n",
              "    </tr>\n",
              "    <tr>\n",
              "      <th>11478</th>\n",
              "      <td>11.083</td>\n",
              "      <td>21.936</td>\n",
              "      <td>1069.6</td>\n",
              "      <td>549.87</td>\n",
              "      <td>3.3145</td>\n",
              "      <td>1.42310</td>\n",
              "      <td>21.692</td>\n",
              "      <td>119.25</td>\n",
              "      <td>119.582573</td>\n",
              "    </tr>\n",
              "    <tr>\n",
              "      <th>12302</th>\n",
              "      <td>12.205</td>\n",
              "      <td>25.864</td>\n",
              "      <td>1093.6</td>\n",
              "      <td>550.41</td>\n",
              "      <td>4.0224</td>\n",
              "      <td>0.78249</td>\n",
              "      <td>27.200</td>\n",
              "      <td>133.74</td>\n",
              "      <td>134.463501</td>\n",
              "    </tr>\n",
              "    <tr>\n",
              "      <th>13093</th>\n",
              "      <td>13.081</td>\n",
              "      <td>29.741</td>\n",
              "      <td>1099.5</td>\n",
              "      <td>541.25</td>\n",
              "      <td>4.7190</td>\n",
              "      <td>1.64630</td>\n",
              "      <td>29.073</td>\n",
              "      <td>146.31</td>\n",
              "      <td>146.097290</td>\n",
              "    </tr>\n",
              "    <tr>\n",
              "      <th>2699</th>\n",
              "      <td>13.311</td>\n",
              "      <td>30.052</td>\n",
              "      <td>1099.9</td>\n",
              "      <td>538.12</td>\n",
              "      <td>4.8017</td>\n",
              "      <td>0.84607</td>\n",
              "      <td>23.404</td>\n",
              "      <td>150.07</td>\n",
              "      <td>149.945374</td>\n",
              "    </tr>\n",
              "    <tr>\n",
              "      <th>12506</th>\n",
              "      <td>10.717</td>\n",
              "      <td>19.808</td>\n",
              "      <td>1058.4</td>\n",
              "      <td>549.92</td>\n",
              "      <td>3.0775</td>\n",
              "      <td>5.75540</td>\n",
              "      <td>20.168</td>\n",
              "      <td>111.77</td>\n",
              "      <td>111.425636</td>\n",
              "    </tr>\n",
              "  </tbody>\n",
              "</table>\n",
              "<p>3008 rows × 9 columns</p>\n",
              "</div>\n",
              "      <button class=\"colab-df-convert\" onclick=\"convertToInteractive('df-c49a38bd-2b26-4ee3-a104-7d3aa13d2478')\"\n",
              "              title=\"Convert this dataframe to an interactive table.\"\n",
              "              style=\"display:none;\">\n",
              "        \n",
              "  <svg xmlns=\"http://www.w3.org/2000/svg\" height=\"24px\"viewBox=\"0 0 24 24\"\n",
              "       width=\"24px\">\n",
              "    <path d=\"M0 0h24v24H0V0z\" fill=\"none\"/>\n",
              "    <path d=\"M18.56 5.44l.94 2.06.94-2.06 2.06-.94-2.06-.94-.94-2.06-.94 2.06-2.06.94zm-11 1L8.5 8.5l.94-2.06 2.06-.94-2.06-.94L8.5 2.5l-.94 2.06-2.06.94zm10 10l.94 2.06.94-2.06 2.06-.94-2.06-.94-.94-2.06-.94 2.06-2.06.94z\"/><path d=\"M17.41 7.96l-1.37-1.37c-.4-.4-.92-.59-1.43-.59-.52 0-1.04.2-1.43.59L10.3 9.45l-7.72 7.72c-.78.78-.78 2.05 0 2.83L4 21.41c.39.39.9.59 1.41.59.51 0 1.02-.2 1.41-.59l7.78-7.78 2.81-2.81c.8-.78.8-2.07 0-2.86zM5.41 20L4 18.59l7.72-7.72 1.47 1.35L5.41 20z\"/>\n",
              "  </svg>\n",
              "      </button>\n",
              "      \n",
              "  <style>\n",
              "    .colab-df-container {\n",
              "      display:flex;\n",
              "      flex-wrap:wrap;\n",
              "      gap: 12px;\n",
              "    }\n",
              "\n",
              "    .colab-df-convert {\n",
              "      background-color: #E8F0FE;\n",
              "      border: none;\n",
              "      border-radius: 50%;\n",
              "      cursor: pointer;\n",
              "      display: none;\n",
              "      fill: #1967D2;\n",
              "      height: 32px;\n",
              "      padding: 0 0 0 0;\n",
              "      width: 32px;\n",
              "    }\n",
              "\n",
              "    .colab-df-convert:hover {\n",
              "      background-color: #E2EBFA;\n",
              "      box-shadow: 0px 1px 2px rgba(60, 64, 67, 0.3), 0px 1px 3px 1px rgba(60, 64, 67, 0.15);\n",
              "      fill: #174EA6;\n",
              "    }\n",
              "\n",
              "    [theme=dark] .colab-df-convert {\n",
              "      background-color: #3B4455;\n",
              "      fill: #D2E3FC;\n",
              "    }\n",
              "\n",
              "    [theme=dark] .colab-df-convert:hover {\n",
              "      background-color: #434B5C;\n",
              "      box-shadow: 0px 1px 3px 1px rgba(0, 0, 0, 0.15);\n",
              "      filter: drop-shadow(0px 1px 2px rgba(0, 0, 0, 0.3));\n",
              "      fill: #FFFFFF;\n",
              "    }\n",
              "  </style>\n",
              "\n",
              "      <script>\n",
              "        const buttonEl =\n",
              "          document.querySelector('#df-c49a38bd-2b26-4ee3-a104-7d3aa13d2478 button.colab-df-convert');\n",
              "        buttonEl.style.display =\n",
              "          google.colab.kernel.accessAllowed ? 'block' : 'none';\n",
              "\n",
              "        async function convertToInteractive(key) {\n",
              "          const element = document.querySelector('#df-c49a38bd-2b26-4ee3-a104-7d3aa13d2478');\n",
              "          const dataTable =\n",
              "            await google.colab.kernel.invokeFunction('convertToInteractive',\n",
              "                                                     [key], {});\n",
              "          if (!dataTable) return;\n",
              "\n",
              "          const docLinkHtml = 'Like what you see? Visit the ' +\n",
              "            '<a target=\"_blank\" href=https://colab.research.google.com/notebooks/data_table.ipynb>data table notebook</a>'\n",
              "            + ' to learn more about interactive tables.';\n",
              "          element.innerHTML = '';\n",
              "          dataTable['output_type'] = 'display_data';\n",
              "          await google.colab.output.renderOutput(dataTable, element);\n",
              "          const docLink = document.createElement('div');\n",
              "          docLink.innerHTML = docLinkHtml;\n",
              "          element.appendChild(docLink);\n",
              "        }\n",
              "      </script>\n",
              "    </div>\n",
              "  </div>\n",
              "  "
            ]
          },
          "metadata": {},
          "execution_count": 124
        }
      ]
    },
    {
      "cell_type": "code",
      "source": [
        "mse = np.mean((pred_df['Actual']-pred_df['Predicted'])**2)"
      ],
      "metadata": {
        "id": "3SjSdRYLRuEv"
      },
      "execution_count": 126,
      "outputs": []
    },
    {
      "cell_type": "code",
      "source": [
        "mse"
      ],
      "metadata": {
        "colab": {
          "base_uri": "https://localhost:8080/"
        },
        "id": "FVaiq_9dSf0h",
        "outputId": "79c76628-3dde-4dba-9a24-1b7b015be045"
      },
      "execution_count": 127,
      "outputs": [
        {
          "output_type": "execute_result",
          "data": {
            "text/plain": [
              "0.5347232577906098"
            ]
          },
          "metadata": {},
          "execution_count": 127
        }
      ]
    },
    {
      "cell_type": "code",
      "source": [
        "rmse = np.sqrt(mse)"
      ],
      "metadata": {
        "id": "uXUNfyt1S8B6"
      },
      "execution_count": 128,
      "outputs": []
    },
    {
      "cell_type": "code",
      "source": [
        "rmse"
      ],
      "metadata": {
        "colab": {
          "base_uri": "https://localhost:8080/"
        },
        "id": "WQBED6GITAQ3",
        "outputId": "8c54cbbf-63c9-4565-87ba-f6d187f4f440"
      },
      "execution_count": 129,
      "outputs": [
        {
          "output_type": "execute_result",
          "data": {
            "text/plain": [
              "0.7312477403661565"
            ]
          },
          "metadata": {},
          "execution_count": 129
        }
      ]
    },
    {
      "cell_type": "code",
      "source": [
        "pred_df['error']= pred_df['Actual']-pred_df['Predicted']"
      ],
      "metadata": {
        "id": "HdqZp-R5TR_D"
      },
      "execution_count": 132,
      "outputs": []
    },
    {
      "cell_type": "code",
      "source": [
        "from statsmodels.api import qqplot"
      ],
      "metadata": {
        "id": "tBQ0rKQNT_7j"
      },
      "execution_count": 133,
      "outputs": []
    },
    {
      "cell_type": "code",
      "source": [
        "qqplot(pred_df['error'],line='q')\n",
        "plt.title('Normal Q-Q plot of residuals')"
      ],
      "metadata": {
        "colab": {
          "base_uri": "https://localhost:8080/",
          "height": 313
        },
        "id": "bmcE1AIBUHdk",
        "outputId": "10916c27-2a75-49d7-c5c2-ff631b108e85"
      },
      "execution_count": 134,
      "outputs": [
        {
          "output_type": "execute_result",
          "data": {
            "text/plain": [
              "Text(0.5, 1.0, 'Normal Q-Q plot of residuals')"
            ]
          },
          "metadata": {},
          "execution_count": 134
        },
        {
          "output_type": "display_data",
          "data": {
            "text/plain": [
              "<Figure size 432x288 with 1 Axes>"
            ],
            "image/png": "[encoded data removed]"
          },
          "metadata": {
            "needs_background": "light"
          }
        }
      ]
    },
    {
      "cell_type": "code",
      "source": [
        ""
      ],
      "metadata": {
        "id": "YlXPes2LUVuK"
      },
      "execution_count": null,
      "outputs": []
    }
  ]
}