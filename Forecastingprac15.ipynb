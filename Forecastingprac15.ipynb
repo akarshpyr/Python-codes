{
  "nbformat": 4,
  "nbformat_minor": 0,
  "metadata": {
    "colab": {
      "name": "Untitled15.ipynb",
      "provenance": [],
      "authorship_tag": "ABX9TyPhYacSz7vrU/aGCE4QkHZo",
      "include_colab_link": true
    },
    "kernelspec": {
      "name": "python3",
      "display_name": "Python 3"
    },
    "language_info": {
      "name": "python"
    }
  },
  "cells": [
    {
      "cell_type": "markdown",
      "metadata": {
        "id": "view-in-github",
        "colab_type": "text"
      },
      "source": [
        "<a href=\"https://colab.research.google.com/github/akarshpyr/Python-codes/blob/main/Forecastingprac15.ipynb\" target=\"_parent\"><img src=\"https://colab.research.google.com/assets/colab-badge.svg\" alt=\"Open In Colab\"/></a>"
      ]
    },
    {
      "cell_type": "code",
      "execution_count": 1,
      "metadata": {
        "colab": {
          "base_uri": "https://localhost:8080/"
        },
        "id": "o7sqYMR9tZYa",
        "outputId": "b5db63a3-99eb-449d-c968-560fbdf01b57"
      },
      "outputs": [
        {
          "output_type": "stream",
          "name": "stderr",
          "text": [
            "/usr/local/lib/python3.7/dist-packages/statsmodels/tools/_testing.py:19: FutureWarning: pandas.util.testing is deprecated. Use the functions in the public API at pandas.testing instead.\n",
            "  import pandas.util.testing as tm\n"
          ]
        }
      ],
      "source": [
        "from statsmodels.tsa.holtwinters import SimpleExpSmoothing, ExponentialSmoothing, Holt"
      ]
    },
    {
      "cell_type": "code",
      "source": [
        "import pandas as pd\n",
        "import numpy as np\n",
        "import matplotlib.pyplot as plt\n",
        "import seaborn as sns"
      ],
      "metadata": {
        "id": "WN9HMs-ntzxk"
      },
      "execution_count": 2,
      "outputs": []
    },
    {
      "cell_type": "code",
      "source": [
        "from statsmodels.tsa.seasonal import seasonal_decompose"
      ],
      "metadata": {
        "id": "Oilj9QwEuS5e"
      },
      "execution_count": 3,
      "outputs": []
    },
    {
      "cell_type": "code",
      "source": [
        "walmart = pd.read_csv('/content/footfalls.csv')"
      ],
      "metadata": {
        "id": "8behqlucuduU"
      },
      "execution_count": 4,
      "outputs": []
    },
    {
      "cell_type": "code",
      "source": [
        "walmart.Footfalls.plot()"
      ],
      "metadata": {
        "colab": {
          "base_uri": "https://localhost:8080/",
          "height": 282
        },
        "id": "TTd-pAR1upT8",
        "outputId": "cd8109b2-3440-45b4-896b-63746d0259b1"
      },
      "execution_count": 5,
      "outputs": [
        {
          "output_type": "execute_result",
          "data": {
            "text/plain": [
              "<matplotlib.axes._subplots.AxesSubplot at 0x7f0b3c0bac90>"
            ]
          },
          "metadata": {},
          "execution_count": 5
        },
        {
          "output_type": "display_data",
          "data": {
            "text/plain": [
              "<Figure size 432x288 with 1 Axes>"
            ],
            "image/png": "[encoded data removed]"
          },
          "metadata": {
            "needs_background": "light"
          }
        }
      ]
    },
    {
      "cell_type": "code",
      "source": [
        "train = walmart.head(147)\n",
        "test = walmart.tail(12)"
      ],
      "metadata": {
        "id": "vXpTyxGtusNj"
      },
      "execution_count": 6,
      "outputs": []
    },
    {
      "cell_type": "code",
      "source": [
        "plt.figure(figsize=(12,8))"
      ],
      "metadata": {
        "colab": {
          "base_uri": "https://localhost:8080/",
          "height": 52
        },
        "id": "ONfj6NF-v-D1",
        "outputId": "700eaec8-6511-4fc5-c0b8-237f3b965ca3"
      },
      "execution_count": 7,
      "outputs": [
        {
          "output_type": "execute_result",
          "data": {
            "text/plain": [
              "<Figure size 864x576 with 0 Axes>"
            ]
          },
          "metadata": {},
          "execution_count": 7
        },
        {
          "output_type": "display_data",
          "data": {
            "text/plain": [
              "<Figure size 864x576 with 0 Axes>"
            ]
          },
          "metadata": {}
        }
      ]
    },
    {
      "cell_type": "code",
      "source": [
        "walmart['Footfalls'].plot(label='org')\n",
        "for i in range(2,24,6):\n",
        "  walmart['Footfalls'].rolling(i).mean().plot(label =str(i))\n",
        "plt.legend(loc='best')"
      ],
      "metadata": {
        "colab": {
          "base_uri": "https://localhost:8080/",
          "height": 282
        },
        "id": "rercHkt8wKQr",
        "outputId": "dc24ce70-0108-4793-c42f-2bb80e0bf33f"
      },
      "execution_count": 8,
      "outputs": [
        {
          "output_type": "execute_result",
          "data": {
            "text/plain": [
              "<matplotlib.legend.Legend at 0x7f0b3a637a50>"
            ]
          },
          "metadata": {},
          "execution_count": 8
        },
        {
          "output_type": "display_data",
          "data": {
            "text/plain": [
              "<Figure size 432x288 with 1 Axes>"
            ],
            "image/png": "[encoded data removed]"
          },
          "metadata": {
            "needs_background": "light"
          }
        }
      ]
    },
    {
      "cell_type": "code",
      "source": [
        "decompose = seasonal_decompose(walmart.Footfalls,freq=12)"
      ],
      "metadata": {
        "id": "0Bhl_UgIwkf4"
      },
      "execution_count": 9,
      "outputs": []
    },
    {
      "cell_type": "code",
      "source": [
        "%matplotlib inline"
      ],
      "metadata": {
        "id": "NNzz40MyyBLX"
      },
      "execution_count": 10,
      "outputs": []
    },
    {
      "cell_type": "code",
      "source": [
        "decompose.plot()"
      ],
      "metadata": {
        "colab": {
          "base_uri": "https://localhost:8080/",
          "height": 577
        },
        "id": "4PE3XLQJx5A7",
        "outputId": "eff5e932-ce5f-4b93-83d9-7c091b19ffa7"
      },
      "execution_count": 11,
      "outputs": [
        {
          "output_type": "execute_result",
          "data": {
            "text/plain": [
              "<Figure size 432x288 with 4 Axes>"
            ],
            "image/png": "[encoded data removed]"
          },
          "metadata": {},
          "execution_count": 11
        },
        {
          "output_type": "display_data",
          "data": {
            "text/plain": [
              "<Figure size 432x288 with 4 Axes>"
            ],
            "image/png": "[encoded data removed]"
          },
          "metadata": {
            "needs_background": "light"
          }
        }
      ]
    },
    {
      "cell_type": "code",
      "source": [
        "import statsmodels.graphics.tsaplots as tsa_plots"
      ],
      "metadata": {
        "id": "DmH8Q21Rx6Qb"
      },
      "execution_count": 12,
      "outputs": []
    },
    {
      "cell_type": "code",
      "source": [
        "a = tsa_plots.plot_acf(walmart.Footfalls,lags=6)"
      ],
      "metadata": {
        "colab": {
          "base_uri": "https://localhost:8080/",
          "height": 281
        },
        "id": "ifAw6SfhzWbt",
        "outputId": "38af7ff0-b465-40f6-ed95-fa062c00a009"
      },
      "execution_count": 13,
      "outputs": [
        {
          "output_type": "display_data",
          "data": {
            "text/plain": [
              "<Figure size 432x288 with 1 Axes>"
            ],
            "image/png": "[encoded data removed]"
          },
          "metadata": {
            "needs_background": "light"
          }
        }
      ]
    },
    {
      "cell_type": "code",
      "source": [
        "b = tsa_plots.plot_pacf(walmart.Footfalls,lags=12)"
      ],
      "metadata": {
        "colab": {
          "base_uri": "https://localhost:8080/",
          "height": 281
        },
        "id": "3qvmXu8ezeK6",
        "outputId": "c8b1b50e-91a3-4dd8-8b2d-d244e5ab4304"
      },
      "execution_count": 14,
      "outputs": [
        {
          "output_type": "display_data",
          "data": {
            "text/plain": [
              "<Figure size 432x288 with 1 Axes>"
            ],
            "image/png": "[encoded data removed]"
          },
          "metadata": {
            "needs_background": "light"
          }
        }
      ]
    },
    {
      "cell_type": "code",
      "source": [
        "def MAPE(pred,org):\n",
        "  temp = np.abs((pred-org)/org)*100\n",
        "  return np.mean(temp)"
      ],
      "metadata": {
        "id": "fsAWjt2XzvFV"
      },
      "execution_count": 15,
      "outputs": []
    },
    {
      "cell_type": "code",
      "source": [
        "ses_model = SimpleExpSmoothing(train.Footfalls).fit(smoothing_level=0.2)\n",
        "ses_pred = ses_model.predict(start=test.index[0],end=test.index[-1])\n",
        "MAPE(ses_pred,test.Footfalls)"
      ],
      "metadata": {
        "colab": {
          "base_uri": "https://localhost:8080/"
        },
        "id": "Rw8SJO1EzN8K",
        "outputId": "a9250180-cdbc-488c-ef41-ddc2acef666b"
      },
      "execution_count": 16,
      "outputs": [
        {
          "output_type": "execute_result",
          "data": {
            "text/plain": [
              "8.490637057828364"
            ]
          },
          "metadata": {},
          "execution_count": 16
        }
      ]
    },
    {
      "cell_type": "code",
      "source": [
        "holt = Holt(train.Footfalls).fit(smoothing_level=0.8,smoothing_slope=0.2)\n",
        "holt_pred = holt.predict(test.index[0],test.index[-1])\n",
        "MAPE(holt_pred,test.Footfalls)"
      ],
      "metadata": {
        "colab": {
          "base_uri": "https://localhost:8080/"
        },
        "id": "uaaChMKG0Wxn",
        "outputId": "1870e49e-578e-4dba-bf78-6e32ad358215"
      },
      "execution_count": 17,
      "outputs": [
        {
          "output_type": "execute_result",
          "data": {
            "text/plain": [
              "7.546249229496066"
            ]
          },
          "metadata": {},
          "execution_count": 17
        }
      ]
    },
    {
      "cell_type": "code",
      "source": [
        "holt_win = ExponentialSmoothing(train.Footfalls,trend='add',seasonal='add',seasonal_periods=12).fit()\n",
        "holt_win_predict = holt_win.predict(start = test.index[0],end=test.index[-1])\n",
        "MAPE(holt_win_predict,test.Footfalls)"
      ],
      "metadata": {
        "colab": {
          "base_uri": "https://localhost:8080/"
        },
        "id": "w3izxL7G1Jl8",
        "outputId": "d62a7c07-dddf-4bf8-e8a9-5f13a45f3030"
      },
      "execution_count": 18,
      "outputs": [
        {
          "output_type": "stream",
          "name": "stderr",
          "text": [
            "/usr/local/lib/python3.7/dist-packages/statsmodels/tsa/holtwinters.py:712: ConvergenceWarning: Optimization failed to converge. Check mle_retvals.\n",
            "  ConvergenceWarning)\n"
          ]
        },
        {
          "output_type": "execute_result",
          "data": {
            "text/plain": [
              "3.159669764222986"
            ]
          },
          "metadata": {},
          "execution_count": 18
        }
      ]
    },
    {
      "cell_type": "code",
      "source": [
        "holt_new = ExponentialSmoothing(train.Footfalls,seasonal='mul',trend = 'add',seasonal_periods=12).fit()\n",
        "holt_win_predict1 = holt_new.predict(start=test.index[0],end=test.index[-1])\n",
        "MAPE(holt_win_predict1,test.Footfalls)"
      ],
      "metadata": {
        "colab": {
          "base_uri": "https://localhost:8080/"
        },
        "id": "m9QEBT2-2RSP",
        "outputId": "a3444395-fe06-4141-f50d-22a1b1beb275"
      },
      "execution_count": 19,
      "outputs": [
        {
          "output_type": "execute_result",
          "data": {
            "text/plain": [
              "3.118475269462364"
            ]
          },
          "metadata": {},
          "execution_count": 19
        }
      ]
    },
    {
      "cell_type": "code",
      "source": [
        "new_model =ExponentialSmoothing(walmart.Footfalls,seasonal='mul',trend='add',seasonal_periods=12).fit()\n",
        "new_model_pre = new_model.predict(start=test.index[0],end=test.index[-1])\n",
        "MAPE(new_model_pre,test.Footfalls)"
      ],
      "metadata": {
        "colab": {
          "base_uri": "https://localhost:8080/"
        },
        "id": "EdGScAaa_-1Q",
        "outputId": "db3b21c4-016e-4619-f621-31f6116cf11e"
      },
      "execution_count": 20,
      "outputs": [
        {
          "output_type": "execute_result",
          "data": {
            "text/plain": [
              "1.7826438309355395"
            ]
          },
          "metadata": {},
          "execution_count": 20
        }
      ]
    },
    {
      "cell_type": "code",
      "source": [
        "a = new_model.forecast(10)"
      ],
      "metadata": {
        "id": "VUCWutVwAqRr"
      },
      "execution_count": 21,
      "outputs": []
    },
    {
      "cell_type": "code",
      "source": [
        "a"
      ],
      "metadata": {
        "colab": {
          "base_uri": "https://localhost:8080/"
        },
        "id": "qOxwJ1-pA1un",
        "outputId": "5661df4d-981b-4362-c4b8-ea15f2d1a5de"
      },
      "execution_count": 22,
      "outputs": [
        {
          "output_type": "execute_result",
          "data": {
            "text/plain": [
              "159    2156.789567\n",
              "160    2188.299546\n",
              "161    2147.097980\n",
              "162    2263.990169\n",
              "163    2305.817195\n",
              "164    1932.061970\n",
              "165    2098.495872\n",
              "166    2084.574705\n",
              "167    2136.439741\n",
              "168    1857.566130\n",
              "dtype: float64"
            ]
          },
          "metadata": {},
          "execution_count": 22
        }
      ]
    },
    {
      "cell_type": "code",
      "source": [
        "df = pd.DataFrame(a,columns=['forecast'])"
      ],
      "metadata": {
        "id": "07Z8SwNZA2VG"
      },
      "execution_count": 23,
      "outputs": []
    },
    {
      "cell_type": "code",
      "source": [
        "df"
      ],
      "metadata": {
        "colab": {
          "base_uri": "https://localhost:8080/",
          "height": 363
        },
        "id": "bVIp-1qCA9Vl",
        "outputId": "12f331e9-a304-4434-d96a-5e9aa5b805fa"
      },
      "execution_count": 24,
      "outputs": [
        {
          "output_type": "execute_result",
          "data": {
            "text/plain": [
              "        forecast\n",
              "159  2156.789567\n",
              "160  2188.299546\n",
              "161  2147.097980\n",
              "162  2263.990169\n",
              "163  2305.817195\n",
              "164  1932.061970\n",
              "165  2098.495872\n",
              "166  2084.574705\n",
              "167  2136.439741\n",
              "168  1857.566130"
            ],
            "text/html": [
              "\n",
              "  <div id=\"df-3b72a75e-a833-446a-8426-1beabba8ed3b\">\n",
              "    <div class=\"colab-df-container\">\n",
              "      <div>\n",
              "<style scoped>\n",
              "    .dataframe tbody tr th:only-of-type {\n",
              "        vertical-align: middle;\n",
              "    }\n",
              "\n",
              "    .dataframe tbody tr th {\n",
              "        vertical-align: top;\n",
              "    }\n",
              "\n",
              "    .dataframe thead th {\n",
              "        text-align: right;\n",
              "    }\n",
              "</style>\n",
              "<table border=\"1\" class=\"dataframe\">\n",
              "  <thead>\n",
              "    <tr style=\"text-align: right;\">\n",
              "      <th></th>\n",
              "      <th>forecast</th>\n",
              "    </tr>\n",
              "  </thead>\n",
              "  <tbody>\n",
              "    <tr>\n",
              "      <th>159</th>\n",
              "      <td>2156.789567</td>\n",
              "    </tr>\n",
              "    <tr>\n",
              "      <th>160</th>\n",
              "      <td>2188.299546</td>\n",
              "    </tr>\n",
              "    <tr>\n",
              "      <th>161</th>\n",
              "      <td>2147.097980</td>\n",
              "    </tr>\n",
              "    <tr>\n",
              "      <th>162</th>\n",
              "      <td>2263.990169</td>\n",
              "    </tr>\n",
              "    <tr>\n",
              "      <th>163</th>\n",
              "      <td>2305.817195</td>\n",
              "    </tr>\n",
              "    <tr>\n",
              "      <th>164</th>\n",
              "      <td>1932.061970</td>\n",
              "    </tr>\n",
              "    <tr>\n",
              "      <th>165</th>\n",
              "      <td>2098.495872</td>\n",
              "    </tr>\n",
              "    <tr>\n",
              "      <th>166</th>\n",
              "      <td>2084.574705</td>\n",
              "    </tr>\n",
              "    <tr>\n",
              "      <th>167</th>\n",
              "      <td>2136.439741</td>\n",
              "    </tr>\n",
              "    <tr>\n",
              "      <th>168</th>\n",
              "      <td>1857.566130</td>\n",
              "    </tr>\n",
              "  </tbody>\n",
              "</table>\n",
              "</div>\n",
              "      <button class=\"colab-df-convert\" onclick=\"convertToInteractive('df-3b72a75e-a833-446a-8426-1beabba8ed3b')\"\n",
              "              title=\"Convert this dataframe to an interactive table.\"\n",
              "              style=\"display:none;\">\n",
              "        \n",
              "  <svg xmlns=\"http://www.w3.org/2000/svg\" height=\"24px\"viewBox=\"0 0 24 24\"\n",
              "       width=\"24px\">\n",
              "    <path d=\"M0 0h24v24H0V0z\" fill=\"none\"/>\n",
              "    <path d=\"M18.56 5.44l.94 2.06.94-2.06 2.06-.94-2.06-.94-.94-2.06-.94 2.06-2.06.94zm-11 1L8.5 8.5l.94-2.06 2.06-.94-2.06-.94L8.5 2.5l-.94 2.06-2.06.94zm10 10l.94 2.06.94-2.06 2.06-.94-2.06-.94-.94-2.06-.94 2.06-2.06.94z\"/><path d=\"M17.41 7.96l-1.37-1.37c-.4-.4-.92-.59-1.43-.59-.52 0-1.04.2-1.43.59L10.3 9.45l-7.72 7.72c-.78.78-.78 2.05 0 2.83L4 21.41c.39.39.9.59 1.41.59.51 0 1.02-.2 1.41-.59l7.78-7.78 2.81-2.81c.8-.78.8-2.07 0-2.86zM5.41 20L4 18.59l7.72-7.72 1.47 1.35L5.41 20z\"/>\n",
              "  </svg>\n",
              "      </button>\n",
              "      \n",
              "  <style>\n",
              "    .colab-df-container {\n",
              "      display:flex;\n",
              "      flex-wrap:wrap;\n",
              "      gap: 12px;\n",
              "    }\n",
              "\n",
              "    .colab-df-convert {\n",
              "      background-color: #E8F0FE;\n",
              "      border: none;\n",
              "      border-radius: 50%;\n",
              "      cursor: pointer;\n",
              "      display: none;\n",
              "      fill: #1967D2;\n",
              "      height: 32px;\n",
              "      padding: 0 0 0 0;\n",
              "      width: 32px;\n",
              "    }\n",
              "\n",
              "    .colab-df-convert:hover {\n",
              "      background-color: #E2EBFA;\n",
              "      box-shadow: 0px 1px 2px rgba(60, 64, 67, 0.3), 0px 1px 3px 1px rgba(60, 64, 67, 0.15);\n",
              "      fill: #174EA6;\n",
              "    }\n",
              "\n",
              "    [theme=dark] .colab-df-convert {\n",
              "      background-color: #3B4455;\n",
              "      fill: #D2E3FC;\n",
              "    }\n",
              "\n",
              "    [theme=dark] .colab-df-convert:hover {\n",
              "      background-color: #434B5C;\n",
              "      box-shadow: 0px 1px 3px 1px rgba(0, 0, 0, 0.15);\n",
              "      filter: drop-shadow(0px 1px 2px rgba(0, 0, 0, 0.3));\n",
              "      fill: #FFFFFF;\n",
              "    }\n",
              "  </style>\n",
              "\n",
              "      <script>\n",
              "        const buttonEl =\n",
              "          document.querySelector('#df-3b72a75e-a833-446a-8426-1beabba8ed3b button.colab-df-convert');\n",
              "        buttonEl.style.display =\n",
              "          google.colab.kernel.accessAllowed ? 'block' : 'none';\n",
              "\n",
              "        async function convertToInteractive(key) {\n",
              "          const element = document.querySelector('#df-3b72a75e-a833-446a-8426-1beabba8ed3b');\n",
              "          const dataTable =\n",
              "            await google.colab.kernel.invokeFunction('convertToInteractive',\n",
              "                                                     [key], {});\n",
              "          if (!dataTable) return;\n",
              "\n",
              "          const docLinkHtml = 'Like what you see? Visit the ' +\n",
              "            '<a target=\"_blank\" href=https://colab.research.google.com/notebooks/data_table.ipynb>data table notebook</a>'\n",
              "            + ' to learn more about interactive tables.';\n",
              "          element.innerHTML = '';\n",
              "          dataTable['output_type'] = 'display_data';\n",
              "          await google.colab.output.renderOutput(dataTable, element);\n",
              "          const docLink = document.createElement('div');\n",
              "          docLink.innerHTML = docLinkHtml;\n",
              "          element.appendChild(docLink);\n",
              "        }\n",
              "      </script>\n",
              "    </div>\n",
              "  </div>\n",
              "  "
            ]
          },
          "metadata": {},
          "execution_count": 24
        }
      ]
    },
    {
      "cell_type": "code",
      "source": [
        "import statsmodels.api as sm\n",
        "import itertools\n",
        "import warnings"
      ],
      "metadata": {
        "id": "EcQSByG0BIKQ"
      },
      "execution_count": 25,
      "outputs": []
    },
    {
      "cell_type": "code",
      "source": [
        "data = pd.read_csv('/content/water.csv',header=0,index_col=0,parse_dates=True)\n"
      ],
      "metadata": {
        "id": "5yudu7pzB4uD"
      },
      "execution_count": 26,
      "outputs": []
    },
    {
      "cell_type": "code",
      "source": [
        ""
      ],
      "metadata": {
        "id": "zShrSFQ_8jxZ"
      },
      "execution_count": null,
      "outputs": []
    },
    {
      "cell_type": "code",
      "source": [
        "data"
      ],
      "metadata": {
        "colab": {
          "base_uri": "https://localhost:8080/",
          "height": 455
        },
        "id": "Nx9M9bsVC9TZ",
        "outputId": "9d8afbbe-2629-4477-b8b7-5a59333ee34c"
      },
      "execution_count": 27,
      "outputs": [
        {
          "output_type": "execute_result",
          "data": {
            "text/plain": [
              "            Water\n",
              "Year             \n",
              "1885-01-01    356\n",
              "1886-01-01    386\n",
              "1887-01-01    397\n",
              "1888-01-01    397\n",
              "1889-01-01    413\n",
              "...           ...\n",
              "1959-01-01    594\n",
              "1960-01-01    587\n",
              "1961-01-01    587\n",
              "1962-01-01    625\n",
              "1963-01-01    613\n",
              "\n",
              "[79 rows x 1 columns]"
            ],
            "text/html": [
              "\n",
              "  <div id=\"df-21a498c3-4092-4417-b4dd-6bdcdfe7f757\">\n",
              "    <div class=\"colab-df-container\">\n",
              "      <div>\n",
              "<style scoped>\n",
              "    .dataframe tbody tr th:only-of-type {\n",
              "        vertical-align: middle;\n",
              "    }\n",
              "\n",
              "    .dataframe tbody tr th {\n",
              "        vertical-align: top;\n",
              "    }\n",
              "\n",
              "    .dataframe thead th {\n",
              "        text-align: right;\n",
              "    }\n",
              "</style>\n",
              "<table border=\"1\" class=\"dataframe\">\n",
              "  <thead>\n",
              "    <tr style=\"text-align: right;\">\n",
              "      <th></th>\n",
              "      <th>Water</th>\n",
              "    </tr>\n",
              "    <tr>\n",
              "      <th>Year</th>\n",
              "      <th></th>\n",
              "    </tr>\n",
              "  </thead>\n",
              "  <tbody>\n",
              "    <tr>\n",
              "      <th>1885-01-01</th>\n",
              "      <td>356</td>\n",
              "    </tr>\n",
              "    <tr>\n",
              "      <th>1886-01-01</th>\n",
              "      <td>386</td>\n",
              "    </tr>\n",
              "    <tr>\n",
              "      <th>1887-01-01</th>\n",
              "      <td>397</td>\n",
              "    </tr>\n",
              "    <tr>\n",
              "      <th>1888-01-01</th>\n",
              "      <td>397</td>\n",
              "    </tr>\n",
              "    <tr>\n",
              "      <th>1889-01-01</th>\n",
              "      <td>413</td>\n",
              "    </tr>\n",
              "    <tr>\n",
              "      <th>...</th>\n",
              "      <td>...</td>\n",
              "    </tr>\n",
              "    <tr>\n",
              "      <th>1959-01-01</th>\n",
              "      <td>594</td>\n",
              "    </tr>\n",
              "    <tr>\n",
              "      <th>1960-01-01</th>\n",
              "      <td>587</td>\n",
              "    </tr>\n",
              "    <tr>\n",
              "      <th>1961-01-01</th>\n",
              "      <td>587</td>\n",
              "    </tr>\n",
              "    <tr>\n",
              "      <th>1962-01-01</th>\n",
              "      <td>625</td>\n",
              "    </tr>\n",
              "    <tr>\n",
              "      <th>1963-01-01</th>\n",
              "      <td>613</td>\n",
              "    </tr>\n",
              "  </tbody>\n",
              "</table>\n",
              "<p>79 rows × 1 columns</p>\n",
              "</div>\n",
              "      <button class=\"colab-df-convert\" onclick=\"convertToInteractive('df-21a498c3-4092-4417-b4dd-6bdcdfe7f757')\"\n",
              "              title=\"Convert this dataframe to an interactive table.\"\n",
              "              style=\"display:none;\">\n",
              "        \n",
              "  <svg xmlns=\"http://www.w3.org/2000/svg\" height=\"24px\"viewBox=\"0 0 24 24\"\n",
              "       width=\"24px\">\n",
              "    <path d=\"M0 0h24v24H0V0z\" fill=\"none\"/>\n",
              "    <path d=\"M18.56 5.44l.94 2.06.94-2.06 2.06-.94-2.06-.94-.94-2.06-.94 2.06-2.06.94zm-11 1L8.5 8.5l.94-2.06 2.06-.94-2.06-.94L8.5 2.5l-.94 2.06-2.06.94zm10 10l.94 2.06.94-2.06 2.06-.94-2.06-.94-.94-2.06-.94 2.06-2.06.94z\"/><path d=\"M17.41 7.96l-1.37-1.37c-.4-.4-.92-.59-1.43-.59-.52 0-1.04.2-1.43.59L10.3 9.45l-7.72 7.72c-.78.78-.78 2.05 0 2.83L4 21.41c.39.39.9.59 1.41.59.51 0 1.02-.2 1.41-.59l7.78-7.78 2.81-2.81c.8-.78.8-2.07 0-2.86zM5.41 20L4 18.59l7.72-7.72 1.47 1.35L5.41 20z\"/>\n",
              "  </svg>\n",
              "      </button>\n",
              "      \n",
              "  <style>\n",
              "    .colab-df-container {\n",
              "      display:flex;\n",
              "      flex-wrap:wrap;\n",
              "      gap: 12px;\n",
              "    }\n",
              "\n",
              "    .colab-df-convert {\n",
              "      background-color: #E8F0FE;\n",
              "      border: none;\n",
              "      border-radius: 50%;\n",
              "      cursor: pointer;\n",
              "      display: none;\n",
              "      fill: #1967D2;\n",
              "      height: 32px;\n",
              "      padding: 0 0 0 0;\n",
              "      width: 32px;\n",
              "    }\n",
              "\n",
              "    .colab-df-convert:hover {\n",
              "      background-color: #E2EBFA;\n",
              "      box-shadow: 0px 1px 2px rgba(60, 64, 67, 0.3), 0px 1px 3px 1px rgba(60, 64, 67, 0.15);\n",
              "      fill: #174EA6;\n",
              "    }\n",
              "\n",
              "    [theme=dark] .colab-df-convert {\n",
              "      background-color: #3B4455;\n",
              "      fill: #D2E3FC;\n",
              "    }\n",
              "\n",
              "    [theme=dark] .colab-df-convert:hover {\n",
              "      background-color: #434B5C;\n",
              "      box-shadow: 0px 1px 3px 1px rgba(0, 0, 0, 0.15);\n",
              "      filter: drop-shadow(0px 1px 2px rgba(0, 0, 0, 0.3));\n",
              "      fill: #FFFFFF;\n",
              "    }\n",
              "  </style>\n",
              "\n",
              "      <script>\n",
              "        const buttonEl =\n",
              "          document.querySelector('#df-21a498c3-4092-4417-b4dd-6bdcdfe7f757 button.colab-df-convert');\n",
              "        buttonEl.style.display =\n",
              "          google.colab.kernel.accessAllowed ? 'block' : 'none';\n",
              "\n",
              "        async function convertToInteractive(key) {\n",
              "          const element = document.querySelector('#df-21a498c3-4092-4417-b4dd-6bdcdfe7f757');\n",
              "          const dataTable =\n",
              "            await google.colab.kernel.invokeFunction('convertToInteractive',\n",
              "                                                     [key], {});\n",
              "          if (!dataTable) return;\n",
              "\n",
              "          const docLinkHtml = 'Like what you see? Visit the ' +\n",
              "            '<a target=\"_blank\" href=https://colab.research.google.com/notebooks/data_table.ipynb>data table notebook</a>'\n",
              "            + ' to learn more about interactive tables.';\n",
              "          element.innerHTML = '';\n",
              "          dataTable['output_type'] = 'display_data';\n",
              "          await google.colab.output.renderOutput(dataTable, element);\n",
              "          const docLink = document.createElement('div');\n",
              "          docLink.innerHTML = docLinkHtml;\n",
              "          element.appendChild(docLink);\n",
              "        }\n",
              "      </script>\n",
              "    </div>\n",
              "  </div>\n",
              "  "
            ]
          },
          "metadata": {},
          "execution_count": 27
        }
      ]
    },
    {
      "cell_type": "code",
      "source": [
        "data.plot()"
      ],
      "metadata": {
        "colab": {
          "base_uri": "https://localhost:8080/",
          "height": 296
        },
        "id": "K1OiZkcGC-or",
        "outputId": "07e4b146-8527-44e0-ed0d-a9043735da3b"
      },
      "execution_count": 28,
      "outputs": [
        {
          "output_type": "execute_result",
          "data": {
            "text/plain": [
              "<matplotlib.axes._subplots.AxesSubplot at 0x7f0b28f6c2d0>"
            ]
          },
          "metadata": {},
          "execution_count": 28
        },
        {
          "output_type": "display_data",
          "data": {
            "text/plain": [
              "<Figure size 432x288 with 1 Axes>"
            ],
            "image/png": "[encoded data removed]"
          },
          "metadata": {
            "needs_background": "light"
          }
        }
      ]
    },
    {
      "cell_type": "code",
      "source": [
        "data.hist()"
      ],
      "metadata": {
        "colab": {
          "base_uri": "https://localhost:8080/",
          "height": 316
        },
        "id": "ofX6pUznDL_7",
        "outputId": "bd5abaf9-0737-4301-ff69-94847a8d93d8"
      },
      "execution_count": 29,
      "outputs": [
        {
          "output_type": "execute_result",
          "data": {
            "text/plain": [
              "array([[<matplotlib.axes._subplots.AxesSubplot object at 0x7f0b37425610>]],\n",
              "      dtype=object)"
            ]
          },
          "metadata": {},
          "execution_count": 29
        },
        {
          "output_type": "display_data",
          "data": {
            "text/plain": [
              "<Figure size 432x288 with 1 Axes>"
            ],
            "image/png": "[encoded data removed]"
          },
          "metadata": {
            "needs_background": "light"
          }
        }
      ]
    },
    {
      "cell_type": "code",
      "source": [
        "data.plot(kind='kde')"
      ],
      "metadata": {
        "colab": {
          "base_uri": "https://localhost:8080/",
          "height": 282
        },
        "id": "6sRU7HtSDOYe",
        "outputId": "3d68bf6f-ff7e-47fe-c5b6-e4a1d9fa1031"
      },
      "execution_count": 30,
      "outputs": [
        {
          "output_type": "execute_result",
          "data": {
            "text/plain": [
              "<matplotlib.axes._subplots.AxesSubplot at 0x7f0b28ec7f90>"
            ]
          },
          "metadata": {},
          "execution_count": 30
        },
        {
          "output_type": "display_data",
          "data": {
            "text/plain": [
              "<Figure size 432x288 with 1 Axes>"
            ],
            "image/png": "[encoded data removed]"
          },
          "metadata": {
            "needs_background": "light"
          }
        }
      ]
    },
    {
      "cell_type": "code",
      "source": [
        "split_point = len(data)-10"
      ],
      "metadata": {
        "id": "_ncSjgQvDWTA"
      },
      "execution_count": 31,
      "outputs": []
    },
    {
      "cell_type": "code",
      "source": [
        "dataset, validation = data[0:split_point], data[split_point:]"
      ],
      "metadata": {
        "id": "-7slqq61nkb1"
      },
      "execution_count": 32,
      "outputs": []
    },
    {
      "cell_type": "code",
      "source": [
        "print('dataset %d, validation %d' % (len(dataset),len(validation)))"
      ],
      "metadata": {
        "colab": {
          "base_uri": "https://localhost:8080/"
        },
        "id": "d9JXWzS1n2hQ",
        "outputId": "6da06ed6-a968-4905-810d-3292e2b6da8c"
      },
      "execution_count": 33,
      "outputs": [
        {
          "output_type": "stream",
          "name": "stdout",
          "text": [
            "dataset 69, validation 10\n"
          ]
        }
      ]
    },
    {
      "cell_type": "code",
      "source": [
        ""
      ],
      "metadata": {
        "id": "ffpgqLJs8Zc5"
      },
      "execution_count": null,
      "outputs": []
    },
    {
      "cell_type": "code",
      "source": [
        "dataset.to_csv('dataset',header=False)\n",
        "validation.to_csv('validation',header=False)"
      ],
      "metadata": {
        "id": "0udCx6pfo77P"
      },
      "execution_count": 34,
      "outputs": []
    },
    {
      "cell_type": "code",
      "source": [
        "from sklearn.metrics import mean_squared_error"
      ],
      "metadata": {
        "id": "o_1_JXnRpXyv"
      },
      "execution_count": 35,
      "outputs": []
    },
    {
      "cell_type": "code",
      "source": [
        "train = pd.read_csv('/content/dataset',parse_dates=True,squeeze=True,header=None,index_col=0)\n",
        "X= train.values"
      ],
      "metadata": {
        "id": "LB47GDBspyTP"
      },
      "execution_count": 56,
      "outputs": []
    },
    {
      "cell_type": "code",
      "source": [
        "X"
      ],
      "metadata": {
        "colab": {
          "base_uri": "https://localhost:8080/"
        },
        "id": "PVmkdxKYqN7U",
        "outputId": "74973599-83bf-4e0a-b5ab-69d20e94388c"
      },
      "execution_count": 57,
      "outputs": [
        {
          "output_type": "execute_result",
          "data": {
            "text/plain": [
              "array([356, 386, 397, 397, 413, 458, 485, 344, 390, 360, 420, 435, 439,\n",
              "       454, 462, 454, 469, 500, 492, 473, 458, 469, 481, 488, 466, 462,\n",
              "       473, 530, 662, 651, 587, 515, 526, 503, 503, 503, 515, 522, 492,\n",
              "       503, 503, 450, 432, 432, 458, 462, 503, 488, 466, 492, 503, 515,\n",
              "       500, 522, 575, 583, 587, 628, 640, 609, 606, 632, 617, 613, 598,\n",
              "       575, 564, 549, 538])"
            ]
          },
          "metadata": {},
          "execution_count": 57
        }
      ]
    },
    {
      "cell_type": "code",
      "source": [
        "X = X.astype('float32')"
      ],
      "metadata": {
        "id": "mFaT5b9pqOdI"
      },
      "execution_count": 58,
      "outputs": []
    },
    {
      "cell_type": "code",
      "source": [
        "X"
      ],
      "metadata": {
        "colab": {
          "base_uri": "https://localhost:8080/"
        },
        "id": "jGOdK3ePrt_e",
        "outputId": "a598f48c-bea3-42a1-b85d-d1f988bb59a3"
      },
      "execution_count": 59,
      "outputs": [
        {
          "output_type": "execute_result",
          "data": {
            "text/plain": [
              "array([356., 386., 397., 397., 413., 458., 485., 344., 390., 360., 420.,\n",
              "       435., 439., 454., 462., 454., 469., 500., 492., 473., 458., 469.,\n",
              "       481., 488., 466., 462., 473., 530., 662., 651., 587., 515., 526.,\n",
              "       503., 503., 503., 515., 522., 492., 503., 503., 450., 432., 432.,\n",
              "       458., 462., 503., 488., 466., 492., 503., 515., 500., 522., 575.,\n",
              "       583., 587., 628., 640., 609., 606., 632., 617., 613., 598., 575.,\n",
              "       564., 549., 538.], dtype=float32)"
            ]
          },
          "metadata": {},
          "execution_count": 59
        }
      ]
    },
    {
      "cell_type": "code",
      "source": [
        "train_size = int(len(X)*0.50)"
      ],
      "metadata": {
        "id": "yhSs6QmkqZ_T"
      },
      "execution_count": 60,
      "outputs": []
    },
    {
      "cell_type": "code",
      "source": [
        "train_size"
      ],
      "metadata": {
        "colab": {
          "base_uri": "https://localhost:8080/"
        },
        "id": "qTwwbo2UrnNo",
        "outputId": "952e86c8-3e16-4e90-9d22-95bbfd13fb4c"
      },
      "execution_count": 61,
      "outputs": [
        {
          "output_type": "execute_result",
          "data": {
            "text/plain": [
              "34"
            ]
          },
          "metadata": {},
          "execution_count": 61
        }
      ]
    },
    {
      "cell_type": "code",
      "source": [
        "train,test = X[0:train_size],X[train_size:]"
      ],
      "metadata": {
        "id": "tmtRdT6yrMr2"
      },
      "execution_count": 62,
      "outputs": []
    },
    {
      "cell_type": "code",
      "source": [
        "range(len(test))"
      ],
      "metadata": {
        "colab": {
          "base_uri": "https://localhost:8080/"
        },
        "id": "CQ26m5R3spiD",
        "outputId": "b5a478e6-0cce-4deb-9e01-0a2e5a4d42e7"
      },
      "execution_count": 63,
      "outputs": [
        {
          "output_type": "execute_result",
          "data": {
            "text/plain": [
              "range(0, 35)"
            ]
          },
          "metadata": {},
          "execution_count": 63
        }
      ]
    },
    {
      "cell_type": "code",
      "source": [
        "history = [x for x in train]\n",
        "predictions = list()\n",
        "for i in range(len(test)):\n",
        "  yhat = history[-1]\n",
        "  predictions.append(yhat)\n",
        "  obs=test[i]\n",
        "  history.append(obs)\n",
        "  print('exp = %.3f,obs=%.3f' % (yhat,obs))"
      ],
      "metadata": {
        "colab": {
          "base_uri": "https://localhost:8080/"
        },
        "id": "heO62vUercnn",
        "outputId": "a26f9914-f38d-4cad-8a6f-872c70b668ac"
      },
      "execution_count": 64,
      "outputs": [
        {
          "output_type": "stream",
          "name": "stdout",
          "text": [
            "exp = 503.000,obs=503.000\n",
            "exp = 503.000,obs=503.000\n",
            "exp = 503.000,obs=515.000\n",
            "exp = 515.000,obs=522.000\n",
            "exp = 522.000,obs=492.000\n",
            "exp = 492.000,obs=503.000\n",
            "exp = 503.000,obs=503.000\n",
            "exp = 503.000,obs=450.000\n",
            "exp = 450.000,obs=432.000\n",
            "exp = 432.000,obs=432.000\n",
            "exp = 432.000,obs=458.000\n",
            "exp = 458.000,obs=462.000\n",
            "exp = 462.000,obs=503.000\n",
            "exp = 503.000,obs=488.000\n",
            "exp = 488.000,obs=466.000\n",
            "exp = 466.000,obs=492.000\n",
            "exp = 492.000,obs=503.000\n",
            "exp = 503.000,obs=515.000\n",
            "exp = 515.000,obs=500.000\n",
            "exp = 500.000,obs=522.000\n",
            "exp = 522.000,obs=575.000\n",
            "exp = 575.000,obs=583.000\n",
            "exp = 583.000,obs=587.000\n",
            "exp = 587.000,obs=628.000\n",
            "exp = 628.000,obs=640.000\n",
            "exp = 640.000,obs=609.000\n",
            "exp = 609.000,obs=606.000\n",
            "exp = 606.000,obs=632.000\n",
            "exp = 632.000,obs=617.000\n",
            "exp = 617.000,obs=613.000\n",
            "exp = 613.000,obs=598.000\n",
            "exp = 598.000,obs=575.000\n",
            "exp = 575.000,obs=564.000\n",
            "exp = 564.000,obs=549.000\n",
            "exp = 549.000,obs=538.000\n"
          ]
        }
      ]
    },
    {
      "cell_type": "code",
      "source": [
        "print('exp = %.3f,obs=%.3f' % (yhat,obs))"
      ],
      "metadata": {
        "colab": {
          "base_uri": "https://localhost:8080/"
        },
        "id": "ZTVu7eSEsoYd",
        "outputId": "075ba87b-be05-46fc-f0c7-e71f347b000d"
      },
      "execution_count": 65,
      "outputs": [
        {
          "output_type": "stream",
          "name": "stdout",
          "text": [
            "exp = 549.000,obs=538.000\n"
          ]
        }
      ]
    },
    {
      "cell_type": "code",
      "source": [
        "rmse = np.sqrt(mean_squared_error(test,predictions))"
      ],
      "metadata": {
        "id": "kkF-HMv5wO3Z"
      },
      "execution_count": 66,
      "outputs": []
    },
    {
      "cell_type": "code",
      "source": [
        "rmse"
      ],
      "metadata": {
        "colab": {
          "base_uri": "https://localhost:8080/"
        },
        "id": "7-nZcZfjwnlE",
        "outputId": "7d8d623b-086c-41ca-cba0-854a05135eb2"
      },
      "execution_count": 67,
      "outputs": [
        {
          "output_type": "execute_result",
          "data": {
            "text/plain": [
              "21.97466"
            ]
          },
          "metadata": {},
          "execution_count": 67
        }
      ]
    },
    {
      "cell_type": "code",
      "source": [
        "from statsmodels.tsa.arima_model import ARIMA"
      ],
      "metadata": {
        "id": "U28vwDM2wqdF"
      },
      "execution_count": 68,
      "outputs": []
    },
    {
      "cell_type": "code",
      "source": [
        "import warnings"
      ],
      "metadata": {
        "id": "MutsI_v6xQge"
      },
      "execution_count": 69,
      "outputs": []
    },
    {
      "cell_type": "code",
      "source": [
        "import sklearn.model_selection as sk\n"
      ],
      "metadata": {
        "id": "tnRZehZ5xVw4"
      },
      "execution_count": 70,
      "outputs": []
    },
    {
      "cell_type": "code",
      "source": [
        "def evaluate_arima_model(X,arima_order):\n",
        "  X= X.astype('float32')\n",
        "  train_size = int(len(X)*0.50)\n",
        "  train,test = X[0:train_size],X[train_size:]\n",
        "  history = [x for x in train]\n",
        "  predictions=()\n",
        "  for t in range(len(test)):\n",
        "    model = ARIMA(history, order = arima_order)\n",
        "    model_fit = model.fit(disp=0)\n",
        "    yhat = model_fit.forecast()[0]\n",
        "    predictions.append(yhat)\n",
        "    history.append(test(t))\n",
        "  rmse = np.sqrt(mean_squared_error(test,predictions))\n",
        "  return rmse"
      ],
      "metadata": {
        "id": "iPHM7K1WJYbE"
      },
      "execution_count": 75,
      "outputs": []
    },
    {
      "cell_type": "code",
      "source": [
        "def evaluate_models(dataset,pvalue,dvalue,qvalue):\n",
        "  dataset = dataset.astype('float32')\n",
        "  best_score , best_config = float('inf'),None\n",
        "  for p in pvalue:\n",
        "    for d in dvalue:\n",
        "      for q in qvalue:\n",
        "        order = (p,d,q)\n",
        "        try:\n",
        "          rmse = evaluate_arima_model(train,order)\n",
        "          if rmse<best_score:\n",
        "            best_score, best_config = rmse,order\n",
        "            print('arima%s rmse=%.3f' % (order,rmse))\n",
        "        except:\n",
        "          continue\n",
        "  print('best arima%s rmse=%.3f' % (best_config,best_score))"
      ],
      "metadata": {
        "id": "cemQnk8pMGbJ"
      },
      "execution_count": 76,
      "outputs": []
    },
    {
      "cell_type": "code",
      "source": [
        "train = pd.read_csv('/content/dataset',parse_dates=True,squeeze=True,header=None,index_col=0)\n",
        "pvalue = range(0,3)\n",
        "dvalue=range(0,3)\n",
        "qvalue=range(0,3)\n",
        "warnings.filterwarnings('ignore')\n",
        "evaluate_models(train.values, pvalue, dvalue, qvalue)"
      ],
      "metadata": {
        "colab": {
          "base_uri": "https://localhost:8080/"
        },
        "id": "nfr4e7MRZtae",
        "outputId": "8ac8ea01-613b-4767-cf24-1d3792a27eb2"
      },
      "execution_count": 77,
      "outputs": [
        {
          "output_type": "stream",
          "name": "stdout",
          "text": [
            "best arimaNone rmse=inf\n"
          ]
        }
      ]
    },
    {
      "cell_type": "code",
      "source": [
        ""
      ],
      "metadata": {
        "id": "plSH1ncnaesA"
      },
      "execution_count": 53,
      "outputs": []
    }
  ]
}