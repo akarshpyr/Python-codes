{
  "cells": [
    {
      "cell_type": "markdown",
      "metadata": {
        "id": "view-in-github",
        "colab_type": "text"
      },
      "source": [
        "<a href=\"https://colab.research.google.com/github/akarshpyr/Python-codes/blob/main/Practice_turingminds.ipynb\" target=\"_parent\"><img src=\"https://colab.research.google.com/assets/colab-badge.svg\" alt=\"Open In Colab\"/></a>"
      ]
    },
    {
      "cell_type": "markdown",
      "metadata": {
        "id": "P408dwT8KXSW"
      },
      "source": [
        "If else statements"
      ]
    },
    {
      "cell_type": "code",
      "execution_count": null,
      "metadata": {
        "id": "n8B_11WhKYrc"
      },
      "outputs": [],
      "source": [
        "people = 200000\n",
        "cats = 200\n",
        "dogs = 2900\n",
        "if people<dogs:\n",
        "  print('Dogs win')\n",
        "else:\n",
        "  print('People win')\n",
        "    "
      ]
    },
    {
      "cell_type": "code",
      "execution_count": null,
      "metadata": {
        "id": "-Q6rAs2hKl7x"
      },
      "outputs": [],
      "source": [
        "cars = 2000\n",
        "bikes = 25000\n",
        "if cars == bikes:\n",
        "  print('We are rich')\n",
        "else:\n",
        "  print('We should work hard')"
      ]
    },
    {
      "cell_type": "code",
      "execution_count": null,
      "metadata": {
        "id": "7vzC7adqMV16"
      },
      "outputs": [],
      "source": [
        "labour = 1000\n",
        "openings = 100\n",
        "if labour>openings:\n",
        "  print('Unemployment \\nproblem')\n",
        "elif labour<openings:\n",
        "  print('We are in Canada')\n",
        "else:\n",
        "  print('We are going to suffer')"
      ]
    },
    {
      "cell_type": "markdown",
      "metadata": {
        "id": "BwMlMEsLOLcU"
      },
      "source": [
        "Loops and list"
      ]
    },
    {
      "cell_type": "code",
      "execution_count": null,
      "metadata": {
        "id": "B9Aywm28NUjM"
      },
      "outputs": [],
      "source": [
        "the_count = [1,2,3,4,5]\n",
        "\n",
        "for number in the_count:\n",
        "  if number==2:\n",
        "    print('It is even')\n",
        "else:\n",
        "  print('It is odd')"
      ]
    },
    {
      "cell_type": "code",
      "execution_count": null,
      "metadata": {
        "id": "PgfxQCUjPvwr"
      },
      "outputs": [],
      "source": [
        "l1 = str(1)"
      ]
    },
    {
      "cell_type": "markdown",
      "metadata": {
        "id": "OR1JWgXjOH_O"
      },
      "source": []
    },
    {
      "cell_type": "code",
      "execution_count": null,
      "metadata": {
        "id": "n-QJlRMJP2cA"
      },
      "outputs": [],
      "source": [
        "l1 = ['aki','anu','abhi','sandy','rajath']\n",
        "for names in l1:\n",
        "  if names=='arun':\n",
        "    print('He hails from Karnataka')\n",
        "else:\n",
        "  print(f'His name is {names}')\n"
      ]
    },
    {
      "cell_type": "code",
      "execution_count": null,
      "metadata": {
        "id": "DqdguFUoQ3FB"
      },
      "outputs": [],
      "source": [
        "elements = []\n",
        "for i in range(0,6):\n",
        "  elements.append(i)\n",
        "print(elements)"
      ]
    },
    {
      "cell_type": "code",
      "execution_count": null,
      "metadata": {
        "id": "1Ef_YxRwRdS8"
      },
      "outputs": [],
      "source": [
        "countries = []\n",
        "for country in ['India','Pakistan','Bangladesh','Sri Lanka','China','Austrailia','Fiji','Cuba','USA']:\n",
        "  if country in ['India','Pakistan','Bangladesh','Sri Lanka','China']:\n",
        "    countries.append(country)\n",
        "print(countries)\n",
        "print('It is in Asia')\n",
        "  "
      ]
    },
    {
      "cell_type": "markdown",
      "metadata": {
        "id": "UIxrW92FTUaU"
      },
      "source": [
        "While loop"
      ]
    },
    {
      "cell_type": "code",
      "execution_count": null,
      "metadata": {
        "id": "s6czRWfLSUuJ"
      },
      "outputs": [],
      "source": [
        "i = 0\n",
        "number = []\n",
        "while i < 6:\n",
        "  print(f'At the top i is {i}')\n",
        "  number.append(i)\n",
        "  i+=1\n",
        "  print('Numbers now=',number)\n",
        "  print(f'At the bottom i is {i}')\n",
        "print('The numbers= ')\n",
        "for num in number:\n",
        "  print(num)"
      ]
    },
    {
      "cell_type": "markdown",
      "metadata": {
        "id": "SrWMu1xAXGKr"
      },
      "source": [
        "## Functions"
      ]
    },
    {
      "cell_type": "code",
      "execution_count": null,
      "metadata": {
        "id": "_AHbc5QDWs7Q"
      },
      "outputs": [],
      "source": [
        "def greet(name):\n",
        "  print(f\"Hello dumbo your name is {name}\")"
      ]
    },
    {
      "cell_type": "code",
      "execution_count": null,
      "metadata": {
        "id": "ziU_WXxDYA6-"
      },
      "outputs": [],
      "source": [
        "greet('Akarsh')"
      ]
    },
    {
      "cell_type": "code",
      "execution_count": null,
      "metadata": {
        "id": "R0QmsUf7YGGm"
      },
      "outputs": [],
      "source": [
        "def add_numbers(a,b):\n",
        "  sum = a+b\n",
        "  return(sum)\n"
      ]
    },
    {
      "cell_type": "code",
      "execution_count": null,
      "metadata": {
        "id": "TogRrbSeZV5U"
      },
      "outputs": [],
      "source": [
        "add_numbers(3000,3455)"
      ]
    },
    {
      "cell_type": "code",
      "execution_count": null,
      "metadata": {
        "id": "kQuJuzYCZYwl"
      },
      "outputs": [],
      "source": [
        "def myfun(x,y=50):\n",
        "  print('x:',x)\n",
        "  print('y:',y)\n",
        "  print('sum:',x+y)"
      ]
    },
    {
      "cell_type": "code",
      "execution_count": null,
      "metadata": {
        "id": "g_l1EjXKbISL"
      },
      "outputs": [],
      "source": [
        "myfun(100)"
      ]
    },
    {
      "cell_type": "code",
      "execution_count": null,
      "metadata": {
        "id": "9tUXyydhbMV6"
      },
      "outputs": [],
      "source": [
        "myfun(2,199)"
      ]
    },
    {
      "cell_type": "code",
      "execution_count": null,
      "metadata": {
        "id": "xlwkMN9wbQzt"
      },
      "outputs": [],
      "source": [
        "def student(firstname, lastname):\n",
        "  print(firstname,lastname, sep=',')"
      ]
    },
    {
      "cell_type": "code",
      "execution_count": null,
      "metadata": {
        "id": "bnoQAwnpcEuz"
      },
      "outputs": [],
      "source": [
        "student('Aki','Anu')"
      ]
    },
    {
      "cell_type": "code",
      "execution_count": null,
      "metadata": {
        "id": "7lDs3oLbcHiC"
      },
      "outputs": [],
      "source": [
        "def myfun1(*argument):\n",
        "  for arg in argument:\n",
        "    print(f'{arg}')"
      ]
    },
    {
      "cell_type": "code",
      "execution_count": null,
      "metadata": {
        "id": "c0QeEAdhc2uM"
      },
      "outputs": [],
      "source": [
        "myfun1('aki',1,3,5)"
      ]
    },
    {
      "cell_type": "code",
      "execution_count": null,
      "metadata": {
        "id": "y7NN5NAtc-wa"
      },
      "outputs": [],
      "source": [
        "def myfun2(**kwargs):\n",
        "  for key, value in kwargs.items():\n",
        "    print(f'{key}=={value}')"
      ]
    },
    {
      "cell_type": "code",
      "execution_count": null,
      "metadata": {
        "id": "riAj1TDRd8rX"
      },
      "outputs": [],
      "source": [
        "myfun2(first='geeks',mid='for',last='geeks')"
      ]
    },
    {
      "cell_type": "code",
      "execution_count": null,
      "metadata": {
        "id": "h79bMLW8eSfC"
      },
      "outputs": [],
      "source": [
        "def add2(x,y):\n",
        "  sum=x+y\n",
        "  return(sum)"
      ]
    },
    {
      "cell_type": "code",
      "execution_count": null,
      "metadata": {
        "id": "5XhyHNuWean5"
      },
      "outputs": [],
      "source": [
        "add2(1299,189)"
      ]
    },
    {
      "cell_type": "code",
      "execution_count": null,
      "metadata": {
        "id": "KSnG2R9_ecTO"
      },
      "outputs": [],
      "source": [
        "dictiona = {'name':['aki','abhi'], 'age':[23,44,55]}"
      ]
    },
    {
      "cell_type": "code",
      "execution_count": null,
      "metadata": {
        "id": "YOmr_tqeekgs"
      },
      "outputs": [],
      "source": [
        "sum = lambda a,b:a+b"
      ]
    },
    {
      "cell_type": "code",
      "execution_count": null,
      "metadata": {
        "id": "Ljbyrw49fDA4"
      },
      "outputs": [],
      "source": [
        "sum(78,89)"
      ]
    },
    {
      "cell_type": "code",
      "execution_count": null,
      "metadata": {
        "id": "yOlcNKjCfGhi"
      },
      "outputs": [],
      "source": [
        "def weighted_sum(x):\n",
        "  w = [0.3,0.5,0.55,0.7]\n",
        "  for value in w:\n",
        "    z=value*x[range(0,3)]\n",
        "  print(z)\n",
        "    "
      ]
    },
    {
      "cell_type": "code",
      "execution_count": null,
      "metadata": {
        "id": "B_tk51mUhLqi"
      },
      "outputs": [],
      "source": [
        "import numpy as np"
      ]
    },
    {
      "cell_type": "code",
      "execution_count": null,
      "metadata": {
        "id": "Piy0bExXhP3J"
      },
      "outputs": [],
      "source": [
        "w = [1,2,3,4]\n",
        "w1 = np.array(w)"
      ]
    },
    {
      "cell_type": "code",
      "execution_count": null,
      "metadata": {
        "id": "zLfpKcKqhgkM"
      },
      "outputs": [],
      "source": [
        "def nn(x_vec):\n",
        "  a = np.transpose(w1)\n",
        "  z = np.dot(a,x_vec)\n",
        "  return(z)\n"
      ]
    },
    {
      "cell_type": "code",
      "execution_count": null,
      "metadata": {
        "id": "MNzeCCzPiGKx"
      },
      "outputs": [],
      "source": [
        "x = [3,4,56,8]"
      ]
    },
    {
      "cell_type": "code",
      "execution_count": null,
      "metadata": {
        "id": "ypzOG-x1iIzQ"
      },
      "outputs": [],
      "source": [
        "nn(x)"
      ]
    },
    {
      "cell_type": "code",
      "execution_count": null,
      "metadata": {
        "id": "Ej2yPfI9iSyZ"
      },
      "outputs": [],
      "source": [
        "def my_factorial(a):\n",
        "  factorial = 1\n",
        "  for i in range(1,a+1):\n",
        "    factorial = factorial *i\n",
        "  return(factorial)\n",
        "  "
      ]
    },
    {
      "cell_type": "code",
      "execution_count": null,
      "metadata": {
        "id": "lOlVSNptjJV7"
      },
      "outputs": [],
      "source": [
        "my_factorial(5)"
      ]
    },
    {
      "cell_type": "code",
      "execution_count": null,
      "metadata": {
        "id": "Wy1eKiBMj3QK"
      },
      "outputs": [],
      "source": [
        "l1 = [1,2,3]\n",
        "l2 = [3,4,5]\n",
        "l1+l2"
      ]
    },
    {
      "cell_type": "code",
      "execution_count": null,
      "metadata": {
        "id": "cl5LQ6DSvvwM"
      },
      "outputs": [],
      "source": [
        "l1[::-1]"
      ]
    },
    {
      "cell_type": "code",
      "execution_count": null,
      "metadata": {
        "id": "Mp2Yh6lLwOls"
      },
      "outputs": [],
      "source": [
        "s = 'i loe my iajjdj'\n",
        "len(s)"
      ]
    },
    {
      "cell_type": "code",
      "execution_count": null,
      "metadata": {
        "id": "3YElD_scwT45"
      },
      "outputs": [],
      "source": [
        "list1 = [23,34,455,66,66,90]"
      ]
    },
    {
      "cell_type": "code",
      "execution_count": null,
      "metadata": {
        "id": "dAKb57ovRotc"
      },
      "outputs": [],
      "source": [
        "for x in list1:\n",
        "  print(x)\n"
      ]
    },
    {
      "cell_type": "code",
      "execution_count": null,
      "metadata": {
        "id": "gIb_hYIPR3v6"
      },
      "outputs": [],
      "source": [
        "list3 = []\n",
        "import numpy as np\n",
        "import random"
      ]
    },
    {
      "cell_type": "code",
      "execution_count": null,
      "metadata": {
        "id": "RcOsfD0CSpNs"
      },
      "outputs": [],
      "source": [
        "list3.append(random.randint(1,18))"
      ]
    },
    {
      "cell_type": "code",
      "execution_count": null,
      "metadata": {
        "id": "YK2P81yzS5Wg"
      },
      "outputs": [],
      "source": [
        "list3"
      ]
    },
    {
      "cell_type": "code",
      "execution_count": null,
      "metadata": {
        "id": "fqJBIz1OS9wO"
      },
      "outputs": [],
      "source": [
        "y = random.randint(1,5)"
      ]
    },
    {
      "cell_type": "code",
      "execution_count": null,
      "metadata": {
        "id": "6kOdyWxnTXsw"
      },
      "outputs": [],
      "source": [
        "for n in range(0,6):\n",
        "  n = random.randint(1,5)\n",
        "  list3.append(n)"
      ]
    },
    {
      "cell_type": "code",
      "execution_count": null,
      "metadata": {
        "id": "JOUyrd5pT4pA"
      },
      "outputs": [],
      "source": [
        "list3"
      ]
    },
    {
      "cell_type": "code",
      "execution_count": null,
      "metadata": {
        "id": "Y2fsZSX-UGdI"
      },
      "outputs": [],
      "source": [
        "oddlist=[]\n",
        "for i in range(0,10):\n",
        "  n = random.randint(1,31)\n",
        "  if n%2!=0:\n",
        "    oddlist.append(n)\n",
        "    "
      ]
    },
    {
      "cell_type": "code",
      "execution_count": null,
      "metadata": {
        "id": "Q8ledGN7VnB6"
      },
      "outputs": [],
      "source": [
        "oddlist"
      ]
    },
    {
      "cell_type": "code",
      "execution_count": null,
      "metadata": {
        "id": "vAGgnuj6Voto"
      },
      "outputs": [],
      "source": [
        "a=[]\n",
        "for i in range(0,20):\n",
        "  if i%2!=0:\n",
        "    a.append(i)\n",
        "print(a)"
      ]
    },
    {
      "cell_type": "markdown",
      "metadata": {
        "id": "N2Y6AOH3X2ST"
      },
      "source": [
        "An Object is an instance of a Class. A class is like a blueprint while an instance is a copy of the class with actual values. Python is object-oriented programming language that stresses on objects i.e. it mainly emphasizes functions."
      ]
    },
    {
      "cell_type": "code",
      "execution_count": null,
      "metadata": {
        "id": "Y4AMavekWz6_"
      },
      "outputs": [],
      "source": [
        "class MyClass:\n",
        "  x=5"
      ]
    },
    {
      "cell_type": "code",
      "execution_count": null,
      "metadata": {
        "id": "vEFcJWITYMHw"
      },
      "outputs": [],
      "source": [
        "p1 = MyClass()\n",
        "print(p1.x)"
      ]
    },
    {
      "cell_type": "markdown",
      "metadata": {
        "id": "wOZcYjxcZaHK"
      },
      "source": [
        "The __init__ method is the Python equivalent of the C++ constructor in an object-oriented approach. The __init__ function is called every time an object is created from a class. The __init__ method lets the class initialize the object's attributes and serves no other purpose. It is only used within classes."
      ]
    },
    {
      "cell_type": "code",
      "execution_count": null,
      "metadata": {
        "id": "_OkayFZ5YZVo"
      },
      "outputs": [],
      "source": [
        "class Person:\n",
        "  def __init__(self,name,age): #self is the object\n",
        "    self.name = name\n",
        "    self.age = age\n",
        "\n",
        "p2 = Person('Akarsh',27)\n",
        "print(p2.name)\n",
        "print(p2.age)"
      ]
    },
    {
      "cell_type": "code",
      "execution_count": null,
      "metadata": {
        "id": "KGlFz-3_aBZi"
      },
      "outputs": [],
      "source": [
        "p3 = Person('Anu',26)\n",
        "p3.name"
      ]
    },
    {
      "cell_type": "code",
      "execution_count": null,
      "metadata": {
        "id": "WfP5d84mbKmh"
      },
      "outputs": [],
      "source": [
        "p3.age"
      ]
    },
    {
      "cell_type": "code",
      "execution_count": null,
      "metadata": {
        "id": "ar7QQ4y-bMNQ"
      },
      "outputs": [],
      "source": [
        "class Dog:\n",
        "  def __init__(self,name,breed,color):\n",
        "    self.name = name\n",
        "    self.breed = breed\n",
        "    self.color = color"
      ]
    },
    {
      "cell_type": "code",
      "execution_count": null,
      "metadata": {
        "id": "ASvs89pOcFl9"
      },
      "outputs": [],
      "source": [
        "p4 = Dog('pinky','pitbull','black')"
      ]
    },
    {
      "cell_type": "code",
      "execution_count": null,
      "metadata": {
        "id": "-QT7jE0BcVwu"
      },
      "outputs": [],
      "source": [
        "print(p4.name,\"\\n\",p4.breed)"
      ]
    },
    {
      "cell_type": "code",
      "execution_count": null,
      "metadata": {
        "id": "SGCDAgQZcimX"
      },
      "outputs": [],
      "source": [
        "class Cat:\n",
        "  attr1 = 'mammal'\n",
        "  attr2 = 'cat'\n",
        "def fun(self):\n",
        "  print('I am a',self.attr1)\n",
        "  print('I am a',self.attr2)"
      ]
    },
    {
      "cell_type": "code",
      "execution_count": null,
      "metadata": {
        "id": "xfHX-cK9e5HW"
      },
      "outputs": [],
      "source": [
        "cat = Cat()"
      ]
    },
    {
      "cell_type": "code",
      "execution_count": null,
      "metadata": {
        "id": "A7ccwjb2fKH5"
      },
      "outputs": [],
      "source": [
        "print(cat.attr1)"
      ]
    },
    {
      "cell_type": "code",
      "execution_count": null,
      "metadata": {
        "id": "0Zh-q1EdfWkB"
      },
      "outputs": [],
      "source": [
        "fun(cat)"
      ]
    },
    {
      "cell_type": "code",
      "execution_count": null,
      "metadata": {
        "id": "HEMIQ81BlKHV"
      },
      "outputs": [],
      "source": [
        "class multiply():\n",
        "    def __init__(self,a,b):\n",
        "        self.a=a\n",
        "        self.b=b\n",
        "def cal(self):\n",
        "  return self.a * self.b\n",
        "      \n",
        "        "
      ]
    },
    {
      "cell_type": "code",
      "execution_count": null,
      "metadata": {
        "id": "vqHb9evZlRs5"
      },
      "outputs": [],
      "source": [
        "obj1 = multiply(23,22)"
      ]
    },
    {
      "cell_type": "code",
      "execution_count": null,
      "metadata": {
        "id": "4yP82qenlV6X"
      },
      "outputs": [],
      "source": [
        "cal(obj1)"
      ]
    },
    {
      "cell_type": "code",
      "source": [
        "class Human():\n",
        "  def __init__(self,n,o,h):\n",
        "    self.name = n\n",
        "    self.occu = o\n",
        "    self.height = h\n",
        "  def tall(self):\n",
        "    if self.height==7:\n",
        "      print('You are tall')\n",
        "    else:\n",
        "      print('You are short')\n"
      ],
      "metadata": {
        "id": "-TdfSeNZmpAc"
      },
      "execution_count": null,
      "outputs": []
    },
    {
      "cell_type": "code",
      "source": [
        "x = Human('Akarsh','data scientist',7)"
      ],
      "metadata": {
        "id": "31J3W06do_AL"
      },
      "execution_count": null,
      "outputs": []
    },
    {
      "cell_type": "code",
      "source": [
        "x.name"
      ],
      "metadata": {
        "id": "0JqxvNA2D-eK"
      },
      "execution_count": null,
      "outputs": []
    },
    {
      "cell_type": "code",
      "source": [
        "x.tall()"
      ],
      "metadata": {
        "id": "F3w2cUbhEGwZ"
      },
      "execution_count": null,
      "outputs": []
    },
    {
      "cell_type": "code",
      "source": [
        "class addition():\n",
        "  def __init__(self,n1,n2):\n",
        "    self.num1 = n1\n",
        "    self.num2 = n2\n",
        "  def calculate(self):\n",
        "    sum1 = self.num1 + self.num2\n",
        "    return sum1\n",
        "  def display(self):\n",
        "    sum1 = self.num1 + self.num2\n",
        "    if sum1>55:\n",
        "      print('Your score is:',sum1)\n",
        "    else:\n",
        "      print('You are failed')\n"
      ],
      "metadata": {
        "id": "mhdMXy-zEm_Z"
      },
      "execution_count": null,
      "outputs": []
    },
    {
      "cell_type": "code",
      "source": [
        "per = addition(70,3)"
      ],
      "metadata": {
        "id": "EuAbLn0qHKTs"
      },
      "execution_count": null,
      "outputs": []
    },
    {
      "cell_type": "code",
      "source": [
        "per.calculate()"
      ],
      "metadata": {
        "id": "GJaPw5lJHYr_"
      },
      "execution_count": null,
      "outputs": []
    },
    {
      "cell_type": "code",
      "source": [
        "per.display()"
      ],
      "metadata": {
        "id": "3IGIboovHa5V"
      },
      "execution_count": null,
      "outputs": []
    },
    {
      "cell_type": "code",
      "source": [
        "class multiplication():\n",
        "  def __init__(self,n1,n2):\n",
        "    self.num1=n1\n",
        "    self.num2=n2\n",
        "  def calculate(self):\n",
        "    mul = self.num1*self.num2\n",
        "    if mul<50:\n",
        "      print('You are failed')\n",
        "    elif mul<60:\n",
        "      print(f\"{mul}: You have scored second class\")\n",
        "    elif mul<85:\n",
        "      print(f'{mul}: You have scored first class')\n",
        "    elif mul>85:\n",
        "      print(f'{mul}: You have scored distinction')\n",
        "    else:\n",
        "      print('You are unfit')"
      ],
      "metadata": {
        "id": "xr5LQmc3HelT"
      },
      "execution_count": null,
      "outputs": []
    },
    {
      "cell_type": "code",
      "source": [
        "per1 = multiplication(10,7)"
      ],
      "metadata": {
        "id": "6nNSRqrfKM71"
      },
      "execution_count": null,
      "outputs": []
    },
    {
      "cell_type": "code",
      "source": [
        "per1.calculate()"
      ],
      "metadata": {
        "id": "kB1JQOI8KQ1H"
      },
      "execution_count": null,
      "outputs": []
    },
    {
      "cell_type": "code",
      "source": [
        "per2 = multiplication(10,5.9)"
      ],
      "metadata": {
        "id": "u5VPMIgnKlEt"
      },
      "execution_count": null,
      "outputs": []
    },
    {
      "cell_type": "code",
      "source": [
        "per2.calculate()"
      ],
      "metadata": {
        "id": "FicyZUXnLPM6"
      },
      "execution_count": null,
      "outputs": []
    },
    {
      "cell_type": "code",
      "source": [
        "per3 = multiplication(10,4.6)\n",
        "per3.calculate()"
      ],
      "metadata": {
        "id": "DIiWRYwiLRF0"
      },
      "execution_count": null,
      "outputs": []
    },
    {
      "cell_type": "code",
      "source": [],
      "metadata": {
        "id": "hzaRvGWXMGoy"
      },
      "execution_count": null,
      "outputs": []
    }
  ],
  "metadata": {
    "colab": {
      "provenance": [],
      "authorship_tag": "ABX9TyNDa0cTS0MlcpE2GJZXnLMW",
      "include_colab_link": true
    },
    "kernelspec": {
      "display_name": "Python 3",
      "name": "python3"
    },
    "language_info": {
      "name": "python"
    }
  },
  "nbformat": 4,
  "nbformat_minor": 0
}