{
  "nbformat": 4,
  "nbformat_minor": 0,
  "metadata": {
    "colab": {
      "name": "Decision_sales.ipynb",
      "provenance": [],
      "collapsed_sections": [],
      "include_colab_link": true
    },
    "kernelspec": {
      "name": "python3",
      "display_name": "Python 3"
    },
    "language_info": {
      "name": "python"
    }
  },
  "cells": [
    {
      "cell_type": "markdown",
      "metadata": {
        "id": "view-in-github",
        "colab_type": "text"
      },
      "source": [
        "<a href=\"https://colab.research.google.com/github/akarshpyr/Python-codes/blob/main/Decision_sales_Random_forest.ipynb\" target=\"_parent\"><img src=\"https://colab.research.google.com/assets/colab-badge.svg\" alt=\"Open In Colab\"/></a>"
      ]
    },
    {
      "cell_type": "code",
      "execution_count": 1,
      "metadata": {
        "id": "a04rqhcmeg_T"
      },
      "outputs": [],
      "source": [
        "import pandas as pd\n",
        "import numpy as np\n"
      ]
    },
    {
      "cell_type": "code",
      "source": [
        "cd = pd.read_csv('/content/Company_Data.csv')"
      ],
      "metadata": {
        "id": "mWO4r9iOeoMu"
      },
      "execution_count": 2,
      "outputs": []
    },
    {
      "cell_type": "code",
      "source": [
        "cd"
      ],
      "metadata": {
        "colab": {
          "base_uri": "https://localhost:8080/",
          "height": 423
        },
        "id": "zXgJqeyge0ds",
        "outputId": "f44d00a5-0cf9-4278-a1ca-07513b423ec7"
      },
      "execution_count": 3,
      "outputs": [
        {
          "output_type": "execute_result",
          "data": {
            "text/plain": [
              "     Sales  CompPrice  Income  Advertising  Population  Price ShelveLoc  Age  \\\n",
              "0     9.50        138      73           11         276    120       Bad   42   \n",
              "1    11.22        111      48           16         260     83      Good   65   \n",
              "2    10.06        113      35           10         269     80    Medium   59   \n",
              "3     7.40        117     100            4         466     97    Medium   55   \n",
              "4     4.15        141      64            3         340    128       Bad   38   \n",
              "..     ...        ...     ...          ...         ...    ...       ...  ...   \n",
              "395  12.57        138     108           17         203    128      Good   33   \n",
              "396   6.14        139      23            3          37    120    Medium   55   \n",
              "397   7.41        162      26           12         368    159    Medium   40   \n",
              "398   5.94        100      79            7         284     95       Bad   50   \n",
              "399   9.71        134      37            0          27    120      Good   49   \n",
              "\n",
              "     Education Urban   US  \n",
              "0           17   Yes  Yes  \n",
              "1           10   Yes  Yes  \n",
              "2           12   Yes  Yes  \n",
              "3           14   Yes  Yes  \n",
              "4           13   Yes   No  \n",
              "..         ...   ...  ...  \n",
              "395         14   Yes  Yes  \n",
              "396         11    No  Yes  \n",
              "397         18   Yes  Yes  \n",
              "398         12   Yes  Yes  \n",
              "399         16   Yes  Yes  \n",
              "\n",
              "[400 rows x 11 columns]"
            ],
            "text/html": [
              "\n",
              "  <div id=\"df-73e27e1c-016b-428e-8ac7-ee5a94d7ef4b\">\n",
              "    <div class=\"colab-df-container\">\n",
              "      <div>\n",
              "<style scoped>\n",
              "    .dataframe tbody tr th:only-of-type {\n",
              "        vertical-align: middle;\n",
              "    }\n",
              "\n",
              "    .dataframe tbody tr th {\n",
              "        vertical-align: top;\n",
              "    }\n",
              "\n",
              "    .dataframe thead th {\n",
              "        text-align: right;\n",
              "    }\n",
              "</style>\n",
              "<table border=\"1\" class=\"dataframe\">\n",
              "  <thead>\n",
              "    <tr style=\"text-align: right;\">\n",
              "      <th></th>\n",
              "      <th>Sales</th>\n",
              "      <th>CompPrice</th>\n",
              "      <th>Income</th>\n",
              "      <th>Advertising</th>\n",
              "      <th>Population</th>\n",
              "      <th>Price</th>\n",
              "      <th>ShelveLoc</th>\n",
              "      <th>Age</th>\n",
              "      <th>Education</th>\n",
              "      <th>Urban</th>\n",
              "      <th>US</th>\n",
              "    </tr>\n",
              "  </thead>\n",
              "  <tbody>\n",
              "    <tr>\n",
              "      <th>0</th>\n",
              "      <td>9.50</td>\n",
              "      <td>138</td>\n",
              "      <td>73</td>\n",
              "      <td>11</td>\n",
              "      <td>276</td>\n",
              "      <td>120</td>\n",
              "      <td>Bad</td>\n",
              "      <td>42</td>\n",
              "      <td>17</td>\n",
              "      <td>Yes</td>\n",
              "      <td>Yes</td>\n",
              "    </tr>\n",
              "    <tr>\n",
              "      <th>1</th>\n",
              "      <td>11.22</td>\n",
              "      <td>111</td>\n",
              "      <td>48</td>\n",
              "      <td>16</td>\n",
              "      <td>260</td>\n",
              "      <td>83</td>\n",
              "      <td>Good</td>\n",
              "      <td>65</td>\n",
              "      <td>10</td>\n",
              "      <td>Yes</td>\n",
              "      <td>Yes</td>\n",
              "    </tr>\n",
              "    <tr>\n",
              "      <th>2</th>\n",
              "      <td>10.06</td>\n",
              "      <td>113</td>\n",
              "      <td>35</td>\n",
              "      <td>10</td>\n",
              "      <td>269</td>\n",
              "      <td>80</td>\n",
              "      <td>Medium</td>\n",
              "      <td>59</td>\n",
              "      <td>12</td>\n",
              "      <td>Yes</td>\n",
              "      <td>Yes</td>\n",
              "    </tr>\n",
              "    <tr>\n",
              "      <th>3</th>\n",
              "      <td>7.40</td>\n",
              "      <td>117</td>\n",
              "      <td>100</td>\n",
              "      <td>4</td>\n",
              "      <td>466</td>\n",
              "      <td>97</td>\n",
              "      <td>Medium</td>\n",
              "      <td>55</td>\n",
              "      <td>14</td>\n",
              "      <td>Yes</td>\n",
              "      <td>Yes</td>\n",
              "    </tr>\n",
              "    <tr>\n",
              "      <th>4</th>\n",
              "      <td>4.15</td>\n",
              "      <td>141</td>\n",
              "      <td>64</td>\n",
              "      <td>3</td>\n",
              "      <td>340</td>\n",
              "      <td>128</td>\n",
              "      <td>Bad</td>\n",
              "      <td>38</td>\n",
              "      <td>13</td>\n",
              "      <td>Yes</td>\n",
              "      <td>No</td>\n",
              "    </tr>\n",
              "    <tr>\n",
              "      <th>...</th>\n",
              "      <td>...</td>\n",
              "      <td>...</td>\n",
              "      <td>...</td>\n",
              "      <td>...</td>\n",
              "      <td>...</td>\n",
              "      <td>...</td>\n",
              "      <td>...</td>\n",
              "      <td>...</td>\n",
              "      <td>...</td>\n",
              "      <td>...</td>\n",
              "      <td>...</td>\n",
              "    </tr>\n",
              "    <tr>\n",
              "      <th>395</th>\n",
              "      <td>12.57</td>\n",
              "      <td>138</td>\n",
              "      <td>108</td>\n",
              "      <td>17</td>\n",
              "      <td>203</td>\n",
              "      <td>128</td>\n",
              "      <td>Good</td>\n",
              "      <td>33</td>\n",
              "      <td>14</td>\n",
              "      <td>Yes</td>\n",
              "      <td>Yes</td>\n",
              "    </tr>\n",
              "    <tr>\n",
              "      <th>396</th>\n",
              "      <td>6.14</td>\n",
              "      <td>139</td>\n",
              "      <td>23</td>\n",
              "      <td>3</td>\n",
              "      <td>37</td>\n",
              "      <td>120</td>\n",
              "      <td>Medium</td>\n",
              "      <td>55</td>\n",
              "      <td>11</td>\n",
              "      <td>No</td>\n",
              "      <td>Yes</td>\n",
              "    </tr>\n",
              "    <tr>\n",
              "      <th>397</th>\n",
              "      <td>7.41</td>\n",
              "      <td>162</td>\n",
              "      <td>26</td>\n",
              "      <td>12</td>\n",
              "      <td>368</td>\n",
              "      <td>159</td>\n",
              "      <td>Medium</td>\n",
              "      <td>40</td>\n",
              "      <td>18</td>\n",
              "      <td>Yes</td>\n",
              "      <td>Yes</td>\n",
              "    </tr>\n",
              "    <tr>\n",
              "      <th>398</th>\n",
              "      <td>5.94</td>\n",
              "      <td>100</td>\n",
              "      <td>79</td>\n",
              "      <td>7</td>\n",
              "      <td>284</td>\n",
              "      <td>95</td>\n",
              "      <td>Bad</td>\n",
              "      <td>50</td>\n",
              "      <td>12</td>\n",
              "      <td>Yes</td>\n",
              "      <td>Yes</td>\n",
              "    </tr>\n",
              "    <tr>\n",
              "      <th>399</th>\n",
              "      <td>9.71</td>\n",
              "      <td>134</td>\n",
              "      <td>37</td>\n",
              "      <td>0</td>\n",
              "      <td>27</td>\n",
              "      <td>120</td>\n",
              "      <td>Good</td>\n",
              "      <td>49</td>\n",
              "      <td>16</td>\n",
              "      <td>Yes</td>\n",
              "      <td>Yes</td>\n",
              "    </tr>\n",
              "  </tbody>\n",
              "</table>\n",
              "<p>400 rows × 11 columns</p>\n",
              "</div>\n",
              "      <button class=\"colab-df-convert\" onclick=\"convertToInteractive('df-73e27e1c-016b-428e-8ac7-ee5a94d7ef4b')\"\n",
              "              title=\"Convert this dataframe to an interactive table.\"\n",
              "              style=\"display:none;\">\n",
              "        \n",
              "  <svg xmlns=\"http://www.w3.org/2000/svg\" height=\"24px\"viewBox=\"0 0 24 24\"\n",
              "       width=\"24px\">\n",
              "    <path d=\"M0 0h24v24H0V0z\" fill=\"none\"/>\n",
              "    <path d=\"M18.56 5.44l.94 2.06.94-2.06 2.06-.94-2.06-.94-.94-2.06-.94 2.06-2.06.94zm-11 1L8.5 8.5l.94-2.06 2.06-.94-2.06-.94L8.5 2.5l-.94 2.06-2.06.94zm10 10l.94 2.06.94-2.06 2.06-.94-2.06-.94-.94-2.06-.94 2.06-2.06.94z\"/><path d=\"M17.41 7.96l-1.37-1.37c-.4-.4-.92-.59-1.43-.59-.52 0-1.04.2-1.43.59L10.3 9.45l-7.72 7.72c-.78.78-.78 2.05 0 2.83L4 21.41c.39.39.9.59 1.41.59.51 0 1.02-.2 1.41-.59l7.78-7.78 2.81-2.81c.8-.78.8-2.07 0-2.86zM5.41 20L4 18.59l7.72-7.72 1.47 1.35L5.41 20z\"/>\n",
              "  </svg>\n",
              "      </button>\n",
              "      \n",
              "  <style>\n",
              "    .colab-df-container {\n",
              "      display:flex;\n",
              "      flex-wrap:wrap;\n",
              "      gap: 12px;\n",
              "    }\n",
              "\n",
              "    .colab-df-convert {\n",
              "      background-color: #E8F0FE;\n",
              "      border: none;\n",
              "      border-radius: 50%;\n",
              "      cursor: pointer;\n",
              "      display: none;\n",
              "      fill: #1967D2;\n",
              "      height: 32px;\n",
              "      padding: 0 0 0 0;\n",
              "      width: 32px;\n",
              "    }\n",
              "\n",
              "    .colab-df-convert:hover {\n",
              "      background-color: #E2EBFA;\n",
              "      box-shadow: 0px 1px 2px rgba(60, 64, 67, 0.3), 0px 1px 3px 1px rgba(60, 64, 67, 0.15);\n",
              "      fill: #174EA6;\n",
              "    }\n",
              "\n",
              "    [theme=dark] .colab-df-convert {\n",
              "      background-color: #3B4455;\n",
              "      fill: #D2E3FC;\n",
              "    }\n",
              "\n",
              "    [theme=dark] .colab-df-convert:hover {\n",
              "      background-color: #434B5C;\n",
              "      box-shadow: 0px 1px 3px 1px rgba(0, 0, 0, 0.15);\n",
              "      filter: drop-shadow(0px 1px 2px rgba(0, 0, 0, 0.3));\n",
              "      fill: #FFFFFF;\n",
              "    }\n",
              "  </style>\n",
              "\n",
              "      <script>\n",
              "        const buttonEl =\n",
              "          document.querySelector('#df-73e27e1c-016b-428e-8ac7-ee5a94d7ef4b button.colab-df-convert');\n",
              "        buttonEl.style.display =\n",
              "          google.colab.kernel.accessAllowed ? 'block' : 'none';\n",
              "\n",
              "        async function convertToInteractive(key) {\n",
              "          const element = document.querySelector('#df-73e27e1c-016b-428e-8ac7-ee5a94d7ef4b');\n",
              "          const dataTable =\n",
              "            await google.colab.kernel.invokeFunction('convertToInteractive',\n",
              "                                                     [key], {});\n",
              "          if (!dataTable) return;\n",
              "\n",
              "          const docLinkHtml = 'Like what you see? Visit the ' +\n",
              "            '<a target=\"_blank\" href=https://colab.research.google.com/notebooks/data_table.ipynb>data table notebook</a>'\n",
              "            + ' to learn more about interactive tables.';\n",
              "          element.innerHTML = '';\n",
              "          dataTable['output_type'] = 'display_data';\n",
              "          await google.colab.output.renderOutput(dataTable, element);\n",
              "          const docLink = document.createElement('div');\n",
              "          docLink.innerHTML = docLinkHtml;\n",
              "          element.appendChild(docLink);\n",
              "        }\n",
              "      </script>\n",
              "    </div>\n",
              "  </div>\n",
              "  "
            ]
          },
          "metadata": {},
          "execution_count": 3
        }
      ]
    },
    {
      "cell_type": "code",
      "source": [
        "a = cd.iloc[0:131,0]"
      ],
      "metadata": {
        "id": "ONJq8RNme1Yd"
      },
      "execution_count": 4,
      "outputs": []
    },
    {
      "cell_type": "code",
      "source": [
        "a = a.values"
      ],
      "metadata": {
        "id": "ySJ5TTunfJSE"
      },
      "execution_count": 5,
      "outputs": []
    },
    {
      "cell_type": "code",
      "source": [
        "a"
      ],
      "metadata": {
        "colab": {
          "base_uri": "https://localhost:8080/"
        },
        "id": "imFf5bmlfKCw",
        "outputId": "65d3fb96-3a30-48a3-ecf4-b5e93fad43c4"
      },
      "execution_count": 6,
      "outputs": [
        {
          "output_type": "execute_result",
          "data": {
            "text/plain": [
              "array([ 9.5 , 11.22, 10.06,  7.4 ,  4.15, 10.81,  6.63, 11.85,  6.54,\n",
              "        4.69,  9.01, 11.96,  3.98, 10.96, 11.17,  8.71,  7.58, 12.29,\n",
              "       13.91,  8.73,  6.41, 12.13,  5.08,  5.87, 10.14, 14.9 ,  8.33,\n",
              "        5.27,  2.99,  7.81, 13.55,  8.25,  6.2 ,  8.77,  2.67, 11.07,\n",
              "        8.89,  4.95,  6.59,  3.24,  2.07,  7.96, 10.43,  4.12,  4.16,\n",
              "        4.56, 12.44,  4.38,  3.91, 10.61,  1.42,  4.42,  7.91,  6.92,\n",
              "        4.9 ,  6.85, 11.91,  0.91,  5.42,  5.21,  8.32,  7.32,  1.82,\n",
              "        8.47,  7.8 ,  4.9 ,  8.85,  9.01, 13.39,  7.99,  9.46,  6.5 ,\n",
              "        5.52, 12.61,  6.2 ,  8.55, 10.64,  7.7 ,  4.43,  9.14,  8.01,\n",
              "        7.52, 11.62,  4.42,  2.23,  8.47,  8.7 , 11.7 ,  6.56,  7.95,\n",
              "        5.33,  4.81,  4.53,  8.86,  8.39,  5.58,  9.48,  7.45, 12.49,\n",
              "        4.88,  4.11,  6.2 ,  5.3 ,  5.07,  4.62,  5.55,  0.16,  8.55,\n",
              "        3.47,  8.98,  9.  ,  6.62,  6.67,  6.01,  9.31,  8.54,  5.08,\n",
              "        8.8 ,  7.57,  7.37,  6.87, 11.67,  6.88,  8.19,  8.87,  9.34,\n",
              "       11.27,  6.52,  4.96,  4.47,  8.41])"
            ]
          },
          "metadata": {},
          "execution_count": 6
        }
      ]
    },
    {
      "cell_type": "code",
      "source": [
        "b = cd.iloc[101:,0]"
      ],
      "metadata": {
        "id": "a784YxjtfQJ7"
      },
      "execution_count": 7,
      "outputs": []
    },
    {
      "cell_type": "code",
      "source": [
        "cd = cd.sort_values('Sales').reset_index()"
      ],
      "metadata": {
        "id": "OS-IpAvwgAPT"
      },
      "execution_count": 8,
      "outputs": []
    },
    {
      "cell_type": "code",
      "source": [
        "cd"
      ],
      "metadata": {
        "colab": {
          "base_uri": "https://localhost:8080/",
          "height": 423
        },
        "id": "7s5G7FdqgH9Q",
        "outputId": "196902ef-b78a-4552-a9d4-b36197b4e5af"
      },
      "execution_count": 9,
      "outputs": [
        {
          "output_type": "execute_result",
          "data": {
            "text/plain": [
              "     index  Sales  CompPrice  Income  Advertising  Population  Price  \\\n",
              "0      174   0.00        139      24            0         358    185   \n",
              "1      106   0.16        102      33            0         217    139   \n",
              "2      165   0.37        147      58            7         100    191   \n",
              "3      143   0.53        122      88            7          36    159   \n",
              "4       57   0.91         93      91            0          22    117   \n",
              "..     ...    ...        ...     ...          ...         ...    ...   \n",
              "395     18  13.91        110     110            0         408     68   \n",
              "396    367  14.37         95     106            0         256     53   \n",
              "397     25  14.90        139      32            0         176     82   \n",
              "398    316  15.63        122      36            5         369     72   \n",
              "399    376  16.27        141      60           19         319     92   \n",
              "\n",
              "    ShelveLoc  Age  Education Urban   US  \n",
              "0      Medium   79         15    No   No  \n",
              "1      Medium   70         18    No   No  \n",
              "2         Bad   27         15   Yes  Yes  \n",
              "3         Bad   28         17   Yes  Yes  \n",
              "4         Bad   75         11   Yes   No  \n",
              "..        ...  ...        ...   ...  ...  \n",
              "395      Good   46         17    No  Yes  \n",
              "396      Good   52         17   Yes   No  \n",
              "397      Good   54         11    No   No  \n",
              "398      Good   35         10   Yes  Yes  \n",
              "399      Good   44         11   Yes  Yes  \n",
              "\n",
              "[400 rows x 12 columns]"
            ],
            "text/html": [
              "\n",
              "  <div id=\"df-f23df80f-37e0-4950-ae3b-fcd8dc3790e5\">\n",
              "    <div class=\"colab-df-container\">\n",
              "      <div>\n",
              "<style scoped>\n",
              "    .dataframe tbody tr th:only-of-type {\n",
              "        vertical-align: middle;\n",
              "    }\n",
              "\n",
              "    .dataframe tbody tr th {\n",
              "        vertical-align: top;\n",
              "    }\n",
              "\n",
              "    .dataframe thead th {\n",
              "        text-align: right;\n",
              "    }\n",
              "</style>\n",
              "<table border=\"1\" class=\"dataframe\">\n",
              "  <thead>\n",
              "    <tr style=\"text-align: right;\">\n",
              "      <th></th>\n",
              "      <th>index</th>\n",
              "      <th>Sales</th>\n",
              "      <th>CompPrice</th>\n",
              "      <th>Income</th>\n",
              "      <th>Advertising</th>\n",
              "      <th>Population</th>\n",
              "      <th>Price</th>\n",
              "      <th>ShelveLoc</th>\n",
              "      <th>Age</th>\n",
              "      <th>Education</th>\n",
              "      <th>Urban</th>\n",
              "      <th>US</th>\n",
              "    </tr>\n",
              "  </thead>\n",
              "  <tbody>\n",
              "    <tr>\n",
              "      <th>0</th>\n",
              "      <td>174</td>\n",
              "      <td>0.00</td>\n",
              "      <td>139</td>\n",
              "      <td>24</td>\n",
              "      <td>0</td>\n",
              "      <td>358</td>\n",
              "      <td>185</td>\n",
              "      <td>Medium</td>\n",
              "      <td>79</td>\n",
              "      <td>15</td>\n",
              "      <td>No</td>\n",
              "      <td>No</td>\n",
              "    </tr>\n",
              "    <tr>\n",
              "      <th>1</th>\n",
              "      <td>106</td>\n",
              "      <td>0.16</td>\n",
              "      <td>102</td>\n",
              "      <td>33</td>\n",
              "      <td>0</td>\n",
              "      <td>217</td>\n",
              "      <td>139</td>\n",
              "      <td>Medium</td>\n",
              "      <td>70</td>\n",
              "      <td>18</td>\n",
              "      <td>No</td>\n",
              "      <td>No</td>\n",
              "    </tr>\n",
              "    <tr>\n",
              "      <th>2</th>\n",
              "      <td>165</td>\n",
              "      <td>0.37</td>\n",
              "      <td>147</td>\n",
              "      <td>58</td>\n",
              "      <td>7</td>\n",
              "      <td>100</td>\n",
              "      <td>191</td>\n",
              "      <td>Bad</td>\n",
              "      <td>27</td>\n",
              "      <td>15</td>\n",
              "      <td>Yes</td>\n",
              "      <td>Yes</td>\n",
              "    </tr>\n",
              "    <tr>\n",
              "      <th>3</th>\n",
              "      <td>143</td>\n",
              "      <td>0.53</td>\n",
              "      <td>122</td>\n",
              "      <td>88</td>\n",
              "      <td>7</td>\n",
              "      <td>36</td>\n",
              "      <td>159</td>\n",
              "      <td>Bad</td>\n",
              "      <td>28</td>\n",
              "      <td>17</td>\n",
              "      <td>Yes</td>\n",
              "      <td>Yes</td>\n",
              "    </tr>\n",
              "    <tr>\n",
              "      <th>4</th>\n",
              "      <td>57</td>\n",
              "      <td>0.91</td>\n",
              "      <td>93</td>\n",
              "      <td>91</td>\n",
              "      <td>0</td>\n",
              "      <td>22</td>\n",
              "      <td>117</td>\n",
              "      <td>Bad</td>\n",
              "      <td>75</td>\n",
              "      <td>11</td>\n",
              "      <td>Yes</td>\n",
              "      <td>No</td>\n",
              "    </tr>\n",
              "    <tr>\n",
              "      <th>...</th>\n",
              "      <td>...</td>\n",
              "      <td>...</td>\n",
              "      <td>...</td>\n",
              "      <td>...</td>\n",
              "      <td>...</td>\n",
              "      <td>...</td>\n",
              "      <td>...</td>\n",
              "      <td>...</td>\n",
              "      <td>...</td>\n",
              "      <td>...</td>\n",
              "      <td>...</td>\n",
              "      <td>...</td>\n",
              "    </tr>\n",
              "    <tr>\n",
              "      <th>395</th>\n",
              "      <td>18</td>\n",
              "      <td>13.91</td>\n",
              "      <td>110</td>\n",
              "      <td>110</td>\n",
              "      <td>0</td>\n",
              "      <td>408</td>\n",
              "      <td>68</td>\n",
              "      <td>Good</td>\n",
              "      <td>46</td>\n",
              "      <td>17</td>\n",
              "      <td>No</td>\n",
              "      <td>Yes</td>\n",
              "    </tr>\n",
              "    <tr>\n",
              "      <th>396</th>\n",
              "      <td>367</td>\n",
              "      <td>14.37</td>\n",
              "      <td>95</td>\n",
              "      <td>106</td>\n",
              "      <td>0</td>\n",
              "      <td>256</td>\n",
              "      <td>53</td>\n",
              "      <td>Good</td>\n",
              "      <td>52</td>\n",
              "      <td>17</td>\n",
              "      <td>Yes</td>\n",
              "      <td>No</td>\n",
              "    </tr>\n",
              "    <tr>\n",
              "      <th>397</th>\n",
              "      <td>25</td>\n",
              "      <td>14.90</td>\n",
              "      <td>139</td>\n",
              "      <td>32</td>\n",
              "      <td>0</td>\n",
              "      <td>176</td>\n",
              "      <td>82</td>\n",
              "      <td>Good</td>\n",
              "      <td>54</td>\n",
              "      <td>11</td>\n",
              "      <td>No</td>\n",
              "      <td>No</td>\n",
              "    </tr>\n",
              "    <tr>\n",
              "      <th>398</th>\n",
              "      <td>316</td>\n",
              "      <td>15.63</td>\n",
              "      <td>122</td>\n",
              "      <td>36</td>\n",
              "      <td>5</td>\n",
              "      <td>369</td>\n",
              "      <td>72</td>\n",
              "      <td>Good</td>\n",
              "      <td>35</td>\n",
              "      <td>10</td>\n",
              "      <td>Yes</td>\n",
              "      <td>Yes</td>\n",
              "    </tr>\n",
              "    <tr>\n",
              "      <th>399</th>\n",
              "      <td>376</td>\n",
              "      <td>16.27</td>\n",
              "      <td>141</td>\n",
              "      <td>60</td>\n",
              "      <td>19</td>\n",
              "      <td>319</td>\n",
              "      <td>92</td>\n",
              "      <td>Good</td>\n",
              "      <td>44</td>\n",
              "      <td>11</td>\n",
              "      <td>Yes</td>\n",
              "      <td>Yes</td>\n",
              "    </tr>\n",
              "  </tbody>\n",
              "</table>\n",
              "<p>400 rows × 12 columns</p>\n",
              "</div>\n",
              "      <button class=\"colab-df-convert\" onclick=\"convertToInteractive('df-f23df80f-37e0-4950-ae3b-fcd8dc3790e5')\"\n",
              "              title=\"Convert this dataframe to an interactive table.\"\n",
              "              style=\"display:none;\">\n",
              "        \n",
              "  <svg xmlns=\"http://www.w3.org/2000/svg\" height=\"24px\"viewBox=\"0 0 24 24\"\n",
              "       width=\"24px\">\n",
              "    <path d=\"M0 0h24v24H0V0z\" fill=\"none\"/>\n",
              "    <path d=\"M18.56 5.44l.94 2.06.94-2.06 2.06-.94-2.06-.94-.94-2.06-.94 2.06-2.06.94zm-11 1L8.5 8.5l.94-2.06 2.06-.94-2.06-.94L8.5 2.5l-.94 2.06-2.06.94zm10 10l.94 2.06.94-2.06 2.06-.94-2.06-.94-.94-2.06-.94 2.06-2.06.94z\"/><path d=\"M17.41 7.96l-1.37-1.37c-.4-.4-.92-.59-1.43-.59-.52 0-1.04.2-1.43.59L10.3 9.45l-7.72 7.72c-.78.78-.78 2.05 0 2.83L4 21.41c.39.39.9.59 1.41.59.51 0 1.02-.2 1.41-.59l7.78-7.78 2.81-2.81c.8-.78.8-2.07 0-2.86zM5.41 20L4 18.59l7.72-7.72 1.47 1.35L5.41 20z\"/>\n",
              "  </svg>\n",
              "      </button>\n",
              "      \n",
              "  <style>\n",
              "    .colab-df-container {\n",
              "      display:flex;\n",
              "      flex-wrap:wrap;\n",
              "      gap: 12px;\n",
              "    }\n",
              "\n",
              "    .colab-df-convert {\n",
              "      background-color: #E8F0FE;\n",
              "      border: none;\n",
              "      border-radius: 50%;\n",
              "      cursor: pointer;\n",
              "      display: none;\n",
              "      fill: #1967D2;\n",
              "      height: 32px;\n",
              "      padding: 0 0 0 0;\n",
              "      width: 32px;\n",
              "    }\n",
              "\n",
              "    .colab-df-convert:hover {\n",
              "      background-color: #E2EBFA;\n",
              "      box-shadow: 0px 1px 2px rgba(60, 64, 67, 0.3), 0px 1px 3px 1px rgba(60, 64, 67, 0.15);\n",
              "      fill: #174EA6;\n",
              "    }\n",
              "\n",
              "    [theme=dark] .colab-df-convert {\n",
              "      background-color: #3B4455;\n",
              "      fill: #D2E3FC;\n",
              "    }\n",
              "\n",
              "    [theme=dark] .colab-df-convert:hover {\n",
              "      background-color: #434B5C;\n",
              "      box-shadow: 0px 1px 3px 1px rgba(0, 0, 0, 0.15);\n",
              "      filter: drop-shadow(0px 1px 2px rgba(0, 0, 0, 0.3));\n",
              "      fill: #FFFFFF;\n",
              "    }\n",
              "  </style>\n",
              "\n",
              "      <script>\n",
              "        const buttonEl =\n",
              "          document.querySelector('#df-f23df80f-37e0-4950-ae3b-fcd8dc3790e5 button.colab-df-convert');\n",
              "        buttonEl.style.display =\n",
              "          google.colab.kernel.accessAllowed ? 'block' : 'none';\n",
              "\n",
              "        async function convertToInteractive(key) {\n",
              "          const element = document.querySelector('#df-f23df80f-37e0-4950-ae3b-fcd8dc3790e5');\n",
              "          const dataTable =\n",
              "            await google.colab.kernel.invokeFunction('convertToInteractive',\n",
              "                                                     [key], {});\n",
              "          if (!dataTable) return;\n",
              "\n",
              "          const docLinkHtml = 'Like what you see? Visit the ' +\n",
              "            '<a target=\"_blank\" href=https://colab.research.google.com/notebooks/data_table.ipynb>data table notebook</a>'\n",
              "            + ' to learn more about interactive tables.';\n",
              "          element.innerHTML = '';\n",
              "          dataTable['output_type'] = 'display_data';\n",
              "          await google.colab.output.renderOutput(dataTable, element);\n",
              "          const docLink = document.createElement('div');\n",
              "          docLink.innerHTML = docLinkHtml;\n",
              "          element.appendChild(docLink);\n",
              "        }\n",
              "      </script>\n",
              "    </div>\n",
              "  </div>\n",
              "  "
            ]
          },
          "metadata": {},
          "execution_count": 9
        }
      ]
    },
    {
      "cell_type": "code",
      "source": [
        "cd = cd.drop('index',axis=1)"
      ],
      "metadata": {
        "id": "8FmXz-oagIql"
      },
      "execution_count": 10,
      "outputs": []
    },
    {
      "cell_type": "code",
      "source": [
        "cd"
      ],
      "metadata": {
        "colab": {
          "base_uri": "https://localhost:8080/",
          "height": 423
        },
        "id": "06zSnUy0glcV",
        "outputId": "6b81d0d2-f619-4fe5-be5d-b5a16ec16793"
      },
      "execution_count": 11,
      "outputs": [
        {
          "output_type": "execute_result",
          "data": {
            "text/plain": [
              "     Sales  CompPrice  Income  Advertising  Population  Price ShelveLoc  Age  \\\n",
              "0     0.00        139      24            0         358    185    Medium   79   \n",
              "1     0.16        102      33            0         217    139    Medium   70   \n",
              "2     0.37        147      58            7         100    191       Bad   27   \n",
              "3     0.53        122      88            7          36    159       Bad   28   \n",
              "4     0.91         93      91            0          22    117       Bad   75   \n",
              "..     ...        ...     ...          ...         ...    ...       ...  ...   \n",
              "395  13.91        110     110            0         408     68      Good   46   \n",
              "396  14.37         95     106            0         256     53      Good   52   \n",
              "397  14.90        139      32            0         176     82      Good   54   \n",
              "398  15.63        122      36            5         369     72      Good   35   \n",
              "399  16.27        141      60           19         319     92      Good   44   \n",
              "\n",
              "     Education Urban   US  \n",
              "0           15    No   No  \n",
              "1           18    No   No  \n",
              "2           15   Yes  Yes  \n",
              "3           17   Yes  Yes  \n",
              "4           11   Yes   No  \n",
              "..         ...   ...  ...  \n",
              "395         17    No  Yes  \n",
              "396         17   Yes   No  \n",
              "397         11    No   No  \n",
              "398         10   Yes  Yes  \n",
              "399         11   Yes  Yes  \n",
              "\n",
              "[400 rows x 11 columns]"
            ],
            "text/html": [
              "\n",
              "  <div id=\"df-6b568d11-a5d5-4f1b-af57-7c3fed3f0111\">\n",
              "    <div class=\"colab-df-container\">\n",
              "      <div>\n",
              "<style scoped>\n",
              "    .dataframe tbody tr th:only-of-type {\n",
              "        vertical-align: middle;\n",
              "    }\n",
              "\n",
              "    .dataframe tbody tr th {\n",
              "        vertical-align: top;\n",
              "    }\n",
              "\n",
              "    .dataframe thead th {\n",
              "        text-align: right;\n",
              "    }\n",
              "</style>\n",
              "<table border=\"1\" class=\"dataframe\">\n",
              "  <thead>\n",
              "    <tr style=\"text-align: right;\">\n",
              "      <th></th>\n",
              "      <th>Sales</th>\n",
              "      <th>CompPrice</th>\n",
              "      <th>Income</th>\n",
              "      <th>Advertising</th>\n",
              "      <th>Population</th>\n",
              "      <th>Price</th>\n",
              "      <th>ShelveLoc</th>\n",
              "      <th>Age</th>\n",
              "      <th>Education</th>\n",
              "      <th>Urban</th>\n",
              "      <th>US</th>\n",
              "    </tr>\n",
              "  </thead>\n",
              "  <tbody>\n",
              "    <tr>\n",
              "      <th>0</th>\n",
              "      <td>0.00</td>\n",
              "      <td>139</td>\n",
              "      <td>24</td>\n",
              "      <td>0</td>\n",
              "      <td>358</td>\n",
              "      <td>185</td>\n",
              "      <td>Medium</td>\n",
              "      <td>79</td>\n",
              "      <td>15</td>\n",
              "      <td>No</td>\n",
              "      <td>No</td>\n",
              "    </tr>\n",
              "    <tr>\n",
              "      <th>1</th>\n",
              "      <td>0.16</td>\n",
              "      <td>102</td>\n",
              "      <td>33</td>\n",
              "      <td>0</td>\n",
              "      <td>217</td>\n",
              "      <td>139</td>\n",
              "      <td>Medium</td>\n",
              "      <td>70</td>\n",
              "      <td>18</td>\n",
              "      <td>No</td>\n",
              "      <td>No</td>\n",
              "    </tr>\n",
              "    <tr>\n",
              "      <th>2</th>\n",
              "      <td>0.37</td>\n",
              "      <td>147</td>\n",
              "      <td>58</td>\n",
              "      <td>7</td>\n",
              "      <td>100</td>\n",
              "      <td>191</td>\n",
              "      <td>Bad</td>\n",
              "      <td>27</td>\n",
              "      <td>15</td>\n",
              "      <td>Yes</td>\n",
              "      <td>Yes</td>\n",
              "    </tr>\n",
              "    <tr>\n",
              "      <th>3</th>\n",
              "      <td>0.53</td>\n",
              "      <td>122</td>\n",
              "      <td>88</td>\n",
              "      <td>7</td>\n",
              "      <td>36</td>\n",
              "      <td>159</td>\n",
              "      <td>Bad</td>\n",
              "      <td>28</td>\n",
              "      <td>17</td>\n",
              "      <td>Yes</td>\n",
              "      <td>Yes</td>\n",
              "    </tr>\n",
              "    <tr>\n",
              "      <th>4</th>\n",
              "      <td>0.91</td>\n",
              "      <td>93</td>\n",
              "      <td>91</td>\n",
              "      <td>0</td>\n",
              "      <td>22</td>\n",
              "      <td>117</td>\n",
              "      <td>Bad</td>\n",
              "      <td>75</td>\n",
              "      <td>11</td>\n",
              "      <td>Yes</td>\n",
              "      <td>No</td>\n",
              "    </tr>\n",
              "    <tr>\n",
              "      <th>...</th>\n",
              "      <td>...</td>\n",
              "      <td>...</td>\n",
              "      <td>...</td>\n",
              "      <td>...</td>\n",
              "      <td>...</td>\n",
              "      <td>...</td>\n",
              "      <td>...</td>\n",
              "      <td>...</td>\n",
              "      <td>...</td>\n",
              "      <td>...</td>\n",
              "      <td>...</td>\n",
              "    </tr>\n",
              "    <tr>\n",
              "      <th>395</th>\n",
              "      <td>13.91</td>\n",
              "      <td>110</td>\n",
              "      <td>110</td>\n",
              "      <td>0</td>\n",
              "      <td>408</td>\n",
              "      <td>68</td>\n",
              "      <td>Good</td>\n",
              "      <td>46</td>\n",
              "      <td>17</td>\n",
              "      <td>No</td>\n",
              "      <td>Yes</td>\n",
              "    </tr>\n",
              "    <tr>\n",
              "      <th>396</th>\n",
              "      <td>14.37</td>\n",
              "      <td>95</td>\n",
              "      <td>106</td>\n",
              "      <td>0</td>\n",
              "      <td>256</td>\n",
              "      <td>53</td>\n",
              "      <td>Good</td>\n",
              "      <td>52</td>\n",
              "      <td>17</td>\n",
              "      <td>Yes</td>\n",
              "      <td>No</td>\n",
              "    </tr>\n",
              "    <tr>\n",
              "      <th>397</th>\n",
              "      <td>14.90</td>\n",
              "      <td>139</td>\n",
              "      <td>32</td>\n",
              "      <td>0</td>\n",
              "      <td>176</td>\n",
              "      <td>82</td>\n",
              "      <td>Good</td>\n",
              "      <td>54</td>\n",
              "      <td>11</td>\n",
              "      <td>No</td>\n",
              "      <td>No</td>\n",
              "    </tr>\n",
              "    <tr>\n",
              "      <th>398</th>\n",
              "      <td>15.63</td>\n",
              "      <td>122</td>\n",
              "      <td>36</td>\n",
              "      <td>5</td>\n",
              "      <td>369</td>\n",
              "      <td>72</td>\n",
              "      <td>Good</td>\n",
              "      <td>35</td>\n",
              "      <td>10</td>\n",
              "      <td>Yes</td>\n",
              "      <td>Yes</td>\n",
              "    </tr>\n",
              "    <tr>\n",
              "      <th>399</th>\n",
              "      <td>16.27</td>\n",
              "      <td>141</td>\n",
              "      <td>60</td>\n",
              "      <td>19</td>\n",
              "      <td>319</td>\n",
              "      <td>92</td>\n",
              "      <td>Good</td>\n",
              "      <td>44</td>\n",
              "      <td>11</td>\n",
              "      <td>Yes</td>\n",
              "      <td>Yes</td>\n",
              "    </tr>\n",
              "  </tbody>\n",
              "</table>\n",
              "<p>400 rows × 11 columns</p>\n",
              "</div>\n",
              "      <button class=\"colab-df-convert\" onclick=\"convertToInteractive('df-6b568d11-a5d5-4f1b-af57-7c3fed3f0111')\"\n",
              "              title=\"Convert this dataframe to an interactive table.\"\n",
              "              style=\"display:none;\">\n",
              "        \n",
              "  <svg xmlns=\"http://www.w3.org/2000/svg\" height=\"24px\"viewBox=\"0 0 24 24\"\n",
              "       width=\"24px\">\n",
              "    <path d=\"M0 0h24v24H0V0z\" fill=\"none\"/>\n",
              "    <path d=\"M18.56 5.44l.94 2.06.94-2.06 2.06-.94-2.06-.94-.94-2.06-.94 2.06-2.06.94zm-11 1L8.5 8.5l.94-2.06 2.06-.94-2.06-.94L8.5 2.5l-.94 2.06-2.06.94zm10 10l.94 2.06.94-2.06 2.06-.94-2.06-.94-.94-2.06-.94 2.06-2.06.94z\"/><path d=\"M17.41 7.96l-1.37-1.37c-.4-.4-.92-.59-1.43-.59-.52 0-1.04.2-1.43.59L10.3 9.45l-7.72 7.72c-.78.78-.78 2.05 0 2.83L4 21.41c.39.39.9.59 1.41.59.51 0 1.02-.2 1.41-.59l7.78-7.78 2.81-2.81c.8-.78.8-2.07 0-2.86zM5.41 20L4 18.59l7.72-7.72 1.47 1.35L5.41 20z\"/>\n",
              "  </svg>\n",
              "      </button>\n",
              "      \n",
              "  <style>\n",
              "    .colab-df-container {\n",
              "      display:flex;\n",
              "      flex-wrap:wrap;\n",
              "      gap: 12px;\n",
              "    }\n",
              "\n",
              "    .colab-df-convert {\n",
              "      background-color: #E8F0FE;\n",
              "      border: none;\n",
              "      border-radius: 50%;\n",
              "      cursor: pointer;\n",
              "      display: none;\n",
              "      fill: #1967D2;\n",
              "      height: 32px;\n",
              "      padding: 0 0 0 0;\n",
              "      width: 32px;\n",
              "    }\n",
              "\n",
              "    .colab-df-convert:hover {\n",
              "      background-color: #E2EBFA;\n",
              "      box-shadow: 0px 1px 2px rgba(60, 64, 67, 0.3), 0px 1px 3px 1px rgba(60, 64, 67, 0.15);\n",
              "      fill: #174EA6;\n",
              "    }\n",
              "\n",
              "    [theme=dark] .colab-df-convert {\n",
              "      background-color: #3B4455;\n",
              "      fill: #D2E3FC;\n",
              "    }\n",
              "\n",
              "    [theme=dark] .colab-df-convert:hover {\n",
              "      background-color: #434B5C;\n",
              "      box-shadow: 0px 1px 3px 1px rgba(0, 0, 0, 0.15);\n",
              "      filter: drop-shadow(0px 1px 2px rgba(0, 0, 0, 0.3));\n",
              "      fill: #FFFFFF;\n",
              "    }\n",
              "  </style>\n",
              "\n",
              "      <script>\n",
              "        const buttonEl =\n",
              "          document.querySelector('#df-6b568d11-a5d5-4f1b-af57-7c3fed3f0111 button.colab-df-convert');\n",
              "        buttonEl.style.display =\n",
              "          google.colab.kernel.accessAllowed ? 'block' : 'none';\n",
              "\n",
              "        async function convertToInteractive(key) {\n",
              "          const element = document.querySelector('#df-6b568d11-a5d5-4f1b-af57-7c3fed3f0111');\n",
              "          const dataTable =\n",
              "            await google.colab.kernel.invokeFunction('convertToInteractive',\n",
              "                                                     [key], {});\n",
              "          if (!dataTable) return;\n",
              "\n",
              "          const docLinkHtml = 'Like what you see? Visit the ' +\n",
              "            '<a target=\"_blank\" href=https://colab.research.google.com/notebooks/data_table.ipynb>data table notebook</a>'\n",
              "            + ' to learn more about interactive tables.';\n",
              "          element.innerHTML = '';\n",
              "          dataTable['output_type'] = 'display_data';\n",
              "          await google.colab.output.renderOutput(dataTable, element);\n",
              "          const docLink = document.createElement('div');\n",
              "          docLink.innerHTML = docLinkHtml;\n",
              "          element.appendChild(docLink);\n",
              "        }\n",
              "      </script>\n",
              "    </div>\n",
              "  </div>\n",
              "  "
            ]
          },
          "metadata": {},
          "execution_count": 11
        }
      ]
    },
    {
      "cell_type": "code",
      "source": [
        "a = cd.iloc[0:131,0].values"
      ],
      "metadata": {
        "id": "JGIIW7kvgmQP"
      },
      "execution_count": 12,
      "outputs": []
    },
    {
      "cell_type": "code",
      "source": [
        "a"
      ],
      "metadata": {
        "colab": {
          "base_uri": "https://localhost:8080/"
        },
        "id": "Osk2868og1B-",
        "outputId": "2ca4a9e5-9164-45f7-9c07-30765ff6f957"
      },
      "execution_count": 13,
      "outputs": [
        {
          "output_type": "execute_result",
          "data": {
            "text/plain": [
              "array([0.  , 0.16, 0.37, 0.53, 0.91, 1.42, 1.82, 2.05, 2.07, 2.23, 2.34,\n",
              "       2.52, 2.66, 2.67, 2.86, 2.93, 2.99, 3.02, 3.07, 3.13, 3.15, 3.24,\n",
              "       3.42, 3.45, 3.47, 3.47, 3.58, 3.62, 3.63, 3.67, 3.72, 3.89, 3.9 ,\n",
              "       3.9 , 3.91, 3.98, 4.1 , 4.1 , 4.1 , 4.11, 4.12, 4.15, 4.16, 4.17,\n",
              "       4.19, 4.2 , 4.21, 4.34, 4.36, 4.38, 4.42, 4.42, 4.43, 4.47, 4.53,\n",
              "       4.53, 4.55, 4.56, 4.62, 4.67, 4.68, 4.69, 4.69, 4.74, 4.78, 4.81,\n",
              "       4.81, 4.83, 4.88, 4.9 , 4.9 , 4.94, 4.95, 4.95, 4.96, 4.97, 4.99,\n",
              "       5.01, 5.04, 5.05, 5.07, 5.08, 5.08, 5.12, 5.16, 5.17, 5.17, 5.21,\n",
              "       5.25, 5.27, 5.28, 5.3 , 5.3 , 5.31, 5.32, 5.32, 5.33, 5.35, 5.36,\n",
              "       5.36, 5.4 , 5.42, 5.47, 5.52, 5.53, 5.55, 5.56, 5.57, 5.58, 5.58,\n",
              "       5.61, 5.64, 5.68, 5.68, 5.71, 5.73, 5.74, 5.81, 5.83, 5.86, 5.87,\n",
              "       5.87, 5.87, 5.9 , 5.93, 5.94, 5.94, 5.97, 5.98, 5.99, 6.01])"
            ]
          },
          "metadata": {},
          "execution_count": 13
        }
      ]
    },
    {
      "cell_type": "code",
      "source": [
        "b = cd.iloc[131:261,0].values"
      ],
      "metadata": {
        "id": "QUs-0GS4g3bQ"
      },
      "execution_count": 14,
      "outputs": []
    },
    {
      "cell_type": "code",
      "source": [
        "c = cd.iloc[261:400,0].values"
      ],
      "metadata": {
        "id": "BYKNL6WnhAwt"
      },
      "execution_count": 15,
      "outputs": []
    },
    {
      "cell_type": "code",
      "source": [
        "b"
      ],
      "metadata": {
        "colab": {
          "base_uri": "https://localhost:8080/"
        },
        "id": "G72vqIAJhLTP",
        "outputId": "47c0efe4-375a-407d-f1f9-8954e2d379de"
      },
      "execution_count": 16,
      "outputs": [
        {
          "output_type": "execute_result",
          "data": {
            "text/plain": [
              "array([6.03, 6.03, 6.1 , 6.11, 6.14, 6.15, 6.18, 6.2 , 6.2 , 6.2 , 6.23,\n",
              "       6.37, 6.38, 6.39, 6.41, 6.41, 6.42, 6.43, 6.44, 6.5 , 6.5 , 6.52,\n",
              "       6.52, 6.53, 6.53, 6.53, 6.54, 6.56, 6.59, 6.62, 6.63, 6.64, 6.67,\n",
              "       6.67, 6.67, 6.68, 6.71, 6.71, 6.8 , 6.81, 6.85, 6.87, 6.88, 6.88,\n",
              "       6.88, 6.89, 6.9 , 6.92, 6.93, 6.95, 6.97, 6.97, 6.98, 7.02, 7.22,\n",
              "       7.22, 7.23, 7.3 , 7.32, 7.36, 7.37, 7.38, 7.4 , 7.41, 7.41, 7.43,\n",
              "       7.44, 7.45, 7.49, 7.49, 7.5 , 7.52, 7.52, 7.53, 7.54, 7.56, 7.56,\n",
              "       7.57, 7.58, 7.6 , 7.62, 7.63, 7.64, 7.67, 7.68, 7.7 , 7.71, 7.71,\n",
              "       7.72, 7.74, 7.77, 7.78, 7.78, 7.8 , 7.8 , 7.8 , 7.8 , 7.81, 7.81,\n",
              "       7.82, 7.9 , 7.91, 7.95, 7.96, 7.99, 8.01, 8.01, 8.03, 8.07, 8.09,\n",
              "       8.14, 8.19, 8.19, 8.21, 8.22, 8.23, 8.25, 8.31, 8.32, 8.33, 8.39,\n",
              "       8.41, 8.43, 8.44, 8.47, 8.47, 8.54, 8.55, 8.55, 8.57])"
            ]
          },
          "metadata": {},
          "execution_count": 16
        }
      ]
    },
    {
      "cell_type": "code",
      "source": [
        "c"
      ],
      "metadata": {
        "colab": {
          "base_uri": "https://localhost:8080/"
        },
        "id": "JIP2ThgLhMEY",
        "outputId": "b95ab51b-b394-4c94-ed71-9d6af9af5e59"
      },
      "execution_count": 17,
      "outputs": [
        {
          "output_type": "execute_result",
          "data": {
            "text/plain": [
              "array([ 8.61,  8.64,  8.65,  8.67,  8.67,  8.68,  8.68,  8.69,  8.7 ,\n",
              "        8.71,  8.73,  8.74,  8.75,  8.77,  8.77,  8.77,  8.78,  8.79,\n",
              "        8.8 ,  8.85,  8.86,  8.87,  8.89,  8.97,  8.98,  9.  ,  9.01,\n",
              "        9.01,  9.03,  9.08,  9.09,  9.1 ,  9.14,  9.16,  9.16,  9.24,\n",
              "        9.31,  9.32,  9.32,  9.32,  9.33,  9.34,  9.35,  9.39,  9.4 ,\n",
              "        9.43,  9.44,  9.45,  9.46,  9.48,  9.49,  9.5 ,  9.53,  9.54,\n",
              "        9.58,  9.62,  9.64,  9.7 ,  9.71,  9.95, 10.  , 10.01, 10.04,\n",
              "       10.06, 10.07, 10.08, 10.1 , 10.14, 10.21, 10.26, 10.26, 10.27,\n",
              "       10.31, 10.36, 10.43, 10.44, 10.48, 10.49, 10.5 , 10.51, 10.59,\n",
              "       10.61, 10.62, 10.64, 10.66, 10.71, 10.77, 10.81, 10.96, 10.98,\n",
              "       11.07, 11.17, 11.18, 11.19, 11.19, 11.22, 11.27, 11.27, 11.28,\n",
              "       11.48, 11.48, 11.54, 11.62, 11.67, 11.7 , 11.7 , 11.82, 11.85,\n",
              "       11.91, 11.93, 11.96, 11.99, 12.01, 12.04, 12.11, 12.13, 12.29,\n",
              "       12.3 , 12.44, 12.49, 12.49, 12.53, 12.57, 12.57, 12.61, 12.66,\n",
              "       12.85, 12.98, 13.14, 13.28, 13.36, 13.39, 13.44, 13.55, 13.91,\n",
              "       14.37, 14.9 , 15.63, 16.27])"
            ]
          },
          "metadata": {},
          "execution_count": 17
        }
      ]
    },
    {
      "cell_type": "code",
      "source": [
        "d = np.where((a>0)&(a<6.02),1,0)"
      ],
      "metadata": {
        "id": "t7zkQFMihNqU"
      },
      "execution_count": 18,
      "outputs": []
    },
    {
      "cell_type": "code",
      "source": [
        "d"
      ],
      "metadata": {
        "colab": {
          "base_uri": "https://localhost:8080/"
        },
        "id": "5lBtD8UQiZIw",
        "outputId": "5251b72c-da3a-4581-e770-364c94983b82"
      },
      "execution_count": 19,
      "outputs": [
        {
          "output_type": "execute_result",
          "data": {
            "text/plain": [
              "array([0, 1, 1, 1, 1, 1, 1, 1, 1, 1, 1, 1, 1, 1, 1, 1, 1, 1, 1, 1, 1, 1,\n",
              "       1, 1, 1, 1, 1, 1, 1, 1, 1, 1, 1, 1, 1, 1, 1, 1, 1, 1, 1, 1, 1, 1,\n",
              "       1, 1, 1, 1, 1, 1, 1, 1, 1, 1, 1, 1, 1, 1, 1, 1, 1, 1, 1, 1, 1, 1,\n",
              "       1, 1, 1, 1, 1, 1, 1, 1, 1, 1, 1, 1, 1, 1, 1, 1, 1, 1, 1, 1, 1, 1,\n",
              "       1, 1, 1, 1, 1, 1, 1, 1, 1, 1, 1, 1, 1, 1, 1, 1, 1, 1, 1, 1, 1, 1,\n",
              "       1, 1, 1, 1, 1, 1, 1, 1, 1, 1, 1, 1, 1, 1, 1, 1, 1, 1, 1, 1, 1])"
            ]
          },
          "metadata": {},
          "execution_count": 19
        }
      ]
    },
    {
      "cell_type": "code",
      "source": [
        "e = np.where((b>6.02)&(b<8.58),2,0)"
      ],
      "metadata": {
        "id": "eDWhDV56iZ3a"
      },
      "execution_count": 20,
      "outputs": []
    },
    {
      "cell_type": "code",
      "source": [
        "e"
      ],
      "metadata": {
        "colab": {
          "base_uri": "https://localhost:8080/"
        },
        "id": "48Ii-0q8i6cv",
        "outputId": "7e99d4ee-070b-4788-f28b-1cfef3927db2"
      },
      "execution_count": 21,
      "outputs": [
        {
          "output_type": "execute_result",
          "data": {
            "text/plain": [
              "array([2, 2, 2, 2, 2, 2, 2, 2, 2, 2, 2, 2, 2, 2, 2, 2, 2, 2, 2, 2, 2, 2,\n",
              "       2, 2, 2, 2, 2, 2, 2, 2, 2, 2, 2, 2, 2, 2, 2, 2, 2, 2, 2, 2, 2, 2,\n",
              "       2, 2, 2, 2, 2, 2, 2, 2, 2, 2, 2, 2, 2, 2, 2, 2, 2, 2, 2, 2, 2, 2,\n",
              "       2, 2, 2, 2, 2, 2, 2, 2, 2, 2, 2, 2, 2, 2, 2, 2, 2, 2, 2, 2, 2, 2,\n",
              "       2, 2, 2, 2, 2, 2, 2, 2, 2, 2, 2, 2, 2, 2, 2, 2, 2, 2, 2, 2, 2, 2,\n",
              "       2, 2, 2, 2, 2, 2, 2, 2, 2, 2, 2, 2, 2, 2, 2, 2, 2, 2, 2, 2])"
            ]
          },
          "metadata": {},
          "execution_count": 21
        }
      ]
    },
    {
      "cell_type": "code",
      "source": [
        "f = np.where((c>8.60)&(c<12.01),2,3)"
      ],
      "metadata": {
        "id": "KteLkiGHi7Tk"
      },
      "execution_count": 22,
      "outputs": []
    },
    {
      "cell_type": "code",
      "source": [
        "f"
      ],
      "metadata": {
        "colab": {
          "base_uri": "https://localhost:8080/"
        },
        "id": "3lzDDhqQjqFg",
        "outputId": "a41483ad-ff49-46c1-dbd0-6d6e2e26b40c"
      },
      "execution_count": 23,
      "outputs": [
        {
          "output_type": "execute_result",
          "data": {
            "text/plain": [
              "array([2, 2, 2, 2, 2, 2, 2, 2, 2, 2, 2, 2, 2, 2, 2, 2, 2, 2, 2, 2, 2, 2,\n",
              "       2, 2, 2, 2, 2, 2, 2, 2, 2, 2, 2, 2, 2, 2, 2, 2, 2, 2, 2, 2, 2, 2,\n",
              "       2, 2, 2, 2, 2, 2, 2, 2, 2, 2, 2, 2, 2, 2, 2, 2, 2, 2, 2, 2, 2, 2,\n",
              "       2, 2, 2, 2, 2, 2, 2, 2, 2, 2, 2, 2, 2, 2, 2, 2, 2, 2, 2, 2, 2, 2,\n",
              "       2, 2, 2, 2, 2, 2, 2, 2, 2, 2, 2, 2, 2, 2, 2, 2, 2, 2, 2, 2, 2, 2,\n",
              "       2, 2, 3, 3, 3, 3, 3, 3, 3, 3, 3, 3, 3, 3, 3, 3, 3, 3, 3, 3, 3, 3,\n",
              "       3, 3, 3, 3, 3, 3, 3])"
            ]
          },
          "metadata": {},
          "execution_count": 23
        }
      ]
    },
    {
      "cell_type": "code",
      "source": [
        "g = np.hstack((d,e,f))"
      ],
      "metadata": {
        "id": "58vJtOvCjqx7"
      },
      "execution_count": 24,
      "outputs": []
    },
    {
      "cell_type": "code",
      "source": [
        "g"
      ],
      "metadata": {
        "colab": {
          "base_uri": "https://localhost:8080/"
        },
        "id": "sQ0YXSQmkTH9",
        "outputId": "c8d9ee83-6385-4c89-95cc-42f674ce2cfa"
      },
      "execution_count": 25,
      "outputs": [
        {
          "output_type": "execute_result",
          "data": {
            "text/plain": [
              "array([0, 1, 1, 1, 1, 1, 1, 1, 1, 1, 1, 1, 1, 1, 1, 1, 1, 1, 1, 1, 1, 1,\n",
              "       1, 1, 1, 1, 1, 1, 1, 1, 1, 1, 1, 1, 1, 1, 1, 1, 1, 1, 1, 1, 1, 1,\n",
              "       1, 1, 1, 1, 1, 1, 1, 1, 1, 1, 1, 1, 1, 1, 1, 1, 1, 1, 1, 1, 1, 1,\n",
              "       1, 1, 1, 1, 1, 1, 1, 1, 1, 1, 1, 1, 1, 1, 1, 1, 1, 1, 1, 1, 1, 1,\n",
              "       1, 1, 1, 1, 1, 1, 1, 1, 1, 1, 1, 1, 1, 1, 1, 1, 1, 1, 1, 1, 1, 1,\n",
              "       1, 1, 1, 1, 1, 1, 1, 1, 1, 1, 1, 1, 1, 1, 1, 1, 1, 1, 1, 1, 1, 2,\n",
              "       2, 2, 2, 2, 2, 2, 2, 2, 2, 2, 2, 2, 2, 2, 2, 2, 2, 2, 2, 2, 2, 2,\n",
              "       2, 2, 2, 2, 2, 2, 2, 2, 2, 2, 2, 2, 2, 2, 2, 2, 2, 2, 2, 2, 2, 2,\n",
              "       2, 2, 2, 2, 2, 2, 2, 2, 2, 2, 2, 2, 2, 2, 2, 2, 2, 2, 2, 2, 2, 2,\n",
              "       2, 2, 2, 2, 2, 2, 2, 2, 2, 2, 2, 2, 2, 2, 2, 2, 2, 2, 2, 2, 2, 2,\n",
              "       2, 2, 2, 2, 2, 2, 2, 2, 2, 2, 2, 2, 2, 2, 2, 2, 2, 2, 2, 2, 2, 2,\n",
              "       2, 2, 2, 2, 2, 2, 2, 2, 2, 2, 2, 2, 2, 2, 2, 2, 2, 2, 2, 2, 2, 2,\n",
              "       2, 2, 2, 2, 2, 2, 2, 2, 2, 2, 2, 2, 2, 2, 2, 2, 2, 2, 2, 2, 2, 2,\n",
              "       2, 2, 2, 2, 2, 2, 2, 2, 2, 2, 2, 2, 2, 2, 2, 2, 2, 2, 2, 2, 2, 2,\n",
              "       2, 2, 2, 2, 2, 2, 2, 2, 2, 2, 2, 2, 2, 2, 2, 2, 2, 2, 2, 2, 2, 2,\n",
              "       2, 2, 2, 2, 2, 2, 2, 2, 2, 2, 2, 2, 2, 2, 2, 2, 2, 2, 2, 2, 2, 2,\n",
              "       2, 2, 2, 2, 2, 2, 2, 2, 2, 2, 2, 2, 2, 2, 2, 2, 2, 2, 2, 2, 2, 3,\n",
              "       3, 3, 3, 3, 3, 3, 3, 3, 3, 3, 3, 3, 3, 3, 3, 3, 3, 3, 3, 3, 3, 3,\n",
              "       3, 3, 3, 3])"
            ]
          },
          "metadata": {},
          "execution_count": 25
        }
      ]
    },
    {
      "cell_type": "code",
      "source": [
        "sales_class = pd.Series(g)"
      ],
      "metadata": {
        "id": "KzRTnSGlkT72"
      },
      "execution_count": 26,
      "outputs": []
    },
    {
      "cell_type": "code",
      "source": [
        "cd['Sales_classes'] = sales_class"
      ],
      "metadata": {
        "id": "OHJvNE-0kid5"
      },
      "execution_count": 27,
      "outputs": []
    },
    {
      "cell_type": "code",
      "source": [
        "cd"
      ],
      "metadata": {
        "colab": {
          "base_uri": "https://localhost:8080/",
          "height": 423
        },
        "id": "MDu2SUVVkrn4",
        "outputId": "4a18e43e-a45a-4e54-d083-3dd742b98343"
      },
      "execution_count": 28,
      "outputs": [
        {
          "output_type": "execute_result",
          "data": {
            "text/plain": [
              "     Sales  CompPrice  Income  Advertising  Population  Price ShelveLoc  Age  \\\n",
              "0     0.00        139      24            0         358    185    Medium   79   \n",
              "1     0.16        102      33            0         217    139    Medium   70   \n",
              "2     0.37        147      58            7         100    191       Bad   27   \n",
              "3     0.53        122      88            7          36    159       Bad   28   \n",
              "4     0.91         93      91            0          22    117       Bad   75   \n",
              "..     ...        ...     ...          ...         ...    ...       ...  ...   \n",
              "395  13.91        110     110            0         408     68      Good   46   \n",
              "396  14.37         95     106            0         256     53      Good   52   \n",
              "397  14.90        139      32            0         176     82      Good   54   \n",
              "398  15.63        122      36            5         369     72      Good   35   \n",
              "399  16.27        141      60           19         319     92      Good   44   \n",
              "\n",
              "     Education Urban   US  Sales_classes  \n",
              "0           15    No   No              0  \n",
              "1           18    No   No              1  \n",
              "2           15   Yes  Yes              1  \n",
              "3           17   Yes  Yes              1  \n",
              "4           11   Yes   No              1  \n",
              "..         ...   ...  ...            ...  \n",
              "395         17    No  Yes              3  \n",
              "396         17   Yes   No              3  \n",
              "397         11    No   No              3  \n",
              "398         10   Yes  Yes              3  \n",
              "399         11   Yes  Yes              3  \n",
              "\n",
              "[400 rows x 12 columns]"
            ],
            "text/html": [
              "\n",
              "  <div id=\"df-4e3059e9-7a0c-46d2-a85e-3d1bbbc3fb80\">\n",
              "    <div class=\"colab-df-container\">\n",
              "      <div>\n",
              "<style scoped>\n",
              "    .dataframe tbody tr th:only-of-type {\n",
              "        vertical-align: middle;\n",
              "    }\n",
              "\n",
              "    .dataframe tbody tr th {\n",
              "        vertical-align: top;\n",
              "    }\n",
              "\n",
              "    .dataframe thead th {\n",
              "        text-align: right;\n",
              "    }\n",
              "</style>\n",
              "<table border=\"1\" class=\"dataframe\">\n",
              "  <thead>\n",
              "    <tr style=\"text-align: right;\">\n",
              "      <th></th>\n",
              "      <th>Sales</th>\n",
              "      <th>CompPrice</th>\n",
              "      <th>Income</th>\n",
              "      <th>Advertising</th>\n",
              "      <th>Population</th>\n",
              "      <th>Price</th>\n",
              "      <th>ShelveLoc</th>\n",
              "      <th>Age</th>\n",
              "      <th>Education</th>\n",
              "      <th>Urban</th>\n",
              "      <th>US</th>\n",
              "      <th>Sales_classes</th>\n",
              "    </tr>\n",
              "  </thead>\n",
              "  <tbody>\n",
              "    <tr>\n",
              "      <th>0</th>\n",
              "      <td>0.00</td>\n",
              "      <td>139</td>\n",
              "      <td>24</td>\n",
              "      <td>0</td>\n",
              "      <td>358</td>\n",
              "      <td>185</td>\n",
              "      <td>Medium</td>\n",
              "      <td>79</td>\n",
              "      <td>15</td>\n",
              "      <td>No</td>\n",
              "      <td>No</td>\n",
              "      <td>0</td>\n",
              "    </tr>\n",
              "    <tr>\n",
              "      <th>1</th>\n",
              "      <td>0.16</td>\n",
              "      <td>102</td>\n",
              "      <td>33</td>\n",
              "      <td>0</td>\n",
              "      <td>217</td>\n",
              "      <td>139</td>\n",
              "      <td>Medium</td>\n",
              "      <td>70</td>\n",
              "      <td>18</td>\n",
              "      <td>No</td>\n",
              "      <td>No</td>\n",
              "      <td>1</td>\n",
              "    </tr>\n",
              "    <tr>\n",
              "      <th>2</th>\n",
              "      <td>0.37</td>\n",
              "      <td>147</td>\n",
              "      <td>58</td>\n",
              "      <td>7</td>\n",
              "      <td>100</td>\n",
              "      <td>191</td>\n",
              "      <td>Bad</td>\n",
              "      <td>27</td>\n",
              "      <td>15</td>\n",
              "      <td>Yes</td>\n",
              "      <td>Yes</td>\n",
              "      <td>1</td>\n",
              "    </tr>\n",
              "    <tr>\n",
              "      <th>3</th>\n",
              "      <td>0.53</td>\n",
              "      <td>122</td>\n",
              "      <td>88</td>\n",
              "      <td>7</td>\n",
              "      <td>36</td>\n",
              "      <td>159</td>\n",
              "      <td>Bad</td>\n",
              "      <td>28</td>\n",
              "      <td>17</td>\n",
              "      <td>Yes</td>\n",
              "      <td>Yes</td>\n",
              "      <td>1</td>\n",
              "    </tr>\n",
              "    <tr>\n",
              "      <th>4</th>\n",
              "      <td>0.91</td>\n",
              "      <td>93</td>\n",
              "      <td>91</td>\n",
              "      <td>0</td>\n",
              "      <td>22</td>\n",
              "      <td>117</td>\n",
              "      <td>Bad</td>\n",
              "      <td>75</td>\n",
              "      <td>11</td>\n",
              "      <td>Yes</td>\n",
              "      <td>No</td>\n",
              "      <td>1</td>\n",
              "    </tr>\n",
              "    <tr>\n",
              "      <th>...</th>\n",
              "      <td>...</td>\n",
              "      <td>...</td>\n",
              "      <td>...</td>\n",
              "      <td>...</td>\n",
              "      <td>...</td>\n",
              "      <td>...</td>\n",
              "      <td>...</td>\n",
              "      <td>...</td>\n",
              "      <td>...</td>\n",
              "      <td>...</td>\n",
              "      <td>...</td>\n",
              "      <td>...</td>\n",
              "    </tr>\n",
              "    <tr>\n",
              "      <th>395</th>\n",
              "      <td>13.91</td>\n",
              "      <td>110</td>\n",
              "      <td>110</td>\n",
              "      <td>0</td>\n",
              "      <td>408</td>\n",
              "      <td>68</td>\n",
              "      <td>Good</td>\n",
              "      <td>46</td>\n",
              "      <td>17</td>\n",
              "      <td>No</td>\n",
              "      <td>Yes</td>\n",
              "      <td>3</td>\n",
              "    </tr>\n",
              "    <tr>\n",
              "      <th>396</th>\n",
              "      <td>14.37</td>\n",
              "      <td>95</td>\n",
              "      <td>106</td>\n",
              "      <td>0</td>\n",
              "      <td>256</td>\n",
              "      <td>53</td>\n",
              "      <td>Good</td>\n",
              "      <td>52</td>\n",
              "      <td>17</td>\n",
              "      <td>Yes</td>\n",
              "      <td>No</td>\n",
              "      <td>3</td>\n",
              "    </tr>\n",
              "    <tr>\n",
              "      <th>397</th>\n",
              "      <td>14.90</td>\n",
              "      <td>139</td>\n",
              "      <td>32</td>\n",
              "      <td>0</td>\n",
              "      <td>176</td>\n",
              "      <td>82</td>\n",
              "      <td>Good</td>\n",
              "      <td>54</td>\n",
              "      <td>11</td>\n",
              "      <td>No</td>\n",
              "      <td>No</td>\n",
              "      <td>3</td>\n",
              "    </tr>\n",
              "    <tr>\n",
              "      <th>398</th>\n",
              "      <td>15.63</td>\n",
              "      <td>122</td>\n",
              "      <td>36</td>\n",
              "      <td>5</td>\n",
              "      <td>369</td>\n",
              "      <td>72</td>\n",
              "      <td>Good</td>\n",
              "      <td>35</td>\n",
              "      <td>10</td>\n",
              "      <td>Yes</td>\n",
              "      <td>Yes</td>\n",
              "      <td>3</td>\n",
              "    </tr>\n",
              "    <tr>\n",
              "      <th>399</th>\n",
              "      <td>16.27</td>\n",
              "      <td>141</td>\n",
              "      <td>60</td>\n",
              "      <td>19</td>\n",
              "      <td>319</td>\n",
              "      <td>92</td>\n",
              "      <td>Good</td>\n",
              "      <td>44</td>\n",
              "      <td>11</td>\n",
              "      <td>Yes</td>\n",
              "      <td>Yes</td>\n",
              "      <td>3</td>\n",
              "    </tr>\n",
              "  </tbody>\n",
              "</table>\n",
              "<p>400 rows × 12 columns</p>\n",
              "</div>\n",
              "      <button class=\"colab-df-convert\" onclick=\"convertToInteractive('df-4e3059e9-7a0c-46d2-a85e-3d1bbbc3fb80')\"\n",
              "              title=\"Convert this dataframe to an interactive table.\"\n",
              "              style=\"display:none;\">\n",
              "        \n",
              "  <svg xmlns=\"http://www.w3.org/2000/svg\" height=\"24px\"viewBox=\"0 0 24 24\"\n",
              "       width=\"24px\">\n",
              "    <path d=\"M0 0h24v24H0V0z\" fill=\"none\"/>\n",
              "    <path d=\"M18.56 5.44l.94 2.06.94-2.06 2.06-.94-2.06-.94-.94-2.06-.94 2.06-2.06.94zm-11 1L8.5 8.5l.94-2.06 2.06-.94-2.06-.94L8.5 2.5l-.94 2.06-2.06.94zm10 10l.94 2.06.94-2.06 2.06-.94-2.06-.94-.94-2.06-.94 2.06-2.06.94z\"/><path d=\"M17.41 7.96l-1.37-1.37c-.4-.4-.92-.59-1.43-.59-.52 0-1.04.2-1.43.59L10.3 9.45l-7.72 7.72c-.78.78-.78 2.05 0 2.83L4 21.41c.39.39.9.59 1.41.59.51 0 1.02-.2 1.41-.59l7.78-7.78 2.81-2.81c.8-.78.8-2.07 0-2.86zM5.41 20L4 18.59l7.72-7.72 1.47 1.35L5.41 20z\"/>\n",
              "  </svg>\n",
              "      </button>\n",
              "      \n",
              "  <style>\n",
              "    .colab-df-container {\n",
              "      display:flex;\n",
              "      flex-wrap:wrap;\n",
              "      gap: 12px;\n",
              "    }\n",
              "\n",
              "    .colab-df-convert {\n",
              "      background-color: #E8F0FE;\n",
              "      border: none;\n",
              "      border-radius: 50%;\n",
              "      cursor: pointer;\n",
              "      display: none;\n",
              "      fill: #1967D2;\n",
              "      height: 32px;\n",
              "      padding: 0 0 0 0;\n",
              "      width: 32px;\n",
              "    }\n",
              "\n",
              "    .colab-df-convert:hover {\n",
              "      background-color: #E2EBFA;\n",
              "      box-shadow: 0px 1px 2px rgba(60, 64, 67, 0.3), 0px 1px 3px 1px rgba(60, 64, 67, 0.15);\n",
              "      fill: #174EA6;\n",
              "    }\n",
              "\n",
              "    [theme=dark] .colab-df-convert {\n",
              "      background-color: #3B4455;\n",
              "      fill: #D2E3FC;\n",
              "    }\n",
              "\n",
              "    [theme=dark] .colab-df-convert:hover {\n",
              "      background-color: #434B5C;\n",
              "      box-shadow: 0px 1px 3px 1px rgba(0, 0, 0, 0.15);\n",
              "      filter: drop-shadow(0px 1px 2px rgba(0, 0, 0, 0.3));\n",
              "      fill: #FFFFFF;\n",
              "    }\n",
              "  </style>\n",
              "\n",
              "      <script>\n",
              "        const buttonEl =\n",
              "          document.querySelector('#df-4e3059e9-7a0c-46d2-a85e-3d1bbbc3fb80 button.colab-df-convert');\n",
              "        buttonEl.style.display =\n",
              "          google.colab.kernel.accessAllowed ? 'block' : 'none';\n",
              "\n",
              "        async function convertToInteractive(key) {\n",
              "          const element = document.querySelector('#df-4e3059e9-7a0c-46d2-a85e-3d1bbbc3fb80');\n",
              "          const dataTable =\n",
              "            await google.colab.kernel.invokeFunction('convertToInteractive',\n",
              "                                                     [key], {});\n",
              "          if (!dataTable) return;\n",
              "\n",
              "          const docLinkHtml = 'Like what you see? Visit the ' +\n",
              "            '<a target=\"_blank\" href=https://colab.research.google.com/notebooks/data_table.ipynb>data table notebook</a>'\n",
              "            + ' to learn more about interactive tables.';\n",
              "          element.innerHTML = '';\n",
              "          dataTable['output_type'] = 'display_data';\n",
              "          await google.colab.output.renderOutput(dataTable, element);\n",
              "          const docLink = document.createElement('div');\n",
              "          docLink.innerHTML = docLinkHtml;\n",
              "          element.appendChild(docLink);\n",
              "        }\n",
              "      </script>\n",
              "    </div>\n",
              "  </div>\n",
              "  "
            ]
          },
          "metadata": {},
          "execution_count": 28
        }
      ]
    },
    {
      "cell_type": "markdown",
      "source": [
        "Sales is the target variable  which is divided into four classes.\n",
        "\n",
        "Class 0 - No sales\n",
        "\n",
        "Class 1 - Low sales\n",
        "\n",
        "Class 2- Medium sales\n",
        "\n",
        "Class 3 - High sales"
      ],
      "metadata": {
        "id": "lzyr6PXOk-0r"
      }
    },
    {
      "cell_type": "code",
      "source": [
        "cd.info()"
      ],
      "metadata": {
        "colab": {
          "base_uri": "https://localhost:8080/"
        },
        "id": "-23_3EH0kuIP",
        "outputId": "c13a70d9-6465-46f8-8d69-69b9dcc6c7f9"
      },
      "execution_count": 29,
      "outputs": [
        {
          "output_type": "stream",
          "name": "stdout",
          "text": [
            "<class 'pandas.core.frame.DataFrame'>\n",
            "RangeIndex: 400 entries, 0 to 399\n",
            "Data columns (total 12 columns):\n",
            " #   Column         Non-Null Count  Dtype  \n",
            "---  ------         --------------  -----  \n",
            " 0   Sales          400 non-null    float64\n",
            " 1   CompPrice      400 non-null    int64  \n",
            " 2   Income         400 non-null    int64  \n",
            " 3   Advertising    400 non-null    int64  \n",
            " 4   Population     400 non-null    int64  \n",
            " 5   Price          400 non-null    int64  \n",
            " 6   ShelveLoc      400 non-null    object \n",
            " 7   Age            400 non-null    int64  \n",
            " 8   Education      400 non-null    int64  \n",
            " 9   Urban          400 non-null    object \n",
            " 10  US             400 non-null    object \n",
            " 11  Sales_classes  400 non-null    int64  \n",
            "dtypes: float64(1), int64(8), object(3)\n",
            "memory usage: 37.6+ KB\n"
          ]
        }
      ]
    },
    {
      "cell_type": "code",
      "source": [
        "cd.dtypes"
      ],
      "metadata": {
        "colab": {
          "base_uri": "https://localhost:8080/"
        },
        "id": "6FSLz8Cellez",
        "outputId": "1a53db45-ba35-4f37-d58b-27602a73d864"
      },
      "execution_count": 30,
      "outputs": [
        {
          "output_type": "execute_result",
          "data": {
            "text/plain": [
              "Sales            float64\n",
              "CompPrice          int64\n",
              "Income             int64\n",
              "Advertising        int64\n",
              "Population         int64\n",
              "Price              int64\n",
              "ShelveLoc         object\n",
              "Age                int64\n",
              "Education          int64\n",
              "Urban             object\n",
              "US                object\n",
              "Sales_classes      int64\n",
              "dtype: object"
            ]
          },
          "metadata": {},
          "execution_count": 30
        }
      ]
    },
    {
      "cell_type": "code",
      "source": [
        "cd['ShelveLoc'] = cd['ShelveLoc'].map({'Good':1,'Medium':2,'Bad':3})"
      ],
      "metadata": {
        "id": "lTfE4dsslo3S"
      },
      "execution_count": 31,
      "outputs": []
    },
    {
      "cell_type": "code",
      "source": [
        "cd = pd.get_dummies(cd, columns=['Urban','US'],drop_first=True)"
      ],
      "metadata": {
        "id": "N_XjRQtHmOgM"
      },
      "execution_count": 32,
      "outputs": []
    },
    {
      "cell_type": "code",
      "source": [
        "cd"
      ],
      "metadata": {
        "colab": {
          "base_uri": "https://localhost:8080/",
          "height": 423
        },
        "id": "9xomRjafmhe-",
        "outputId": "25cd9e44-1512-4695-83cb-332236cb4074"
      },
      "execution_count": 33,
      "outputs": [
        {
          "output_type": "execute_result",
          "data": {
            "text/plain": [
              "     Sales  CompPrice  Income  Advertising  Population  Price  ShelveLoc  Age  \\\n",
              "0     0.00        139      24            0         358    185          2   79   \n",
              "1     0.16        102      33            0         217    139          2   70   \n",
              "2     0.37        147      58            7         100    191          3   27   \n",
              "3     0.53        122      88            7          36    159          3   28   \n",
              "4     0.91         93      91            0          22    117          3   75   \n",
              "..     ...        ...     ...          ...         ...    ...        ...  ...   \n",
              "395  13.91        110     110            0         408     68          1   46   \n",
              "396  14.37         95     106            0         256     53          1   52   \n",
              "397  14.90        139      32            0         176     82          1   54   \n",
              "398  15.63        122      36            5         369     72          1   35   \n",
              "399  16.27        141      60           19         319     92          1   44   \n",
              "\n",
              "     Education  Sales_classes  Urban_Yes  US_Yes  \n",
              "0           15              0          0       0  \n",
              "1           18              1          0       0  \n",
              "2           15              1          1       1  \n",
              "3           17              1          1       1  \n",
              "4           11              1          1       0  \n",
              "..         ...            ...        ...     ...  \n",
              "395         17              3          0       1  \n",
              "396         17              3          1       0  \n",
              "397         11              3          0       0  \n",
              "398         10              3          1       1  \n",
              "399         11              3          1       1  \n",
              "\n",
              "[400 rows x 12 columns]"
            ],
            "text/html": [
              "\n",
              "  <div id=\"df-010bce95-21ab-41cf-8651-605c2fa318f4\">\n",
              "    <div class=\"colab-df-container\">\n",
              "      <div>\n",
              "<style scoped>\n",
              "    .dataframe tbody tr th:only-of-type {\n",
              "        vertical-align: middle;\n",
              "    }\n",
              "\n",
              "    .dataframe tbody tr th {\n",
              "        vertical-align: top;\n",
              "    }\n",
              "\n",
              "    .dataframe thead th {\n",
              "        text-align: right;\n",
              "    }\n",
              "</style>\n",
              "<table border=\"1\" class=\"dataframe\">\n",
              "  <thead>\n",
              "    <tr style=\"text-align: right;\">\n",
              "      <th></th>\n",
              "      <th>Sales</th>\n",
              "      <th>CompPrice</th>\n",
              "      <th>Income</th>\n",
              "      <th>Advertising</th>\n",
              "      <th>Population</th>\n",
              "      <th>Price</th>\n",
              "      <th>ShelveLoc</th>\n",
              "      <th>Age</th>\n",
              "      <th>Education</th>\n",
              "      <th>Sales_classes</th>\n",
              "      <th>Urban_Yes</th>\n",
              "      <th>US_Yes</th>\n",
              "    </tr>\n",
              "  </thead>\n",
              "  <tbody>\n",
              "    <tr>\n",
              "      <th>0</th>\n",
              "      <td>0.00</td>\n",
              "      <td>139</td>\n",
              "      <td>24</td>\n",
              "      <td>0</td>\n",
              "      <td>358</td>\n",
              "      <td>185</td>\n",
              "      <td>2</td>\n",
              "      <td>79</td>\n",
              "      <td>15</td>\n",
              "      <td>0</td>\n",
              "      <td>0</td>\n",
              "      <td>0</td>\n",
              "    </tr>\n",
              "    <tr>\n",
              "      <th>1</th>\n",
              "      <td>0.16</td>\n",
              "      <td>102</td>\n",
              "      <td>33</td>\n",
              "      <td>0</td>\n",
              "      <td>217</td>\n",
              "      <td>139</td>\n",
              "      <td>2</td>\n",
              "      <td>70</td>\n",
              "      <td>18</td>\n",
              "      <td>1</td>\n",
              "      <td>0</td>\n",
              "      <td>0</td>\n",
              "    </tr>\n",
              "    <tr>\n",
              "      <th>2</th>\n",
              "      <td>0.37</td>\n",
              "      <td>147</td>\n",
              "      <td>58</td>\n",
              "      <td>7</td>\n",
              "      <td>100</td>\n",
              "      <td>191</td>\n",
              "      <td>3</td>\n",
              "      <td>27</td>\n",
              "      <td>15</td>\n",
              "      <td>1</td>\n",
              "      <td>1</td>\n",
              "      <td>1</td>\n",
              "    </tr>\n",
              "    <tr>\n",
              "      <th>3</th>\n",
              "      <td>0.53</td>\n",
              "      <td>122</td>\n",
              "      <td>88</td>\n",
              "      <td>7</td>\n",
              "      <td>36</td>\n",
              "      <td>159</td>\n",
              "      <td>3</td>\n",
              "      <td>28</td>\n",
              "      <td>17</td>\n",
              "      <td>1</td>\n",
              "      <td>1</td>\n",
              "      <td>1</td>\n",
              "    </tr>\n",
              "    <tr>\n",
              "      <th>4</th>\n",
              "      <td>0.91</td>\n",
              "      <td>93</td>\n",
              "      <td>91</td>\n",
              "      <td>0</td>\n",
              "      <td>22</td>\n",
              "      <td>117</td>\n",
              "      <td>3</td>\n",
              "      <td>75</td>\n",
              "      <td>11</td>\n",
              "      <td>1</td>\n",
              "      <td>1</td>\n",
              "      <td>0</td>\n",
              "    </tr>\n",
              "    <tr>\n",
              "      <th>...</th>\n",
              "      <td>...</td>\n",
              "      <td>...</td>\n",
              "      <td>...</td>\n",
              "      <td>...</td>\n",
              "      <td>...</td>\n",
              "      <td>...</td>\n",
              "      <td>...</td>\n",
              "      <td>...</td>\n",
              "      <td>...</td>\n",
              "      <td>...</td>\n",
              "      <td>...</td>\n",
              "      <td>...</td>\n",
              "    </tr>\n",
              "    <tr>\n",
              "      <th>395</th>\n",
              "      <td>13.91</td>\n",
              "      <td>110</td>\n",
              "      <td>110</td>\n",
              "      <td>0</td>\n",
              "      <td>408</td>\n",
              "      <td>68</td>\n",
              "      <td>1</td>\n",
              "      <td>46</td>\n",
              "      <td>17</td>\n",
              "      <td>3</td>\n",
              "      <td>0</td>\n",
              "      <td>1</td>\n",
              "    </tr>\n",
              "    <tr>\n",
              "      <th>396</th>\n",
              "      <td>14.37</td>\n",
              "      <td>95</td>\n",
              "      <td>106</td>\n",
              "      <td>0</td>\n",
              "      <td>256</td>\n",
              "      <td>53</td>\n",
              "      <td>1</td>\n",
              "      <td>52</td>\n",
              "      <td>17</td>\n",
              "      <td>3</td>\n",
              "      <td>1</td>\n",
              "      <td>0</td>\n",
              "    </tr>\n",
              "    <tr>\n",
              "      <th>397</th>\n",
              "      <td>14.90</td>\n",
              "      <td>139</td>\n",
              "      <td>32</td>\n",
              "      <td>0</td>\n",
              "      <td>176</td>\n",
              "      <td>82</td>\n",
              "      <td>1</td>\n",
              "      <td>54</td>\n",
              "      <td>11</td>\n",
              "      <td>3</td>\n",
              "      <td>0</td>\n",
              "      <td>0</td>\n",
              "    </tr>\n",
              "    <tr>\n",
              "      <th>398</th>\n",
              "      <td>15.63</td>\n",
              "      <td>122</td>\n",
              "      <td>36</td>\n",
              "      <td>5</td>\n",
              "      <td>369</td>\n",
              "      <td>72</td>\n",
              "      <td>1</td>\n",
              "      <td>35</td>\n",
              "      <td>10</td>\n",
              "      <td>3</td>\n",
              "      <td>1</td>\n",
              "      <td>1</td>\n",
              "    </tr>\n",
              "    <tr>\n",
              "      <th>399</th>\n",
              "      <td>16.27</td>\n",
              "      <td>141</td>\n",
              "      <td>60</td>\n",
              "      <td>19</td>\n",
              "      <td>319</td>\n",
              "      <td>92</td>\n",
              "      <td>1</td>\n",
              "      <td>44</td>\n",
              "      <td>11</td>\n",
              "      <td>3</td>\n",
              "      <td>1</td>\n",
              "      <td>1</td>\n",
              "    </tr>\n",
              "  </tbody>\n",
              "</table>\n",
              "<p>400 rows × 12 columns</p>\n",
              "</div>\n",
              "      <button class=\"colab-df-convert\" onclick=\"convertToInteractive('df-010bce95-21ab-41cf-8651-605c2fa318f4')\"\n",
              "              title=\"Convert this dataframe to an interactive table.\"\n",
              "              style=\"display:none;\">\n",
              "        \n",
              "  <svg xmlns=\"http://www.w3.org/2000/svg\" height=\"24px\"viewBox=\"0 0 24 24\"\n",
              "       width=\"24px\">\n",
              "    <path d=\"M0 0h24v24H0V0z\" fill=\"none\"/>\n",
              "    <path d=\"M18.56 5.44l.94 2.06.94-2.06 2.06-.94-2.06-.94-.94-2.06-.94 2.06-2.06.94zm-11 1L8.5 8.5l.94-2.06 2.06-.94-2.06-.94L8.5 2.5l-.94 2.06-2.06.94zm10 10l.94 2.06.94-2.06 2.06-.94-2.06-.94-.94-2.06-.94 2.06-2.06.94z\"/><path d=\"M17.41 7.96l-1.37-1.37c-.4-.4-.92-.59-1.43-.59-.52 0-1.04.2-1.43.59L10.3 9.45l-7.72 7.72c-.78.78-.78 2.05 0 2.83L4 21.41c.39.39.9.59 1.41.59.51 0 1.02-.2 1.41-.59l7.78-7.78 2.81-2.81c.8-.78.8-2.07 0-2.86zM5.41 20L4 18.59l7.72-7.72 1.47 1.35L5.41 20z\"/>\n",
              "  </svg>\n",
              "      </button>\n",
              "      \n",
              "  <style>\n",
              "    .colab-df-container {\n",
              "      display:flex;\n",
              "      flex-wrap:wrap;\n",
              "      gap: 12px;\n",
              "    }\n",
              "\n",
              "    .colab-df-convert {\n",
              "      background-color: #E8F0FE;\n",
              "      border: none;\n",
              "      border-radius: 50%;\n",
              "      cursor: pointer;\n",
              "      display: none;\n",
              "      fill: #1967D2;\n",
              "      height: 32px;\n",
              "      padding: 0 0 0 0;\n",
              "      width: 32px;\n",
              "    }\n",
              "\n",
              "    .colab-df-convert:hover {\n",
              "      background-color: #E2EBFA;\n",
              "      box-shadow: 0px 1px 2px rgba(60, 64, 67, 0.3), 0px 1px 3px 1px rgba(60, 64, 67, 0.15);\n",
              "      fill: #174EA6;\n",
              "    }\n",
              "\n",
              "    [theme=dark] .colab-df-convert {\n",
              "      background-color: #3B4455;\n",
              "      fill: #D2E3FC;\n",
              "    }\n",
              "\n",
              "    [theme=dark] .colab-df-convert:hover {\n",
              "      background-color: #434B5C;\n",
              "      box-shadow: 0px 1px 3px 1px rgba(0, 0, 0, 0.15);\n",
              "      filter: drop-shadow(0px 1px 2px rgba(0, 0, 0, 0.3));\n",
              "      fill: #FFFFFF;\n",
              "    }\n",
              "  </style>\n",
              "\n",
              "      <script>\n",
              "        const buttonEl =\n",
              "          document.querySelector('#df-010bce95-21ab-41cf-8651-605c2fa318f4 button.colab-df-convert');\n",
              "        buttonEl.style.display =\n",
              "          google.colab.kernel.accessAllowed ? 'block' : 'none';\n",
              "\n",
              "        async function convertToInteractive(key) {\n",
              "          const element = document.querySelector('#df-010bce95-21ab-41cf-8651-605c2fa318f4');\n",
              "          const dataTable =\n",
              "            await google.colab.kernel.invokeFunction('convertToInteractive',\n",
              "                                                     [key], {});\n",
              "          if (!dataTable) return;\n",
              "\n",
              "          const docLinkHtml = 'Like what you see? Visit the ' +\n",
              "            '<a target=\"_blank\" href=https://colab.research.google.com/notebooks/data_table.ipynb>data table notebook</a>'\n",
              "            + ' to learn more about interactive tables.';\n",
              "          element.innerHTML = '';\n",
              "          dataTable['output_type'] = 'display_data';\n",
              "          await google.colab.output.renderOutput(dataTable, element);\n",
              "          const docLink = document.createElement('div');\n",
              "          docLink.innerHTML = docLinkHtml;\n",
              "          element.appendChild(docLink);\n",
              "        }\n",
              "      </script>\n",
              "    </div>\n",
              "  </div>\n",
              "  "
            ]
          },
          "metadata": {},
          "execution_count": 33
        }
      ]
    },
    {
      "cell_type": "code",
      "source": [
        "x = cd.iloc[:,[1,2,3,4,5,6,7,8,10,11]]"
      ],
      "metadata": {
        "id": "5Oc4tH0hmiY6"
      },
      "execution_count": 34,
      "outputs": []
    },
    {
      "cell_type": "code",
      "source": [
        "y = cd.iloc[:,9]"
      ],
      "metadata": {
        "id": "L1XJNfELnNam"
      },
      "execution_count": 35,
      "outputs": []
    },
    {
      "cell_type": "code",
      "source": [
        "y"
      ],
      "metadata": {
        "colab": {
          "base_uri": "https://localhost:8080/"
        },
        "id": "jvAVmW6FnTvk",
        "outputId": "05c18498-4d31-41f7-9efd-ef06e85087c6"
      },
      "execution_count": 36,
      "outputs": [
        {
          "output_type": "execute_result",
          "data": {
            "text/plain": [
              "0      0\n",
              "1      1\n",
              "2      1\n",
              "3      1\n",
              "4      1\n",
              "      ..\n",
              "395    3\n",
              "396    3\n",
              "397    3\n",
              "398    3\n",
              "399    3\n",
              "Name: Sales_classes, Length: 400, dtype: int64"
            ]
          },
          "metadata": {},
          "execution_count": 36
        }
      ]
    },
    {
      "cell_type": "code",
      "source": [
        "x"
      ],
      "metadata": {
        "colab": {
          "base_uri": "https://localhost:8080/",
          "height": 423
        },
        "id": "PI_CIBx0nUnJ",
        "outputId": "56f3ad9e-237f-414c-8169-6c4dfc735039"
      },
      "execution_count": 37,
      "outputs": [
        {
          "output_type": "execute_result",
          "data": {
            "text/plain": [
              "     CompPrice  Income  Advertising  Population  Price  ShelveLoc  Age  \\\n",
              "0          139      24            0         358    185          2   79   \n",
              "1          102      33            0         217    139          2   70   \n",
              "2          147      58            7         100    191          3   27   \n",
              "3          122      88            7          36    159          3   28   \n",
              "4           93      91            0          22    117          3   75   \n",
              "..         ...     ...          ...         ...    ...        ...  ...   \n",
              "395        110     110            0         408     68          1   46   \n",
              "396         95     106            0         256     53          1   52   \n",
              "397        139      32            0         176     82          1   54   \n",
              "398        122      36            5         369     72          1   35   \n",
              "399        141      60           19         319     92          1   44   \n",
              "\n",
              "     Education  Urban_Yes  US_Yes  \n",
              "0           15          0       0  \n",
              "1           18          0       0  \n",
              "2           15          1       1  \n",
              "3           17          1       1  \n",
              "4           11          1       0  \n",
              "..         ...        ...     ...  \n",
              "395         17          0       1  \n",
              "396         17          1       0  \n",
              "397         11          0       0  \n",
              "398         10          1       1  \n",
              "399         11          1       1  \n",
              "\n",
              "[400 rows x 10 columns]"
            ],
            "text/html": [
              "\n",
              "  <div id=\"df-45dc348a-0402-4bc4-87ed-9ee45e670e9c\">\n",
              "    <div class=\"colab-df-container\">\n",
              "      <div>\n",
              "<style scoped>\n",
              "    .dataframe tbody tr th:only-of-type {\n",
              "        vertical-align: middle;\n",
              "    }\n",
              "\n",
              "    .dataframe tbody tr th {\n",
              "        vertical-align: top;\n",
              "    }\n",
              "\n",
              "    .dataframe thead th {\n",
              "        text-align: right;\n",
              "    }\n",
              "</style>\n",
              "<table border=\"1\" class=\"dataframe\">\n",
              "  <thead>\n",
              "    <tr style=\"text-align: right;\">\n",
              "      <th></th>\n",
              "      <th>CompPrice</th>\n",
              "      <th>Income</th>\n",
              "      <th>Advertising</th>\n",
              "      <th>Population</th>\n",
              "      <th>Price</th>\n",
              "      <th>ShelveLoc</th>\n",
              "      <th>Age</th>\n",
              "      <th>Education</th>\n",
              "      <th>Urban_Yes</th>\n",
              "      <th>US_Yes</th>\n",
              "    </tr>\n",
              "  </thead>\n",
              "  <tbody>\n",
              "    <tr>\n",
              "      <th>0</th>\n",
              "      <td>139</td>\n",
              "      <td>24</td>\n",
              "      <td>0</td>\n",
              "      <td>358</td>\n",
              "      <td>185</td>\n",
              "      <td>2</td>\n",
              "      <td>79</td>\n",
              "      <td>15</td>\n",
              "      <td>0</td>\n",
              "      <td>0</td>\n",
              "    </tr>\n",
              "    <tr>\n",
              "      <th>1</th>\n",
              "      <td>102</td>\n",
              "      <td>33</td>\n",
              "      <td>0</td>\n",
              "      <td>217</td>\n",
              "      <td>139</td>\n",
              "      <td>2</td>\n",
              "      <td>70</td>\n",
              "      <td>18</td>\n",
              "      <td>0</td>\n",
              "      <td>0</td>\n",
              "    </tr>\n",
              "    <tr>\n",
              "      <th>2</th>\n",
              "      <td>147</td>\n",
              "      <td>58</td>\n",
              "      <td>7</td>\n",
              "      <td>100</td>\n",
              "      <td>191</td>\n",
              "      <td>3</td>\n",
              "      <td>27</td>\n",
              "      <td>15</td>\n",
              "      <td>1</td>\n",
              "      <td>1</td>\n",
              "    </tr>\n",
              "    <tr>\n",
              "      <th>3</th>\n",
              "      <td>122</td>\n",
              "      <td>88</td>\n",
              "      <td>7</td>\n",
              "      <td>36</td>\n",
              "      <td>159</td>\n",
              "      <td>3</td>\n",
              "      <td>28</td>\n",
              "      <td>17</td>\n",
              "      <td>1</td>\n",
              "      <td>1</td>\n",
              "    </tr>\n",
              "    <tr>\n",
              "      <th>4</th>\n",
              "      <td>93</td>\n",
              "      <td>91</td>\n",
              "      <td>0</td>\n",
              "      <td>22</td>\n",
              "      <td>117</td>\n",
              "      <td>3</td>\n",
              "      <td>75</td>\n",
              "      <td>11</td>\n",
              "      <td>1</td>\n",
              "      <td>0</td>\n",
              "    </tr>\n",
              "    <tr>\n",
              "      <th>...</th>\n",
              "      <td>...</td>\n",
              "      <td>...</td>\n",
              "      <td>...</td>\n",
              "      <td>...</td>\n",
              "      <td>...</td>\n",
              "      <td>...</td>\n",
              "      <td>...</td>\n",
              "      <td>...</td>\n",
              "      <td>...</td>\n",
              "      <td>...</td>\n",
              "    </tr>\n",
              "    <tr>\n",
              "      <th>395</th>\n",
              "      <td>110</td>\n",
              "      <td>110</td>\n",
              "      <td>0</td>\n",
              "      <td>408</td>\n",
              "      <td>68</td>\n",
              "      <td>1</td>\n",
              "      <td>46</td>\n",
              "      <td>17</td>\n",
              "      <td>0</td>\n",
              "      <td>1</td>\n",
              "    </tr>\n",
              "    <tr>\n",
              "      <th>396</th>\n",
              "      <td>95</td>\n",
              "      <td>106</td>\n",
              "      <td>0</td>\n",
              "      <td>256</td>\n",
              "      <td>53</td>\n",
              "      <td>1</td>\n",
              "      <td>52</td>\n",
              "      <td>17</td>\n",
              "      <td>1</td>\n",
              "      <td>0</td>\n",
              "    </tr>\n",
              "    <tr>\n",
              "      <th>397</th>\n",
              "      <td>139</td>\n",
              "      <td>32</td>\n",
              "      <td>0</td>\n",
              "      <td>176</td>\n",
              "      <td>82</td>\n",
              "      <td>1</td>\n",
              "      <td>54</td>\n",
              "      <td>11</td>\n",
              "      <td>0</td>\n",
              "      <td>0</td>\n",
              "    </tr>\n",
              "    <tr>\n",
              "      <th>398</th>\n",
              "      <td>122</td>\n",
              "      <td>36</td>\n",
              "      <td>5</td>\n",
              "      <td>369</td>\n",
              "      <td>72</td>\n",
              "      <td>1</td>\n",
              "      <td>35</td>\n",
              "      <td>10</td>\n",
              "      <td>1</td>\n",
              "      <td>1</td>\n",
              "    </tr>\n",
              "    <tr>\n",
              "      <th>399</th>\n",
              "      <td>141</td>\n",
              "      <td>60</td>\n",
              "      <td>19</td>\n",
              "      <td>319</td>\n",
              "      <td>92</td>\n",
              "      <td>1</td>\n",
              "      <td>44</td>\n",
              "      <td>11</td>\n",
              "      <td>1</td>\n",
              "      <td>1</td>\n",
              "    </tr>\n",
              "  </tbody>\n",
              "</table>\n",
              "<p>400 rows × 10 columns</p>\n",
              "</div>\n",
              "      <button class=\"colab-df-convert\" onclick=\"convertToInteractive('df-45dc348a-0402-4bc4-87ed-9ee45e670e9c')\"\n",
              "              title=\"Convert this dataframe to an interactive table.\"\n",
              "              style=\"display:none;\">\n",
              "        \n",
              "  <svg xmlns=\"http://www.w3.org/2000/svg\" height=\"24px\"viewBox=\"0 0 24 24\"\n",
              "       width=\"24px\">\n",
              "    <path d=\"M0 0h24v24H0V0z\" fill=\"none\"/>\n",
              "    <path d=\"M18.56 5.44l.94 2.06.94-2.06 2.06-.94-2.06-.94-.94-2.06-.94 2.06-2.06.94zm-11 1L8.5 8.5l.94-2.06 2.06-.94-2.06-.94L8.5 2.5l-.94 2.06-2.06.94zm10 10l.94 2.06.94-2.06 2.06-.94-2.06-.94-.94-2.06-.94 2.06-2.06.94z\"/><path d=\"M17.41 7.96l-1.37-1.37c-.4-.4-.92-.59-1.43-.59-.52 0-1.04.2-1.43.59L10.3 9.45l-7.72 7.72c-.78.78-.78 2.05 0 2.83L4 21.41c.39.39.9.59 1.41.59.51 0 1.02-.2 1.41-.59l7.78-7.78 2.81-2.81c.8-.78.8-2.07 0-2.86zM5.41 20L4 18.59l7.72-7.72 1.47 1.35L5.41 20z\"/>\n",
              "  </svg>\n",
              "      </button>\n",
              "      \n",
              "  <style>\n",
              "    .colab-df-container {\n",
              "      display:flex;\n",
              "      flex-wrap:wrap;\n",
              "      gap: 12px;\n",
              "    }\n",
              "\n",
              "    .colab-df-convert {\n",
              "      background-color: #E8F0FE;\n",
              "      border: none;\n",
              "      border-radius: 50%;\n",
              "      cursor: pointer;\n",
              "      display: none;\n",
              "      fill: #1967D2;\n",
              "      height: 32px;\n",
              "      padding: 0 0 0 0;\n",
              "      width: 32px;\n",
              "    }\n",
              "\n",
              "    .colab-df-convert:hover {\n",
              "      background-color: #E2EBFA;\n",
              "      box-shadow: 0px 1px 2px rgba(60, 64, 67, 0.3), 0px 1px 3px 1px rgba(60, 64, 67, 0.15);\n",
              "      fill: #174EA6;\n",
              "    }\n",
              "\n",
              "    [theme=dark] .colab-df-convert {\n",
              "      background-color: #3B4455;\n",
              "      fill: #D2E3FC;\n",
              "    }\n",
              "\n",
              "    [theme=dark] .colab-df-convert:hover {\n",
              "      background-color: #434B5C;\n",
              "      box-shadow: 0px 1px 3px 1px rgba(0, 0, 0, 0.15);\n",
              "      filter: drop-shadow(0px 1px 2px rgba(0, 0, 0, 0.3));\n",
              "      fill: #FFFFFF;\n",
              "    }\n",
              "  </style>\n",
              "\n",
              "      <script>\n",
              "        const buttonEl =\n",
              "          document.querySelector('#df-45dc348a-0402-4bc4-87ed-9ee45e670e9c button.colab-df-convert');\n",
              "        buttonEl.style.display =\n",
              "          google.colab.kernel.accessAllowed ? 'block' : 'none';\n",
              "\n",
              "        async function convertToInteractive(key) {\n",
              "          const element = document.querySelector('#df-45dc348a-0402-4bc4-87ed-9ee45e670e9c');\n",
              "          const dataTable =\n",
              "            await google.colab.kernel.invokeFunction('convertToInteractive',\n",
              "                                                     [key], {});\n",
              "          if (!dataTable) return;\n",
              "\n",
              "          const docLinkHtml = 'Like what you see? Visit the ' +\n",
              "            '<a target=\"_blank\" href=https://colab.research.google.com/notebooks/data_table.ipynb>data table notebook</a>'\n",
              "            + ' to learn more about interactive tables.';\n",
              "          element.innerHTML = '';\n",
              "          dataTable['output_type'] = 'display_data';\n",
              "          await google.colab.output.renderOutput(dataTable, element);\n",
              "          const docLink = document.createElement('div');\n",
              "          docLink.innerHTML = docLinkHtml;\n",
              "          element.appendChild(docLink);\n",
              "        }\n",
              "      </script>\n",
              "    </div>\n",
              "  </div>\n",
              "  "
            ]
          },
          "metadata": {},
          "execution_count": 37
        }
      ]
    },
    {
      "cell_type": "code",
      "source": [
        "from sklearn.model_selection import train_test_split"
      ],
      "metadata": {
        "id": "VOaD7rXzns04"
      },
      "execution_count": 38,
      "outputs": []
    },
    {
      "cell_type": "code",
      "source": [
        "x_train, x_test, y_train, y_test = train_test_split(x,y,test_size=0.3,random_state=30)"
      ],
      "metadata": {
        "id": "INW_YWTNnWzh"
      },
      "execution_count": 39,
      "outputs": []
    },
    {
      "cell_type": "code",
      "source": [
        "y_train"
      ],
      "metadata": {
        "colab": {
          "base_uri": "https://localhost:8080/"
        },
        "id": "1eVfKN2hRnel",
        "outputId": "e3960270-f20c-45e8-d313-74fc3af9ea98"
      },
      "execution_count": 40,
      "outputs": [
        {
          "output_type": "execute_result",
          "data": {
            "text/plain": [
              "80     1\n",
              "198    2\n",
              "262    2\n",
              "329    2\n",
              "157    2\n",
              "      ..\n",
              "309    2\n",
              "386    3\n",
              "140    2\n",
              "301    2\n",
              "293    2\n",
              "Name: Sales_classes, Length: 280, dtype: int64"
            ]
          },
          "metadata": {},
          "execution_count": 40
        }
      ]
    },
    {
      "cell_type": "code",
      "source": [
        "from sklearn.ensemble import RandomForestClassifier as RF"
      ],
      "metadata": {
        "id": "iboK-vr352FK"
      },
      "execution_count": 42,
      "outputs": []
    },
    {
      "cell_type": "code",
      "source": [
        "model = RF(n_estimators=12,criterion='gini',oob_score=True)\n",
        "model.fit(x_train,y_train)"
      ],
      "metadata": {
        "colab": {
          "base_uri": "https://localhost:8080/"
        },
        "id": "EFdZ-6su6A04",
        "outputId": "6acc9ad8-529e-48f7-8a5c-8e8b1a9ed356"
      },
      "execution_count": 43,
      "outputs": [
        {
          "output_type": "stream",
          "name": "stderr",
          "text": [
            "/usr/local/lib/python3.7/dist-packages/sklearn/ensemble/_forest.py:564: UserWarning: Some inputs do not have OOB scores. This probably means too few trees were used to compute any reliable OOB estimates.\n",
            "  UserWarning,\n"
          ]
        },
        {
          "output_type": "execute_result",
          "data": {
            "text/plain": [
              "RandomForestClassifier(n_estimators=12, oob_score=True)"
            ]
          },
          "metadata": {},
          "execution_count": 43
        }
      ]
    },
    {
      "cell_type": "code",
      "source": [
        "model.estimator_params"
      ],
      "metadata": {
        "colab": {
          "base_uri": "https://localhost:8080/"
        },
        "id": "6m8jb0X17BAb",
        "outputId": "1cbaf410-0b7c-48e9-c026-f94325f3e8f8"
      },
      "execution_count": 44,
      "outputs": [
        {
          "output_type": "execute_result",
          "data": {
            "text/plain": [
              "('criterion',\n",
              " 'max_depth',\n",
              " 'min_samples_split',\n",
              " 'min_samples_leaf',\n",
              " 'min_weight_fraction_leaf',\n",
              " 'max_features',\n",
              " 'max_leaf_nodes',\n",
              " 'min_impurity_decrease',\n",
              " 'random_state',\n",
              " 'ccp_alpha')"
            ]
          },
          "metadata": {},
          "execution_count": 44
        }
      ]
    },
    {
      "cell_type": "code",
      "source": [
        "model.score"
      ],
      "metadata": {
        "colab": {
          "base_uri": "https://localhost:8080/"
        },
        "id": "B-RTNamjyNf8",
        "outputId": "0b5516e6-e7eb-4d0e-d5f9-ec95b165e376"
      },
      "execution_count": 45,
      "outputs": [
        {
          "output_type": "execute_result",
          "data": {
            "text/plain": [
              "<bound method ClassifierMixin.score of RandomForestClassifier(n_estimators=12, oob_score=True)>"
            ]
          },
          "metadata": {},
          "execution_count": 45
        }
      ]
    },
    {
      "cell_type": "code",
      "source": [
        "model.oob_score_"
      ],
      "metadata": {
        "colab": {
          "base_uri": "https://localhost:8080/"
        },
        "id": "IVxPevViyUx3",
        "outputId": "d0289f88-396a-48bf-a978-9849b3d59d31"
      },
      "execution_count": 47,
      "outputs": [
        {
          "output_type": "execute_result",
          "data": {
            "text/plain": [
              "0.6571428571428571"
            ]
          },
          "metadata": {},
          "execution_count": 47
        }
      ]
    },
    {
      "cell_type": "code",
      "source": [
        "y_pred = model.predict(x_test)"
      ],
      "metadata": {
        "id": "_Sx4hz85y7_N"
      },
      "execution_count": 48,
      "outputs": []
    },
    {
      "cell_type": "code",
      "source": [
        "from sklearn.metrics import accuracy_score"
      ],
      "metadata": {
        "id": "gZ2EqJwjzGVE"
      },
      "execution_count": 51,
      "outputs": []
    },
    {
      "cell_type": "code",
      "source": [
        "accu = accuracy_score(y_test,y_pred)"
      ],
      "metadata": {
        "id": "CdOVD2dDzAtQ"
      },
      "execution_count": 52,
      "outputs": []
    },
    {
      "cell_type": "code",
      "source": [
        "accu"
      ],
      "metadata": {
        "colab": {
          "base_uri": "https://localhost:8080/"
        },
        "id": "4s6_EfK8zKgk",
        "outputId": "b3f27643-5a64-443f-f4b2-70cfb9c96eb7"
      },
      "execution_count": 53,
      "outputs": [
        {
          "output_type": "execute_result",
          "data": {
            "text/plain": [
              "0.7666666666666667"
            ]
          },
          "metadata": {},
          "execution_count": 53
        }
      ]
    },
    {
      "cell_type": "code",
      "source": [
        "y_trained_pred = model.predict(x_train)"
      ],
      "metadata": {
        "id": "AipcSd0G6XZO"
      },
      "execution_count": 55,
      "outputs": []
    },
    {
      "cell_type": "code",
      "source": [
        "accu_train = accuracy_score(y_train,y_trained_pred)\n"
      ],
      "metadata": {
        "id": "y_mnhNvxQd6Q"
      },
      "execution_count": 56,
      "outputs": []
    },
    {
      "cell_type": "code",
      "source": [
        "accu_train"
      ],
      "metadata": {
        "colab": {
          "base_uri": "https://localhost:8080/"
        },
        "id": "bCsYPy066if7",
        "outputId": "d85cc37c-c777-4317-b1fc-bb26742ad754"
      },
      "execution_count": 57,
      "outputs": [
        {
          "output_type": "execute_result",
          "data": {
            "text/plain": [
              "1.0"
            ]
          },
          "metadata": {},
          "execution_count": 57
        }
      ]
    },
    {
      "cell_type": "code",
      "source": [
        "from sklearn.metrics import confusion_matrix"
      ],
      "metadata": {
        "id": "uuTrmjVP8Ay-"
      },
      "execution_count": 58,
      "outputs": []
    },
    {
      "cell_type": "code",
      "source": [
        "cm = confusion_matrix(y_test,y_pred)"
      ],
      "metadata": {
        "id": "37xJv9WyRDst"
      },
      "execution_count": 59,
      "outputs": []
    },
    {
      "cell_type": "code",
      "source": [
        "cm"
      ],
      "metadata": {
        "colab": {
          "base_uri": "https://localhost:8080/"
        },
        "id": "vHCI5Q3866va",
        "outputId": "fb231f1f-0ac4-47ec-8cf2-52dced5e86f6"
      },
      "execution_count": 60,
      "outputs": [
        {
          "output_type": "execute_result",
          "data": {
            "text/plain": [
              "array([[ 0,  1,  0,  0],\n",
              "       [ 0, 30, 11,  0],\n",
              "       [ 0,  9, 60,  0],\n",
              "       [ 0,  0,  7,  2]])"
            ]
          },
          "metadata": {},
          "execution_count": 60
        }
      ]
    },
    {
      "cell_type": "code",
      "source": [
        "from sklearn.metrics._plot.confusion_matrix import plot_confusion_matrix\n",
        "plot_confusion_matrix(model,x_test,y_test)"
      ],
      "metadata": {
        "colab": {
          "base_uri": "https://localhost:8080/",
          "height": 358
        },
        "id": "DaI3ffYK69Np",
        "outputId": "78fce2c4-67b4-4d97-ecb3-dba232325c99"
      },
      "execution_count": 61,
      "outputs": [
        {
          "output_type": "stream",
          "name": "stderr",
          "text": [
            "/usr/local/lib/python3.7/dist-packages/sklearn/utils/deprecation.py:87: FutureWarning: Function plot_confusion_matrix is deprecated; Function `plot_confusion_matrix` is deprecated in 1.0 and will be removed in 1.2. Use one of the class methods: ConfusionMatrixDisplay.from_predictions or ConfusionMatrixDisplay.from_estimator.\n",
            "  warnings.warn(msg, category=FutureWarning)\n"
          ]
        },
        {
          "output_type": "execute_result",
          "data": {
            "text/plain": [
              "<sklearn.metrics._plot.confusion_matrix.ConfusionMatrixDisplay at 0x7f4a37a3fd90>"
            ]
          },
          "metadata": {},
          "execution_count": 61
        },
        {
          "output_type": "display_data",
          "data": {
            "text/plain": [
              "<Figure size 432x288 with 2 Axes>"
            ],
            "image/png": "[encoded data removed]"
          },
          "metadata": {
            "needs_background": "light"
          }
        }
      ]
    },
    {
      "cell_type": "code",
      "source": [
        "from sklearn.tree import export_graphviz\n",
        "from six import StringIO"
      ],
      "metadata": {
        "id": "1ra30cbz8d3p"
      },
      "execution_count": 63,
      "outputs": []
    },
    {
      "cell_type": "code",
      "source": [
        "tree = model.estimators_[6]"
      ],
      "metadata": {
        "id": "SCEW_Z8g88v9"
      },
      "execution_count": 66,
      "outputs": []
    },
    {
      "cell_type": "code",
      "source": [
        "fn = ['CompPrice',\t'Income',\t'Advertising',\t'Population',\t'Price',\t'ShelveLoc',\t'Age',\t'Education','Urban_Yes',\t'US_Yes']"
      ],
      "metadata": {
        "id": "mfTyDHBS9-qJ"
      },
      "execution_count": 68,
      "outputs": []
    },
    {
      "cell_type": "code",
      "source": [
        "cn = ['0','1','2','3']\n"
      ],
      "metadata": {
        "id": "JRfvogX4-KYd"
      },
      "execution_count": 69,
      "outputs": []
    },
    {
      "cell_type": "code",
      "source": [
        "import matplotlib.pyplot as plt\n",
        "%matplotlib inline"
      ],
      "metadata": {
        "id": "3-7iih5S-7XT"
      },
      "execution_count": 78,
      "outputs": []
    },
    {
      "cell_type": "code",
      "source": [
        "fig,axes = plt.subplots(nrows=1,ncols=1,figsize=(5,5),dpi=300)\n",
        "from sklearn.tree import plot_tree"
      ],
      "metadata": {
        "id": "-81qb5-lxMfx"
      },
      "execution_count": null,
      "outputs": []
    },
    {
      "cell_type": "code",
      "source": [
        "fig,axes = plt.subplots(nrows=1,ncols=1,figsize=(5,5),dpi=300)\n",
        "plot_tree(tree,feature_names=fn,class_names=cn,filled=True)"
      ],
      "metadata": {
        "colab": {
          "base_uri": "https://localhost:8080/",
          "height": 1000
        },
        "id": "HCY6Hr3eANRS",
        "outputId": "c4cbaf9e-a454-4113-9488-b4077ca0b26f"
      },
      "execution_count": 81,
      "outputs": [
        {
          "output_type": "execute_result",
          "data": {
            "text/plain": [
              "[Text(0.4327651515151515, 0.9545454545454546, 'ShelveLoc <= 1.5\\ngini = 0.528\\nsamples = 175\\nvalue = [89, 169, 22]\\nclass = 1'),\n",
              " Text(0.13636363636363635, 0.8636363636363636, 'Income <= 101.0\\ngini = 0.454\\nsamples = 41\\nvalue = [3, 46, 18]\\nclass = 1'),\n",
              " Text(0.07575757575757576, 0.7727272727272727, 'Income <= 68.5\\ngini = 0.306\\nsamples = 33\\nvalue = [0, 43, 10]\\nclass = 1'),\n",
              " Text(0.045454545454545456, 0.6818181818181818, 'CompPrice <= 122.0\\ngini = 0.142\\nsamples = 17\\nvalue = [0, 24, 2]\\nclass = 1'),\n",
              " Text(0.030303030303030304, 0.5909090909090909, 'gini = 0.0\\nsamples = 9\\nvalue = [0, 17, 0]\\nclass = 1'),\n",
              " Text(0.06060606060606061, 0.5909090909090909, 'Advertising <= 14.0\\ngini = 0.346\\nsamples = 8\\nvalue = [0, 7, 2]\\nclass = 1'),\n",
              " Text(0.045454545454545456, 0.5, 'Population <= 198.0\\ngini = 0.219\\nsamples = 7\\nvalue = [0, 7, 1]\\nclass = 1'),\n",
              " Text(0.030303030303030304, 0.4090909090909091, 'Urban_Yes <= 0.5\\ngini = 0.444\\nsamples = 3\\nvalue = [0, 2, 1]\\nclass = 1'),\n",
              " Text(0.015151515151515152, 0.3181818181818182, 'gini = 0.0\\nsamples = 1\\nvalue = [0, 0, 1]\\nclass = 2'),\n",
              " Text(0.045454545454545456, 0.3181818181818182, 'gini = 0.0\\nsamples = 2\\nvalue = [0, 2, 0]\\nclass = 1'),\n",
              " Text(0.06060606060606061, 0.4090909090909091, 'gini = 0.0\\nsamples = 4\\nvalue = [0, 5, 0]\\nclass = 1'),\n",
              " Text(0.07575757575757576, 0.5, 'gini = 0.0\\nsamples = 1\\nvalue = [0, 0, 1]\\nclass = 2'),\n",
              " Text(0.10606060606060606, 0.6818181818181818, 'Income <= 74.5\\ngini = 0.417\\nsamples = 16\\nvalue = [0, 19, 8]\\nclass = 1'),\n",
              " Text(0.09090909090909091, 0.5909090909090909, 'gini = 0.0\\nsamples = 3\\nvalue = [0, 0, 4]\\nclass = 2'),\n",
              " Text(0.12121212121212122, 0.5909090909090909, 'Price <= 91.5\\ngini = 0.287\\nsamples = 13\\nvalue = [0, 19, 4]\\nclass = 1'),\n",
              " Text(0.10606060606060606, 0.5, 'gini = 0.0\\nsamples = 1\\nvalue = [0, 0, 2]\\nclass = 2'),\n",
              " Text(0.13636363636363635, 0.5, 'Income <= 91.5\\ngini = 0.172\\nsamples = 12\\nvalue = [0, 19, 2]\\nclass = 1'),\n",
              " Text(0.12121212121212122, 0.4090909090909091, 'Income <= 85.5\\ngini = 0.278\\nsamples = 8\\nvalue = [0, 10, 2]\\nclass = 1'),\n",
              " Text(0.10606060606060606, 0.3181818181818182, 'Population <= 66.0\\ngini = 0.165\\nsamples = 7\\nvalue = [0, 10, 1]\\nclass = 1'),\n",
              " Text(0.09090909090909091, 0.22727272727272727, 'gini = 0.0\\nsamples = 1\\nvalue = [0, 0, 1]\\nclass = 2'),\n",
              " Text(0.12121212121212122, 0.22727272727272727, 'gini = 0.0\\nsamples = 6\\nvalue = [0, 10, 0]\\nclass = 1'),\n",
              " Text(0.13636363636363635, 0.3181818181818182, 'gini = 0.0\\nsamples = 1\\nvalue = [0, 0, 1]\\nclass = 2'),\n",
              " Text(0.15151515151515152, 0.4090909090909091, 'gini = 0.0\\nsamples = 4\\nvalue = [0, 9, 0]\\nclass = 1'),\n",
              " Text(0.19696969696969696, 0.7727272727272727, 'Age <= 66.5\\ngini = 0.582\\nsamples = 8\\nvalue = [3, 3, 8]\\nclass = 2'),\n",
              " Text(0.16666666666666666, 0.6818181818181818, 'Price <= 136.5\\ngini = 0.32\\nsamples = 6\\nvalue = [0, 2, 8]\\nclass = 2'),\n",
              " Text(0.15151515151515152, 0.5909090909090909, 'gini = 0.0\\nsamples = 4\\nvalue = [0, 0, 8]\\nclass = 2'),\n",
              " Text(0.18181818181818182, 0.5909090909090909, 'gini = 0.0\\nsamples = 2\\nvalue = [0, 2, 0]\\nclass = 1'),\n",
              " Text(0.22727272727272727, 0.6818181818181818, 'Education <= 13.0\\ngini = 0.375\\nsamples = 2\\nvalue = [3, 1, 0]\\nclass = 0'),\n",
              " Text(0.21212121212121213, 0.5909090909090909, 'gini = 0.0\\nsamples = 1\\nvalue = [3, 0, 0]\\nclass = 0'),\n",
              " Text(0.24242424242424243, 0.5909090909090909, 'gini = 0.0\\nsamples = 1\\nvalue = [0, 1, 0]\\nclass = 1'),\n",
              " Text(0.7291666666666666, 0.8636363636363636, 'Income <= 98.5\\ngini = 0.503\\nsamples = 134\\nvalue = [86, 123, 4]\\nclass = 1'),\n",
              " Text(0.571969696969697, 0.7727272727272727, 'ShelveLoc <= 2.5\\ngini = 0.517\\nsamples = 107\\nvalue = [81, 85, 3]\\nclass = 1'),\n",
              " Text(0.42424242424242425, 0.6818181818181818, 'Price <= 131.5\\ngini = 0.509\\nsamples = 77\\nvalue = [51, 72, 3]\\nclass = 1'),\n",
              " Text(0.30303030303030304, 0.5909090909090909, 'Population <= 159.0\\ngini = 0.427\\nsamples = 55\\nvalue = [22, 62, 3]\\nclass = 1'),\n",
              " Text(0.21212121212121213, 0.5, 'Urban_Yes <= 0.5\\ngini = 0.164\\nsamples = 21\\nvalue = [1, 31, 2]\\nclass = 1'),\n",
              " Text(0.18181818181818182, 0.4090909090909091, 'Population <= 26.5\\ngini = 0.32\\nsamples = 6\\nvalue = [0, 8, 2]\\nclass = 1'),\n",
              " Text(0.16666666666666666, 0.3181818181818182, 'gini = 0.0\\nsamples = 1\\nvalue = [0, 0, 2]\\nclass = 2'),\n",
              " Text(0.19696969696969696, 0.3181818181818182, 'gini = 0.0\\nsamples = 5\\nvalue = [0, 8, 0]\\nclass = 1'),\n",
              " Text(0.24242424242424243, 0.4090909090909091, 'CompPrice <= 110.5\\ngini = 0.08\\nsamples = 15\\nvalue = [1, 23, 0]\\nclass = 1'),\n",
              " Text(0.22727272727272727, 0.3181818181818182, 'Advertising <= 9.5\\ngini = 0.5\\nsamples = 2\\nvalue = [1, 1, 0]\\nclass = 0'),\n",
              " Text(0.21212121212121213, 0.22727272727272727, 'gini = 0.0\\nsamples = 1\\nvalue = [1, 0, 0]\\nclass = 0'),\n",
              " Text(0.24242424242424243, 0.22727272727272727, 'gini = 0.0\\nsamples = 1\\nvalue = [0, 1, 0]\\nclass = 1'),\n",
              " Text(0.25757575757575757, 0.3181818181818182, 'gini = 0.0\\nsamples = 13\\nvalue = [0, 22, 0]\\nclass = 1'),\n",
              " Text(0.3939393939393939, 0.5, 'Income <= 44.5\\ngini = 0.501\\nsamples = 34\\nvalue = [21, 31, 1]\\nclass = 1'),\n",
              " Text(0.3181818181818182, 0.4090909090909091, 'CompPrice <= 122.5\\ngini = 0.469\\nsamples = 16\\nvalue = [15, 9, 0]\\nclass = 0'),\n",
              " Text(0.2878787878787879, 0.3181818181818182, 'Urban_Yes <= 0.5\\ngini = 0.124\\nsamples = 9\\nvalue = [14, 1, 0]\\nclass = 0'),\n",
              " Text(0.2727272727272727, 0.22727272727272727, 'Population <= 444.5\\ngini = 0.32\\nsamples = 3\\nvalue = [4, 1, 0]\\nclass = 0'),\n",
              " Text(0.25757575757575757, 0.13636363636363635, 'Age <= 55.5\\ngini = 0.5\\nsamples = 2\\nvalue = [1, 1, 0]\\nclass = 0'),\n",
              " Text(0.24242424242424243, 0.045454545454545456, 'gini = 0.0\\nsamples = 1\\nvalue = [1, 0, 0]\\nclass = 0'),\n",
              " Text(0.2727272727272727, 0.045454545454545456, 'gini = 0.0\\nsamples = 1\\nvalue = [0, 1, 0]\\nclass = 1'),\n",
              " Text(0.2878787878787879, 0.13636363636363635, 'gini = 0.0\\nsamples = 1\\nvalue = [3, 0, 0]\\nclass = 0'),\n",
              " Text(0.30303030303030304, 0.22727272727272727, 'gini = 0.0\\nsamples = 6\\nvalue = [10, 0, 0]\\nclass = 0'),\n",
              " Text(0.3484848484848485, 0.3181818181818182, 'Education <= 15.5\\ngini = 0.198\\nsamples = 7\\nvalue = [1, 8, 0]\\nclass = 1'),\n",
              " Text(0.3333333333333333, 0.22727272727272727, 'gini = 0.0\\nsamples = 5\\nvalue = [0, 7, 0]\\nclass = 1'),\n",
              " Text(0.36363636363636365, 0.22727272727272727, 'Age <= 51.0\\ngini = 0.5\\nsamples = 2\\nvalue = [1, 1, 0]\\nclass = 0'),\n",
              " Text(0.3484848484848485, 0.13636363636363635, 'gini = 0.0\\nsamples = 1\\nvalue = [0, 1, 0]\\nclass = 1'),\n",
              " Text(0.3787878787878788, 0.13636363636363635, 'gini = 0.0\\nsamples = 1\\nvalue = [1, 0, 0]\\nclass = 0'),\n",
              " Text(0.4696969696969697, 0.4090909090909091, 'CompPrice <= 133.5\\ngini = 0.38\\nsamples = 18\\nvalue = [6, 22, 1]\\nclass = 1'),\n",
              " Text(0.4393939393939394, 0.3181818181818182, 'CompPrice <= 111.5\\ngini = 0.087\\nsamples = 14\\nvalue = [1, 21, 0]\\nclass = 1'),\n",
              " Text(0.42424242424242425, 0.22727272727272727, 'Income <= 61.5\\ngini = 0.245\\nsamples = 6\\nvalue = [1, 6, 0]\\nclass = 1'),\n",
              " Text(0.4090909090909091, 0.13636363636363635, 'gini = 0.0\\nsamples = 1\\nvalue = [1, 0, 0]\\nclass = 0'),\n",
              " Text(0.4393939393939394, 0.13636363636363635, 'gini = 0.0\\nsamples = 5\\nvalue = [0, 6, 0]\\nclass = 1'),\n",
              " Text(0.45454545454545453, 0.22727272727272727, 'gini = 0.0\\nsamples = 8\\nvalue = [0, 15, 0]\\nclass = 1'),\n",
              " Text(0.5, 0.3181818181818182, 'Income <= 67.0\\ngini = 0.449\\nsamples = 4\\nvalue = [5, 1, 1]\\nclass = 0'),\n",
              " Text(0.48484848484848486, 0.22727272727272727, 'gini = 0.0\\nsamples = 1\\nvalue = [0, 0, 1]\\nclass = 2'),\n",
              " Text(0.5151515151515151, 0.22727272727272727, 'Income <= 83.0\\ngini = 0.278\\nsamples = 3\\nvalue = [5, 1, 0]\\nclass = 0'),\n",
              " Text(0.5, 0.13636363636363635, 'gini = 0.0\\nsamples = 2\\nvalue = [5, 0, 0]\\nclass = 0'),\n",
              " Text(0.5303030303030303, 0.13636363636363635, 'gini = 0.0\\nsamples = 1\\nvalue = [0, 1, 0]\\nclass = 1'),\n",
              " Text(0.5454545454545454, 0.5909090909090909, 'CompPrice <= 142.0\\ngini = 0.381\\nsamples = 22\\nvalue = [29, 10, 0]\\nclass = 0'),\n",
              " Text(0.5303030303030303, 0.5, 'gini = 0.0\\nsamples = 13\\nvalue = [23, 0, 0]\\nclass = 0'),\n",
              " Text(0.5606060606060606, 0.5, 'Advertising <= 2.5\\ngini = 0.469\\nsamples = 9\\nvalue = [6, 10, 0]\\nclass = 1'),\n",
              " Text(0.5454545454545454, 0.4090909090909091, 'Income <= 35.0\\ngini = 0.375\\nsamples = 5\\nvalue = [6, 2, 0]\\nclass = 0'),\n",
              " Text(0.5303030303030303, 0.3181818181818182, 'gini = 0.0\\nsamples = 1\\nvalue = [0, 2, 0]\\nclass = 1'),\n",
              " Text(0.5606060606060606, 0.3181818181818182, 'gini = 0.0\\nsamples = 4\\nvalue = [6, 0, 0]\\nclass = 0'),\n",
              " Text(0.5757575757575758, 0.4090909090909091, 'gini = 0.0\\nsamples = 4\\nvalue = [0, 8, 0]\\nclass = 1'),\n",
              " Text(0.7196969696969697, 0.6818181818181818, 'Advertising <= 4.0\\ngini = 0.422\\nsamples = 30\\nvalue = [30, 13, 0]\\nclass = 0'),\n",
              " Text(0.6515151515151515, 0.5909090909090909, 'Population <= 144.0\\ngini = 0.305\\nsamples = 21\\nvalue = [26, 6, 0]\\nclass = 0'),\n",
              " Text(0.6212121212121212, 0.5, 'CompPrice <= 135.5\\ngini = 0.473\\nsamples = 10\\nvalue = [8, 5, 0]\\nclass = 0'),\n",
              " Text(0.6060606060606061, 0.4090909090909091, 'CompPrice <= 116.0\\ngini = 0.198\\nsamples = 7\\nvalue = [8, 1, 0]\\nclass = 0'),\n",
              " Text(0.5909090909090909, 0.3181818181818182, 'gini = 0.0\\nsamples = 3\\nvalue = [4, 0, 0]\\nclass = 0'),\n",
              " Text(0.6212121212121212, 0.3181818181818182, 'CompPrice <= 121.0\\ngini = 0.32\\nsamples = 4\\nvalue = [4, 1, 0]\\nclass = 0'),\n",
              " Text(0.6060606060606061, 0.22727272727272727, 'gini = 0.0\\nsamples = 1\\nvalue = [0, 1, 0]\\nclass = 1'),\n",
              " Text(0.6363636363636364, 0.22727272727272727, 'gini = 0.0\\nsamples = 3\\nvalue = [4, 0, 0]\\nclass = 0'),\n",
              " Text(0.6363636363636364, 0.4090909090909091, 'gini = 0.0\\nsamples = 3\\nvalue = [0, 4, 0]\\nclass = 1'),\n",
              " Text(0.6818181818181818, 0.5, 'Age <= 57.0\\ngini = 0.1\\nsamples = 11\\nvalue = [18, 1, 0]\\nclass = 0'),\n",
              " Text(0.6666666666666666, 0.4090909090909091, 'gini = 0.0\\nsamples = 6\\nvalue = [11, 0, 0]\\nclass = 0'),\n",
              " Text(0.696969696969697, 0.4090909090909091, 'Population <= 376.0\\ngini = 0.219\\nsamples = 5\\nvalue = [7, 1, 0]\\nclass = 0'),\n",
              " Text(0.6818181818181818, 0.3181818181818182, 'gini = 0.0\\nsamples = 4\\nvalue = [7, 0, 0]\\nclass = 0'),\n",
              " Text(0.7121212121212122, 0.3181818181818182, 'gini = 0.0\\nsamples = 1\\nvalue = [0, 1, 0]\\nclass = 1'),\n",
              " Text(0.7878787878787878, 0.5909090909090909, 'Education <= 14.0\\ngini = 0.463\\nsamples = 9\\nvalue = [4, 7, 0]\\nclass = 1'),\n",
              " Text(0.7727272727272727, 0.5, 'CompPrice <= 128.5\\ngini = 0.5\\nsamples = 6\\nvalue = [4, 4, 0]\\nclass = 0'),\n",
              " Text(0.7575757575757576, 0.4090909090909091, 'Advertising <= 17.5\\ngini = 0.444\\nsamples = 5\\nvalue = [2, 4, 0]\\nclass = 1'),\n",
              " Text(0.7424242424242424, 0.3181818181818182, 'Age <= 62.0\\ngini = 0.5\\nsamples = 4\\nvalue = [2, 2, 0]\\nclass = 0'),\n",
              " Text(0.7272727272727273, 0.22727272727272727, 'gini = 0.0\\nsamples = 2\\nvalue = [0, 2, 0]\\nclass = 1'),\n",
              " Text(0.7575757575757576, 0.22727272727272727, 'gini = 0.0\\nsamples = 2\\nvalue = [2, 0, 0]\\nclass = 0'),\n",
              " Text(0.7727272727272727, 0.3181818181818182, 'gini = 0.0\\nsamples = 1\\nvalue = [0, 2, 0]\\nclass = 1'),\n",
              " Text(0.7878787878787878, 0.4090909090909091, 'gini = 0.0\\nsamples = 1\\nvalue = [2, 0, 0]\\nclass = 0'),\n",
              " Text(0.803030303030303, 0.5, 'gini = 0.0\\nsamples = 3\\nvalue = [0, 3, 0]\\nclass = 1'),\n",
              " Text(0.8863636363636364, 0.7727272727272727, 'Population <= 505.0\\ngini = 0.241\\nsamples = 27\\nvalue = [5, 38, 1]\\nclass = 1'),\n",
              " Text(0.8712121212121212, 0.6818181818181818, 'Population <= 32.0\\ngini = 0.206\\nsamples = 26\\nvalue = [5, 38, 0]\\nclass = 1'),\n",
              " Text(0.8560606060606061, 0.5909090909090909, 'gini = 0.0\\nsamples = 1\\nvalue = [1, 0, 0]\\nclass = 0'),\n",
              " Text(0.8863636363636364, 0.5909090909090909, 'Population <= 137.5\\ngini = 0.172\\nsamples = 25\\nvalue = [4, 38, 0]\\nclass = 1'),\n",
              " Text(0.8333333333333334, 0.5, 'Price <= 116.0\\ngini = 0.375\\nsamples = 6\\nvalue = [2, 6, 0]\\nclass = 1'),\n",
              " Text(0.8181818181818182, 0.4090909090909091, 'gini = 0.0\\nsamples = 3\\nvalue = [0, 5, 0]\\nclass = 1'),\n",
              " Text(0.8484848484848485, 0.4090909090909091, 'Income <= 111.5\\ngini = 0.444\\nsamples = 3\\nvalue = [2, 1, 0]\\nclass = 0'),\n",
              " Text(0.8333333333333334, 0.3181818181818182, 'gini = 0.0\\nsamples = 1\\nvalue = [0, 1, 0]\\nclass = 1'),\n",
              " Text(0.8636363636363636, 0.3181818181818182, 'gini = 0.0\\nsamples = 2\\nvalue = [2, 0, 0]\\nclass = 0'),\n",
              " Text(0.9393939393939394, 0.5, 'CompPrice <= 136.0\\ngini = 0.111\\nsamples = 19\\nvalue = [2, 32, 0]\\nclass = 1'),\n",
              " Text(0.9090909090909091, 0.4090909090909091, 'Education <= 11.5\\ngini = 0.062\\nsamples = 17\\nvalue = [1, 30, 0]\\nclass = 1'),\n",
              " Text(0.8939393939393939, 0.3181818181818182, 'Age <= 52.5\\ngini = 0.245\\nsamples = 5\\nvalue = [1, 6, 0]\\nclass = 1'),\n",
              " Text(0.8787878787878788, 0.22727272727272727, 'gini = 0.0\\nsamples = 2\\nvalue = [0, 3, 0]\\nclass = 1'),\n",
              " Text(0.9090909090909091, 0.22727272727272727, 'CompPrice <= 107.5\\ngini = 0.375\\nsamples = 3\\nvalue = [1, 3, 0]\\nclass = 1'),\n",
              " Text(0.8939393939393939, 0.13636363636363635, 'gini = 0.0\\nsamples = 1\\nvalue = [1, 0, 0]\\nclass = 0'),\n",
              " Text(0.9242424242424242, 0.13636363636363635, 'gini = 0.0\\nsamples = 2\\nvalue = [0, 3, 0]\\nclass = 1'),\n",
              " Text(0.9242424242424242, 0.3181818181818182, 'gini = 0.0\\nsamples = 12\\nvalue = [0, 24, 0]\\nclass = 1'),\n",
              " Text(0.9696969696969697, 0.4090909090909091, 'Income <= 107.0\\ngini = 0.444\\nsamples = 2\\nvalue = [1, 2, 0]\\nclass = 1'),\n",
              " Text(0.9545454545454546, 0.3181818181818182, 'gini = 0.0\\nsamples = 1\\nvalue = [0, 2, 0]\\nclass = 1'),\n",
              " Text(0.9848484848484849, 0.3181818181818182, 'gini = 0.0\\nsamples = 1\\nvalue = [1, 0, 0]\\nclass = 0'),\n",
              " Text(0.9015151515151515, 0.6818181818181818, 'gini = 0.0\\nsamples = 1\\nvalue = [0, 0, 1]\\nclass = 2')]"
            ]
          },
          "metadata": {},
          "execution_count": 81
        },
        {
          "output_type": "display_data",
          "data": {
            "text/plain": [
              "<Figure size 1500x1500 with 1 Axes>"
            ],
            "image/png": "[encoded data removed]"
          },
          "metadata": {
            "needs_background": "light"
          }
        }
      ]
    },
    {
      "cell_type": "code",
      "source": [
        "from sklearn.model_selection import cross_val_score"
      ],
      "metadata": {
        "id": "NKHwMiJTAcKb"
      },
      "execution_count": 82,
      "outputs": []
    },
    {
      "cell_type": "code",
      "source": [
        "cv = cross_val_score(model,x_train,y_train,cv=6,scoring='accuracy')"
      ],
      "metadata": {
        "colab": {
          "base_uri": "https://localhost:8080/"
        },
        "id": "gQ50PlthAs67",
        "outputId": "3e915a7a-a622-47ac-dfce-4892e3279d18"
      },
      "execution_count": 83,
      "outputs": [
        {
          "output_type": "stream",
          "name": "stderr",
          "text": [
            "/usr/local/lib/python3.7/dist-packages/sklearn/ensemble/_forest.py:564: UserWarning: Some inputs do not have OOB scores. This probably means too few trees were used to compute any reliable OOB estimates.\n",
            "  UserWarning,\n",
            "/usr/local/lib/python3.7/dist-packages/sklearn/ensemble/_forest.py:564: UserWarning: Some inputs do not have OOB scores. This probably means too few trees were used to compute any reliable OOB estimates.\n",
            "  UserWarning,\n",
            "/usr/local/lib/python3.7/dist-packages/sklearn/ensemble/_forest.py:564: UserWarning: Some inputs do not have OOB scores. This probably means too few trees were used to compute any reliable OOB estimates.\n",
            "  UserWarning,\n",
            "/usr/local/lib/python3.7/dist-packages/sklearn/ensemble/_forest.py:564: UserWarning: Some inputs do not have OOB scores. This probably means too few trees were used to compute any reliable OOB estimates.\n",
            "  UserWarning,\n"
          ]
        }
      ]
    },
    {
      "cell_type": "code",
      "source": [
        "m = cv.mean()"
      ],
      "metadata": {
        "id": "try_g50SA6UK"
      },
      "execution_count": 85,
      "outputs": []
    },
    {
      "cell_type": "code",
      "source": [
        "print(f'The test accuracy for the model is {accu} and the cross validation score is{m}')"
      ],
      "metadata": {
        "colab": {
          "base_uri": "https://localhost:8080/"
        },
        "id": "wUKwXuJkA_Kr",
        "outputId": "4055192d-4f60-4eec-fc0e-4a0874837763"
      },
      "execution_count": 86,
      "outputs": [
        {
          "output_type": "stream",
          "name": "stdout",
          "text": [
            "The test accuracy for the model is 0.7666666666666667 and the cross validation score is0.7359697810669134\n"
          ]
        }
      ]
    },
    {
      "cell_type": "code",
      "source": [
        ""
      ],
      "metadata": {
        "id": "A79JByUYBO1m"
      },
      "execution_count": null,
      "outputs": []
    }
  ]
}